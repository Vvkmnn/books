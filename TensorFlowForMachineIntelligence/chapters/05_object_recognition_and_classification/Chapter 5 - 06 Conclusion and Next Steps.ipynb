{
 "cells": [
  {
   "cell_type": "markdown",
   "metadata": {},
   "source": [
    "## Moving Forward\n",
    "\n",
    "Convolutional Neural Networks are a useful network architecture which are implemented with a minimal amount of code in TensorFlow. While they're designed with images in mind, a CNN is not limited to image input. Convolutions are used in multiple industries from music to medical and a CNN can be applied in a similar manner. Currently, TensorFlow is designed for two dimensional convolutions but it's still possible to work with higher dimensionality input using TensorFlow.\n",
    "\n",
    "While a CNN could theoretically work with natural language data (text), it isn't designed for this type of input. Text input is often stored in a `SparseTensor` where the majority of the input is 0. CNNs are designed to work with dense input where each value is important and the majority of the input is not 0. Working with text data is a challenge which is addressed in the next chapter on \"Recurrent Neural Networks and Natural Language Processing\"."
   ]
  }
 ],
 "metadata": {
  "kernelspec": {
   "display_name": "Python 3",
   "language": "python",
   "name": "python3"
  },
  "language_info": {
   "codemirror_mode": {
    "name": "ipython",
    "version": 3
   },
   "file_extension": ".py",
   "mimetype": "text/x-python",
   "name": "python",
   "nbconvert_exporter": "python",
   "pygments_lexer": "ipython3",
   "version": "3.5.1"
  }
 },
 "nbformat": 4,
 "nbformat_minor": 0
}
