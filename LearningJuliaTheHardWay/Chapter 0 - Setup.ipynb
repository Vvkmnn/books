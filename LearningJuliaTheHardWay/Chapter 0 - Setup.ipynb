{
 "cells": [
  {
   "cell_type": "markdown",
   "metadata": {},
   "source": [
    "# Chapter 0: The Setup\n",
    "\n"
   ]
  },
  {
   "cell_type": "markdown",
   "metadata": {},
   "source": [
    "First things first – we have to setup your computer to work with Julia. \n",
    "\n",
    "Fortunately, this is easy regardless of the OS you use! Less easy is the mental preparation, specifically your head around the idea of a functional programming language. \n",
    "\n",
    "Therefore, the first part of this chapter will attempt a brief course in re-educating object-oriented programmers, which you should definitely read if you have been mainly using an object-oriented paradigm. In fact, you should read it anyway."
   ]
  },
  {
   "cell_type": "markdown",
   "metadata": {},
   "source": [
    "## Thinking Julia (The OOP Re-Education Camp)\n",
    "\n"
   ]
  },
  {
   "cell_type": "markdown",
   "metadata": {},
   "source": [
    "When writing code, we follow some basic concepts about building up a complex structure from simple building blocks. The highest, most abstract level of these concepts is that of programming paradigms. A **paradigm** can be understood as a very broad guiding idea of writing code."
   ]
  },
  {
   "cell_type": "markdown",
   "metadata": {},
   "source": [
    "A **procedural** or **imperative** programming style uses a series of instructions in sequence. This is how most of us have started out programming: one instruction after another. \n",
    "\n",
    "Eventually, it gets more complicated, and subroutines have to get involved to achieve modularity, but ultimately, the idea of procedural programming is to take one step after another, in sequence."
   ]
  },
  {
   "cell_type": "markdown",
   "metadata": {},
   "source": [
    "### Object-oriented programming\n",
    "\n",
    "OOP, the dominant programming trend, is different. OOP has great reliance on the idea of objects, based on prototypes (often called classes), which are created (instantiated, to use OOP lingo) at a given time. \n",
    "\n",
    "These objects have particular data fields (called attributes or instance variables) and their own bits of code (methods) operating on the instance variables, the object and the world at large. Every object is an instance of a class, that is, it derives its basic form from a pre-defined blueprint. Of course, that's a very simplistic description of an extremely complex idea, but do bear with me for the moment."
   ]
  },
  {
   "cell_type": "markdown",
   "metadata": {},
   "source": [
    "### Functional programming\n",
    "\n",
    "FP is is similar to the original procedural idea. The main point of functional programming is, as the name suggests, to execute functions. In this way, it is very close to mathematics - so close, in fact, that it is based to a great extent on the concept of a [lambda calculus](https://en.wikipedia.org/wiki/Lambda_calculus), devised by Alonso Church, well before there were computers (Also where python's `lambda` comes from)! \n",
    "\n",
    "Instead of classes, some functional languages, such as Julia, have the concept of types. A type is, quite simply, the kind of structure that a particular bit of information is. For instance, we are all familiar with strings and integers as types, but various other types exist, and there is nothing that keeps you from inventing your own (such as a type representing geographic coordinates)."
   ]
  },
  {
   "cell_type": "markdown",
   "metadata": {},
   "source": [
    "### Comparison\n",
    "\n",
    "Functional programming is older than OOP – Lisp, the great big ancestor of all things functional (and many things that are not!), was devised in the 1950s by John McCarthy. However, since then, they have mostly been used in academia to teach computing concepts to first-year undergraduates who can't wait to progress on to something they can use in the real world. One of the reasons for this was the need to represent changing data. \n",
    "\n",
    "Objects have state, that is, at a given time, their instance variables or attributes have a particular value, which can change depending on what happens in the real world: an object that represents a bank account, for instance, might have a balance attribute that may change if the account holder credits money or withdraws from it. Object-oriented languages are more efficient in representing state and making sure that concurrent transactions affect the object in the right order. \n",
    "\n",
    "Equally, functional languages were seen as less efficient when compared to imperative languages, such as C. This restricted functional languages to a primarily academic role. That is, until it was realised that functional languages can be useful for distributed systems. \n",
    "\n",
    "This spawned a new interest in the new generation of functional languages, such as Haskell, Clojure and Scala. The latter is used by Twitter extensively to manage long-running distributed processes, such as its message queuing and caching layers, while Clojure is used by a number of financial institutions and Big Data intensive users because of the ability to use Java libraries and access Hadoop/HBase easily. \n",
    "\n",
    "Functional programming is no longer a purely academic pursuit."
   ]
  },
  {
   "cell_type": "markdown",
   "metadata": {},
   "source": [
    "### Integration\n",
    "\n",
    "Julia marries the idea of functional programming to field of statistical or scientific programming. For this reason, much of Julia should come naturally to those more inclined to mathematical thought than the more systemic perspective that OOP people generally have.\n",
    "\n",
    "As an OOP programmer, you might find yourself at a loss at times. This is normal. Experimenting with a new programming paradigm is always an endeavour that requires some mental restructuring. However, it is worthwhile – not only are multi-paradigm coders generally in higher demand, your OOP code might improve by learning functional tricks as most OOP languages do have some minimal facilities for functional programming strategies. After all, we earn our keep by finding the most appropriate solutions – whether that's speed, reliability or taking advantage of distributed system power – for the problems we encounter. It can't ever hurt to have another arrow in our quiver."
   ]
  },
  {
   "cell_type": "markdown",
   "metadata": {},
   "source": [
    "### Things to get used to\n"
   ]
  },
  {
   "cell_type": "markdown",
   "metadata": {},
   "source": [
    "1. You might be used to things being called as methods, whereas in Julia, they will be called as functions: so e.g. Python's `array.push(x)` would correspond to Julia's `push!(array, x)`.\n",
    "\n",
    "2. Data constructs are expressed through types. These can be as complex as classes, or sometimes even more so!\n",
    "\n",
    "3. Not strictly an OOP versus functional thing, but Julia is 1-indexed, not 0-indexed. The n_th element of an indexable collection has the index *n*, not *n-1*.\n"
   ]
  },
  {
   "cell_type": "markdown",
   "metadata": {},
   "source": [
    "## Installing Julia"
   ]
  },
  {
   "cell_type": "markdown",
   "metadata": {},
   "source": [
    "### Binaries"
   ]
  },
  {
   "cell_type": "markdown",
   "metadata": {},
   "source": [
    "If you use Windows, Mac OS X, Ubuntu, Fedora/RHEL/CentOS or a generic Linux distribution that does packages, the [download page for the Julia language](http://julialang.org/downloads/) is the easiest way to obtain an installer or package version of Julia. \n",
    "\n",
    "For the purposes of this book, we will assume you're using version v0.4. Julia is a young language, and it is developing quite a lot (although the core features have been stable for a pretty long time). There is, currently, no guarantee that the final version – or, indeed, the next version! – will look anything like it currently does."
   ]
  },
  {
   "cell_type": "markdown",
   "metadata": {},
   "source": [
    "### Package managers"
   ]
  },
  {
   "cell_type": "markdown",
   "metadata": {},
   "source": [
    "If you're using a *NIX distribution, you might be able to use your distro's package manager to get Julia. These are a better option for folks who have hardware or dependency issues while compiling Julia from source. Do remember that if you have installed and update your local copy of Julia via the package manager's nightly builds, you need to be aware that they run from a different directory than when you compile Julia from source. \n",
    "\n",
    "1. __Ubuntu__: For Ubuntu users, there is a PPA (Personal Package Archive) provided for Julia. PPA's are a personal collection of the latest (stable) version of the software not included in Ubuntu by default, packaged and tested by community maintainers and/or upstream developers maintaining the software for the respective Linux distros. So all you need to do is get a shell and run the following commands:\n",
    "```\n",
    "\tsudo add-apt-repository ppa:staticfloat/juliareleases\n",
    "\tsudo add-apt-repository ppa:staticfloat/julia-deps\n",
    "\tsudo apt-get update\n",
    "\tsudo apt-get install julia\n",
    "```\n",
    "2. __Fedora__: In Fedora:\n",
    "```\n",
    "\tsudo dnf copr enable nalimilan/julia\n",
    "\tsudo yum install julia\n",
    "```\n",
    "3. __Arch__: Under Arch Linux, simply install the package, which is available\n",
    "   in the 'community' repository:\n",
    "```\n",
    "    sudo pacman -S julia\n",
    "```\n",
    "4. **MacOS**: After installing the [Brew package manager](http://brew.sh/), you can install the package with \n",
    "```\n",
    "    brew install julia\n",
    "```"
   ]
  },
  {
   "cell_type": "markdown",
   "metadata": {},
   "source": [
    "### Compiling from source\n",
    "\n",
    "Julia changes rapidly, with often more than a dozen average changes per day (!) to the source code. Therefore, some people tend to simply pull the most recent nightly build from Git and recompile it every few days. This is a great way to stay ahead of the curve, and also to come across more bugs than one would want to when learning a new language. By all means do use nightly builds when you are confident with Julia, but I do not recommend doing so for the time you are trying to navigate your way through it.\n",
    "\n",
    "If you do want to use nightly builds (a.k.a PPA's), simply pull the master branch from the [Julia GitHub repo](<https://github.com/JuliaLang/julia>) and compile by typing make into the Terminal. To speed up the process, you might wish to use a number of concurring processes (``make -j n``, where _n_ is the number of concurrent processes you are going to use). "
   ]
  },
  {
   "cell_type": "markdown",
   "metadata": {},
   "source": [
    "## Using Julia"
   ]
  },
  {
   "cell_type": "markdown",
   "metadata": {},
   "source": [
    "### IJulia\n",
    "\n",
    "There is an implementation of the vastly successful [Jupyter notebook environment](https://jupyter.org/) (which we are currently in!) for Julia. \n",
    "\n",
    "The IPython system, now known as the Jupyter project, is a great way to interactively use Julia in a notebook environment that users of Mathematica or similar software might be used to. It also allows literate coding, mixing Markdown notes and formatting with executable code. \n",
    "\n",
    "To install IJulia, you will need an existing IPython installation, either a distribution like [Anaconda](https://www.continuum.io/downloads) or by installing Python and the IPython notebook environment by downloading the Python distribution for your operating system. \n",
    "\n",
    "Once that is in place, you will need to install Julia [using the instructions above](Chapter%200%20-%20The%20Setup.ipynb#Installing-Julia). \n",
    "\n",
    "To launch Julia, open a Terminal and type `julia`, which will drop you into the REPL that looks something like:\n",
    "\n",
    "    $ julia\n",
    "                   _\n",
    "       _       _ _(_)_     |  A fresh approach to technical computing\n",
    "      (_)     | (_) (_)    |  Documentation: http://docs.julialang.org\n",
    "       _ _   _| |_  __ _   |  Type \"?help\" for help.\n",
    "      | | | | | | |/ _` |  |\n",
    "      | | |_| | | | (_| |  |  Version 0.4.6 (2016-06-19 17:16 UTC)\n",
    "     _/ |\\__'_|_|_|\\__'_|  |  Official http://julialang.org/ release\n",
    "    |__/                   |  x86_64-apple-darwin13.4.0\n",
    "\n",
    "    julia> \n",
    "\n",
    "\n",
    "Now, you can install IJulia using the `Pkg.add(\"IJulia\")` command. Congratulations, you now have your very own notebook environment for Julia!\n",
    "\n",
    "You can fire up the Julia REPL and launch a Julia notebook environment by:\n",
    "\n",
    "```julia\n",
    "    using IJulia\n",
    "    notebook()\n",
    "```\n",
    "\n",
    "Alternatively, to launch your environment, open a new terminal tab to use the profile IPython parameter:\n",
    "\n",
    "    $ ipython notebook --profile julia"
   ]
  },
  {
   "cell_type": "markdown",
   "metadata": {},
   "source": [
    "### CoLaboratory\n",
    "\n",
    "[CoLaboratory](https://colaboratory.jupyter.org/welcome/) is the brainchild of the IPython team. Leveraging the experience and success of IPython, it aims at creating a similar experience, in the cloud, for R and Julia. CoLaboratory is based on Chrome Apps and Google Docs, using the latter as a storage platform. CoLaboratory is a great tool for pair programming and exploring Python, R or Julia together, or for working together on complex projects. \n",
    "\n",
    "A good introduction to CoLaboratory is [this tutorial](http://heike.github.io/stat590f/ijulia/) by Eric Hare and Andee Kaplan. CoLaboratory can be a great alternative to your own local Python installation, especially if scientific programming in the 'notebook' context is your thing (migrants from _Mathematica_ are certain to welcome this feature!)."
   ]
  },
  {
   "cell_type": "markdown",
   "metadata": {},
   "source": [
    "### JuliaBox\n",
    "\n",
    "[JuliaBox](https://www.juliabox.org/) is a project supported by Julia's core team, Juliabox allows you to code, store and share your work with other people. However, it is still in _beta_ and mainly used for classroom work by MIT, Stanford and CUNY. Logins are time limited and there are performance limitations. JuliaBox uses a virtual docker instance that it uses to control and execute your work in a segregated environment. If you want to play around with Julia without the need to set up anything on your own computer, JuliaBox is a good alternative. Since notebooks created on JuliaBox are effectively IJulia notebooks, the interface will be quite familiar."
   ]
  },
  {
   "cell_type": "markdown",
   "metadata": {},
   "source": [
    "### IDEs\n",
    "\n",
    "As previously noted, this book diverges from Zed Shaw's framework a little. As such, I will not take you through the intricacies of setting up an IDE or a text editor. To cut a rather long story short – use what works for you! Fortunately, most text editors do have some form of support for Julia:\n",
    "\n",
    "-   Vim: [julia-vim](<https://github.com/JuliaLang/julia-vim>)\n",
    "-   Emacs: Julia highlighting is provided via [Emacs Speaks Statistics](<http://ess.r-project.org/>) (ESS) through [this](<https://github.com/emacs-ess/ESS/wiki/Julia>) package.\n",
    "-   Textmate: a [Julia TextMate Bundle](<https://github.com/WestleyArgentum/Julia.tmbundle>) is available, which includes syntax support and somewhat rudimentary bundle features\n",
    "-   Sublime Text: [Sublime-IJulia](<https://github.com/quinnj/Sublime-IJulia>) integrates IJulia into Sublime Text - installation is a little complex at this time, but worth it!\n",
    "-   Notepad++: [Syntax highlighting](<https://gist.github.com/catawbasam/3858496>) is available for Notepad++.\n",
    "-   Light Table: supports Julia out of the box and with more IDE-like features through [Juno](<http://junolab.org/docs/installing.html>).\n",
    "-   Atom: The [Hydrogen](https://atom.io/packages/hydrogen) package allows users to run Julia code in-line like in a Jupyter notebook."
   ]
  },
  {
   "cell_type": "markdown",
   "metadata": {},
   "source": [
    "## Starting Julia\n",
    "\n",
    "Open up Julia by launching IJulia, opening the Julia app provided with the macOS version or calling Julia from the terminal (usually, julia). You are greeted by the Julia REPL.\n",
    "\n",
    "    $ julia\n",
    "                   _\n",
    "       _       _ _(_)_     |  A fresh approach to technical computing\n",
    "      (_)     | (_) (_)    |  Documentation: http://docs.julialang.org\n",
    "       _ _   _| |_  __ _   |  Type \"?help\" for help.\n",
    "      | | | | | | |/ _` |  |\n",
    "      | | |_| | | | (_| |  |  Version 0.4.6 (2016-06-19 17:16 UTC)\n",
    "     _/ |\\__'_|_|_|\\__'_|  |  Official http://julialang.org/ release\n",
    "    |__/                   |  x86_64-apple-darwin13.4.0\n",
    "\n",
    "    julia> \n",
    "\n",
    "Your version may differ, as will the architecture (final line). If you seek help on Julia forums, always be sure to mention what build you have (the final three lines).\n",
    "\n",
    "Congratulations. (Y)our adventure begins here."
   ]
  }
 ],
 "metadata": {
  "kernelspec": {
   "display_name": "Julia 0.4.6",
   "language": "julia",
   "name": "julia-0.4"
  },
  "language_info": {
   "file_extension": ".jl",
   "mimetype": "application/julia",
   "name": "julia",
   "version": "0.4.6"
  }
 },
 "nbformat": 4,
 "nbformat_minor": 0
}
