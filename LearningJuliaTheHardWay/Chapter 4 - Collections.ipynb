{
 "cells": [
  {
   "cell_type": "markdown",
   "metadata": {},
   "source": [
    "# Chapter 4: Collections"
   ]
  },
  {
   "cell_type": "markdown",
   "metadata": {},
   "source": [
    "## Taxonomy\n",
    "\n",
    "We have already encountered some collections in the previous chapter – arrays, tuples, dicts and sets. \n",
    "\n",
    "This chapter examines what we can do with collections and how to best use them for maximum effectiveness. A collection may be _indexable_, _associative_ or neither. This refers primarily to the way we access individual elements within the collection.\n",
    "\n",
    "* __Indexable__: An _indexable_ collection is like a shopping list – the only way to identify individual elements is by pointing out their position. If you want to refer to, say, _1 pint of milk_, you refer to it as _the fifth entry on my shopping list_.\n",
    "    * Elements of an indexable collection are accessed using the square bracket notation `collection[index]`, e.g. `shopping_list[5]`. Unusually for most programming languages and in sharp contrast to other languages like Python, indices begin with 1, rather than 0. \n",
    "    * An indexable collection is also only equal to a collection with the same elements if they are in the same order – thus `[1, 3, 5, 7] == [3, 7, 1, 5]` yields, as one would expect, `false`."
   ]
  },
  {
   "cell_type": "code",
   "execution_count": 14,
   "metadata": {
    "collapsed": false
   },
   "outputs": [
    {
     "data": {
      "text/plain": [
       "5-element Array{ASCIIString,1}:\n",
       " \"eggs\" \n",
       " \"flour\"\n",
       " \"jam\"  \n",
       " \"syrup\"\n",
       " \"milk\" "
      ]
     },
     "execution_count": 14,
     "metadata": {},
     "output_type": "execute_result"
    }
   ],
   "source": [
    "shopping_list = [\"eggs\",\"flour\",\"jam\",\"syrup\",\"milk\"]"
   ]
  },
  {
   "cell_type": "code",
   "execution_count": 15,
   "metadata": {
    "collapsed": false
   },
   "outputs": [
    {
     "data": {
      "text/plain": [
       "\"milk\""
      ]
     },
     "execution_count": 15,
     "metadata": {},
     "output_type": "execute_result"
    }
   ],
   "source": [
    "shopping_list[5]"
   ]
  },
  {
   "cell_type": "code",
   "execution_count": 12,
   "metadata": {
    "collapsed": false
   },
   "outputs": [
    {
     "data": {
      "text/plain": [
       "false"
      ]
     },
     "execution_count": 12,
     "metadata": {},
     "output_type": "execute_result"
    }
   ],
   "source": [
    "backup_shopping_list = sort(shopping_list,rev = true)\n",
    "\n",
    "backup_shopping_list == shopping_list"
   ]
  },
  {
   "cell_type": "markdown",
   "metadata": {},
   "source": [
    "* __Associative__: These collections, on the other hand, resemble a page from a phone book instead (if any of you actually still remember what one of those things is!). You wouldn't say that your phone number is on page 217, left column, fifth from the bottom. Rather, you would have a _key_ (your name), by reference to which someone can find your phone number (the _value_). \n",
    "    * Associative arrays do follow the key-value pair form. They are, therefore, not accessed in the `collection[index]` form but rather in the `collection[key]` form. \n",
    "    * An associative collection is fundamentally not indexable, therefore the order of entries does not matter: two associative collections will be equal as long as they contain the same key-value pairs, order regardless."
   ]
  },
  {
   "cell_type": "code",
   "execution_count": 82,
   "metadata": {
    "collapsed": false
   },
   "outputs": [
    {
     "data": {
      "text/plain": [
       "Dict{ASCIIString,Int64} with 3 entries:\n",
       "  \"John\" => 55519324\n",
       "  \"Mike\" => 5551932\n",
       "  \"Jane\" => 5551933"
      ]
     },
     "execution_count": 82,
     "metadata": {},
     "output_type": "execute_result"
    }
   ],
   "source": [
    "phonebook = Dict(\"Mike\" => 5551932, \"Jane\" => 5551933, \"John\" => 55519324) # Dictionaries use \"\" exclusively"
   ]
  },
  {
   "cell_type": "code",
   "execution_count": 83,
   "metadata": {
    "collapsed": false
   },
   "outputs": [
    {
     "data": {
      "text/plain": [
       "5551932"
      ]
     },
     "execution_count": 83,
     "metadata": {},
     "output_type": "execute_result"
    }
   ],
   "source": [
    "phonebook[\"Mike\"] # This wouldn't work with 'Mike'"
   ]
  },
  {
   "cell_type": "code",
   "execution_count": 84,
   "metadata": {
    "collapsed": false
   },
   "outputs": [
    {
     "ename": "LoadError",
     "evalue": "LoadError: KeyError: 1 not found\nwhile loading In[84], in expression starting on line 1",
     "output_type": "error",
     "traceback": [
      "LoadError: KeyError: 1 not found\nwhile loading In[84], in expression starting on line 1",
      "",
      " in getindex at dict.jl:738"
     ]
    }
   ],
   "source": [
    "phonebook[1] # Raises error since it's an associative collection; no index"
   ]
  },
  {
   "cell_type": "markdown",
   "metadata": {},
   "source": [
    "* __Neither__: Collections that are neither associative nor indexable are a somewhat complex case; sets are the only frequently used collection that is neither associative nor indexable. \n",
    "    * They are also special because of the uniqueness constraint, that is, a set may contain each value once and only once. A set does not support the commonly used methods of access, but it does support many of the collection manipulation functions, such as `push!()` and `pop!()`. The latter, in case you were wondering, returns items in a random order, since the absence of an index means sets are not ordered; you could `pop!()` any value off a set. \n",
    "    * Sets are not indexable, consequently two sets that contain the same elements will be considered equal, order regardless."
   ]
  },
  {
   "cell_type": "markdown",
   "metadata": {},
   "source": [
    "In addition, collections may be _mutable_ or _non-mutable_, which references their ability to be changed.  Put quite simply, a __mutable__ collection is one where you can change particular values after creation, while in an __immutable__ collection, you cannot do so. \n",
    "\n",
    "The typical immutable collections are, of course, tuples – once you have assigned a value to a tuple, you cannot change that value (although you can assign some other tuple or indeed an entirely different value to the variable that holds the tuple). \n",
    "\n",
    "Sets again represent a special case – they are what could be best described as _pseudo-immutable_ – there is no way to access values in a way that could change them, since you normally access an element of a set by its value (which is sufficient in a set thanks to the uniqueness constraint)."
   ]
  },
  {
   "cell_type": "markdown",
   "metadata": {},
   "source": [
    "|             |    **Mutable**     |   **Immutable**   |\n",
    "|:-----------:|:------------------:|:-----------------:|\n",
    "|  **Indexable**      | Arrays             | Tuples            |\n",
    "|  **Associative**    | Dicts              |                   |\n",
    "|  **Non-indexable and non-associative**   |       | Sets      |"
   ]
  },
  {
   "cell_type": "markdown",
   "metadata": {},
   "source": [
    "## Indexable Collections\n",
    "\n",
    "### Accessing\n",
    "\n",
    "Elements of an indexable collection can be accessed using the square bracket notation, by their ordinal:"
   ]
  },
  {
   "cell_type": "code",
   "execution_count": 85,
   "metadata": {
    "collapsed": false
   },
   "outputs": [
    {
     "data": {
      "text/plain": [
       "5-element Array{Int64,1}:\n",
       "  2\n",
       "  3\n",
       "  5\n",
       "  7\n",
       " 11"
      ]
     },
     "execution_count": 85,
     "metadata": {},
     "output_type": "execute_result"
    }
   ],
   "source": [
    " prime_array = [2, 3, 5, 7, 11]"
   ]
  },
  {
   "cell_type": "code",
   "execution_count": 86,
   "metadata": {
    "collapsed": false
   },
   "outputs": [
    {
     "data": {
      "text/plain": [
       "5"
      ]
     },
     "execution_count": 86,
     "metadata": {},
     "output_type": "execute_result"
    }
   ],
   "source": [
    "prime_array[3]  # Get elements at index 3"
   ]
  },
  {
   "cell_type": "markdown",
   "metadata": {},
   "source": [
    "In Julia, a range of numbers is written as `start:end` or `start:steps:end`. You can use a range to access a range of elements:"
   ]
  },
  {
   "cell_type": "code",
   "execution_count": 87,
   "metadata": {
    "collapsed": false
   },
   "outputs": [
    {
     "data": {
      "text/plain": [
       "2-element Array{Int64,1}:\n",
       " 3\n",
       " 5"
      ]
     },
     "execution_count": 87,
     "metadata": {},
     "output_type": "execute_result"
    }
   ],
   "source": [
    "prime_array[2:3] # Get elements at index 2 to 3, with the starting index being 1"
   ]
  },
  {
   "cell_type": "markdown",
   "metadata": {},
   "source": [
    " A range always returns a collection, even if it has the length 1. \n",
    " \n",
    "This is exemplified by the difference between `prime_array[3]`, the call we made above, and `prime_array[3:3]`, which returns:"
   ]
  },
  {
   "cell_type": "code",
   "execution_count": 34,
   "metadata": {
    "collapsed": false
   },
   "outputs": [
    {
     "data": {
      "text/plain": [
       "1-element Array{Int64,1}:\n",
       " 5"
      ]
     },
     "execution_count": 34,
     "metadata": {},
     "output_type": "execute_result"
    }
   ],
   "source": [
    "prime_array[3:3]"
   ]
  },
  {
   "cell_type": "markdown",
   "metadata": {},
   "source": [
    "Which is not the same as the single value `5` we returned before from `prime_array[3]`:"
   ]
  },
  {
   "cell_type": "code",
   "execution_count": 35,
   "metadata": {
    "collapsed": false
   },
   "outputs": [
    {
     "data": {
      "text/plain": [
       "false"
      ]
     },
     "execution_count": 35,
     "metadata": {},
     "output_type": "execute_result"
    }
   ],
   "source": [
    "prime_array[3:3] == prime_array[3]"
   ]
  },
  {
   "cell_type": "markdown",
   "metadata": {},
   "source": [
    "You can access the last element of an indexable collection using `[end]`:"
   ]
  },
  {
   "cell_type": "code",
   "execution_count": 36,
   "metadata": {
    "collapsed": false
   },
   "outputs": [
    {
     "data": {
      "text/plain": [
       "11"
      ]
     },
     "execution_count": 36,
     "metadata": {},
     "output_type": "execute_result"
    }
   ],
   "source": [
    " prime_array[end] # Get me the last value"
   ]
  },
  {
   "cell_type": "markdown",
   "metadata": {},
   "source": [
    "Incidentally, `end` behaves like a number – so `prime_array[end-1]` returns the penultimate element of the collection."
   ]
  },
  {
   "cell_type": "code",
   "execution_count": 37,
   "metadata": {
    "collapsed": false
   },
   "outputs": [
    {
     "data": {
      "text/plain": [
       "5"
      ]
     },
     "execution_count": 37,
     "metadata": {},
     "output_type": "execute_result"
    }
   ],
   "source": [
    "prime_array[end - 2] # Get me the value 2 indexes before the last value"
   ]
  },
  {
   "cell_type": "markdown",
   "metadata": {},
   "source": [
    "### Setting\n",
    "\n",
    "If the indexable collection you are using is also mutable (e.g. an array), any of these methods will act as a pseudo-variable and will allow you to assign a value to it. Thus `prime_array[end] = 12` would change the last element of `prime_array` to 12. You also aren't restricted to a single element: calling `prime_array[2:4] = 0` would result in"
   ]
  },
  {
   "cell_type": "code",
   "execution_count": 42,
   "metadata": {
    "collapsed": false,
    "scrolled": true
   },
   "outputs": [
    {
     "data": {
      "text/plain": [
       "5-element Array{Int64,1}:\n",
       "  2\n",
       "  3\n",
       "  5\n",
       "  7\n",
       " 11"
      ]
     },
     "execution_count": 42,
     "metadata": {},
     "output_type": "execute_result"
    }
   ],
   "source": [
    "prime_array "
   ]
  },
  {
   "cell_type": "markdown",
   "metadata": {},
   "source": [
    "And, of course, you can use an array or another indexable collection to replace values:"
   ]
  },
  {
   "cell_type": "code",
   "execution_count": 43,
   "metadata": {
    "collapsed": false
   },
   "outputs": [
    {
     "data": {
      "text/plain": [
       "3-element Array{Int64,1}:\n",
       " 13\n",
       " 15\n",
       " 17"
      ]
     },
     "execution_count": 43,
     "metadata": {},
     "output_type": "execute_result"
    }
   ],
   "source": [
    "prime_array[2:4] = [13,15,17] # Change values from index 3 to 4 to new primes"
   ]
  },
  {
   "cell_type": "code",
   "execution_count": 44,
   "metadata": {
    "collapsed": false
   },
   "outputs": [
    {
     "data": {
      "text/plain": [
       "5-element Array{Int64,1}:\n",
       "  2\n",
       " 13\n",
       " 15\n",
       " 17\n",
       " 11"
      ]
     },
     "execution_count": 44,
     "metadata": {},
     "output_type": "execute_result"
    }
   ],
   "source": [
    "prime_array # Show me the new array"
   ]
  },
  {
   "cell_type": "markdown",
   "metadata": {},
   "source": [
    "### Unpacking\n",
    "\n",
    "Indexable collections can _unpack_: that is, they can be assigned in a single line to as many distinct variables as they have elements. \n",
    "\n",
    "This is a **very** convenient feature, and is much used in functional programming:"
   ]
  },
  {
   "cell_type": "code",
   "execution_count": 45,
   "metadata": {
    "collapsed": false
   },
   "outputs": [
    {
     "data": {
      "text/plain": [
       "3-element Array{ASCIIString,1}:\n",
       " \"Ian McKellen\"  \n",
       " \"Martin Freeman\"\n",
       " \"Elijah Wood\"   "
      ]
     },
     "execution_count": 45,
     "metadata": {},
     "output_type": "execute_result"
    }
   ],
   "source": [
    "actors = [\"Ian McKellen\", \"Martin Freeman\", \"Elijah Wood\"] # Define an array of strings"
   ]
  },
  {
   "cell_type": "code",
   "execution_count": 48,
   "metadata": {
    "collapsed": false,
    "scrolled": true
   },
   "outputs": [
    {
     "data": {
      "text/plain": [
       "3-element Array{ASCIIString,1}:\n",
       " \"Ian McKellen\"  \n",
       " \"Martin Freeman\"\n",
       " \"Elijah Wood\"   "
      ]
     },
     "execution_count": 48,
     "metadata": {},
     "output_type": "execute_result"
    }
   ],
   "source": [
    "gandalf, bilbo, frodo = actors # Associate those strings to variables "
   ]
  },
  {
   "cell_type": "code",
   "execution_count": 51,
   "metadata": {
    "collapsed": false
   },
   "outputs": [
    {
     "data": {
      "text/plain": [
       "\"Ian McKellen\""
      ]
     },
     "execution_count": 51,
     "metadata": {},
     "output_type": "execute_result"
    }
   ],
   "source": [
    "gandalf"
   ]
  },
  {
   "cell_type": "markdown",
   "metadata": {},
   "source": [
    "They don't even have to be the same length; we can associate as many variables as there are elements available:"
   ]
  },
  {
   "cell_type": "code",
   "execution_count": 59,
   "metadata": {
    "collapsed": false
   },
   "outputs": [
    {
     "name": "stdout",
     "output_type": "stream",
     "text": [
      "Ian McKellen\n",
      "Martin Freeman\n"
     ]
    }
   ],
   "source": [
    "a, b = actors\n",
    "\n",
    "println(a)\n",
    "println(b)"
   ]
  },
  {
   "cell_type": "markdown",
   "metadata": {},
   "source": [
    "But you cannot have more; the collection does not wrap around:"
   ]
  },
  {
   "cell_type": "code",
   "execution_count": 58,
   "metadata": {
    "collapsed": false
   },
   "outputs": [
    {
     "ename": "LoadError",
     "evalue": "LoadError: BoundsError: attempt to access 3-element Array{ASCIIString,1}:\n \"Ian McKellen\"  \n \"Martin Freeman\"\n \"Elijah Wood\"   \n  at index [4]\nwhile loading In[58], in expression starting on line 1",
     "output_type": "error",
     "traceback": [
      "LoadError: BoundsError: attempt to access 3-element Array{ASCIIString,1}:\n \"Ian McKellen\"  \n \"Martin Freeman\"\n \"Elijah Wood\"   \n  at index [4]\nwhile loading In[58], in expression starting on line 1",
      "",
      " in indexed_next at tuple.jl:22"
     ]
    }
   ],
   "source": [
    "a, b, c, d = actors\n",
    "\n",
    "println(a)\n",
    "println(b)"
   ]
  },
  {
   "cell_type": "markdown",
   "metadata": {},
   "source": [
    "Unpacking can also be used to swap the contents of variables:"
   ]
  },
  {
   "cell_type": "code",
   "execution_count": 60,
   "metadata": {
    "collapsed": false
   },
   "outputs": [
    {
     "data": {
      "text/plain": [
       "\"Washington\""
      ]
     },
     "execution_count": 60,
     "metadata": {},
     "output_type": "execute_result"
    }
   ],
   "source": [
    "firstname = \"Irving\"\n",
    "lastname = \"Washington\""
   ]
  },
  {
   "cell_type": "code",
   "execution_count": 62,
   "metadata": {
    "collapsed": false
   },
   "outputs": [
    {
     "data": {
      "text/plain": [
       "(\"Washington\",\"Irving\")"
      ]
     },
     "execution_count": 62,
     "metadata": {},
     "output_type": "execute_result"
    }
   ],
   "source": [
    "firstname, lastname = lastname, firstname # Reassociate variables to other defitions in order"
   ]
  },
  {
   "cell_type": "code",
   "execution_count": 63,
   "metadata": {
    "collapsed": false
   },
   "outputs": [
    {
     "data": {
      "text/plain": [
       "\"Irving\""
      ]
     },
     "execution_count": 63,
     "metadata": {},
     "output_type": "execute_result"
    }
   ],
   "source": [
    "lastname # Show the changed variable"
   ]
  },
  {
   "cell_type": "markdown",
   "metadata": {},
   "source": [
    "### Modifying \n",
    "\n",
    "#### `push!`, `pop!` and `append!`\n",
    "\n",
    "`push!`, `pop!` and `append!` are popular functions used to work with collections. "
   ]
  },
  {
   "cell_type": "markdown",
   "metadata": {},
   "source": [
    "**Note:** Functions with an exclamation mark `!` indicate that they modify their argument. Consider the following:"
   ]
  },
  {
   "cell_type": "code",
   "execution_count": 92,
   "metadata": {
    "collapsed": false
   },
   "outputs": [
    {
     "name": "stdout",
     "output_type": "stream",
     "text": [
      "With sort, the old array is unchanged: [5,4,6], but the new array is  [4,5,6]\n",
      "With sort!, the old array is changed: [4,5,6], and new array is  [4,5,6]\n"
     ]
    }
   ],
   "source": [
    "arr = [5,4,6]\n",
    "println(\"With sort, the old array is unchanged: $(arr), but the new array is  $(sort(arr))\") # Create a copy of the array and sort it\n",
    "println(\"With sort!, the old array is changed: $(sort!(arr)), and new array is  $(sort!(arr))\") # Change the array by sorting it"
   ]
  },
  {
   "cell_type": "markdown",
   "metadata": {},
   "source": [
    "##### `push!` \n",
    "`push!` appends the value to the end of the collection. "
   ]
  },
  {
   "cell_type": "code",
   "execution_count": 104,
   "metadata": {
    "collapsed": false,
    "scrolled": true
   },
   "outputs": [
    {
     "data": {
      "text/plain": [
       "4-element Array{Int64,1}:\n",
       " 1\n",
       " 2\n",
       " 3\n",
       " 4"
      ]
     },
     "execution_count": 104,
     "metadata": {},
     "output_type": "execute_result"
    }
   ],
   "source": [
    "array = [1,2,3,4]"
   ]
  },
  {
   "cell_type": "code",
   "execution_count": 105,
   "metadata": {
    "collapsed": false,
    "scrolled": true
   },
   "outputs": [
    {
     "data": {
      "text/plain": [
       "5-element Array{Int64,1}:\n",
       " 1\n",
       " 2\n",
       " 3\n",
       " 4\n",
       " 5"
      ]
     },
     "execution_count": 105,
     "metadata": {},
     "output_type": "execute_result"
    }
   ],
   "source": [
    "push!(array, 5) # Push the new value into the end of the collection"
   ]
  },
  {
   "cell_type": "markdown",
   "metadata": {},
   "source": [
    "##### `pop!` \n",
    "`pop!` takes the last element of the list, returns it and removes it from the collection."
   ]
  },
  {
   "cell_type": "code",
   "execution_count": 106,
   "metadata": {
    "collapsed": false,
    "scrolled": true
   },
   "outputs": [
    {
     "data": {
      "text/plain": [
       "5"
      ]
     },
     "execution_count": 106,
     "metadata": {},
     "output_type": "execute_result"
    }
   ],
   "source": [
    "pop!(array) # Pop the last value off the collection"
   ]
  },
  {
   "cell_type": "code",
   "execution_count": 107,
   "metadata": {
    "collapsed": false
   },
   "outputs": [
    {
     "data": {
      "text/plain": [
       "4-element Array{Int64,1}:\n",
       " 1\n",
       " 2\n",
       " 3\n",
       " 4"
      ]
     },
     "execution_count": 107,
     "metadata": {},
     "output_type": "execute_result"
    }
   ],
   "source": [
    "array # Do we have the original array again?"
   ]
  },
  {
   "cell_type": "markdown",
   "metadata": {},
   "source": [
    "#####  `append!`\n",
    "\n",
    "`append!`, somewhat unusually, adds the elements of a collection to the end of another collection:"
   ]
  },
  {
   "cell_type": "code",
   "execution_count": 108,
   "metadata": {
    "collapsed": false
   },
   "outputs": [
    {
     "data": {
      "text/plain": [
       "3-element Array{Int64,1}:\n",
       " 5\n",
       " 6\n",
       " 7"
      ]
     },
     "execution_count": 108,
     "metadata": {},
     "output_type": "execute_result"
    }
   ],
   "source": [
    " array2 = [5,6,7]"
   ]
  },
  {
   "cell_type": "code",
   "execution_count": 109,
   "metadata": {
    "collapsed": false
   },
   "outputs": [
    {
     "data": {
      "text/plain": [
       "7-element Array{Int64,1}:\n",
       " 1\n",
       " 2\n",
       " 3\n",
       " 4\n",
       " 5\n",
       " 6\n",
       " 7"
      ]
     },
     "execution_count": 109,
     "metadata": {},
     "output_type": "execute_result"
    }
   ],
   "source": [
    "append!(array, array2)"
   ]
  },
  {
   "cell_type": "code",
   "execution_count": 110,
   "metadata": {
    "collapsed": false
   },
   "outputs": [
    {
     "ename": "LoadError",
     "evalue": "LoadError: MethodError: `append!` has no method matching append!(::Array{Int64,1}, ::Int64)\nClosest candidates are:\n  append!{T}(::Array{T,1}, !Matched::AbstractArray{T,1})\nwhile loading In[110], in expression starting on line 1",
     "output_type": "error",
     "traceback": [
      "LoadError: MethodError: `append!` has no method matching append!(::Array{Int64,1}, ::Int64)\nClosest candidates are:\n  append!{T}(::Array{T,1}, !Matched::AbstractArray{T,1})\nwhile loading In[110], in expression starting on line 1",
      ""
     ]
    }
   ],
   "source": [
    "append!(array, 1) # append cannot take single values; use push instead"
   ]
  },
  {
   "cell_type": "code",
   "execution_count": 111,
   "metadata": {
    "collapsed": false
   },
   "outputs": [
    {
     "data": {
      "text/plain": [
       "8-element Array{Int64,1}:\n",
       " 1\n",
       " 2\n",
       " 3\n",
       " 4\n",
       " 5\n",
       " 6\n",
       " 7\n",
       " 1"
      ]
     },
     "execution_count": 111,
     "metadata": {},
     "output_type": "execute_result"
    }
   ],
   "source": [
    "append!(array, [1]) # append only takes arrays, even of length 1"
   ]
  },
  {
   "cell_type": "markdown",
   "metadata": {},
   "source": [
    "##### `shift!`\n",
    "`shift!` and `unshift!` are the front equivalent of `pop!` and `push!`; they add or remove values from the _front_ of a collection.\n",
    "\n",
    "Similarly to `pop!`, `shift!` retrieves the first element of the collection and removes it from the collection (which *shifts* it):"
   ]
  },
  {
   "cell_type": "code",
   "execution_count": 112,
   "metadata": {
    "collapsed": false
   },
   "outputs": [
    {
     "data": {
      "text/plain": [
       "8-element Array{Int64,1}:\n",
       " 1\n",
       " 2\n",
       " 3\n",
       " 4\n",
       " 5\n",
       " 6\n",
       " 7\n",
       " 1"
      ]
     },
     "execution_count": 112,
     "metadata": {},
     "output_type": "execute_result"
    }
   ],
   "source": [
    "array"
   ]
  },
  {
   "cell_type": "code",
   "execution_count": 113,
   "metadata": {
    "collapsed": false
   },
   "outputs": [
    {
     "data": {
      "text/plain": [
       "1"
      ]
     },
     "execution_count": 113,
     "metadata": {},
     "output_type": "execute_result"
    }
   ],
   "source": [
    "shift!(array) # Shift the first element off the array"
   ]
  },
  {
   "cell_type": "markdown",
   "metadata": {},
   "source": [
    "##### `unshift!`\n",
    "\n",
    "Similarly to `push!`, `unshift!` puts an element to the front of the collection:"
   ]
  },
  {
   "cell_type": "code",
   "execution_count": 114,
   "metadata": {
    "collapsed": false
   },
   "outputs": [
    {
     "data": {
      "text/plain": [
       "8-element Array{Int64,1}:\n",
       " 7\n",
       " 2\n",
       " 3\n",
       " 4\n",
       " 5\n",
       " 6\n",
       " 7\n",
       " 1"
      ]
     },
     "execution_count": 114,
     "metadata": {},
     "output_type": "execute_result"
    }
   ],
   "source": [
    "unshift!(array, 7) # Unshift the array by adding a new element to it's start"
   ]
  },
  {
   "cell_type": "markdown",
   "metadata": {},
   "source": [
    "### Finding \n",
    "\n",
    "There's a set of functions starting with find — such as `find()`, `findfirst()`, and `findnext()` — that you can use to get the index or indices of values within an indexable collection that match a specific value, or pass a test. These functions share three properties.\n",
    "\n",
    "1. Their result is the _index or indices of the value sought or tested for_, with the _n_<sup>th</sup> element's index being _n_, not _n-1_ as you might be used to from other languages (Since we start from 1).\n",
    "\n",
    "2. You can use these functions in two principal forms: you can test for a value or you can test for a function, in which case the results will be the values for which the function returns `true`.\n",
    "\n",
    "3. The `find` functions' way of telling you they **haven't found anything** is **returning zero**, since there is no element of index zero.\n",
    "\n",
    "Let's try to find things within the following `Array`: `primes_and_one = [1,2,3,5,7,11,13,17,19,23]`"
   ]
  },
  {
   "cell_type": "code",
   "execution_count": 116,
   "metadata": {
    "collapsed": false
   },
   "outputs": [
    {
     "data": {
      "text/plain": [
       "10-element Array{Int64,1}:\n",
       "  1\n",
       "  2\n",
       "  3\n",
       "  5\n",
       "  7\n",
       " 11\n",
       " 13\n",
       " 17\n",
       " 19\n",
       " 23"
      ]
     },
     "execution_count": 116,
     "metadata": {},
     "output_type": "execute_result"
    }
   ],
   "source": [
    "primes_and_one = [1,2,3,5,7,11,13,17,19,23]"
   ]
  },
  {
   "cell_type": "markdown",
   "metadata": {},
   "source": [
    "##### `findfirst()`\n",
    "\n",
    "`findfirst()` finds the first occurrence of a value and returns its index (or zero):"
   ]
  },
  {
   "cell_type": "code",
   "execution_count": 118,
   "metadata": {
    "collapsed": false
   },
   "outputs": [
    {
     "data": {
      "text/plain": [
       "4"
      ]
     },
     "execution_count": 118,
     "metadata": {},
     "output_type": "execute_result"
    }
   ],
   "source": [
    "findfirst(primes_and_one, 5) # Where is the first 5 in my array?"
   ]
  },
  {
   "cell_type": "markdown",
   "metadata": {},
   "source": [
    "As noted above, we can feed the `find` functions a function as well – it will return values for which the function would return a `true` value. \n",
    "\n",
    "We have not really discussed functions, but the general idea should be familiar to you. A function of the form `x -> x == 13` results in `true` of the value of `x` is 13 and `false` otherwise. \n",
    "\n",
    "Let's try to see which prime number is the first to equal 13 (don't expect big surprises):"
   ]
  },
  {
   "cell_type": "code",
   "execution_count": 126,
   "metadata": {
    "collapsed": false
   },
   "outputs": [
    {
     "data": {
      "text/plain": [
       "7"
      ]
     },
     "execution_count": 126,
     "metadata": {},
     "output_type": "execute_result"
    }
   ],
   "source": [
    "findfirst(x -> x == 13, primes_and_one) # find the first index that matches the function"
   ]
  },
  {
   "cell_type": "code",
   "execution_count": 127,
   "metadata": {
    "collapsed": false
   },
   "outputs": [
    {
     "data": {
      "text/plain": [
       "13"
      ]
     },
     "execution_count": 127,
     "metadata": {},
     "output_type": "execute_result"
    }
   ],
   "source": [
    "primes_and_one[7]"
   ]
  },
  {
   "cell_type": "code",
   "execution_count": 128,
   "metadata": {
    "collapsed": false
   },
   "outputs": [
    {
     "data": {
      "text/plain": [
       "3"
      ]
     },
     "execution_count": 128,
     "metadata": {},
     "output_type": "execute_result"
    }
   ],
   "source": [
    "findfirst(x -> x >= 3, primes_and_one) # If more than one value matches a function, returns index of the first match"
   ]
  },
  {
   "cell_type": "code",
   "execution_count": 129,
   "metadata": {
    "collapsed": false
   },
   "outputs": [
    {
     "data": {
      "text/plain": [
       "3"
      ]
     },
     "execution_count": 129,
     "metadata": {},
     "output_type": "execute_result"
    }
   ],
   "source": [
    "primes_and_one[3]"
   ]
  },
  {
   "cell_type": "markdown",
   "metadata": {},
   "source": [
    "You might have noticed that unlike in the case where you were searching for a particular value, _where you're searching by a function, the function comes first_ (`findfirst(array, value)` vs. `findfirst(function, array)`)\n",
    "\n",
    "This is a little idiosyncrasy, but has to do with the way Julia determines what to do based on what it is provided with. A lot more of this will be explored in a later Chapter. ."
   ]
  },
  {
   "cell_type": "markdown",
   "metadata": {},
   "source": [
    "##### `find()`\n",
    "\n",
    "`find()` returns an array of results, not just the first match. \n",
    "\n",
    "Thus, let's use the `isinteger` function to see which of our primes are integers (yet again, the result should not come as a shock):"
   ]
  },
  {
   "cell_type": "code",
   "execution_count": 138,
   "metadata": {
    "collapsed": false,
    "scrolled": true
   },
   "outputs": [
    {
     "data": {
      "text/plain": [
       "10-element Array{Int64,1}:\n",
       "  1\n",
       "  2\n",
       "  3\n",
       "  4\n",
       "  5\n",
       "  6\n",
       "  7\n",
       "  8\n",
       "  9\n",
       " 10"
      ]
     },
     "execution_count": 138,
     "metadata": {},
     "output_type": "execute_result"
    }
   ],
   "source": [
    "find(isinteger, primes_and_one) # Show me all the indices of primes that are integers"
   ]
  },
  {
   "cell_type": "code",
   "execution_count": 139,
   "metadata": {
    "collapsed": false
   },
   "outputs": [
    {
     "data": {
      "text/plain": [
       "8-element Array{Int64,1}:\n",
       "  3\n",
       "  4\n",
       "  5\n",
       "  6\n",
       "  7\n",
       "  8\n",
       "  9\n",
       " 10"
      ]
     },
     "execution_count": 139,
     "metadata": {},
     "output_type": "execute_result"
    }
   ],
   "source": [
    "find(x -> x >=3, primes_and_one) # Show me all the indices of primes that are greater than 3"
   ]
  },
  {
   "cell_type": "code",
   "execution_count": 140,
   "metadata": {
    "collapsed": false
   },
   "outputs": [
    {
     "data": {
      "text/plain": [
       "8-element Array{Int64,1}:\n",
       "  3\n",
       "  5\n",
       "  7\n",
       " 11\n",
       " 13\n",
       " 17\n",
       " 19\n",
       " 23"
      ]
     },
     "execution_count": 140,
     "metadata": {},
     "output_type": "execute_result"
    }
   ],
   "source": [
    "primes_and_one[find(x -> x >=3, primes_and_one)] # Wrap it up together and show me the values, not just the indices "
   ]
  },
  {
   "cell_type": "markdown",
   "metadata": {},
   "source": [
    "##### `findnext()`\n",
    "\n",
    "`findnext()` returns results from a given index onwards. \n",
    "\n",
    "Thus, if you want to know the index of the first odd number after index 3 in the list of primes, you would proceed as follows (using the function `isodd`, which, as you could guess, returns `true` for odd integers and `false` otherwise):"
   ]
  },
  {
   "cell_type": "code",
   "execution_count": 141,
   "metadata": {
    "collapsed": false
   },
   "outputs": [
    {
     "data": {
      "text/plain": [
       "4"
      ]
     },
     "execution_count": 141,
     "metadata": {},
     "output_type": "execute_result"
    }
   ],
   "source": [
    "findnext(isodd, primes_and_one, 4) # Find me the next odd prime index from the 4th index onwards"
   ]
  },
  {
   "cell_type": "markdown",
   "metadata": {},
   "source": [
    "Wait, why `4`? As you might remember, Julia is 1-indexed, not 0-indexed, and inclusive. Therefore, an index 'begins before' the number. \n",
    "\n",
    "The number after the first index is the first number in the sequence and so on. As such, the number after the third item in a collection is the item next to (= following) the index `4`, not `3`.\n",
    "\n",
    "You might also have noticed that when you use a function as an argument, you do not use the parentheses you would normally use to call a function. That is because `function()` means `call this function` while `function` is merely a reference to the function object itself."
   ]
  },
  {
   "cell_type": "markdown",
   "metadata": {},
   "source": [
    "### Retrieving\n",
    "\n",
    "So far, we've only been getting indices. How do we retrieve the actual elements? The answer is, of course, by using our magical `[]`(square brackets) syntax. We'll also use this as a good opportunity to introduce a very useful function, `isprime()`, which returns `true` for primes and false otherwise:"
   ]
  },
  {
   "cell_type": "code",
   "execution_count": 285,
   "metadata": {
    "collapsed": false
   },
   "outputs": [
    {
     "data": {
      "text/plain": [
       "9-element Array{Int64,1}:\n",
       "  2\n",
       "  3\n",
       "  4\n",
       "  5\n",
       "  6\n",
       "  7\n",
       "  8\n",
       "  9\n",
       " 10"
      ]
     },
     "execution_count": 285,
     "metadata": {},
     "output_type": "execute_result"
    }
   ],
   "source": [
    "find(isprime, primes_and_one) # What indices of this array are prime? "
   ]
  },
  {
   "cell_type": "code",
   "execution_count": 286,
   "metadata": {
    "collapsed": false
   },
   "outputs": [
    {
     "data": {
      "text/plain": [
       "9-element Array{Int64,1}:\n",
       "  2\n",
       "  3\n",
       "  5\n",
       "  7\n",
       " 11\n",
       " 13\n",
       " 17\n",
       " 19\n",
       " 23"
      ]
     },
     "execution_count": 286,
     "metadata": {},
     "output_type": "execute_result"
    }
   ],
   "source": [
    "primes_and_one[find(isprime,primes_and_one)] # What are the values at the indices of this array that are prime? "
   ]
  },
  {
   "cell_type": "markdown",
   "metadata": {},
   "source": [
    "### Filtering\n",
    "\n",
    "The `filter()` function works quite similar to `find`, except in this case returns only the elements that satisfy the condition (it is, effectively, a shorthand for the previous listing):"
   ]
  },
  {
   "cell_type": "code",
   "execution_count": 287,
   "metadata": {
    "collapsed": false
   },
   "outputs": [
    {
     "data": {
      "text/plain": [
       "9-element Array{Int64,1}:\n",
       "  1\n",
       "  3\n",
       "  5\n",
       "  7\n",
       " 11\n",
       " 13\n",
       " 17\n",
       " 19\n",
       " 23"
      ]
     },
     "execution_count": 287,
     "metadata": {},
     "output_type": "execute_result"
    }
   ],
   "source": [
    "filter(isodd, primes_and_one) # What are the values of this array that are odd? "
   ]
  },
  {
   "cell_type": "markdown",
   "metadata": {},
   "source": [
    "`filter()` can be used in-place, by using the `!` after the name of the function (thereby changing the original variable).\n",
    "\n",
    "Using `filter!()`, altering the actual array rather than returning a filtered copy. Note, however, that functions ending with `!` modify the object, so, obviously immutable type they act on must be mutable – you would, therefore, not be able to `filter!()` a tuple, even though you would be able to `filter()` it."
   ]
  },
  {
   "cell_type": "markdown",
   "metadata": {},
   "source": [
    "### Sorting\n",
    "\n",
    "The `sort()` function sorts an array lexicographically, generally in an ascending order:"
   ]
  },
  {
   "cell_type": "code",
   "execution_count": 288,
   "metadata": {
    "collapsed": false
   },
   "outputs": [
    {
     "data": {
      "text/plain": [
       "4-element Array{Int64,1}:\n",
       " -3\n",
       "  1\n",
       "  2\n",
       "  7"
      ]
     },
     "execution_count": 288,
     "metadata": {},
     "output_type": "execute_result"
    }
   ],
   "source": [
    " sort([-3, 2, 1, 7])"
   ]
  },
  {
   "cell_type": "markdown",
   "metadata": {},
   "source": [
    "You can specify the sort criterion with a function using `by` – in this case, we will be using the absolute value function `abs` (remember not to use the parentheses symbolising function call, just the name of the function):"
   ]
  },
  {
   "cell_type": "code",
   "execution_count": 289,
   "metadata": {
    "collapsed": false
   },
   "outputs": [
    {
     "data": {
      "text/plain": [
       "4-element Array{Int64,1}:\n",
       "  1\n",
       "  2\n",
       " -3\n",
       "  7"
      ]
     },
     "execution_count": 289,
     "metadata": {},
     "output_type": "execute_result"
    }
   ],
   "source": [
    "sort([-3,2,1,7], by=abs) # Sort this aray by absolute value"
   ]
  },
  {
   "cell_type": "markdown",
   "metadata": {},
   "source": [
    "You can change the order of sorting using `rev`:"
   ]
  },
  {
   "cell_type": "code",
   "execution_count": 149,
   "metadata": {
    "collapsed": false
   },
   "outputs": [
    {
     "data": {
      "text/plain": [
       "4-element Array{Int64,1}:\n",
       "  7\n",
       " -3\n",
       "  2\n",
       "  1"
      ]
     },
     "execution_count": 149,
     "metadata": {},
     "output_type": "execute_result"
    }
   ],
   "source": [
    "sort([-3,2,1,7], by=abs, rev=true) # Sort this array by absolute value and reverse it. "
   ]
  },
  {
   "cell_type": "markdown",
   "metadata": {},
   "source": [
    "And, for the great joy of algorithm nerds, you can choose the sort algorithm using `alg`. \n",
    "\n",
    "Here's a fun review of some sorting algorithms:\n",
    "\n",
    "[![Sorting](https://i.ytimg.com/vi/kPRA0W1kECg/maxresdefault.jpg)](https://www.youtube.com/watch?v=kPRA0W1kECg)\n",
    "\n",
    "Julia currently supports three sorting algorithms (`InsertionSort`, `QuickSort` and `MergeSort`)."
   ]
  },
  {
   "cell_type": "code",
   "execution_count": 150,
   "metadata": {
    "collapsed": false
   },
   "outputs": [
    {
     "data": {
      "text/plain": [
       "4-element Array{Int64,1}:\n",
       "  7\n",
       " -3\n",
       "  2\n",
       "  1"
      ]
     },
     "execution_count": 150,
     "metadata": {},
     "output_type": "execute_result"
    }
   ],
   "source": [
    "sort([-3,2,1,7], by=abs, rev=true, alg=MergeSort) # Sort the array by absolute value using MergeSort, and reverse it"
   ]
  },
  {
   "cell_type": "markdown",
   "metadata": {},
   "source": [
    "For mutable indexable collections, such as arrays, you can use `sort!()`, which sorts 'in place'. \n",
    "\n",
    "You can also sort non-numeric elements, or indeed anything for which the `isless()` function is defined, which sorting uses internally:"
   ]
  },
  {
   "cell_type": "code",
   "execution_count": 152,
   "metadata": {
    "collapsed": false
   },
   "outputs": [
    {
     "data": {
      "text/plain": [
       "4-element Array{ASCIIString,1}:\n",
       " \"Bayes\"  \n",
       " \"Gauss\"  \n",
       " \"Laplace\"\n",
       " \"Poisson\""
      ]
     },
     "execution_count": 152,
     "metadata": {},
     "output_type": "execute_result"
    }
   ],
   "source": [
    "sort!([\"Bayes\", \"Laplace\", \"Poisson\", \"Gauss\"]) # Sort this array in place"
   ]
  },
  {
   "cell_type": "markdown",
   "metadata": {},
   "source": [
    "### Counting\n",
    "\n",
    "`count()` tells you the number of instances in the collection that satisfy the criterion:"
   ]
  },
  {
   "cell_type": "code",
   "execution_count": 156,
   "metadata": {
    "collapsed": false
   },
   "outputs": [
    {
     "data": {
      "text/plain": [
       "9"
      ]
     },
     "execution_count": 156,
     "metadata": {},
     "output_type": "execute_result"
    }
   ],
   "source": [
    "count(isodd, primes_and_one) # How many values in this array match the isodd function?"
   ]
  },
  {
   "cell_type": "markdown",
   "metadata": {},
   "source": [
    "### Testing\n",
    "\n",
    "`all()` and `any()` implement two of the mathematical concepts known as _quantifiers_, with `all()` representing the universal quantifier \"for all\" (∀), while `any()` implements the existential quantifier \"for any\" (∃x).\n",
    "\n",
    "These functions test whether all or any, respectively, of a collection satisfies a certain criterion, and return a single truth value."
   ]
  },
  {
   "cell_type": "code",
   "execution_count": 159,
   "metadata": {
    "collapsed": false
   },
   "outputs": [
    {
     "data": {
      "text/plain": [
       "false"
      ]
     },
     "execution_count": 159,
     "metadata": {},
     "output_type": "execute_result"
    }
   ],
   "source": [
    "all(x -> x >= 3, [1:10]) # Does f(x) apply for all values in the defined range (x >= 3 ∀ {1:10})?"
   ]
  },
  {
   "cell_type": "code",
   "execution_count": 189,
   "metadata": {
    "collapsed": false
   },
   "outputs": [
    {
     "data": {
      "text/plain": [
       "true"
      ]
     },
     "execution_count": 189,
     "metadata": {},
     "output_type": "execute_result"
    }
   ],
   "source": [
    "any(x -> x >= 3, [1:10]) # Does f(x) apply for any values in the defined range (x >= 3 ∃x {1:10})?"
   ]
  },
  {
   "cell_type": "markdown",
   "metadata": {},
   "source": [
    "### Checking\n",
    "\n",
    "To find out whether an array has a particular value among its elements, you can use `in()`:"
   ]
  },
  {
   "cell_type": "code",
   "execution_count": 168,
   "metadata": {
    "collapsed": false
   },
   "outputs": [
    {
     "data": {
      "text/plain": [
       "true"
      ]
     },
     "execution_count": 168,
     "metadata": {},
     "output_type": "execute_result"
    }
   ],
   "source": [
    "in(3, primes_and_one) # Is there a 2 in this collection?"
   ]
  },
  {
   "cell_type": "markdown",
   "metadata": {},
   "source": [
    "Somewhat strangely, in the `in()` syntax, the needle comes before the haystack, i.e. `in(value, array)`, where `value` denotes the value you are looking for, just like other function references."
   ]
  },
  {
   "cell_type": "markdown",
   "metadata": {},
   "source": [
    "### Particulars\n",
    "\n",
    "#### Arrays\n",
    "\n",
    "Arrays (the ones we used in our examples so far in this section) are mutable indexable collections. The type `Array{T,N}` indicates an `N`-dimensional array which elements' types are subtypes of `T`. \n",
    "\n",
    "For instance, `Array{Number, 2}` is an 2-dimensional array. Its elements' types descend from `Number` (e.g.`Int`, `Float64`).\n",
    "\n",
    "##### Access in multidimensional arrays\n",
    "\n",
    "How do we access elements in a multidimensional array, a special form of indexable collection? Simple – in a multidimensional array, indexes go down each row, then from left to right. Therefore, this array"
   ]
  },
  {
   "cell_type": "code",
   "execution_count": 170,
   "metadata": {
    "collapsed": false
   },
   "outputs": [
    {
     "data": {
      "text/plain": [
       "2x2 Array{ASCIIString,2}:\n",
       " \"A\"  \"B\"\n",
       " \"C\"  \"D\""
      ]
     },
     "execution_count": 170,
     "metadata": {},
     "output_type": "execute_result"
    }
   ],
   "source": [
    "md_array = [\"A\" \"B\"; \"C\" \"D\"]"
   ]
  },
  {
   "cell_type": "markdown",
   "metadata": {},
   "source": [
    "would be indexed as follows:"
   ]
  },
  {
   "cell_type": "code",
   "execution_count": 171,
   "metadata": {
    "collapsed": false
   },
   "outputs": [
    {
     "name": "stdout",
     "output_type": "stream",
     "text": [
      "A\n",
      "C\n",
      "B\n",
      "D\n"
     ]
    }
   ],
   "source": [
    "println(md_array[1])\n",
    "println(md_array[2])\n",
    "println(md_array[3])\n",
    "println(md_array[4])"
   ]
  },
  {
   "cell_type": "markdown",
   "metadata": {},
   "source": [
    "This is a little counterintuitive and different from the usual row/column notation, where you would use `array[row][column]`. \n",
    "\n",
    "In Julia, to retrieve a cell by row and column, use `array[row, column]`:"
   ]
  },
  {
   "cell_type": "code",
   "execution_count": 172,
   "metadata": {
    "collapsed": false
   },
   "outputs": [
    {
     "data": {
      "text/plain": [
       "\"B\""
      ]
     },
     "execution_count": 172,
     "metadata": {},
     "output_type": "execute_result"
    }
   ],
   "source": [
    "md_array[1,2]"
   ]
  },
  {
   "cell_type": "markdown",
   "metadata": {},
   "source": [
    "This generalizes for higher dimension arrays."
   ]
  },
  {
   "cell_type": "markdown",
   "metadata": {},
   "source": [
    "#### Tuples\n",
    "\n",
    "A tuple is an ordered sequence of elements, like an array. A tuple is represented by parentheses and commas, rather than the square brackets used by arrays. The important difference between arrays and tuples is that _tuples are immutable_: you can't change the elements of a tuple, or the tuple itself, after creating it.\n",
    "\n",
    "Tuples are generally used for small fixed-length collections — they're ubiquitous across Julia, for example as argument lists. Where a function returns multiple values, which, as we see, is pretty often the case, the result is a tuple.\n",
    "\n",
    "A corollary of immutability is that none of the `!` functions work on tuples - but at the same time, using functions such as `push()` is perfectly acceptable, since it returns _a copy of the tuple with the added element_, which does not alter the original tuple."
   ]
  },
  {
   "cell_type": "markdown",
   "metadata": {},
   "source": [
    "## Associative Collections\n",
    "\n",
    "An associative collection (typically Dictionaries) is a kind of non-indexed collection that stores (usually) pairs of values. \n",
    "\n",
    "The indexable collections you have encountered correspond to real-life examples such as a shopping list or a sequential list of train stations. Associative collections, on the other hand, have a _key_ and a _value_ (for this reason, they are sometimes referred to as _key-value pairs_). \n",
    "\n",
    "Julia, like many other programming languages, implements associative collections in an object called a `dict` (short for `dictionary`), which corresponds to 'maps', 'hash tables' or 'dictionaries' in other programming languages.\n",
    "\n",
    "A dict, as we have seen, is usually created using the dict literal:"
   ]
  },
  {
   "cell_type": "code",
   "execution_count": 200,
   "metadata": {
    "collapsed": false
   },
   "outputs": [
    {
     "data": {
      "text/plain": [
       "Dict{ASCIIString,Int64} with 3 entries:\n",
       "  \"c\" => 3\n",
       "  \"b\" => 2\n",
       "  \"a\" => 1"
      ]
     },
     "execution_count": 200,
     "metadata": {},
     "output_type": "execute_result"
    }
   ],
   "source": [
    "dict = Dict(\"a\" => 1, \"b\" => 2, \"c\" => 3)"
   ]
  },
  {
   "cell_type": "markdown",
   "metadata": {},
   "source": [
    "The key of a key-value pair is _unique_, meaning that while several keys might point at the same value (and a key might point at a collection as a value), you cannot have duplicate keys (in database terminology, you might have heard this referred to as a _one-to-many relationship_)."
   ]
  },
  {
   "cell_type": "markdown",
   "metadata": {},
   "source": [
    "### Creating\n",
    "\n",
    "Other than the `Dict()` literal, there are three more ways to create a dict.\n",
    "\n",
    "First, you can create a dict using the _comprehension syntax_ for dicts. An example is"
   ]
  },
  {
   "cell_type": "code",
   "execution_count": 194,
   "metadata": {
    "collapsed": false,
    "scrolled": true
   },
   "outputs": [
    {
     "data": {
      "text/plain": [
       "Dict{Int64,Float64} with 8 entries:\n",
       "  7  => 2.6457513110645907\n",
       "  9  => 3.0\n",
       "  13 => 3.605551275463989\n",
       "  3  => 1.7320508075688772\n",
       "  11 => 3.3166247903554\n",
       "  5  => 2.23606797749979\n",
       "  15 => 3.872983346207417\n",
       "  1  => 1.0"
      ]
     },
     "execution_count": 194,
     "metadata": {},
     "output_type": "execute_result"
    }
   ],
   "source": [
    "[i => sqrt(i) for i = 1:2:15] # The => defines the key -value relationship, and returns the result as a dict"
   ]
  },
  {
   "cell_type": "markdown",
   "metadata": {},
   "source": [
    "This creates a dict with the square root of every odd number from 1 to 15. In this case, `i` can be any iterable – while ranges are the most frequently used, there is no reason why.\n",
    "\n",
    "The following would not be equally valid:"
   ]
  },
  {
   "cell_type": "code",
   "execution_count": 198,
   "metadata": {
    "collapsed": false
   },
   "outputs": [
    {
     "ename": "LoadError",
     "evalue": "LoadError: syntax: missing comma or ) in argument list\nwhile loading In[198], in expression starting on line 1",
     "output_type": "error",
     "traceback": [
      "LoadError: syntax: missing comma or ) in argument list\nwhile loading In[198], in expression starting on line 1",
      ""
     ]
    }
   ],
   "source": [
    "Dict(i => sqrt(i) for i = [2, 5, 6, 8, 12, 64]) # Dict only takes key pairs, "
   ]
  },
  {
   "cell_type": "markdown",
   "metadata": {},
   "source": [
    "**Note**: _Comprehension syntax_ is generally applicable to most collections:"
   ]
  },
  {
   "cell_type": "code",
   "execution_count": 197,
   "metadata": {
    "collapsed": false
   },
   "outputs": [
    {
     "data": {
      "text/plain": [
       "8-element Array{Float64,1}:\n",
       " 1.0    \n",
       " 1.73205\n",
       " 2.23607\n",
       " 2.64575\n",
       " 3.0    \n",
       " 3.31662\n",
       " 3.60555\n",
       " 3.87298"
      ]
     },
     "execution_count": 197,
     "metadata": {},
     "output_type": "execute_result"
    }
   ],
   "source": [
    "[sqrt(i) for i = 1:2:15] # This is just list comprehesnion; the key-pair can be dropped to return an array"
   ]
  },
  {
   "cell_type": "markdown",
   "metadata": {},
   "source": [
    "Secondly, you can also create an empty dictionary. `Dict()` will construct an empty dictionary that permits any elements, while `Dict{type1, type2}()` will create an empty dictionary that permits any elements with keys of `type1` and values of `type2`.\n",
    "\n",
    "Finally, earlier versions of Julia used to support what is sometimes referred to as _zip creation_ of a dict, namely entering two equal-length tuples, one for keys and one for values. This is now regarded as deprecated – it still works, but you should not use it. Instead, the correct syntax is `Dict(zip(ks, vs))`:"
   ]
  },
  {
   "cell_type": "code",
   "execution_count": 201,
   "metadata": {
    "collapsed": false
   },
   "outputs": [
    {
     "data": {
      "text/plain": [
       "(\"1\",\"2\",\"3\")"
      ]
     },
     "execution_count": 201,
     "metadata": {},
     "output_type": "execute_result"
    }
   ],
   "source": [
    "ks = (\"a\", \"b\", \"c\")\n",
    "vs = (\"1\", \"2\", \"3\")"
   ]
  },
  {
   "cell_type": "code",
   "execution_count": 202,
   "metadata": {
    "collapsed": false
   },
   "outputs": [
    {
     "data": {
      "text/plain": [
       "Dict{ASCIIString,ASCIIString} with 3 entries:\n",
       "  \"c\" => \"3\"\n",
       "  \"b\" => \"2\"\n",
       "  \"a\" => \"1\""
      ]
     },
     "execution_count": 202,
     "metadata": {},
     "output_type": "execute_result"
    }
   ],
   "source": [
    "Dict(zip(ks,vs))"
   ]
  },
  {
   "cell_type": "markdown",
   "metadata": {},
   "source": [
    "### Accessing\n",
    "\n",
    "Just like items in an indexable arrays are keyed by their index, items in a dict are identified by their key and retrieved using the square bracket syntax with the relevant key:"
   ]
  },
  {
   "cell_type": "code",
   "execution_count": 205,
   "metadata": {
    "collapsed": false
   },
   "outputs": [
    {
     "data": {
      "text/plain": [
       "Dict{ASCIIString,ASCIIString} with 3 entries:\n",
       "  \"Galton\"  => \"1822-1911\"\n",
       "  \"Pearson\" => \"1857-1936\"\n",
       "  \"Gosset\"  => \"1876-1937\""
      ]
     },
     "execution_count": 205,
     "metadata": {},
     "output_type": "execute_result"
    }
   ],
   "source": [
    "statisticians = Dict(\"Gosset\" => \"1876-1937\", \"Pearson\" => \"1857-1936\", \"Galton\" => \"1822-1911\")"
   ]
  },
  {
   "cell_type": "code",
   "execution_count": 206,
   "metadata": {
    "collapsed": false
   },
   "outputs": [
    {
     "data": {
      "text/plain": [
       "\"1876-1937\""
      ]
     },
     "execution_count": 206,
     "metadata": {},
     "output_type": "execute_result"
    }
   ],
   "source": [
    "statisticians[\"Gosset\"]"
   ]
  },
  {
   "cell_type": "markdown",
   "metadata": {},
   "source": [
    "One drawback of the bracket syntax is that if there is no entry for the key provided, Julia will raise an error:"
   ]
  },
  {
   "cell_type": "code",
   "execution_count": 207,
   "metadata": {
    "collapsed": false
   },
   "outputs": [
    {
     "ename": "LoadError",
     "evalue": "LoadError: KeyError: Kendall not found\nwhile loading In[207], in expression starting on line 1",
     "output_type": "error",
     "traceback": [
      "LoadError: KeyError: Kendall not found\nwhile loading In[207], in expression starting on line 1",
      "",
      " in getindex at dict.jl:738"
     ]
    }
   ],
   "source": [
    "statisticians[\"Kendall\"]"
   ]
  },
  {
   "cell_type": "markdown",
   "metadata": {},
   "source": [
    "An alternative form of accessing a dictionary is using the `get()` function, which accepts a default value:"
   ]
  },
  {
   "cell_type": "markdown",
   "metadata": {},
   "source": [
    "#### `get()`"
   ]
  },
  {
   "cell_type": "code",
   "execution_count": 214,
   "metadata": {
    "collapsed": false
   },
   "outputs": [
    {
     "data": {
      "text/plain": [
       "\"1857-1936\""
      ]
     },
     "execution_count": 214,
     "metadata": {},
     "output_type": "execute_result"
    }
   ],
   "source": [
    "get(statisticians, \"Pearson\", \"I'm sorry, I don't know when this person lived.\")"
   ]
  },
  {
   "cell_type": "code",
   "execution_count": 215,
   "metadata": {
    "collapsed": false,
    "scrolled": true
   },
   "outputs": [
    {
     "data": {
      "text/plain": [
       "\"I'm sorry, I don't know when this person lived.\""
      ]
     },
     "execution_count": 215,
     "metadata": {},
     "output_type": "execute_result"
    }
   ],
   "source": [
    "get(statisticians, \"Kendall\", \"I'm sorry, I don't know when this person lived.\")"
   ]
  },
  {
   "cell_type": "markdown",
   "metadata": {},
   "source": [
    "This is particularly helpful for key-error handling; any not found entries all inherit this default response. \n",
    "\n",
    "Unlike in some other programming languages, a default is _not optional_ for Julia:"
   ]
  },
  {
   "cell_type": "code",
   "execution_count": 216,
   "metadata": {
    "collapsed": false
   },
   "outputs": [
    {
     "ename": "LoadError",
     "evalue": "LoadError: MethodError: `get` has no method matching get(::Dict{ASCIIString,ASCIIString}, ::ASCIIString)\nClosest candidates are:\n  get{K,V}(::Dict{K,V}, ::Any, !Matched::Any)\n  get(!Matched::ObjectIdDict, ::ANY, !Matched::ANY)\n  get{K}(!Matched::WeakKeyDict{K,V}, ::Any, !Matched::Any)\n  ...\nwhile loading In[216], in expression starting on line 1",
     "output_type": "error",
     "traceback": [
      "LoadError: MethodError: `get` has no method matching get(::Dict{ASCIIString,ASCIIString}, ::ASCIIString)\nClosest candidates are:\n  get{K,V}(::Dict{K,V}, ::Any, !Matched::Any)\n  get(!Matched::ObjectIdDict, ::ANY, !Matched::ANY)\n  get{K}(!Matched::WeakKeyDict{K,V}, ::Any, !Matched::Any)\n  ...\nwhile loading In[216], in expression starting on line 1",
      ""
     ]
    }
   ],
   "source": [
    "get(statisticians, \"Kendall\")"
   ]
  },
  {
   "cell_type": "markdown",
   "metadata": {},
   "source": [
    "### Modifying\n",
    "\n",
    "#### `get!()`\n",
    "\n",
    "Because dicts are mutable, `get!()` can create an access a value by its key and return this new value.\n",
    "\n",
    "Its syntax is identical to the `get()` idea of a default value:"
   ]
  },
  {
   "cell_type": "code",
   "execution_count": 211,
   "metadata": {
    "collapsed": false,
    "scrolled": true
   },
   "outputs": [
    {
     "data": {
      "text/plain": [
       "\"I'm sorry, I don't know when this person lived.\""
      ]
     },
     "execution_count": 211,
     "metadata": {},
     "output_type": "execute_result"
    }
   ],
   "source": [
    "get!(statisticians, \"Kendall\", \"I'm sorry, I don't know when this person lived.\")"
   ]
  },
  {
   "cell_type": "code",
   "execution_count": 212,
   "metadata": {
    "collapsed": false
   },
   "outputs": [
    {
     "data": {
      "text/plain": [
       "Dict{ASCIIString,ASCIIString} with 4 entries:\n",
       "  \"Galton\"  => \"1822-1911\"\n",
       "  \"Pearson\" => \"1857-1936\"\n",
       "  \"Kendall\" => \"I'm sorry, I don't know when this person lived.\"\n",
       "  \"Gosset\"  => \"1876-1937\""
      ]
     },
     "execution_count": 212,
     "metadata": {},
     "output_type": "execute_result"
    }
   ],
   "source": [
    "statisticians"
   ]
  },
  {
   "cell_type": "markdown",
   "metadata": {},
   "source": [
    "#### `pop!()`\n",
    "\n",
    "`pop!()` drops the key-value array matching the key. \n",
    "\n",
    "If the key does not exist, it returns an optional default value or throws an error:"
   ]
  },
  {
   "cell_type": "code",
   "execution_count": 220,
   "metadata": {
    "collapsed": false
   },
   "outputs": [
    {
     "data": {
      "text/plain": [
       "\"I'm sorry, I don't know when this person lived.\""
      ]
     },
     "execution_count": 220,
     "metadata": {},
     "output_type": "execute_result"
    }
   ],
   "source": [
    "pop!(statisticians, \"Kendall\")"
   ]
  },
  {
   "cell_type": "code",
   "execution_count": 221,
   "metadata": {
    "collapsed": false
   },
   "outputs": [
    {
     "data": {
      "text/plain": [
       "Dict{ASCIIString,ASCIIString} with 3 entries:\n",
       "  \"Galton\"  => \"1822-1911\"\n",
       "  \"Pearson\" => \"1857-1936\"\n",
       "  \"Gosset\"  => \"1876-1937\""
      ]
     },
     "execution_count": 221,
     "metadata": {},
     "output_type": "execute_result"
    }
   ],
   "source": [
    "statisticians"
   ]
  },
  {
   "cell_type": "markdown",
   "metadata": {},
   "source": [
    "### Changing\n",
    "\n",
    "To change a value, access it via the bracket syntax, then assign it the new value:"
   ]
  },
  {
   "cell_type": "code",
   "execution_count": 222,
   "metadata": {
    "collapsed": false
   },
   "outputs": [
    {
     "data": {
      "text/plain": [
       "\"1907-1983\""
      ]
     },
     "execution_count": 222,
     "metadata": {},
     "output_type": "execute_result"
    }
   ],
   "source": [
    " statisticians[\"Kendall\"] = \"1907-1983\""
   ]
  },
  {
   "cell_type": "code",
   "execution_count": 231,
   "metadata": {
    "collapsed": false,
    "scrolled": true
   },
   "outputs": [
    {
     "data": {
      "text/plain": [
       "Dict{ASCIIString,ASCIIString} with 4 entries:\n",
       "  \"Galton\"  => \"1822-1911\"\n",
       "  \"Pearson\" => \"1857-1936\"\n",
       "  \"Kendall\" => \"1907-1983\"\n",
       "  \"Gosset\"  => \"1876-1937\""
      ]
     },
     "execution_count": 231,
     "metadata": {},
     "output_type": "execute_result"
    }
   ],
   "source": [
    "statisticians"
   ]
  },
  {
   "cell_type": "markdown",
   "metadata": {},
   "source": [
    "### Checking \n",
    "\n",
    "To check for the existence of a key without retrieving it, you can use `haskey()`:"
   ]
  },
  {
   "cell_type": "code",
   "execution_count": 224,
   "metadata": {
    "collapsed": false
   },
   "outputs": [
    {
     "data": {
      "text/plain": [
       "true"
      ]
     },
     "execution_count": 224,
     "metadata": {},
     "output_type": "execute_result"
    }
   ],
   "source": [
    "haskey(statisticians, \"Galton\") # Does this Dict have this key? "
   ]
  },
  {
   "cell_type": "code",
   "execution_count": 230,
   "metadata": {
    "collapsed": false
   },
   "outputs": [
    {
     "data": {
      "text/plain": [
       "false"
      ]
     },
     "execution_count": 230,
     "metadata": {},
     "output_type": "execute_result"
    }
   ],
   "source": [
    "haskey(statisticians, \"Bayes\")"
   ]
  },
  {
   "cell_type": "markdown",
   "metadata": {},
   "source": [
    "You can also check for the existence of a key-value pair in a dict using the `in()` function you might be familiar with from arrays using the associative array symbol `=>`:"
   ]
  },
  {
   "cell_type": "code",
   "execution_count": 242,
   "metadata": {
    "collapsed": false
   },
   "outputs": [
    {
     "data": {
      "text/plain": [
       "Dict{ASCIIString,ASCIIString} with 4 entries:\n",
       "  \"Galton\"  => \"1822-1911\"\n",
       "  \"Pearson\" => \"1857-1936\"\n",
       "  \"Kendall\" => \"1907-1983\"\n",
       "  \"Gosset\"  => \"1876-1937\""
      ]
     },
     "execution_count": 242,
     "metadata": {},
     "output_type": "execute_result"
    }
   ],
   "source": [
    "statisticians"
   ]
  },
  {
   "cell_type": "code",
   "execution_count": 243,
   "metadata": {
    "collapsed": false
   },
   "outputs": [
    {
     "data": {
      "text/plain": [
       "true"
      ]
     },
     "execution_count": 243,
     "metadata": {},
     "output_type": "execute_result"
    }
   ],
   "source": [
    "in((\"Galton\" => \"1822-1911\"), statisticians) # Is this key-pair in this Dict?"
   ]
  },
  {
   "cell_type": "code",
   "execution_count": 244,
   "metadata": {
    "collapsed": false
   },
   "outputs": [
    {
     "data": {
      "text/plain": [
       "false"
      ]
     },
     "execution_count": 244,
     "metadata": {},
     "output_type": "execute_result"
    }
   ],
   "source": [
    "in((\"Bayes\" => \"1702-1761\"), statisticians)"
   ]
  },
  {
   "cell_type": "markdown",
   "metadata": {},
   "source": [
    "#### Retrieving\n",
    "\n",
    "To retrieve all keys of a dict, use `keys()`. \n",
    "\n",
    "This will retrieve an object of type `KeyIterator`, which does just what the name suggests - it iterates through the keys of an array. This will be useful later on when we want to iterate through the dictionary by keys:"
   ]
  },
  {
   "cell_type": "code",
   "execution_count": 245,
   "metadata": {
    "collapsed": false
   },
   "outputs": [
    {
     "data": {
      "text/plain": [
       "Base.KeyIterator for a Dict{ASCIIString,ASCIIString} with 4 entries. Keys:\n",
       "  \"Galton\"\n",
       "  \"Pearson\"\n",
       "  \"Kendall\"\n",
       "  \"Gosset\""
      ]
     },
     "execution_count": 245,
     "metadata": {},
     "output_type": "execute_result"
    }
   ],
   "source": [
    "keys(statisticians)"
   ]
  },
  {
   "cell_type": "markdown",
   "metadata": {},
   "source": [
    "You can retrieve values, predictably, by using the `values()` function:"
   ]
  },
  {
   "cell_type": "code",
   "execution_count": 246,
   "metadata": {
    "collapsed": false
   },
   "outputs": [
    {
     "data": {
      "text/plain": [
       "Base.ValueIterator for a Dict{ASCIIString,ASCIIString} with 4 entries. Values:\n",
       "  \"1822-1911\"\n",
       "  \"1857-1936\"\n",
       "  \"1907-1983\"\n",
       "  \"1876-1937\""
      ]
     },
     "execution_count": 246,
     "metadata": {},
     "output_type": "execute_result"
    }
   ],
   "source": [
    " values(statisticians)"
   ]
  },
  {
   "cell_type": "markdown",
   "metadata": {},
   "source": [
    "### Sorting\n",
    "\n",
    "You may have noticed that dicts are unordered. Even a dict generated by reference to a range, such as the one seen above, will not be in any particular order:"
   ]
  },
  {
   "cell_type": "code",
   "execution_count": 249,
   "metadata": {
    "collapsed": false
   },
   "outputs": [
    {
     "data": {
      "text/plain": [
       "Dict{Int64,Float64} with 15 entries:\n",
       "  2  => 1.4142135623730951\n",
       "  11 => 3.3166247903554\n",
       "  7  => 2.6457513110645907\n",
       "  9  => 3.0\n",
       "  10 => 3.1622776601683795\n",
       "  8  => 2.8284271247461903\n",
       "  6  => 2.449489742783178\n",
       "  4  => 2.0\n",
       "  3  => 1.7320508075688772\n",
       "  5  => 2.23606797749979\n",
       "  13 => 3.605551275463989\n",
       "  14 => 3.7416573867739413\n",
       "  15 => 3.872983346207417\n",
       "  12 => 3.4641016151377544\n",
       "  1  => 1.0"
      ]
     },
     "execution_count": 249,
     "metadata": {},
     "output_type": "execute_result"
    }
   ],
   "source": [
    " [i => sqrt(i) for i = 1:1:15]\n",
    " "
   ]
  },
  {
   "cell_type": "markdown",
   "metadata": {},
   "source": [
    "This is because dicts are not indexable, therefore there is no ordering that would make inherent sense. \n",
    "\n",
    "However, sometimes, we like dictionaries sorted. Disappointingly, sorting dicts is not as easy as sorting arrays: `sort(statisticians)` tells us that `'sort' has no method matching sort(::Dict{ASCIIString,ASCIIString})`. \n",
    "\n",
    "Therefore, you have to write your own sort function that first converts `statisticians` from a dict into an array of 2-element tuples. This is because the `sort()` function has no defined methods for dicts, but it can sort arrays, including tuples, where it sorts by the first element in the tuple. \n",
    "\n",
    "We can emulate this functionality with `sort(collect(statisticians))` which converts this Dict into another (typically an Array:"
   ]
  },
  {
   "cell_type": "code",
   "execution_count": 261,
   "metadata": {
    "collapsed": false,
    "scrolled": false
   },
   "outputs": [
    {
     "data": {
      "text/plain": [
       "4-element Array{Pair{ASCIIString,ASCIIString},1}:\n",
       " \"Galton\"=>\"1822-1911\" \n",
       " \"Gosset\"=>\"1876-1937\" \n",
       " \"Kendall\"=>\"1907-1983\"\n",
       " \"Pearson\"=>\"1857-1936\""
      ]
     },
     "execution_count": 261,
     "metadata": {},
     "output_type": "execute_result"
    }
   ],
   "source": [
    "sort(collect(statisticians))"
   ]
  },
  {
   "cell_type": "markdown",
   "metadata": {},
   "source": [
    "We then wrap this back up in a Dict:"
   ]
  },
  {
   "cell_type": "code",
   "execution_count": 262,
   "metadata": {
    "collapsed": false
   },
   "outputs": [
    {
     "data": {
      "text/plain": [
       "4-element Array{Pair{ASCIIString,ASCIIString},1}:\n",
       " \"Galton\"=>\"1822-1911\" \n",
       " \"Gosset\"=>\"1876-1937\" \n",
       " \"Kendall\"=>\"1907-1983\"\n",
       " \"Pearson\"=>\"1857-1936\""
      ]
     },
     "execution_count": 262,
     "metadata": {},
     "output_type": "execute_result"
    }
   ],
   "source": [
    "sort(collect(statisticians))"
   ]
  },
  {
   "cell_type": "markdown",
   "metadata": {},
   "source": [
    "### Merging\n",
    "\n",
    "The function `merge()` merges two or more dicts."
   ]
  },
  {
   "cell_type": "code",
   "execution_count": 263,
   "metadata": {
    "collapsed": false
   },
   "outputs": [
    {
     "data": {
      "text/plain": [
       "Dict{ASCIIString,ASCIIString} with 3 entries:\n",
       "  \"Abel\"    => \"1802-1829\"\n",
       "  \"Leibniz\" => \"1646-1716\"\n",
       "  \"Gauss\"   => \"1777-1855\""
      ]
     },
     "execution_count": 263,
     "metadata": {},
     "output_type": "execute_result"
    }
   ],
   "source": [
    " mathematicians = Dict(\"Gauss\" => \"1777-1855\", \"Leibniz\" => \"1646-1716\", \"Abel\" => \"1802-1829\")"
   ]
  },
  {
   "cell_type": "code",
   "execution_count": 264,
   "metadata": {
    "collapsed": false
   },
   "outputs": [
    {
     "data": {
      "text/plain": [
       "Dict{ASCIIString,ASCIIString} with 7 entries:\n",
       "  \"Abel\"    => \"1802-1829\"\n",
       "  \"Galton\"  => \"1822-1911\"\n",
       "  \"Leibniz\" => \"1646-1716\"\n",
       "  \"Gauss\"   => \"1777-1855\"\n",
       "  \"Pearson\" => \"1857-1936\"\n",
       "  \"Kendall\" => \"1907-1983\"\n",
       "  \"Gosset\"  => \"1876-1937\""
      ]
     },
     "execution_count": 264,
     "metadata": {},
     "output_type": "execute_result"
    }
   ],
   "source": [
    "merge(mathematicians, statisticians)"
   ]
  },
  {
   "cell_type": "markdown",
   "metadata": {},
   "source": [
    "Its bang counterpart, `merge!()`, merges them in place, overwriting the first dict mentioned while leaving the second intact."
   ]
  },
  {
   "cell_type": "code",
   "execution_count": 265,
   "metadata": {
    "collapsed": false
   },
   "outputs": [
    {
     "data": {
      "text/plain": [
       "Dict{ASCIIString,ASCIIString} with 7 entries:\n",
       "  \"Abel\"    => \"1802-1829\"\n",
       "  \"Galton\"  => \"1822-1911\"\n",
       "  \"Leibniz\" => \"1646-1716\"\n",
       "  \"Gauss\"   => \"1777-1855\"\n",
       "  \"Pearson\" => \"1857-1936\"\n",
       "  \"Kendall\" => \"1907-1983\"\n",
       "  \"Gosset\"  => \"1876-1937\""
      ]
     },
     "execution_count": 265,
     "metadata": {},
     "output_type": "execute_result"
    }
   ],
   "source": [
    " merge!(mathematicians, statisticians)"
   ]
  },
  {
   "cell_type": "code",
   "execution_count": 266,
   "metadata": {
    "collapsed": false
   },
   "outputs": [
    {
     "data": {
      "text/plain": [
       "Dict{ASCIIString,ASCIIString} with 7 entries:\n",
       "  \"Abel\"    => \"1802-1829\"\n",
       "  \"Galton\"  => \"1822-1911\"\n",
       "  \"Leibniz\" => \"1646-1716\"\n",
       "  \"Gauss\"   => \"1777-1855\"\n",
       "  \"Pearson\" => \"1857-1936\"\n",
       "  \"Kendall\" => \"1907-1983\"\n",
       "  \"Gosset\"  => \"1876-1937\""
      ]
     },
     "execution_count": 266,
     "metadata": {},
     "output_type": "execute_result"
    }
   ],
   "source": [
    "mathematicians"
   ]
  },
  {
   "cell_type": "code",
   "execution_count": 267,
   "metadata": {
    "collapsed": false
   },
   "outputs": [
    {
     "data": {
      "text/plain": [
       "Dict{ASCIIString,ASCIIString} with 4 entries:\n",
       "  \"Galton\"  => \"1822-1911\"\n",
       "  \"Pearson\" => \"1857-1936\"\n",
       "  \"Kendall\" => \"1907-1983\"\n",
       "  \"Gosset\"  => \"1876-1937\""
      ]
     },
     "execution_count": 267,
     "metadata": {},
     "output_type": "execute_result"
    }
   ],
   "source": [
    "statisticians"
   ]
  },
  {
   "cell_type": "markdown",
   "metadata": {},
   "source": [
    "## Non-Indexable & Non-Associative Collections\n",
    "\n",
    "Sets are the primary collection of this type. \n",
    "\n",
    "You might be familiar with the idea of sets from maths/set theory. A set is a non-indexable, non-associative and non-mutable collection that also has unique elements. No element may occur twice, so an element's value identifies it conclusively."
   ]
  },
  {
   "cell_type": "markdown",
   "metadata": {},
   "source": [
    "### Creating\n",
    "\n",
    "To create a set, use the `Set()` constructor function. You can create a set that accepts any data type"
   ]
  },
  {
   "cell_type": "code",
   "execution_count": 269,
   "metadata": {
    "collapsed": false
   },
   "outputs": [
    {
     "data": {
      "text/plain": [
       "Set{Any}()"
      ]
     },
     "execution_count": 269,
     "metadata": {},
     "output_type": "execute_result"
    }
   ],
   "source": [
    "primes_set = Set()"
   ]
  },
  {
   "cell_type": "markdown",
   "metadata": {},
   "source": [
    "Or you can specify what sort of data types it would accept:"
   ]
  },
  {
   "cell_type": "code",
   "execution_count": 273,
   "metadata": {
    "collapsed": false,
    "scrolled": true
   },
   "outputs": [
    {
     "data": {
      "text/plain": [
       "Set{Int64}()"
      ]
     },
     "execution_count": 273,
     "metadata": {},
     "output_type": "execute_result"
    }
   ],
   "source": [
    "primes_set = Set{Int64}()"
   ]
  },
  {
   "cell_type": "markdown",
   "metadata": {},
   "source": [
    "You can create and fill sets in one go by listing elements surrounded by curly braces `{}`, and if you surround the elements with square brackets `[]` instead of curly braces `{}` Julia will guess the type:"
   ]
  },
  {
   "cell_type": "markdown",
   "metadata": {},
   "source": [
    "mersenne_primes_set = Set([3, 7, 31, 127])"
   ]
  },
  {
   "cell_type": "markdown",
   "metadata": {},
   "source": [
    "### Operating\n",
    "\n",
    "Sets have some unique functions that accommodate certain problems well-known from set theory: the functions `union()`, `intersect()` and `setdiff()` each, respectively, implement the union, intersection and difference of sets. They are also immutable, so they cannot be changed; they can only generate new sets.\n",
    "\n",
    "Let's see how we can use this to find some similarities between the cast of two blockbusters, _The Lord of the Rings_ and _The Matrix_.\n",
    "\n",
    "\n",
    "First, let's create two sets with some actors from each movie:"
   ]
  },
  {
   "cell_type": "code",
   "execution_count": 290,
   "metadata": {
    "collapsed": false,
    "scrolled": true
   },
   "outputs": [
    {
     "data": {
      "text/plain": [
       "Set(ASCIIString[\"Keanu Reeves\",\"Hugo Weaving\",\"Lawrence Fishburne\"])"
      ]
     },
     "execution_count": 290,
     "metadata": {},
     "output_type": "execute_result"
    }
   ],
   "source": [
    "lotr_actors = Set([\"Elijah Wood\", \"Ian McKellen\", \"Viggo Mortensen\", \"Hugo Weaving\"])\n",
    "matrix_actors = Set([\"Keanu Reeves\", \"Lawrence Fishburne\", \"Hugo Weaving\"])"
   ]
  },
  {
   "cell_type": "markdown",
   "metadata": {},
   "source": [
    "To find shared actors, we can use `intersect()`:"
   ]
  },
  {
   "cell_type": "code",
   "execution_count": 291,
   "metadata": {
    "collapsed": false
   },
   "outputs": [
    {
     "data": {
      "text/plain": [
       "Set(ASCIIString[\"Hugo Weaving\"])"
      ]
     },
     "execution_count": 291,
     "metadata": {},
     "output_type": "execute_result"
    }
   ],
   "source": [
    "intersect(lotr_actors, matrix_actors)"
   ]
  },
  {
   "cell_type": "markdown",
   "metadata": {},
   "source": [
    "To find actors who only starred in _Lord of the Rings_ but not in _The Matrix_, we can use `setdiff()`, which shows all elements that are in the first `Set` but not the second:"
   ]
  },
  {
   "cell_type": "code",
   "execution_count": 280,
   "metadata": {
    "collapsed": false
   },
   "outputs": [
    {
     "data": {
      "text/plain": [
       "Set(ASCIIString[\"Elijah Wood\",\"Ian McKellen\",\"Viggo Mortensen\"])"
      ]
     },
     "execution_count": 280,
     "metadata": {},
     "output_type": "execute_result"
    }
   ],
   "source": [
    "setdiff(lotr_actors, matrix_actors)"
   ]
  },
  {
   "cell_type": "markdown",
   "metadata": {},
   "source": [
    "Finally, we can see actors who played in either of the movies, by using `union()`:"
   ]
  },
  {
   "cell_type": "code",
   "execution_count": 281,
   "metadata": {
    "collapsed": false
   },
   "outputs": [
    {
     "data": {
      "text/plain": [
       "Set(ASCIIString[\"Elijah Wood\",\"Ian McKellen\",\"Hugo Weaving\",\"Keanu Reeves\",\"Lawrence Fishburne\",\"Viggo Mortensen\"])"
      ]
     },
     "execution_count": 281,
     "metadata": {},
     "output_type": "execute_result"
    }
   ],
   "source": [
    "union(lotr_actors, matrix_actors)"
   ]
  },
  {
   "cell_type": "markdown",
   "metadata": {},
   "source": [
    "## Collections & Types\n",
    "\n",
    "Until now, we have generally created collections using literals, and with precious little regard to the types of information that go in them. While types will be discussed in quite a bit of detail later on, what we do know about types is that they are individual categories of data.\n",
    "\n",
    "Julia operates what is called _type inference_: unless you tell it explicitly what type something is, it tries to figure it out best as it can. We see this in operation when we create a new collection. When a collection is created and Julia is not told that this is going to be a collection containing elements of only a particular kind or particular kinds of values, it makes an educated guess. The REPL tells us this much:"
   ]
  },
  {
   "cell_type": "code",
   "execution_count": 292,
   "metadata": {
    "collapsed": false
   },
   "outputs": [
    {
     "data": {
      "text/plain": [
       "6-element Array{Int64,1}:\n",
       "      3\n",
       "      7\n",
       "     31\n",
       "    127\n",
       "   8191\n",
       " 131071"
      ]
     },
     "execution_count": 292,
     "metadata": {},
     "output_type": "execute_result"
    }
   ],
   "source": [
    "mersenne_primes = [3, 7, 31, 127, 8191, 131071]"
   ]
  },
  {
   "cell_type": "markdown",
   "metadata": {},
   "source": [
    "Upon creating the array, the REPL reports to us that it's an array consisting of six elements, all of type `Int64` – a type of signed 64-bit integer (don't worry if that means quite little to you just yet, we will be discussing various integer types in Chapter [X]). It also, helpfully, reports to us that we've got a 1-dimensional array."
   ]
  },
  {
   "cell_type": "markdown",
   "metadata": {},
   "source": [
    "### Type inference and dissimilar types\n",
    "\n",
    "What, however, if I want to play it a little wild and mix it up? Consider the following array:"
   ]
  },
  {
   "cell_type": "code",
   "execution_count": 293,
   "metadata": {
    "collapsed": false
   },
   "outputs": [
    {
     "data": {
      "text/plain": [
       "6-element Array{Any,1}:\n",
       "   3                    \n",
       "   7                    \n",
       "    \"potato\"            \n",
       " 127                    \n",
       "  π = 3.1415926535897...\n",
       "    \"wallaby\"           "
      ]
     },
     "execution_count": 293,
     "metadata": {},
     "output_type": "execute_result"
    }
   ],
   "source": [
    "not_really_mersenne_primes = [3, 7, \"potato\", 127, π, \"wallaby\"]"
   ]
  },
  {
   "cell_type": "markdown",
   "metadata": {},
   "source": [
    "As you have guessed, Julia is at a loss as to what to do with this, since we've got a mix of integers, strings and a constant thrown in for good measure. Therefore, it tells us that it has inferred the type of the collection to be `Any` – a type that applies to all objects."
   ]
  },
  {
   "cell_type": "markdown",
   "metadata": {},
   "source": [
    "### Type inference and empty collections\n",
    "\n",
    "The other marginal case is that of the empty set. Julia has a dedicated type, `None` – a subtype of `Any` – that applies to the empty set:"
   ]
  },
  {
   "cell_type": "code",
   "execution_count": 284,
   "metadata": {
    "collapsed": false
   },
   "outputs": [
    {
     "data": {
      "text/plain": [
       "0-element Array{Any,1}"
      ]
     },
     "execution_count": 284,
     "metadata": {},
     "output_type": "execute_result"
    }
   ],
   "source": [
    "empty_set = []"
   ]
  },
  {
   "cell_type": "markdown",
   "metadata": {},
   "source": [
    "## Conclusion\n",
    "\n",
    "In this chapter, we learned about the way Julia's handles collections, whether they are Indexable, Associative, or neither. An indexable array is referenced by its index value (starting from 1 in Julia), and provides a bunch of operations for changing, setting, modifying, finding, and even testing these collections. Associative arrays are based on the notion of key-value pairs, and are almost always dictionaries. They do not have an order, and rely on the notion of retrieving a value for a given key, not indices. Sets are neither indexable nor associative; they are a collection that deals exclusvily with unique values. In any case, they all share one important property – to act as 'envelopes' for multiple elements, each with their distinct type."
   ]
  }
 ],
 "metadata": {
  "kernelspec": {
   "display_name": "Julia 0.4.6",
   "language": "julia",
   "name": "julia-0.4"
  },
  "language_info": {
   "file_extension": ".jl",
   "mimetype": "application/julia",
   "name": "julia",
   "version": "0.4.6"
  }
 },
 "nbformat": 4,
 "nbformat_minor": 0
}
