{
 "cells": [
  {
   "cell_type": "markdown",
   "metadata": {},
   "source": [
    "# Chapter 6: Control Flow"
   ]
  },
  {
   "cell_type": "markdown",
   "metadata": {},
   "source": [
    "So far, we've looked at variables, types, strings and collections – in short, the things programs operate on. Control flow is where we start to delve into _how_ to engineer programs that do what we need them to.\n",
    "\n",
    "We will be encountering two new things in this chapter. First, we will be coming across a number of _keywords_.\n",
    "\n",
    "Functional languages are generally known for having a minimum of keywords, but they usually still need some. A keyword is a word that has a particular role in the syntax of Julia. Keywords are _not functions_, and therefore are _not called_ (so no need for parentheses at the end!).\n",
    "\n",
    "The second new concept is that of _blocks_. Blocks are chunks of expressions that are 'set aside' because they are, for instance, executed if a certain criterion is met. Blocks start with a starting expression, are followed by indented lines and end on an unindented line with the `end` keyword. A typical block would be:"
   ]
  },
  {
   "cell_type": "code",
   "execution_count": 3,
   "metadata": {
    "collapsed": false
   },
   "outputs": [
    {
     "name": "stdout",
     "output_type": "stream",
     "text": [
      "Variable 1 is larger than Variable 2.\n"
     ]
    }
   ],
   "source": [
    "variable1 = 1\n",
    "variable2 = 2\n",
    "\n",
    "if variable2 > variable1\n",
    "    println(\"Variable 1 is larger than Variable 2.\")\n",
    "end"
   ]
  },
  {
   "cell_type": "markdown",
   "metadata": {},
   "source": [
    "In Julia, blocks are normally indented as a matter of convention, but as long as they're validly terminated with the `end` keyword, it's all good. \n",
    "\n",
    "They are not surrounded by any special characters (such as curly braces `{}` that are common in Java or Javascript) or terminators after the condition (such as the colon `:` in Python). It is up to you whether you put the condition in parentheses `()`, but this is not required and is not an unambiguously useful feature at any rate. \n",
    "\n",
    "`if` and `elseif` are keywords, and as such they are not 'called' but invoked, so using the parentheses would not be technically appropriate."
   ]
  },
  {
   "cell_type": "markdown",
   "metadata": {},
   "source": [
    "## Conditions, Truth Values and Comparisons\n",
    "\n",
    "Much of control flow depends on the evaluation of particular conditions. Thus, for instance, an `if`/`else` construct may perform one action if a condition is true and a different one if it is false. \n",
    "\n",
    "Therefore, it is important to understand the role comparisons play in control flow and their effective (and idiomatic) use."
   ]
  },
  {
   "cell_type": "markdown",
   "metadata": {},
   "source": [
    "### Comparison operators\n",
    "\n",
    "Julia has six comparison operators. Each of these acts differently depending on what types it is used on, therefore we'll take the effect of each of these operators in turn depending on their types.\n",
    "\n",
    "Unlike a number of programming languages, Julia's Unicode support means it can use a wider range of symbols as operators, which makes for prettier code but might be inadvisable – the difference between `>=` and `>` is less ambiguous than the difference between `≥` and `>`, especially at small resolutions.\n",
    "\n",
    "| Operator | Name |\n",
    "|----------|------|\n",
    "| `==` or `isequal(x,y)` | equality |\n",
    "| `!=` or `≠` | inequality |\n",
    "| `<` | less than |\n",
    "| `<=` or `≤` | less or equal |\n",
    "| `>` | greater than |\n",
    "| `>=` or `≥` | greater or equal |"
   ]
  },
  {
   "cell_type": "markdown",
   "metadata": {},
   "source": [
    "#### Numeric comparison\n",
    "\n",
    "When comparing numeric types, the comparison operators act as one would expect them, with some conventions that derive from the [IEEE 754 standard](http://en.wikipedia.org/wiki/IEEE_floating_point) for floating point values.\n",
    "\n",
    "Numeric comparison can accommodate three 'special' values: `-Inf`, `Inf` and `NaN`, which might be familiar from `R` or other programming languages. The paradigms for these three are that\n",
    "\n",
    "- `NaN` is not equal to, larger than or less than anything, *including itself* (`NaN == NaN` yields `false`):"
   ]
  },
  {
   "cell_type": "code",
   "execution_count": 10,
   "metadata": {
    "collapsed": false
   },
   "outputs": [
    {
     "data": {
      "text/plain": [
       "false"
      ]
     },
     "execution_count": 10,
     "metadata": {},
     "output_type": "execute_result"
    }
   ],
   "source": [
    "NaN > 0"
   ]
  },
  {
   "cell_type": "code",
   "execution_count": 11,
   "metadata": {
    "collapsed": false
   },
   "outputs": [
    {
     "data": {
      "text/plain": [
       "false"
      ]
     },
     "execution_count": 11,
     "metadata": {},
     "output_type": "execute_result"
    }
   ],
   "source": [
    "NaN < 0"
   ]
  },
  {
   "cell_type": "code",
   "execution_count": 9,
   "metadata": {
    "collapsed": false
   },
   "outputs": [
    {
     "data": {
      "text/plain": [
       "false"
      ]
     },
     "execution_count": 9,
     "metadata": {},
     "output_type": "execute_result"
    }
   ],
   "source": [
    "NaN == NaN "
   ]
  },
  {
   "cell_type": "markdown",
   "metadata": {},
   "source": [
    "- `-Inf` and `Inf` are each equal to themselves but not the other (`-Inf == -Inf` yields `true` but `-Inf == Inf` is false):"
   ]
  },
  {
   "cell_type": "code",
   "execution_count": 6,
   "metadata": {
    "collapsed": false
   },
   "outputs": [
    {
     "data": {
      "text/plain": [
       "true"
      ]
     },
     "execution_count": 6,
     "metadata": {},
     "output_type": "execute_result"
    }
   ],
   "source": [
    "-Inf == -Inf"
   ]
  },
  {
   "cell_type": "code",
   "execution_count": 8,
   "metadata": {
    "collapsed": false
   },
   "outputs": [
    {
     "data": {
      "text/plain": [
       "false"
      ]
     },
     "execution_count": 8,
     "metadata": {},
     "output_type": "execute_result"
    }
   ],
   "source": [
    "Inf == -Inf"
   ]
  },
  {
   "cell_type": "markdown",
   "metadata": {},
   "source": [
    "- `Inf` is greater than everything except `NaN`,\n",
    "- `-Inf` is smaller than everything except `NaN`.\n",
    "- `-0` is equal to `0` or `+0`, but not smaller.\n",
    "\n",
    "Julia also provides a function called `isequal()`, which at first sight appears to mirror the `==` operator, but has a few peculiarities, since it can also account for types:\n",
    "\n",
    "- `NaN != NaN`, but `isequal(NaN, NaN)` yields true,"
   ]
  },
  {
   "cell_type": "code",
   "execution_count": 4,
   "metadata": {
    "collapsed": false
   },
   "outputs": [
    {
     "data": {
      "text/plain": [
       "true"
      ]
     },
     "execution_count": 4,
     "metadata": {},
     "output_type": "execute_result"
    }
   ],
   "source": [
    "isequal(NaN, NaN)"
   ]
  },
  {
   "cell_type": "markdown",
   "metadata": {},
   "source": [
    "- `-0 == 0`, but `isequal(-0, 0)` yields true."
   ]
  },
  {
   "cell_type": "code",
   "execution_count": 12,
   "metadata": {
    "collapsed": false
   },
   "outputs": [
    {
     "data": {
      "text/plain": [
       "true"
      ]
     },
     "execution_count": 12,
     "metadata": {},
     "output_type": "execute_result"
    }
   ],
   "source": [
    "isequal(-0, 0)"
   ]
  },
  {
   "cell_type": "markdown",
   "metadata": {},
   "source": [
    "#### `Char` comparisons\n",
    "\n",
    "`Char` comparison is based on the _integer value_ of every `Char`, which is its position in the code table (which you can obtain by using `int()`: `int('a') = 97`)."
   ]
  },
  {
   "cell_type": "markdown",
   "metadata": {},
   "source": [
    "As a result, the following will hold:\n",
    "\n",
    "- A `Char` of a lowercase letter will be larger than the `Char` of the same letter in uppercase: "
   ]
  },
  {
   "cell_type": "code",
   "execution_count": 20,
   "metadata": {
    "collapsed": false
   },
   "outputs": [
    {
     "data": {
      "text/plain": [
       "false"
      ]
     },
     "execution_count": 20,
     "metadata": {},
     "output_type": "execute_result"
    }
   ],
   "source": [
    "'A' > 'a'"
   ]
  },
  {
   "cell_type": "markdown",
   "metadata": {},
   "source": [
    "- A `Char` plus or minus an integer yields a `Char`, which is the initial character offset by the integer:"
   ]
  },
  {
   "cell_type": "code",
   "execution_count": 21,
   "metadata": {
    "collapsed": false
   },
   "outputs": [
    {
     "data": {
      "text/plain": [
       "'E'"
      ]
     },
     "execution_count": 21,
     "metadata": {},
     "output_type": "execute_result"
    }
   ],
   "source": [
    "'A' + 4"
   ]
  },
  {
   "cell_type": "markdown",
   "metadata": {},
   "source": [
    "- A `Char` plus or minus another `Char` yields an `Int`, which is the offset between the two characters: "
   ]
  },
  {
   "cell_type": "code",
   "execution_count": 22,
   "metadata": {
    "collapsed": false
   },
   "outputs": [
    {
     "data": {
      "text/plain": [
       "4"
      ]
     },
     "execution_count": 22,
     "metadata": {},
     "output_type": "execute_result"
    }
   ],
   "source": [
    "'E' - 'A'"
   ]
  },
  {
   "cell_type": "markdown",
   "metadata": {},
   "source": [
    "A lot of this is a little counter-intuitive, but what you need to remember is that `Char`s are merely numerical references to where the character is located, and this is used to do comparisons."
   ]
  },
  {
   "cell_type": "markdown",
   "metadata": {},
   "source": [
    "#### `String` comparisons\n",
    "\n",
    "For `AbstractString` descendants, comparison will be based on _lexicographical comparison_ – or, to put it in human terms, where they would relatively be in a lexicon."
   ]
  },
  {
   "cell_type": "code",
   "execution_count": 23,
   "metadata": {
    "collapsed": false,
    "scrolled": true
   },
   "outputs": [
    {
     "data": {
      "text/plain": [
       "true"
      ]
     },
     "execution_count": 23,
     "metadata": {},
     "output_type": "execute_result"
    }
   ],
   "source": [
    "\"truths\" > \"sausages\" # truths are past sausages, so greater"
   ]
  },
  {
   "cell_type": "code",
   "execution_count": 28,
   "metadata": {
    "collapsed": false
   },
   "outputs": [
    {
     "data": {
      "text/plain": [
       "true"
      ]
     },
     "execution_count": 28,
     "metadata": {},
     "output_type": "execute_result"
    }
   ],
   "source": [
    "\"t\" > \"sausages\" # This has nothing to do with string length, just the position of the first Char, int('t') < int('s')"
   ]
  },
  {
   "cell_type": "code",
   "execution_count": 32,
   "metadata": {
    "collapsed": false
   },
   "outputs": [
    {
     "data": {
      "text/plain": [
       "false"
      ]
     },
     "execution_count": 32,
     "metadata": {},
     "output_type": "execute_result"
    }
   ],
   "source": [
    "\"slander\" < \"sausages\" # If the first Char matches, it goes on to the second; int('l') < int('a') "
   ]
  },
  {
   "cell_type": "markdown",
   "metadata": {},
   "source": [
    "For words starting with the same characters in different cases, lowercase characters come after (i.e. are larger than) uppercase characters, much like in `Char` comparisons:"
   ]
  },
  {
   "cell_type": "code",
   "execution_count": 33,
   "metadata": {
    "collapsed": false
   },
   "outputs": [
    {
     "data": {
      "text/plain": [
       "true"
      ]
     },
     "execution_count": 33,
     "metadata": {},
     "output_type": "execute_result"
    }
   ],
   "source": [
    "\"Truths\" < \"truths\""
   ]
  },
  {
   "cell_type": "markdown",
   "metadata": {},
   "source": [
    "#### Chaining comparisons\n",
    "\n",
    "Julia allows you to execute multiple comparisons – this is, indeed, encouraged, as it allows you to reflect mathematical relationships better and clearer in code. Comparison chaining associates from right to left:"
   ]
  },
  {
   "cell_type": "code",
   "execution_count": 36,
   "metadata": {
    "collapsed": false
   },
   "outputs": [
    {
     "data": {
      "text/plain": [
       "true"
      ]
     },
     "execution_count": 36,
     "metadata": {},
     "output_type": "execute_result"
    }
   ],
   "source": [
    "3 < π < 4"
   ]
  },
  {
   "cell_type": "code",
   "execution_count": 37,
   "metadata": {
    "collapsed": false
   },
   "outputs": [
    {
     "data": {
      "text/plain": [
       "true"
      ]
     },
     "execution_count": 37,
     "metadata": {},
     "output_type": "execute_result"
    }
   ],
   "source": [
    "5 ≥ π < 12 > 3*e"
   ]
  },
  {
   "cell_type": "markdown",
   "metadata": {},
   "source": [
    "#### Combining comparisons\n",
    "\n",
    "Comparisons can be combined using the boolean operators `&&` (`and`) and `||` (`or`). The truth table of these operators is\n",
    "\n",
    "| Expression | result |\n",
    "|:--------:|-----------|\n",
    "| `true && true` | true  |\n",
    "|`false && true`   | false |\n",
    "| `true && false`   | false |\n",
    "| `false && false`   | false |\n",
    "| `true `<code>&#124;&#124;</code> `true` | true  |\n",
    "| `false `<code>&#124;&#124;</code> `true` | true  |\n",
    "| `true `<code>&#124;&#124;</code> `false` | true  |\n",
    "| `false `<code>&#124;&#124;</code> `false` | false |\n",
    "\n",
    "\n",
    "Therefore,"
   ]
  },
  {
   "cell_type": "code",
   "execution_count": 38,
   "metadata": {
    "collapsed": false
   },
   "outputs": [
    {
     "data": {
      "text/plain": [
       "false"
      ]
     },
     "execution_count": 38,
     "metadata": {},
     "output_type": "execute_result"
    }
   ],
   "source": [
    "π > 2 && π < 3 # And"
   ]
  },
  {
   "cell_type": "code",
   "execution_count": 39,
   "metadata": {
    "collapsed": false
   },
   "outputs": [
    {
     "data": {
      "text/plain": [
       "true"
      ]
     },
     "execution_count": 39,
     "metadata": {},
     "output_type": "execute_result"
    }
   ],
   "source": [
    "π > 2 || π < 3 # Or"
   ]
  },
  {
   "cell_type": "markdown",
   "metadata": {},
   "source": [
    "### Truthiness\n",
    "\n",
    "No, it's not the Colbert version. Truthiness refers to whether a variable that is not a boolean variable (`true` or `false`) is evaluated as true or false.\n",
    "\n",
    "#### Definition truthiness\n",
    "\n",
    "Julia is fairly strict with existence truthiness. A non-existent variable being tested for doesn't yield `false`, it yields an error."
   ]
  },
  {
   "cell_type": "code",
   "execution_count": 41,
   "metadata": {
    "collapsed": false
   },
   "outputs": [
    {
     "ename": "LoadError",
     "evalue": "LoadError: UndefVarError: seahawks not defined\nwhile loading In[41], in expression starting on line 1",
     "output_type": "error",
     "traceback": [
      "LoadError: UndefVarError: seahawks not defined\nwhile loading In[41], in expression starting on line 1",
      ""
     ]
    }
   ],
   "source": [
    "if seahawks\n",
    "           println(\"We know the Seahawks' lineup.\")\n",
    "       else\n",
    "           println(\"We don't know the Seahawks' lineup.\")\n",
    "       end"
   ]
  },
  {
   "cell_type": "markdown",
   "metadata": {},
   "source": [
    "Now let's create an empty array named `seahawks` which will, one day, accommodate their lineup:"
   ]
  },
  {
   "cell_type": "code",
   "execution_count": 42,
   "metadata": {
    "collapsed": false
   },
   "outputs": [
    {
     "data": {
      "text/plain": [
       "Array{ASCIIString,N}"
      ]
     },
     "execution_count": 42,
     "metadata": {},
     "output_type": "execute_result"
    }
   ],
   "source": [
    "seahawks = Array{ASCIIString}"
   ]
  },
  {
   "cell_type": "markdown",
   "metadata": {},
   "source": [
    "Will existence of the array, empty though it may be, yield a truthy result? Not in Julia. \n",
    "\n",
    "It will yield, again, an error for not being a boolean type:"
   ]
  },
  {
   "cell_type": "code",
   "execution_count": 44,
   "metadata": {
    "collapsed": false
   },
   "outputs": [
    {
     "ename": "LoadError",
     "evalue": "LoadError: TypeError: non-boolean (DataType) used in boolean context\nwhile loading In[44], in expression starting on line 1",
     "output_type": "error",
     "traceback": [
      "LoadError: TypeError: non-boolean (DataType) used in boolean context\nwhile loading In[44], in expression starting on line 1",
      ""
     ]
    }
   ],
   "source": [
    "if seahawks\n",
    "           println(\"We know the Seahawks' lineup.\")\n",
    "       else\n",
    "           println(\"We don't know the Seahawks' lineup.\")\n",
    "       end"
   ]
  },
  {
   "cell_type": "markdown",
   "metadata": {},
   "source": [
    "#### Value truthiness\n",
    "\n",
    "Nor will common values yield the usual truthiness results. 0, which in some languages would yield a `false`, will again result in an error:"
   ]
  },
  {
   "cell_type": "code",
   "execution_count": 45,
   "metadata": {
    "collapsed": false
   },
   "outputs": [
    {
     "ename": "LoadError",
     "evalue": "LoadError: TypeError: non-boolean (Int64) used in boolean context\nwhile loading In[45], in expression starting on line 4",
     "output_type": "error",
     "traceback": [
      "LoadError: TypeError: non-boolean (Int64) used in boolean context\nwhile loading In[45], in expression starting on line 4",
      ""
     ]
    }
   ],
   "source": [
    "seahawks = 0\n",
    "0\n",
    "\n",
    "if seahawks\n",
    "           println(\"We know the Seahawks' lineup.\")\n",
    "       else\n",
    "           println(\"We don't know the Seahawks' lineup.\")\n",
    "       end"
   ]
  },
  {
   "cell_type": "markdown",
   "metadata": {},
   "source": [
    "The same goes for any other value. \n",
    "\n",
    "The bottom line, for you as a programmer, is that anything but `true` or `false` as the result of evaluating a condition yields an `error` and if you wish to make use of what you would solve with truthiness in another language, you might need to explicitly test for existence or value by using a function in your conditional expression that tests for existence or value, respectively."
   ]
  },
  {
   "cell_type": "markdown",
   "metadata": {},
   "source": [
    "#### Implementing definition truthiness\n",
    "\n",
    "To implement definition truthiness, Julia helpfully provides the `isdefined()` function, which yields true if a symbol is defined. \n",
    "\n",
    "Be sure to pass the symbol, not the value, to the function by prefacing it with a colon `:`, as in this case:"
   ]
  },
  {
   "cell_type": "code",
   "execution_count": 46,
   "metadata": {
    "collapsed": false
   },
   "outputs": [
    {
     "name": "stdout",
     "output_type": "stream",
     "text": [
      "We know the Seahawks' lineup.\n"
     ]
    }
   ],
   "source": [
    "if isdefined(:seahawks)\n",
    "           println(\"We know the Seahawks' lineup.\")\n",
    "       else\n",
    "           println(\"We don't know the Seahawks' lineup.\")\n",
    "       end    "
   ]
  },
  {
   "cell_type": "code",
   "execution_count": 48,
   "metadata": {
    "collapsed": false
   },
   "outputs": [
    {
     "ename": "LoadError",
     "evalue": "LoadError: TypeError: isdefined: expected Symbol, got Int64\nwhile loading In[48], in expression starting on line 1",
     "output_type": "error",
     "traceback": [
      "LoadError: TypeError: isdefined: expected Symbol, got Int64\nwhile loading In[48], in expression starting on line 1",
      ""
     ]
    }
   ],
   "source": [
    "if isdefined(seahawks) # If you send it without the :, it checks the value, not the existince of a variable, which is invalid\n",
    "           println(\"We know the Seahawks' lineup.\")\n",
    "       else\n",
    "           println(\"We don't know the Seahawks' lineup.\")\n",
    "       end    "
   ]
  },
  {
   "cell_type": "markdown",
   "metadata": {},
   "source": [
    "## `if`/`elseif`/`else`, `?`/`:` and boolean switching\n",
    "\n",
    "_Conditional evaluation_ refers to the programming practice of evaluating a block of code if, and only if, a particular _condition_ is met (i.e. if the expression used as the condition returns `true`). \n",
    "\n",
    "In Julia, this is implemented using the `if`/`elseif`/`else` syntax, the _ternary operator_, `?:` or boolean switching:"
   ]
  },
  {
   "cell_type": "markdown",
   "metadata": {},
   "source": [
    "### `if`/`elseif`/`else` syntax\n",
    "\n",
    "A typical conditional evaluation block consists of an `if` statement and a condition."
   ]
  },
  {
   "cell_type": "code",
   "execution_count": 49,
   "metadata": {
    "collapsed": false
   },
   "outputs": [
    {
     "name": "stdout",
     "output_type": "stream",
     "text": [
      "Aristotle was right.\n"
     ]
    }
   ],
   "source": [
    "if \"A\" == \"A\"\n",
    "    println(\"Aristotle was right.\")\n",
    "end"
   ]
  },
  {
   "cell_type": "markdown",
   "metadata": {},
   "source": [
    "Julia further allows you to include as many further cases as you wish, using `elseif`, and a catch-all case that would be called `else` and have no condition attached to it:"
   ]
  },
  {
   "cell_type": "code",
   "execution_count": 55,
   "metadata": {
    "collapsed": false
   },
   "outputs": [
    {
     "data": {
      "text/plain": [
       "weatherchecker (generic function with 1 method)"
      ]
     },
     "execution_count": 55,
     "metadata": {},
     "output_type": "execute_result"
    }
   ],
   "source": [
    "function weatherchecker(weather) \n",
    "    if weather == \"rainy\"\n",
    "        # Starting case\n",
    "        println(\"Bring your umbrella.\")\n",
    "    elseif weather == \"windy\"\n",
    "        # Additional case\n",
    "        println(\"Dress up warm!\")\n",
    "    elseif weather == \"sunny\"\n",
    "        println(\"Don't forget sunscreen!\")\n",
    "    else\n",
    "        # Catch all case\n",
    "        println(\"Check the darn weather yourself, I have no idea.\")\n",
    "    end\n",
    "end"
   ]
  },
  {
   "cell_type": "markdown",
   "metadata": {},
   "source": [
    "For `weather = \"rainy\"`, this predictably yields"
   ]
  },
  {
   "cell_type": "code",
   "execution_count": 56,
   "metadata": {
    "collapsed": false
   },
   "outputs": [
    {
     "name": "stdout",
     "output_type": "stream",
     "text": [
      "Bring your umbrella.\n"
     ]
    }
   ],
   "source": [
    "weatherchecker(\"rainy\")"
   ]
  },
  {
   "cell_type": "markdown",
   "metadata": {},
   "source": [
    "while for `weather = \"warm\"`, we get"
   ]
  },
  {
   "cell_type": "code",
   "execution_count": 58,
   "metadata": {
    "collapsed": false
   },
   "outputs": [
    {
     "name": "stdout",
     "output_type": "stream",
     "text": [
      "Check the darn weather yourself, I have no idea.\n"
     ]
    }
   ],
   "source": [
    "weatherchecker(\"warm\")"
   ]
  },
  {
   "cell_type": "markdown",
   "metadata": {},
   "source": [
    "### Ternary operator `?`/`:`\n",
    "\n",
    "The ternary operator is a useful way to put a reasonably simple conditional expression into a single line of code.\n",
    "\n",
    "The ternary operator _does not create a block_, therefore there is no need to suffix it with the `end` keyword.\n",
    "\n",
    "Rather, you enter the condition, then separate it with a `?` from the result of the true and the false outcomes, each in turn separated by a colon `:`, as in this case:"
   ]
  },
  {
   "cell_type": "code",
   "execution_count": null,
   "metadata": {
    "collapsed": true
   },
   "outputs": [],
   "source": [
    "x = π # Test variable"
   ]
  },
  {
   "cell_type": "code",
   "execution_count": 67,
   "metadata": {
    "collapsed": false
   },
   "outputs": [
    {
     "data": {
      "text/plain": [
       "-1.0"
      ]
     },
     "execution_count": 67,
     "metadata": {},
     "output_type": "execute_result"
    }
   ],
   "source": [
    "x < π/2 ? sin(x) : cos(x) # Is π < π/2? No, so evaluate cos(π)"
   ]
  },
  {
   "cell_type": "code",
   "execution_count": 68,
   "metadata": {
    "collapsed": false
   },
   "outputs": [
    {
     "data": {
      "text/plain": [
       "1.2246467991473532e-16"
      ]
     },
     "execution_count": 68,
     "metadata": {},
     "output_type": "execute_result"
    }
   ],
   "source": [
    "x > π/2 ? sin(x) : cos(x) # Is π < π/2? Yes, so evaluate sin(π)"
   ]
  },
  {
   "cell_type": "markdown",
   "metadata": {},
   "source": [
    "Ternary operators are great for writing simple conditionals quickly, but can make code unduly confusing. \n",
    "\n",
    "A number of style guides generally recommend using them sparingly. Some programmers, especially those coming from Java, like using a multiline notation, which makes it somewhat more legible while still not requiring a block to be created:"
   ]
  },
  {
   "cell_type": "code",
   "execution_count": 69,
   "metadata": {
    "collapsed": false
   },
   "outputs": [
    {
     "data": {
      "text/plain": [
       "-1.0"
      ]
     },
     "execution_count": 69,
     "metadata": {},
     "output_type": "execute_result"
    }
   ],
   "source": [
    "                            # Block-style ternary operation\n",
    "x < π/2 ?                   # Condition ?\n",
    "           sin(x) :         #  If True :\n",
    "           cos(x)           # If False"
   ]
  },
  {
   "cell_type": "markdown",
   "metadata": {},
   "source": [
    "### Boolean switching `||` and `&&`\n",
    "\n",
    "Boolean switching, which the Julia documentation refers to as _short-circuit evaluation_, allows you quickly evaluate using boolean operators. \n",
    "\n",
    "It uses two operators:\n",
    "\n",
    "| Operator | Meaning |\n",
    "|:--------:|---------|\n",
    "| `a && b` | Execute `b` if `a` is `true`\t |\n",
    "| `a`<code>&#124;&#124;</code> `b` | Execute `b` if `a` is `false` |\n",
    "\n",
    "These derive from the boolean use of `&&` and `||`, where `&&` means `and` and `||` means `or`.\n",
    "\n",
    "The logic being that for a `&&` operator, if `a` is false, `a && b` will always be false, regardless of what `b`'s value is. This is because any and condition with false is always false:"
   ]
  },
  {
   "cell_type": "code",
   "execution_count": 73,
   "metadata": {
    "collapsed": false
   },
   "outputs": [
    {
     "data": {
      "text/plain": [
       "2-element Array{Bool,1}:\n",
       " false\n",
       " false"
      ]
     },
     "execution_count": 73,
     "metadata": {},
     "output_type": "execute_result"
    }
   ],
   "source": [
    "[false && false, false && true]"
   ]
  },
  {
   "cell_type": "markdown",
   "metadata": {},
   "source": [
    "`||`, on the other hand, will necessarily be true if `a` is true. "
   ]
  },
  {
   "cell_type": "code",
   "execution_count": 75,
   "metadata": {
    "collapsed": false
   },
   "outputs": [
    {
     "data": {
      "text/plain": [
       "2-element Array{Bool,1}:\n",
       " true\n",
       " true"
      ]
     },
     "execution_count": 75,
     "metadata": {},
     "output_type": "execute_result"
    }
   ],
   "source": [
    "[true || false, true || true]"
   ]
  },
  {
   "cell_type": "markdown",
   "metadata": {},
   "source": [
    "It might be a bit difficult to get one's head around it, so what you need to remember is the following equivalence:\n",
    "\n",
    "- `if <condition> <statement>` is equivalent to `condition && statement`.\n",
    "- `if !<condition> <statement>` is equivalent to `condition || statement`."
   ]
  },
  {
   "cell_type": "markdown",
   "metadata": {},
   "source": [
    "Thus, let us consider the following:"
   ]
  },
  {
   "cell_type": "code",
   "execution_count": 90,
   "metadata": {
    "collapsed": false
   },
   "outputs": [
    {
     "data": {
      "text/plain": [
       "2-element Array{Int64,1}:\n",
       " 7\n",
       " 6"
      ]
     },
     "execution_count": 90,
     "metadata": {},
     "output_type": "execute_result"
    }
   ],
   "source": [
    "prime = 7 # This variable is prime\n",
    "notprime = prime - 1 # this variable is not\n",
    "\n",
    "[prime, notprime] # array of variables"
   ]
  },
  {
   "cell_type": "markdown",
   "metadata": {},
   "source": [
    "#### `&&`  Switching \n",
    "If a is true, execute b:"
   ]
  },
  {
   "cell_type": "code",
   "execution_count": 91,
   "metadata": {
    "collapsed": false,
    "scrolled": true
   },
   "outputs": [
    {
     "name": "stdout",
     "output_type": "stream",
     "text": [
      "Yes, it is.\n"
     ]
    }
   ],
   "source": [
    "isprime(prime) && println(\"Yes, it is.\") # isprime(prime) == true, therefore && condition (println()) will run\n",
    "                                         # a && b executes b if a is true, so b is executed"
   ]
  },
  {
   "cell_type": "code",
   "execution_count": 92,
   "metadata": {
    "collapsed": false
   },
   "outputs": [
    {
     "data": {
      "text/plain": [
       "false"
      ]
     },
     "execution_count": 92,
     "metadata": {},
     "output_type": "execute_result"
    }
   ],
   "source": [
    "isprime(notprime) && println(\"Yes, it is.\") # isprime(notprime) == false, therefore && condition (println()) does not run\n",
    "                                            # a && b executes b if a is true, so b is not executed"
   ]
  },
  {
   "cell_type": "markdown",
   "metadata": {},
   "source": [
    "#### ||  Switching \n",
    "If a is false, execute b:"
   ]
  },
  {
   "cell_type": "code",
   "execution_count": 94,
   "metadata": {
    "collapsed": false
   },
   "outputs": [
    {
     "data": {
      "text/plain": [
       "true"
      ]
     },
     "execution_count": 94,
     "metadata": {},
     "output_type": "execute_result"
    }
   ],
   "source": [
    "isprime(prime) || println(\"No, it isn't.\") # isprime(prime) == false, therefore || condition (println()) does not run\n",
    "                                           # a || b executes b if a is false, so b is not executed"
   ]
  },
  {
   "cell_type": "code",
   "execution_count": 95,
   "metadata": {
    "collapsed": false
   },
   "outputs": [
    {
     "name": "stdout",
     "output_type": "stream",
     "text": [
      "No, it isn't.\n"
     ]
    }
   ],
   "source": [
    "isprime(notprime) || println(\"No, it isn't.\") # isprime(prime) == false, therefore || condition (println()) will run\n",
    "                                              # a || b executes b if a is false, so b is executed"
   ]
  },
  {
   "cell_type": "markdown",
   "metadata": {},
   "source": [
    "It is rather counter-intuitive, but the alternative to it executing the code after the boolean operator is returning `true` or `false`. \n",
    "\n",
    "This should not necessarily trouble us, since our focus on getting our instructions executed. Outside the REPL, what each of these functions return is irrelevant. "
   ]
  },
  {
   "cell_type": "markdown",
   "metadata": {},
   "source": [
    "## `while`\n",
    "\n",
    "With `while`, we're entering the world of repeated (or _iterative_) evaluation. The idea of `while` is quite simple: as long as a condition is met, execution will continue. \n",
    "\n",
    "The famed words of the pirate captain whose name has never been submitted to history can be rendered in a `while` clause thus:"
   ]
  },
  {
   "cell_type": "code",
   "execution_count": 101,
   "metadata": {
    "collapsed": false
   },
   "outputs": [
    {
     "ename": "LoadError",
     "evalue": "LoadError: UndefVarError: improved not defined\nwhile loading In[101], in expression starting on line 2",
     "output_type": "error",
     "traceback": [
      "LoadError: UndefVarError: improved not defined\nwhile loading In[101], in expression starting on line 2",
      "",
      " in anonymous at no file"
     ]
    }
   ],
   "source": [
    "# Psuedo code to illustrate the point\n",
    "while morale != improved\n",
    "    continue_flogging()\n",
    "end"
   ]
  },
  {
   "cell_type": "markdown",
   "metadata": {},
   "source": [
    "`while`, along with `for`, is a _loop operator_, meaning - unsurprisingly - that it creates a loop that is executed over and over again until the conditional variable changes. \n",
    "\n",
    "While `for` loops generally need a limited range in which they are allowed to run, `while` loops can sometimes become infinite and turn into _runaway loops_. This is best avoided, not the least because it tends to crash systems or at the very least take up capacity for no good reason."
   ]
  },
  {
   "cell_type": "markdown",
   "metadata": {},
   "source": [
    "### Breaking a `while` loop: `break`\n",
    "\n",
    "A `while` loop can be terminated by the `break` keyword prematurely (that is, before it has reached its condition). \n",
    "\n",
    "Thus, the following loop would only be executed five times, not ten:"
   ]
  },
  {
   "cell_type": "code",
   "execution_count": 104,
   "metadata": {
    "collapsed": false,
    "scrolled": true
   },
   "outputs": [
    {
     "name": "stdout",
     "output_type": "stream",
     "text": [
      "The value of i is 1\n",
      "The value of i is 2\n",
      "The value of i is 3\n",
      "The value of i is 4\n",
      "The value of i is 5\n"
     ]
    }
   ],
   "source": [
    "i = 0\n",
    "\n",
    "while i < 10\n",
    "    i += 1\n",
    "    println(\"The value of i is \", i)\n",
    "    if i == 5\n",
    "        break\n",
    "    end\n",
    "end"
   ]
  },
  {
   "cell_type": "markdown",
   "metadata": {},
   "source": [
    "This is because after five evaluations, the conditional would have evaluated to true and led to the `break` keyword breaking the loop."
   ]
  },
  {
   "cell_type": "markdown",
   "metadata": {},
   "source": [
    "### Skipping over results: `continue`\n",
    "\n",
    "Let's assume we have suffered a grievous blow to our heads and forgotten all we knew about `for` loops and negation. \n",
    "\n",
    "Through some odd twist of fate, we absolutely _need_ to list all non-primes from one to ten, and we need to use a `while` loop for this.\n",
    "\n",
    "The `continue` keyword instructs a loop to finish evaluating the current value of the iterator and go to the next. As such, you would want to put it as early as possible - there is no use instructing Julia to stop looking at the current iterator after "
   ]
  },
  {
   "cell_type": "code",
   "execution_count": 8,
   "metadata": {
    "collapsed": false,
    "scrolled": true
   },
   "outputs": [
    {
     "name": "stdout",
     "output_type": "stream",
     "text": [
      "The value of i is 0\n",
      "The value of i is 1\n",
      "The value of i is 2\n",
      "2 is a prime\n",
      "The value of i is 3\n",
      "3 is a prime\n",
      "The value of i is 4\n",
      "The value of i is 5\n",
      "5 is a prime\n",
      "The value of i is 6\n",
      "The value of i is 7\n",
      "7 is a prime\n",
      "The value of i is 8\n",
      "The value of i is 9\n",
      "The value of i is 10\n"
     ]
    }
   ],
   "source": [
    "i = -1 # Hotfix for while loops, this section is unfinished\n",
    "\n",
    "while i < 10    \n",
    "    i += 1\n",
    "    println(\"The value of i is \", i)\n",
    "    isprime(i) ? println(i, \" is a prime\") : continue\n",
    "end"
   ]
  },
  {
   "cell_type": "markdown",
   "metadata": {},
   "source": [
    "## `for`\n",
    "\n",
    "Like `while`, `for` is a loop operator. \n",
    "\n",
    "Unlike `while`, it operates not _as long as_ a condition is met but rather until it has burned through an _iterable_. \n",
    "\n",
    "As we have seen, a number of objects consist of smaller chunks and are capable of being iterated over this, one by one. \n",
    "\n",
    "The archetypical iterable is a `Range` object. In the following, we will use a `Range` literal (created by a colon `:`) from one to 10 in steps of 2, and get Julia to tell us which numbers in that range are primes:"
   ]
  },
  {
   "cell_type": "code",
   "execution_count": 10,
   "metadata": {
    "collapsed": false
   },
   "outputs": [
    {
     "name": "stdout",
     "output_type": "stream",
     "text": [
      "false\n",
      "true\n",
      "true\n",
      "true\n",
      "false\n"
     ]
    }
   ],
   "source": [
    "for i in 1:2:10 # start:step:end\n",
    "           println(isprime(i))\n",
    "       end"
   ]
  },
  {
   "cell_type": "markdown",
   "metadata": {},
   "source": [
    "### Iterating over indexable collections\n",
    "\n",
    "Other iterables include indexable collections:"
   ]
  },
  {
   "cell_type": "code",
   "execution_count": 11,
   "metadata": {
    "collapsed": false
   },
   "outputs": [
    {
     "name": "stdout",
     "output_type": "stream",
     "text": [
      "r\n",
      "o\n",
      "y\n",
      "g\n",
      "b\n",
      "i\n",
      "v\n"
     ]
    }
   ],
   "source": [
    "for j in ['r', 'o', 'y', 'g', 'b', 'i', 'v']\n",
    "           println(j)\n",
    "       end"
   ]
  },
  {
   "cell_type": "markdown",
   "metadata": {},
   "source": [
    "This includes, incidentally, multidimensional arrays – but don't forget the direction of iteration (column by column, top-down):"
   ]
  },
  {
   "cell_type": "code",
   "execution_count": 12,
   "metadata": {
    "collapsed": false
   },
   "outputs": [
    {
     "data": {
      "text/plain": [
       "3x5 Array{Int64,2}:\n",
       "  1    1    2    3    5\n",
       "  8   13   21   34   55\n",
       " 89  144  233  377  610"
      ]
     },
     "execution_count": 12,
     "metadata": {},
     "output_type": "execute_result"
    }
   ],
   "source": [
    "md_array = [1 1 2 3 5; 8 13 21 34 55; 89 144 233 377 610]"
   ]
  },
  {
   "cell_type": "code",
   "execution_count": 14,
   "metadata": {
    "collapsed": false
   },
   "outputs": [
    {
     "name": "stdout",
     "output_type": "stream",
     "text": [
      "1\n",
      "8\n",
      "89\n",
      "1\n",
      "13\n",
      "144\n",
      "2\n",
      "21\n",
      "233\n",
      "3\n",
      "34\n",
      "377\n",
      "5\n",
      "55\n",
      "610\n"
     ]
    }
   ],
   "source": [
    "for each in md_array\n",
    "    println(each) # prints by column, going down the vector\n",
    "       end"
   ]
  },
  {
   "cell_type": "markdown",
   "metadata": {},
   "source": [
    "### Iterating over dicts\n",
    "\n",
    "As we have seen, dicts are non-indexable. Nevertheless, Julia can iterate over a dict. \n",
    "\n",
    "There are two ways to accomplish this."
   ]
  },
  {
   "cell_type": "markdown",
   "metadata": {},
   "source": [
    "#### Tuple iteration\n",
    "\n",
    "In tuple iteration, each key-value pair is seen as a tuple and returned as such:"
   ]
  },
  {
   "cell_type": "code",
   "execution_count": 17,
   "metadata": {
    "collapsed": false
   },
   "outputs": [
    {
     "data": {
      "text/plain": [
       "Dict{ASCIIString,ASCIIString} with 3 entries:\n",
       "  \"Galton\"  => \"1822-1911\"\n",
       "  \"Pearson\" => \"1857-1936\"\n",
       "  \"Gosset\"  => \"1876-1937\""
      ]
     },
     "execution_count": 17,
     "metadata": {},
     "output_type": "execute_result"
    }
   ],
   "source": [
    "statisticians = Dict(\"Gosset\" => \"1876-1937\", \"Pearson\" => \"1857-1936\", \"Galton\" => \"1822-1911\")"
   ]
  },
  {
   "cell_type": "code",
   "execution_count": 18,
   "metadata": {
    "collapsed": false
   },
   "outputs": [
    {
     "name": "stdout",
     "output_type": "stream",
     "text": [
      "Galton lived 1822-1911.\n",
      "Pearson lived 1857-1936.\n",
      "Gosset lived 1876-1937.\n"
     ]
    }
   ],
   "source": [
    "for statistician in statisticians\n",
    "       println(\"$(statistician[1]) lived $(statistician[2]).\") # Reference to index 1 and 2 for the key-pair (tuple)\n",
    "       end"
   ]
  },
  {
   "cell_type": "markdown",
   "metadata": {},
   "source": [
    "While this does the job, it is not particularly graceful. \n",
    "\n",
    "It is, however, useful if we need to have the key and the value in the same object, such as in the case of conversion scripts often encountered in 'data munging'."
   ]
  },
  {
   "cell_type": "markdown",
   "metadata": {},
   "source": [
    "#### Key-value (`k,v`) iteration\n",
    "\n",
    "A better way to iterate over a dict assigns two variables, rather than one, as iterators, one each for the key and the value. In this syntax, the above could be re-written as:"
   ]
  },
  {
   "cell_type": "code",
   "execution_count": 19,
   "metadata": {
    "collapsed": false
   },
   "outputs": [
    {
     "name": "stdout",
     "output_type": "stream",
     "text": [
      "Galton lived 1822-1911.\n",
      "Pearson lived 1857-1936.\n",
      "Gosset lived 1876-1937.\n"
     ]
    }
   ],
   "source": [
    "for (name,years) in statisticians # Note that we can define this key pair however we want\n",
    "           println(\"$name lived $years.\")\n",
    "       end"
   ]
  },
  {
   "cell_type": "code",
   "execution_count": 21,
   "metadata": {
    "collapsed": false
   },
   "outputs": [
    {
     "name": "stdout",
     "output_type": "stream",
     "text": [
      "Galton lived 1822-1911.\n",
      "Pearson lived 1857-1936.\n",
      "Gosset lived 1876-1937.\n"
     ]
    }
   ],
   "source": [
    "for (statdude,lifetime) in statisticians # Note that we can define this key pair however we want\n",
    "       println(\"$statdude lived $lifetime.\")\n",
    "       end"
   ]
  },
  {
   "cell_type": "markdown",
   "metadata": {},
   "source": [
    "### Iteration over strings\n",
    "\n",
    "Iteration over a string results in iteration over each character. The individual characters are interpreted as objects of type `Char`:"
   ]
  },
  {
   "cell_type": "code",
   "execution_count": 23,
   "metadata": {
    "collapsed": false
   },
   "outputs": [
    {
     "name": "stdout",
     "output_type": "stream",
     "text": [
      "S is of the type Char\n",
      "a is of the type Char\n",
      "u is of the type Char\n",
      "s is of the type Char\n",
      "a is of the type Char\n",
      "g is of the type Char\n",
      "e is of the type Char\n"
     ]
    }
   ],
   "source": [
    "for each in \"Sausage\"\n",
    "           println(\"$each is of the type $(typeof(each))\")\n",
    "       end"
   ]
  },
  {
   "cell_type": "markdown",
   "metadata": {},
   "source": [
    "## Compound expressions: `begin`/`end` and `;`\n",
    "\n",
    "A _compound expression_ is somewhat similar to a function in that it is a pre-defined sequence of functions that is executed one by one. \n",
    "\n",
    "Compound expressions allow you to execute small and concise blocks of code in sequence and return the result of the last calculation. There are two ways to create compound expressions:\n",
    "* Using a `begin`/`end` syntax creating a block\n",
    "* Surrounding the compound expression with parentheses `()` and delimiting each instruction with `;`."
   ]
  },
  {
   "cell_type": "markdown",
   "metadata": {},
   "source": [
    "### `begin`/`end` blocks"
   ]
  },
  {
   "cell_type": "markdown",
   "metadata": {},
   "source": [
    "A `begin`/`end` structure creates a block and returns the result of the last line evaluated."
   ]
  },
  {
   "cell_type": "code",
   "execution_count": 25,
   "metadata": {
    "collapsed": false
   },
   "outputs": [
    {
     "data": {
      "text/plain": [
       "18.84955592153876"
      ]
     },
     "execution_count": 25,
     "metadata": {},
     "output_type": "execute_result"
    }
   ],
   "source": [
    "circumference = begin  # begin a block\n",
    "           r = 3       # define a local variable\n",
    "           2*r*π       # do whatever to that variable\n",
    "        end            # end the anonymous function and return the value"
   ]
  },
  {
   "cell_type": "code",
   "execution_count": 27,
   "metadata": {
    "collapsed": false
   },
   "outputs": [
    {
     "data": {
      "text/plain": [
       "18.84955592153876"
      ]
     },
     "execution_count": 27,
     "metadata": {},
     "output_type": "execute_result"
    }
   ],
   "source": [
    "circumference # circumference is now that final value"
   ]
  },
  {
   "cell_type": "markdown",
   "metadata": {},
   "source": [
    "### `;` syntax\n",
    "\n",
    "One of the benefits of compound expressions is the ability to put a lot into a small space. This is where the `;` syntax shines. \n",
    "\n",
    "Somewhat similar to anonymous functions or `lambda`s in other languages, such as Python, they are of the form:\n",
    "\n",
    "`result = (step 1; step 2;...;step n)`\n",
    "\n",
    "And you can can simplify calculations like the one above to something like:"
   ]
  },
  {
   "cell_type": "code",
   "execution_count": 48,
   "metadata": {
    "collapsed": false
   },
   "outputs": [
    {
     "data": {
      "text/plain": [
       "18.84955592153876"
      ]
     },
     "execution_count": 48,
     "metadata": {},
     "output_type": "execute_result"
    }
   ],
   "source": [
    "circumference = (r = 3; 2*r*π)"
   ]
  },
  {
   "cell_type": "code",
   "execution_count": 49,
   "metadata": {
    "collapsed": false
   },
   "outputs": [
    {
     "data": {
      "text/plain": [
       "1.4142135623730951"
      ]
     },
     "execution_count": 49,
     "metadata": {},
     "output_type": "execute_result"
    }
   ],
   "source": [
    "sqrtof2 = (x = 2; x ^ (1/2)) # Named constant function"
   ]
  },
  {
   "cell_type": "code",
   "execution_count": 50,
   "metadata": {
    "collapsed": false
   },
   "outputs": [
    {
     "data": {
      "text/plain": [
       "1.4142135623730951"
      ]
     },
     "execution_count": 50,
     "metadata": {},
     "output_type": "execute_result"
    }
   ],
   "source": [
    "sqrtof2 # will always return that constant"
   ]
  },
  {
   "cell_type": "markdown",
   "metadata": {},
   "source": [
    "We can apply this same logic to create named functions that take arguments (just like `lambda`): "
   ]
  },
  {
   "cell_type": "code",
   "execution_count": 51,
   "metadata": {
    "collapsed": false
   },
   "outputs": [
    {
     "data": {
      "text/plain": [
       "sqrtofwhatever (generic function with 1 method)"
      ]
     },
     "execution_count": 51,
     "metadata": {},
     "output_type": "execute_result"
    }
   ],
   "source": [
    "sqrtofwhatever(y) = (x = y; x ^ (1/2))"
   ]
  },
  {
   "cell_type": "code",
   "execution_count": 52,
   "metadata": {
    "collapsed": false,
    "scrolled": true
   },
   "outputs": [
    {
     "name": "stdout",
     "output_type": "stream",
     "text": [
      "The square root of 1is 1.0\n",
      "The square root of 2is 1.4142135623730951\n",
      "The square root of 3is 1.7320508075688772\n",
      "The square root of 4is 2.0\n",
      "The square root of 5is 2.23606797749979\n",
      "The square root of 6is 2.449489742783178\n",
      "The square root of 7is 2.6457513110645907\n",
      "The square root of 8is 2.8284271247461903\n",
      "The square root of 9is 3.0\n",
      "The square root of 10is 3.1622776601683795\n",
      "The square root of 11is 3.3166247903554\n",
      "The square root of 12is 3.4641016151377544\n",
      "The square root of 13is 3.605551275463989\n",
      "The square root of 14is 3.7416573867739413\n",
      "The square root of 15is 3.872983346207417\n",
      "The square root of 16is 4.0\n",
      "The square root of 17is 4.123105625617661\n",
      "The square root of 18is 4.242640687119285\n",
      "The square root of 19is 4.358898943540674\n",
      "The square root of 20is 4.47213595499958\n",
      "The square root of 21is 4.58257569495584\n",
      "The square root of 22is 4.69041575982343\n",
      "The square root of 23is 4.795831523312719\n",
      "The square root of 24is 4.898979485566356\n",
      "The square root of 25is 5.0\n"
     ]
    }
   ],
   "source": [
    "for somenumber in 1:25\n",
    "    println(\"The square root of \", somenumber, \"is \", sqrtofwhatever(somenumber))\n",
    "end"
   ]
  },
  {
   "cell_type": "markdown",
   "metadata": {},
   "source": [
    "## Conclusion\n",
    "\n",
    "In this chapter, we have learned how to handle control flows in Julia, using the following constructs:\n",
    "* Comparisons via `&&` (and) and `||` (or)\n",
    "* Check if a variable is defined `isdefined(:variable)`\n",
    "* Use `if/elif/else` blocks to handle conditions\n",
    "* Use  ternary operations `?:` to minimize comparisons\n",
    "* Use boolean switching `a && b` and `a || b` which runs b if a is true and a is false respectively\n",
    "* Iterating over `while` loops and safeguarding with `break` and moving forward `continue`\n",
    "* Iterating over `for` loops using the standard range (`start:step:end`), arrays (top down by vector), dictionaries (key value tuples), and strings\n",
    "* Use compound expressions via `begin/end` blocks or the `(;)` syntax to generate anonymous functions"
   ]
  }
 ],
 "metadata": {
  "kernelspec": {
   "display_name": "Julia 0.4.6",
   "language": "julia",
   "name": "julia-0.4"
  },
  "language_info": {
   "file_extension": ".jl",
   "mimetype": "application/julia",
   "name": "julia",
   "version": "0.4.6"
  }
 },
 "nbformat": 4,
 "nbformat_minor": 0
}
