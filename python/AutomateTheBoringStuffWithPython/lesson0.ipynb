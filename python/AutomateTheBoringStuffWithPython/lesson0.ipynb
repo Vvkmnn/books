{
 "cells": [
  {
   "cell_type": "markdown",
   "metadata": {},
   "source": [
    "## Lesson 0:\n",
    "\n",
    "### Setup"
   ]
  },
  {
   "cell_type": "markdown",
   "metadata": {},
   "source": [
    "#### Introduction\n",
    "\n",
    "This is a series of Jupyter Notebooks following Al Sweigarts [\"Automate the Boring Stuff with Python\"](https://automatetheboringstuff.com/) [book](http://www.amazon.ca/Automate-Boring-Stuff-Python-Programming/dp/1593275994) and [video course](www.udemy/automate)."
   ]
  },
  {
   "cell_type": "markdown",
   "metadata": {},
   "source": [
    "To get up and running with this book, you can follow along live within this Github repository, which natively supports Jupyter, or [clone the repository yourself](https://guides.github.com/activities/hello-world/). "
   ]
  },
  {
   "cell_type": "markdown",
   "metadata": {},
   "source": [
    "#### Local Setup\n",
    "\n",
    "I work on OSX Setup, and this is the method I used. This is available as a script in `setup.sh`.\n",
    "\n",
    "In your Terminal, input the following:"
   ]
  },
  {
   "cell_type": "code",
   "execution_count": null,
   "metadata": {
    "collapsed": true
   },
   "outputs": [],
   "source": [
    "#!/usr/bin/env bash\n",
    "\n",
    "# For OSX users: install and setup brew and cask for code and applications\n",
    "# For UNIX users: use whatever package manager you typically use to get these packages. \n",
    "ruby -e \"$(curl -fsSL https://raw.githubusercontent.com/Homebrew/install/master/install)\"\n",
    "brew tap caskroom/cask\n",
    "\n",
    "# Setup Python 3\n",
    "brew cask install python3\n",
    "\n",
    "# Setup a Text Editor (Atom)\n",
    "brew cask install atom\n",
    "\n",
    "# Setup an IDE to handle iPython Notebooks (Jupyter)\n",
    "pip3 install jupyter\n",
    "\n",
    "# Setup Python 3 kernel in Jupyter for easy use/switching\n",
    "ipython3 kernel install\n",
    "\n",
    "# Install some of the packages we might need later on; use pip3 to install any module that isn't available\n",
    "pip3 install pprint\n",
    "pip3 install ipdb"
   ]
  },
  {
   "cell_type": "markdown",
   "metadata": {},
   "source": [
    "#### Notes\n",
    "\n",
    "If you find any errors in this notebook, feel free to submit [an issue](https://guides.github.com/features/issues/) to flag it or a [pull request](https://guides.github.com/introduction/flow/) on Github to modify it yourself. \n",
    "\n",
    "Lessons 1 - 16 were created and run via [Atom](https://atom.io/), and exist in `.py` formats. After lesson 17, I started creating [Jupyter](http://jupyter.org/) notebookst that use the `.ipynb` format. \n",
    "\n",
    "I want to theoritcally update all the Python script code to Jupyter notebooks, but it is also partially indicative of my transition within this project itself, so I might just leave it for posterity. Most of its pretty simple code which should run fine as is.\n",
    "\n",
    "This was created entirely for my own learning, and I learnt a whole lot getting this off the ground. This work has not been reviewed by Al Sweigart, and is no way a reflection on him and his work. I highly recommend his book for the novice or the experienced Python user; I guarantee you'll learn something new. "
   ]
  }
 ],
 "metadata": {
  "kernelspec": {
   "display_name": "Python 3",
   "language": "python",
   "name": "python3"
  },
  "language_info": {
   "codemirror_mode": {
    "name": "ipython",
    "version": 3
   },
   "file_extension": ".py",
   "mimetype": "text/x-python",
   "name": "python",
   "nbconvert_exporter": "python",
   "pygments_lexer": "ipython3",
   "version": "3.5.1"
  }
 },
 "nbformat": 4,
 "nbformat_minor": 0
}
