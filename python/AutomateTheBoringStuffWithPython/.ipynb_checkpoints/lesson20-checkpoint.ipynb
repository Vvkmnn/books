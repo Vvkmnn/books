{
 "cells": [
  {
   "cell_type": "markdown",
   "metadata": {},
   "source": [
    "## Lesson 20:\n",
    "\n",
    "### String Methods\n"
   ]
  },
  {
   "cell_type": "markdown",
   "metadata": {},
   "source": [
    "String methods, unlike list methods, return new strings, not changed strings. This is because strings are immutable. "
   ]
  },
  {
   "cell_type": "markdown",
   "metadata": {},
   "source": [
    "`.lower()` and `.upper()` are methods that return lower and upper case versions of those strings respectively."
   ]
  },
  {
   "cell_type": "code",
   "execution_count": 7,
   "metadata": {
    "collapsed": false
   },
   "outputs": [
    {
     "name": "stdout",
     "output_type": "stream",
     "text": [
      "Hello World!\n",
      "HELLO WORLD!\n",
      "hello world!\n",
      "Hello World!\n"
     ]
    }
   ],
   "source": [
    "spam = 'Hello World!'\n",
    "\n",
    "print(spam)\n",
    "print(spam.upper())\n",
    "print(spam.lower())\n",
    "print(spam) # variable is unmodified"
   ]
  },
  {
   "cell_type": "markdown",
   "metadata": {},
   "source": [
    "This methods are useful for case insensitive inputs."
   ]
  },
  {
   "cell_type": "code",
   "execution_count": 10,
   "metadata": {
    "collapsed": false,
    "scrolled": true
   },
   "outputs": [
    {
     "name": "stdout",
     "output_type": "stream",
     "text": [
      "yes\n",
      "Playing again.\n"
     ]
    }
   ],
   "source": [
    "answer = input()\n",
    "\n",
    "if answer == 'yes':\n",
    "    print('Playing again.')"
   ]
  },
  {
   "cell_type": "markdown",
   "metadata": {},
   "source": [
    "This fails if we use capitals.\n",
    "Instead, we can make the input insensitive. "
   ]
  },
  {
   "cell_type": "code",
   "execution_count": 6,
   "metadata": {
    "collapsed": false,
    "scrolled": false
   },
   "outputs": [
    {
     "name": "stdout",
     "output_type": "stream",
     "text": [
      "YES\n",
      "Playing again.\n"
     ]
    }
   ],
   "source": [
    "answer = input()\n",
    "\n",
    "if answer.lower() == 'yes':\n",
    "    print('Playing again.')"
   ]
  },
  {
   "cell_type": "markdown",
   "metadata": {
    "collapsed": true
   },
   "source": [
    "`.islower()` and `.isupper()` return boolean responses about the case of the string. There must be at least one upper or lower character to function."
   ]
  },
  {
   "cell_type": "code",
   "execution_count": 14,
   "metadata": {
    "collapsed": false
   },
   "outputs": [
    {
     "name": "stdout",
     "output_type": "stream",
     "text": [
      "False\n",
      "True\n"
     ]
    }
   ],
   "source": [
    "print(spam.islower())\n",
    "\n",
    "print(spam.upper().isupper()) # Double methods; works because spam.upper() is its own string."
   ]
  },
  {
   "cell_type": "markdown",
   "metadata": {},
   "source": [
    "There are other 'checking' methods that can be used:"
   ]
  },
  {
   "cell_type": "code",
   "execution_count": 20,
   "metadata": {
    "collapsed": false,
    "scrolled": true
   },
   "outputs": [
    {
     "name": "stdout",
     "output_type": "stream",
     "text": [
      "True\n",
      "True\n",
      "True\n",
      "True\n",
      "True\n",
      "True\n"
     ]
    }
   ],
   "source": [
    "print('hello'.isalpha()) # letters only\n",
    "print('hello123'.isalnum()) # alphanumeric only\n",
    "print('123'.isdecimal()) # numbers only\n",
    "print('   '.isspace()) # whitespace only\n",
    "print('Hello world!'[5].isspace()) # This index of this string is whitespace\n",
    "print('This Is Title Case'.istitle()) # Titlecase only\n"
   ]
  },
  {
   "cell_type": "markdown",
   "metadata": {},
   "source": [
    "There are also `.startwith()` and `.endwith()` methods:"
   ]
  },
  {
   "cell_type": "code",
   "execution_count": 21,
   "metadata": {
    "collapsed": false
   },
   "outputs": [
    {
     "name": "stdout",
     "output_type": "stream",
     "text": [
      "True\n",
      "True\n",
      "False\n",
      "True\n",
      "False\n"
     ]
    }
   ],
   "source": [
    "print('Hello world!'.startswith('Hello')) # True\n",
    "print('Hello world!'.startswith('H')) # True\n",
    "print('Hello world!'.startswith('ello')) # False\n",
    "print('Hello world!'.endswith('world!')) # True\n",
    "print('Hello world!'.endswith('world')) # False\n"
   ]
  },
  {
   "cell_type": "markdown",
   "metadata": {},
   "source": [
    "The `.join()` method joins strings/lists. "
   ]
  },
  {
   "cell_type": "code",
   "execution_count": 24,
   "metadata": {
    "collapsed": false
   },
   "outputs": [
    {
     "name": "stdout",
     "output_type": "stream",
     "text": [
      "cats,rats,bats\n",
      "cats rats bats\n",
      "cats\n",
      "\n",
      "rats\n",
      "\n",
      "bats\n"
     ]
    }
   ],
   "source": [
    "print(','.join(['cats','rats','bats']))\n",
    "print(' '.join(['cats','rats','bats']))\n",
    "print('\\n\\n'.join(['cats','rats','bats']))"
   ]
  },
  {
   "cell_type": "markdown",
   "metadata": {
    "collapsed": true
   },
   "source": [
    "The `.split()` method does the opposite:"
   ]
  },
  {
   "cell_type": "code",
   "execution_count": 26,
   "metadata": {
    "collapsed": false,
    "scrolled": true
   },
   "outputs": [
    {
     "name": "stdout",
     "output_type": "stream",
     "text": [
      "['My', 'name', 'is', 'Simon']\n",
      "['My na', 'e is Si', 'on']\n"
     ]
    }
   ],
   "source": [
    "print('My name is Simon'.split()) # Default is whitespace split\n",
    "print('My name is Simon'.split('m')) # Split by m"
   ]
  },
  {
   "cell_type": "markdown",
   "metadata": {},
   "source": [
    "The `.ljust()`, `.rjust()`, and `.center()` left, right, and center justify."
   ]
  },
  {
   "cell_type": "code",
   "execution_count": 32,
   "metadata": {
    "collapsed": false
   },
   "outputs": [
    {
     "name": "stdout",
     "output_type": "stream",
     "text": [
      "     Hello\n",
      "Hello     \n",
      "Hello--------------------\n",
      "=========Al=========\n"
     ]
    }
   ],
   "source": [
    "print('Hello'.rjust(10))\n",
    "print('Hello'.ljust(10)) \n",
    "print('Hello'.ljust(25,'-')) # Other justify parameter\n",
    "\n",
    "name = 'Al'\n",
    "print(name.center(20,'='))"
   ]
  },
  {
   "cell_type": "markdown",
   "metadata": {},
   "source": [
    "The `.strip()` method strips whitespace."
   ]
  },
  {
   "cell_type": "code",
   "execution_count": 38,
   "metadata": {
    "collapsed": false
   },
   "outputs": [
    {
     "name": "stdout",
     "output_type": "stream",
     "text": [
      "         Hello\n",
      "Hello\n",
      "         Hello\n",
      "x      \n",
      "        x\n",
      "BaconSpamEggs\n"
     ]
    }
   ],
   "source": [
    "spam = '         Hello'\n",
    "\n",
    "print(spam)\n",
    "print(spam.strip())\n",
    "print(spam) # Remember, strings are immutable; they are not changed via methods\n",
    "\n",
    "print('        x      '.lstrip()) # Can also left strip\n",
    "print('        x      '.rstrip()) # Or right strip\n",
    "\n",
    "print('SpamSpamBaconSpamEggsSpamSpam'.strip('Spam')) # Can even strip out string characters"
   ]
  },
  {
   "cell_type": "markdown",
   "metadata": {},
   "source": [
    "The `.replace()` string method does this better. "
   ]
  },
  {
   "cell_type": "code",
   "execution_count": 39,
   "metadata": {
    "collapsed": false
   },
   "outputs": [
    {
     "name": "stdout",
     "output_type": "stream",
     "text": [
      "         Hello\n",
      "         HXYZllo\n"
     ]
    }
   ],
   "source": [
    "print(spam)\n",
    "print(spam.replace('e','XYZ')) # replace e with XYZ"
   ]
  },
  {
   "cell_type": "markdown",
   "metadata": {},
   "source": [
    "The Pyperclip Module can be used to copy text to and from the keyboard."
   ]
  },
  {
   "cell_type": "code",
   "execution_count": 42,
   "metadata": {
    "collapsed": false
   },
   "outputs": [
    {
     "data": {
      "text/plain": [
       "'Hello!'"
      ]
     },
     "execution_count": 42,
     "metadata": {},
     "output_type": "execute_result"
    }
   ],
   "source": [
    "import pyperclip \n",
    "\n",
    "# Use pip to install packages into the Python3.5/scripts directory\n",
    "\n",
    "pyperclip.copy('Hello!') # Copies to clipboard\n",
    "pyperclip.paste() # Pastes whatever is on clipboard"
   ]
  },
  {
   "cell_type": "markdown",
   "metadata": {},
   "source": [
    "# Recap\n",
    "\n",
    "* `.upper()` and `.lower()` return an uppercase or lowercase string.\n",
    "* `.isupper()`, `.islower()`, `.isalpha`, `.isalnum`, `.isdecimal`, `.isspace()`, and `.istitle()` return Boolean True/False statements about the string.\n",
    "* `.startswith()` and `.endswith()` also return bools.\n",
    "* `.join()` joins strings in a list with the parameter passed to it.\n",
    "* `.split()` splits its string into a list of strings using the paramater.\n",
    "* `.rjust()`, `.ljust()`, and `.center()` returns a string padded with parameters. \n",
    "* `.replace()` replaces all occurences of the first argument with the second argument.\n",
    "* The pyperclip module has `.copy()` and `.paste()` functions for using the clipboard."
   ]
  }
 ],
 "metadata": {
  "kernelspec": {
   "display_name": "Python 3",
   "language": "python",
   "name": "python3"
  },
  "language_info": {
   "codemirror_mode": {
    "name": "ipython",
    "version": 3
   },
   "file_extension": ".py",
   "mimetype": "text/x-python",
   "name": "python",
   "nbconvert_exporter": "python",
   "pygments_lexer": "ipython3",
   "version": "3.5.1"
  }
 },
 "nbformat": 4,
 "nbformat_minor": 0
}
