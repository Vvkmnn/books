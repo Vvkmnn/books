{
 "cells": [
  {
   "cell_type": "markdown",
   "metadata": {},
   "source": [
    "## Lesson 27:\n",
    "\n",
    "### RegEx `.*` Dot-Star, `^` Caret, & `$` Dollar Sign Characters\n"
   ]
  },
  {
   "cell_type": "markdown",
   "metadata": {},
   "source": [
    "## Recap\n",
    "* The regex `.findall()` method is passed a string, and returns a list of all matches in it, not just the first match.\n",
    "* If the regex has 0 or 1 groups, `.findall()` returns a list of strings.\n",
    "* If the regex has 2 ore more groups, `.findall()` returns a list of tuples of strings.\n",
    "* `\\d` is the shorthand character class that matches digits.\n",
    "* `\\w` is the shorthand character class that matches words. \n",
    "* `\\s` is the shorthand character class for whitespace.\n",
    "* `\\D` is the shorthand character class that matches NOT digits.\n",
    "* `\\W` is the shorthand character class that matches NOT words.\n",
    "* `\\S` is the shorthand character class that matches NOT spaces.\n",
    "* You can make your own character classes with square brackets: `[aeiou]`\n",
    "* The `^` caret symbol makes it a negative character class, matching anything NOT in the brackets: `[^aeiou]`"
   ]
  }
 ],
 "metadata": {
  "kernelspec": {
   "display_name": "Python 3",
   "language": "python",
   "name": "python3"
  },
  "language_info": {
   "codemirror_mode": {
    "name": "ipython",
    "version": 3
   },
   "file_extension": ".py",
   "mimetype": "text/x-python",
   "name": "python",
   "nbconvert_exporter": "python",
   "pygments_lexer": "ipython3",
   "version": "3.5.1"
  }
 },
 "nbformat": 4,
 "nbformat_minor": 0
}
