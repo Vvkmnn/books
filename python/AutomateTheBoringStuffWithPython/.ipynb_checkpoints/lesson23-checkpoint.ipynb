{
 "cells": [
  {
   "cell_type": "markdown",
   "metadata": {},
   "source": [
    "### Lesson 23:\n",
    "\n",
    "### Regular Expression Basics\n"
   ]
  },
  {
   "cell_type": "markdown",
   "metadata": {},
   "source": [
    "Regular expressions use pattern matching to find text. They are typically faster than the alternative."
   ]
  },
  {
   "cell_type": "markdown",
   "metadata": {},
   "source": [
    "### Phone Number Search Program"
   ]
  },
  {
   "cell_type": "code",
   "execution_count": 2,
   "metadata": {
    "collapsed": true
   },
   "outputs": [],
   "source": [
    "def isPhoneNumber(text):\n",
    "    if len(text) != 12:\n",
    "        return False # not phone number-sized\n",
    "    for i in range (0,3):\n",
    "        if not text[i].isdecimal():\n",
    "            return False # no area code\n",
    "    if text[3] != '-':\n",
    "            return False # missing dash\n",
    "    for i in range(4,7):\n",
    "        if not text[i].isdecimal():\n",
    "            return False # no first 3 digits\n",
    "    if text[7] != '-':\n",
    "        return False # missing second dash\n",
    "    for i in range (8,12):\n",
    "        if not text[i].isdecimal():\n",
    "            return False # missing last 4 digits\n",
    "    return True\n",
    "        "
   ]
  },
  {
   "cell_type": "markdown",
   "metadata": {},
   "source": [
    "You can then test what strings count as phone numbers using this program."
   ]
  },
  {
   "cell_type": "code",
   "execution_count": 4,
   "metadata": {
    "collapsed": false
   },
   "outputs": [
    {
     "name": "stdout",
     "output_type": "stream",
     "text": [
      "True\n",
      "False\n",
      "False\n"
     ]
    }
   ],
   "source": [
    "print(isPhoneNumber('415-555-1234')) # False\n",
    "print(isPhoneNumber('Hello')) # False\n",
    "print(isPhoneNumber('415551234')) # False"
   ]
  },
  {
   "cell_type": "markdown",
   "metadata": {
    "collapsed": false
   },
   "source": [
    "Use to check if strings contain phone numbers:"
   ]
  },
  {
   "cell_type": "code",
   "execution_count": 22,
   "metadata": {
    "collapsed": false
   },
   "outputs": [
    {
     "name": "stdout",
     "output_type": "stream",
     "text": [
      "Phone number found: 415-555-1011\n",
      "Phone number found: 415-555-9999\n",
      "Could not find any phone numbers.\n"
     ]
    }
   ],
   "source": [
    "message = 'Call me at 415-555-1011 tomorrow, or at 415-555-9999 any other day.'\n",
    "message2 = 'There are no phone numbers in this message.'\n",
    "\n",
    "def findNumber(message):\n",
    "    foundNumber = False # set False to start|\n",
    "    for i in range(len(message)):\n",
    "        chunk = message[i:i+12] # Take a phone number size 'chunk' of the string, character by character\n",
    "        #print(chunk) # debug\n",
    "        if isPhoneNumber(chunk):\n",
    "            print('Phone number found: ' + chunk)\n",
    "            foundNumber = True\n",
    "    if not foundNumber: # Run after loop, not during loop\n",
    "            print('Could not find any phone numbers.')\n",
    "\n",
    "findNumber(message)\n",
    "findNumber(message2)"
   ]
  },
  {
   "cell_type": "markdown",
   "metadata": {},
   "source": [
    "This is a lot of code for text pattern matching; which is very common activity in most programming. Therefore, regular expressions are used to simplify this process."
   ]
  },
  {
   "cell_type": "markdown",
   "metadata": {},
   "source": [
    "### Phone Number Matching with RegEx"
   ]
  },
  {
   "cell_type": "markdown",
   "metadata": {},
   "source": [
    "The `re` module stores RegEx functions. It usually takes raw strings (`r''`)."
   ]
  },
  {
   "cell_type": "code",
   "execution_count": 33,
   "metadata": {
    "collapsed": false
   },
   "outputs": [
    {
     "name": "stdout",
     "output_type": "stream",
     "text": [
      "Call me at 415-555-1011 tomorrow, or at 415-555-9999 any other day.\n",
      "415-555-1011\n"
     ]
    }
   ],
   "source": [
    "import re\n",
    "\n",
    "print(message)\n",
    "\n",
    "phoneNumRegex =  re.compile(r'\\d\\d\\d-\\d\\d\\d-\\d\\d\\d\\d') # Defines the pattern and converts to Regex\n",
    "mo = phoneNumRegex.search(message) #re.search() searches string and  returns a Match Object\n",
    "print(mo.group()) # the .group() method contains the actual text in the Match Object"
   ]
  },
  {
   "cell_type": "markdown",
   "metadata": {},
   "source": [
    "This is 3 lines of code in place of 30, which is significantly more effecient."
   ]
  },
  {
   "cell_type": "markdown",
   "metadata": {},
   "source": [
    "You can also use the `.findall()` method to find all RegEx matches, not just the first."
   ]
  },
  {
   "cell_type": "code",
   "execution_count": 38,
   "metadata": {
    "collapsed": false
   },
   "outputs": [
    {
     "name": "stdout",
     "output_type": "stream",
     "text": [
      "['415-555-1011', '415-555-9999']\n"
     ]
    }
   ],
   "source": [
    "mo = phoneNumRegex.findall(message) #re.findall() returns a Match Object List\n",
    "print(mo) # mo.findall() returns a list, so it doesn't need .group()"
   ]
  },
  {
   "cell_type": "markdown",
   "metadata": {},
   "source": [
    "## Recap\n",
    "* Regular expressions are mini-language for specifying text pattern. Writing code to do pattern matching without regular expressions is a huge pain.\n",
    "* Regex strings often use backslashes, '\\' (like \\d), so they are often handled in raw strings: `r'\\d'`\n",
    "* Import the re module first to use them.\n",
    "* Call the `re.compile()` function to create a regex object.\n",
    "* Call the regex object's `.search()` method to create a match object.\n",
    "* Call the match object's `.group()` method to get the matched string.\n",
    "* Use the regex object's `.findall()` to get a list of matched objects.\n",
    "* '\\d' is the regex for a numeric digit."
   ]
  }
 ],
 "metadata": {
  "kernelspec": {
   "display_name": "Python 3",
   "language": "python",
   "name": "python3"
  },
  "language_info": {
   "codemirror_mode": {
    "name": "ipython",
    "version": 3
   },
   "file_extension": ".py",
   "mimetype": "text/x-python",
   "name": "python",
   "nbconvert_exporter": "python",
   "pygments_lexer": "ipython3",
   "version": "3.5.1"
  }
 },
 "nbformat": 4,
 "nbformat_minor": 0
}
