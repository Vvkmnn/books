{
 "cells": [
  {
   "cell_type": "markdown",
   "metadata": {},
   "source": [
    "## Lesson 28:\n",
    "\n",
    "### Regex `.sub()` Method and Verbose Mode\n"
   ]
  },
  {
   "cell_type": "markdown",
   "metadata": {},
   "source": [
    "The `re.compile()` returns a regex objects, which takes the `.group()` method to find the first match in a string, and the `.findall()` method to find a list of all text matches in a string.\n",
    "\n",
    "These are analogous to a typical find feature."
   ]
  },
  {
   "cell_type": "markdown",
   "metadata": {},
   "source": [
    "`.sub()` is therefore analagous to the replace feature. "
   ]
  },
  {
   "cell_type": "code",
   "execution_count": 3,
   "metadata": {
    "collapsed": false
   },
   "outputs": [
    {
     "name": "stdout",
     "output_type": "stream",
     "text": [
      "['Agent Alice', 'Agent Bob']\n",
      "REDACTED gave the secret documents to REDACTED.\n"
     ]
    }
   ],
   "source": [
    "import re\n",
    "\n",
    "namesRegex = re.compile(r'Agent \\w+') # Match Agent and 1 or more words\n",
    "\n",
    "print(namesRegex.findall('Agent Alice gave the secret documents to Agent Bob.')) # List matches\n",
    "\n",
    "print(namesRegex.sub('REDACTED', 'Agent Alice gave the secret documents to Agent Bob.')) # Replace every match"
   ]
  },
  {
   "cell_type": "markdown",
   "metadata": {},
   "source": [
    "You can also partially replace a match using a group, using placeholders like `\\1`."
   ]
  },
  {
   "cell_type": "code",
   "execution_count": 9,
   "metadata": {
    "collapsed": false
   },
   "outputs": [
    {
     "name": "stdout",
     "output_type": "stream",
     "text": [
      "['A', 'B']\n",
      "Agent A*** gave the secret documents to Agent B***.\n"
     ]
    }
   ],
   "source": [
    "import re\n",
    "\n",
    "namesRegex = re.compile(r'Agent (\\w)\\w*') # Seperate the first letter into its own group, and match 0 or more words\n",
    "\n",
    "print(namesRegex.findall('Agent Alice gave the secret documents to Agent Bob.')) # Will only return group 1 matches, not searching for entire strings\n",
    "\n",
    "print(namesRegex.sub(r'Agent \\1***', 'Agent Alice gave the secret documents to Agent Bob.')) # Replace matches with group 1 matches"
   ]
  },
  {
   "cell_type": "markdown",
   "metadata": {},
   "source": [
    "This is basically a find and replace feature with regex."
   ]
  },
  {
   "cell_type": "markdown",
   "metadata": {},
   "source": [
    "Regex objects also have a `re.verbose` argument, to allow multline line comments for complicated regex patterns, helping readabilitiy. \n"
   ]
  },
  {
   "cell_type": "code",
   "execution_count": 10,
   "metadata": {
    "collapsed": false
   },
   "outputs": [],
   "source": [
    "phoneRegex = re.compile(r'''\n",
    "(\\d\\d\\d-)|(\\(d\\d\\d\\) )   # area code (without parenthesis with dash, with parenthesis without dash )\n",
    "-                        # first dash\n",
    "\\d\\d\\d                   # first 3 digits\n",
    "-                        # second dash\n",
    "\\d\\d\\d\\d                 # last 4 digits\n",
    "\\sx\\d{2,4}               # Extension, like x1234, with at least 2 and at most 4 digits\n",
    "'''\n",
    ", re.VERBOSE) # Allows multiline regex strings that ignore newlines, allowing for new comments/documentation on every line. \n"
   ]
  },
  {
   "cell_type": "markdown",
   "metadata": {},
   "source": [
    "The `re.compile()` function can only take one additional parameter, so if you wanted to use `re.I` to ignore cases, `re.DOTALL` to allow `.*` to see newlines, and `re.VERBOSE` to use multiline regex, you have to apply them with bitwise `OR`;`|`. "
   ]
  },
  {
   "cell_type": "code",
   "execution_count": null,
   "metadata": {
    "collapsed": true
   },
   "outputs": [],
   "source": [
    "phoneRegex = re.compile(r'''\n",
    "(\\d\\d\\d-)|(\\(d\\d\\d\\) )   # area code (without parenthesis with dash, with parenthesis without dash )\n",
    "-                        # first dash\n",
    "\\d\\d\\d                   # first 3 digits\n",
    "-                        # second dash\n",
    "\\d\\d\\d\\d                 # last 4 digits\n",
    "\\sx\\d{2,4}               # Extension, like x1234, with at least 2 and at most 4 digits\n",
    "'''\n",
    ", re.I | re.DOTALL | re.VERBOSE) # Activites ignorecase, dotall, and verbose arguments simultaneously. \n"
   ]
  },
  {
   "cell_type": "markdown",
   "metadata": {},
   "source": [
    "This syntax is from old code, and does not typically apply for other functions, just `re.compile()`."
   ]
  },
  {
   "cell_type": "markdown",
   "metadata": {},
   "source": [
    "## Recap\n",
    "* The `.sub` regex method will substitute matches with some other text.\n",
    "* Using `\\1`, `\\2`, and so on will substitute group 1, 2, etc into the regex pattern.\n",
    "* Passing `re.VERBOSE` lets you add whitespace and comments to the regex string passed to `re.compile()` (even in raw strings.)\n",
    "* If you want to pass multiple arguments to `re.compile()`, like `re.DOTALL`, `re.IGNORECASE`, and `re.VERBOSE`) combine them with the `|` bitwise operator."
   ]
  }
 ],
 "metadata": {
  "kernelspec": {
   "display_name": "Python 3",
   "language": "python",
   "name": "python3"
  },
  "language_info": {
   "codemirror_mode": {
    "name": "ipython",
    "version": 3
   },
   "file_extension": ".py",
   "mimetype": "text/x-python",
   "name": "python",
   "nbconvert_exporter": "python",
   "pygments_lexer": "ipython3",
   "version": "3.5.1"
  }
 },
 "nbformat": 4,
 "nbformat_minor": 0
}
