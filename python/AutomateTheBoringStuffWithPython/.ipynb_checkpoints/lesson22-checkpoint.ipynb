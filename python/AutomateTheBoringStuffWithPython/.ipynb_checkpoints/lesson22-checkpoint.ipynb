{
 "cells": [
  {
   "cell_type": "markdown",
   "metadata": {},
   "source": [
    "## Lesson 22:\n",
    "\n",
    "### Launching Python in Other Programs\n"
   ]
  },
  {
   "cell_type": "code",
   "execution_count": 22,
   "metadata": {
    "collapsed": false
   },
   "outputs": [
    {
     "name": "stdout",
     "output_type": "stream",
     "text": [
      "42.0% Complete.\n"
     ]
    }
   ],
   "source": [
    "complete = round(((22/52) * 100),0)\n",
    "print('%s%% Complete.' % (complete))"
   ]
  },
  {
   "cell_type": "markdown",
   "metadata": {},
   "source": [
    "The first line of any Pthon Script should be the __Shebang Line__.\n",
    "\n",
    " OSX: \n",
    " \n",
    "     #! /usr/bin/env python3\n",
    "     \n",
    " Linux: \n",
    "     \n",
    "     #! usr/bin/python3\n",
    "     \n",
    " Windows: \n",
    " \n",
    "     python3"
   ]
  },
  {
   "cell_type": "markdown",
   "metadata": {
    "collapsed": true
   },
   "source": [
    "This lets you run scrips in Terminal/CMD Prompt. \n",
    "\n",
    "    python3 /path/to/script.py"
   ]
  },
  {
   "cell_type": "markdown",
   "metadata": {},
   "source": [
    "Batch files, or shell scripts, can run multiple seperate programs/scripts.\n",
    "\n",
    "  OSX/Linux: \n",
    "      \n",
    "      .sh\n",
    "      \n",
    "  Windows: \n",
    "      \n",
    "      .bat"
   ]
  },
  {
   "cell_type": "markdown",
   "metadata": {},
   "source": [
    "A shell script includes references to multiple programs:"
   ]
  },
  {
   "cell_type": "code",
   "execution_count": 38,
   "metadata": {
    "collapsed": false
   },
   "outputs": [],
   "source": [
    "#! usr/bin/env bash\n",
    "# This is a shell script\n",
    "#python3 runthisscript.py\n",
    "#echo 'I'm running a python script'"
   ]
  },
  {
   "cell_type": "markdown",
   "metadata": {},
   "source": [
    "You can then use CMD/Terminal to run this script\n",
    "\n",
    "    $sh /path/to/shellscript.sh"
   ]
  },
  {
   "cell_type": "markdown",
   "metadata": {},
   "source": [
    "You can skip adding the absolute path to scripts by adding folders to the __PATH__ environment variable.\n",
    "\n",
    "This lets the operating system check these folders before looking anywhere else. Editing the __PATH__ gives the entire OS access to those folders from any location. "
   ]
  },
  {
   "cell_type": "markdown",
   "metadata": {},
   "source": [
    "### Temporarily edit the PATH in OSX\n",
    "        \n",
    "Show PATH in Terminal\n",
    "\n",
    "    $ echo $PATH\n",
    "\n",
    "Temporarily add to $PATH for that terminal session\n",
    "  \n",
    "    $ PATH=/usr/bin:/bin:/usr/sbin:/newpathtofolder/\n",
    "\n",
    "### Permanently edit the PATH in OSX\n",
    "\n",
    "Move to home folder\n",
    "    \n",
    "    $ cd \n",
    "\n",
    "Edit the .bash_profile (use whatever editor you want instead of 'nano')\n",
    "    \n",
    "    $nano .bash_profile # \n",
    "\n",
    "Add the new value to the PATH and include exiting folders (with :PATH)\n",
    "    \n",
    "    $ export PATH=\"/usr/local/mysql/bin:$PATH\" \n",
    "\n",
    "Should now show the new PATH with the added folder. \n",
    "    \n",
    "    $ echo $PATH"
   ]
  },
  {
   "cell_type": "markdown",
   "metadata": {},
   "source": [
    "Scripts can also take command line arguments:\n",
    "        \n",
    "    sh script.sh arg1 arg2\n",
    "    \n",
    "These are called _system arguments_, and can be accessed in a Python program via the `sys.argv` command."
   ]
  },
  {
   "cell_type": "code",
   "execution_count": 32,
   "metadata": {
    "collapsed": false
   },
   "outputs": [
    {
     "name": "stdout",
     "output_type": "stream",
     "text": [
      "Hello world\n",
      "['/usr/local/lib/python3.5/site-packages/ipykernel/__main__.py', '-f', '/Users/vivek.menon/Library/Jupyter/runtime/kernel-3f335b24-2ae5-4241-b273-c5438dbe2b62.json']\n"
     ]
    }
   ],
   "source": [
    "import sys\n",
    "print('Hello world')\n",
    "print(sys.argv)"
   ]
  },
  {
   "cell_type": "markdown",
   "metadata": {},
   "source": [
    "This is useful for allowing your program to take additional parameters when incorporated into batch files.\n",
    "\n",
    "Typically, you will need to add a `%*` to forward those arguments to the Python script:"
   ]
  },
  {
   "cell_type": "code",
   "execution_count": null,
   "metadata": {
    "collapsed": true
   },
   "outputs": [],
   "source": [
    "#! usr/bin/env bash\n",
    "# This is a shell script\n",
    "#python3 runthisscript.py %*\n",
    "#echo 'I'm running a python script with system arguments'"
   ]
  },
  {
   "cell_type": "markdown",
   "metadata": {},
   "source": [
    "## Recap\n",
    "* The shebang line tells your computer that you want to run the script using Python 3.\n",
    "* On Windows, you can bring up the Run dialog by pressing `<Win>+R`. OSX/Unix uses Terminal.\n",
    "* A batch file can save you a lot of typing by running multiple commands.\n",
    "* You can add a folder to the __$PATH__ environment variable to skip absolute paths.\n",
    "* Command line arguments can be read via the `sys.argv` list."
   ]
  }
 ],
 "metadata": {
  "kernelspec": {
   "display_name": "Python 3",
   "language": "python",
   "name": "python3"
  },
  "language_info": {
   "codemirror_mode": {
    "name": "ipython",
    "version": 3
   },
   "file_extension": ".py",
   "mimetype": "text/x-python",
   "name": "python",
   "nbconvert_exporter": "python",
   "pygments_lexer": "ipython3",
   "version": "3.5.1"
  }
 },
 "nbformat": 4,
 "nbformat_minor": 0
}
