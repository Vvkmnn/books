{
 "cells": [
  {
   "cell_type": "markdown",
   "metadata": {},
   "source": [
    "## Lesson 30:\n",
    "\n",
    "### Filenames and Absolute/Relative File Paths\n"
   ]
  },
  {
   "cell_type": "markdown",
   "metadata": {},
   "source": [
    "To make sure a programs output persists, scripts have to save to files."
   ]
  },
  {
   "cell_type": "markdown",
   "metadata": {},
   "source": [
    "#### Filenames and File Paths\n",
    "\n",
    "* _Files_ are held in _Folders_. \n",
    "* A _Folder_ is just a directory on the disk.\n",
    "* A _File Path_ is the path to that file through those folders.\n",
    "* All file paths start at the _Root_ folder (`/` on UNIX systems and `C:\\` on Windows)\n",
    "* Unix systems use `/`, Windows systems use `\\`. \n",
    "* Files also have _File Extensions_ which is the `.type` suffix; it tells the OS what application handles the file. "
   ]
  },
  {
   "cell_type": "markdown",
   "metadata": {},
   "source": [
    "One way to construct file paths is the `.join` string method:"
   ]
  },
  {
   "cell_type": "code",
   "execution_count": 159,
   "metadata": {
    "collapsed": false
   },
   "outputs": [
    {
     "data": {
      "text/plain": [
       "'folder1\\\\folder2\\\\folder3\\\\file.png'"
      ]
     },
     "execution_count": 159,
     "metadata": {},
     "output_type": "execute_result"
    }
   ],
   "source": [
    "'\\\\'.join(['folder1','folder2','folder3','file.png']) # join all elements using the escaped (literal) '\\' string"
   ]
  },
  {
   "cell_type": "markdown",
   "metadata": {},
   "source": [
    "But this string only works on Windows; to create an OS insensitive path, using the `os` module:"
   ]
  },
  {
   "cell_type": "code",
   "execution_count": 160,
   "metadata": {
    "collapsed": false,
    "scrolled": true
   },
   "outputs": [
    {
     "name": "stdout",
     "output_type": "stream",
     "text": [
      "folder1/folder2/folder3/file.png\n",
      "/\n"
     ]
    }
   ],
   "source": [
    "import os # contains many file path related functions\n",
    "\n",
    "print(os.path.join('folder1','folder2','folder3','file.png')) # takes string arguments and returns OS-appropriate path\n",
    "print(os.sep) # show the seperator currently being used.\n"
   ]
  },
  {
   "cell_type": "markdown",
   "metadata": {},
   "source": [
    "If no explicit path is specified, Python will look for files in the current working directory. \n",
    "\n",
    "You can find out what the current working directory is with `os.getcwd()`, and change it is with `os.chdir()`."
   ]
  },
  {
   "cell_type": "code",
   "execution_count": 161,
   "metadata": {
    "collapsed": false
   },
   "outputs": [
    {
     "name": "stdout",
     "output_type": "stream",
     "text": [
      "/Users/vivek.menon/Dropbox/learn/books/python/AutomateTheBoringStuffWithPython\n",
      "/Users/vivek.menon/Dropbox/learn/books/python/AutomateTheBoringStuffWithPython/files\n"
     ]
    }
   ],
   "source": [
    "# Start at current directory\n",
    "defaultpath = os.path.expanduser('~/Dropbox/learn/books/Python/AutomateTheBoringStuffWithPython/')\n",
    "os.chdir(defaultpath)\n",
    "print(os.getcwd())\n",
    "\n",
    "# Change path to /files folder\n",
    "os.chdir('files') # changes current working directory, if not currently in it (to /files)\n",
    "print(os.getcwd()) # prints the current working directory (should be /files)\n",
    "\n",
    "# Reset back to notebook directory\n",
    "os.chdir(defaultpath)"
   ]
  },
  {
   "cell_type": "markdown",
   "metadata": {},
   "source": [
    "There are two kinds of file paths, _relative_ and _absolute_.\n",
    "\n",
    "Absolute file paths are the full address, while relative paths are related to the current working directory; they start at the `cwd`, not the `root` folder.\n",
    "\n",
    "There are also `.` and `..` operators:\n",
    "* `.\\` refers to the `cwd`, and `.\\path` will look at any folders __below__ this folder.\n",
    "* `..\\` refers to the folder __above__ the `cwd`, and will look at any folders below the `parent` folder of the `cwd`.\n",
    "\n",
    "![RelAbspath](https://automatetheboringstuff.com/images/000032.jpg)"
   ]
  },
  {
   "cell_type": "markdown",
   "metadata": {},
   "source": [
    "`os.path.abspath` returns the absolute path of whatever relative path is passed to it.\n",
    "\n",
    "`os.path.relpath()` returns the relative path from an absolute path to a relative location.\n",
    "\n",
    "`os.path.isabs()` returns a boolean if the path is a true path. "
   ]
  },
  {
   "cell_type": "code",
   "execution_count": 162,
   "metadata": {
    "collapsed": false
   },
   "outputs": [
    {
     "name": "stdout",
     "output_type": "stream",
     "text": [
      "/Users/vivek.menon/Dropbox/learn/books/python/AutomateTheBoringStuffWithPython/files\n",
      "True\n",
      "../../..\n"
     ]
    }
   ],
   "source": [
    "print(os.path.abspath('files')) # print absolute path of the files subdirectory\n",
    "print(os.path.isabs(os.path.abspath('files'))) # Is the absolute path to files an absolute path (True)\n",
    "print(os.path.relpath('../..', 'files')) # print the relative file path of a folder two folders up relative to subfolder (3 folders; ../../..)"
   ]
  },
  {
   "cell_type": "markdown",
   "metadata": {},
   "source": [
    "`os.path.dirname()` pulls out just the directory path component above a filepath.\n",
    "\n",
    "`os.path.basename()` pulls out whats past the last slash. \n",
    "\n",
    "![basenamedirname](https://automatetheboringstuff.com/images/000041.png)"
   ]
  },
  {
   "cell_type": "code",
   "execution_count": 163,
   "metadata": {
    "collapsed": false
   },
   "outputs": [
    {
     "name": "stdout",
     "output_type": "stream",
     "text": [
      "/Users/vivek.menon/Dropbox/learn/books/python/AutomateTheBoringStuffWithPython\n",
      "26645.pdf\n"
     ]
    }
   ],
   "source": [
    "print(os.path.dirname(os.path.abspath('files'))) # outputs absolute path above 'files'\n",
    "print(os.path.basename('files/26645.pdf')) # outputs just 'files'"
   ]
  },
  {
   "cell_type": "markdown",
   "metadata": {},
   "source": [
    "`os.path.exists()` can check if a path exists.\n",
    "\n",
    "`os.path.isfile()` checks if the path ends at a file\n",
    "\n",
    "`os.path.isdir()` checks if the path ends at a folder. "
   ]
  },
  {
   "cell_type": "code",
   "execution_count": 164,
   "metadata": {
    "collapsed": false
   },
   "outputs": [
    {
     "name": "stdout",
     "output_type": "stream",
     "text": [
      "True\n",
      "False\n",
      "True\n"
     ]
    }
   ],
   "source": [
    "# Reset back to notebook directory\n",
    "os.chdir(defaultpath)\n",
    "\n",
    "print(os.path.exists(os.path.abspath('files'))) # checks if 'files' exists (True)\n",
    "print(os.path.isfile('files')) # checks if 'files' is a file (False)\n",
    "print(os.path.isdir('files')) # checks if 'files' is a folder (False)"
   ]
  },
  {
   "cell_type": "markdown",
   "metadata": {},
   "source": [
    "`os.path.getsize()` returns the size of a file (bytes)\n",
    "\n",
    "`os.path.listdir()` returns a list of all the files at the path. \n"
   ]
  },
  {
   "cell_type": "markdown",
   "metadata": {},
   "source": [
    "#### File Size Finder"
   ]
  },
  {
   "cell_type": "code",
   "execution_count": 168,
   "metadata": {
    "collapsed": false,
    "scrolled": true
   },
   "outputs": [
    {
     "name": "stdout",
     "output_type": "stream",
     "text": [
      "files/112065.pdf is 359928 bytes.\n",
      "files/26645.pdf is 590564 bytes.\n",
      "files/alarm.wav is 582952 bytes.\n",
      "files/allMyCats1.py is 461 bytes.\n",
      "files/allMyCats2.py is 311 bytes.\n",
      "files/backupToZip.py is 1415 bytes.\n",
      "files/birthdays.py is 493 bytes.\n",
      "files/boxPrint.py is 633 bytes.\n",
      "files/buggyAddingProgram.py is 223 bytes.\n",
      "files/bulletPointAdder.py is 399 bytes.\n",
      "files/calcProd.py is 310 bytes.\n",
      "files/catlogo.png is 16726 bytes.\n",
      "files/catnapping.py is 121 bytes.\n",
      "files/census2010.py is 155379 bytes.\n",
      "files/censuspopdata.xlsx is 2246155 bytes.\n",
      "files/characterCount.py is 225 bytes.\n",
      "files/coinFlip.py is 214 bytes.\n",
      "files/combinedminutes.pdf is 517813 bytes.\n",
      "files/combinePdfs.py is 819 bytes.\n",
      "files/countdown.py is 305 bytes.\n",
      "files/demo.docx is 42624 bytes.\n",
      "files/dictionary.txt is 454061 bytes.\n",
      "files/dimensions.xlsx is 5393 bytes.\n",
      "files/downloadXkcd.py is 1149 bytes.\n",
      "files/duesRecords.xlsx is 8903 bytes.\n",
      "files/encrypted.pdf is 316481 bytes.\n",
      "files/encryptedminutes.pdf is 235840 bytes.\n",
      "files/errorExample.py is 103 bytes.\n",
      "files/example.csv is 191 bytes.\n",
      "files/example.html is 324 bytes.\n",
      "files/example.xlsx is 9898 bytes.\n",
      "files/example.zip is 382809 bytes.\n",
      "files/excelSpreadsheets.zip is 49773 bytes.\n",
      "files/exitExample.py is 170 bytes.\n",
      "files/factorialLog.py is 478 bytes.\n",
      "files/fiveTimes.py is 87 bytes.\n",
      "files/formFiller.py is 2757 bytes.\n",
      "files/freezeExample.xlsx is 504006 bytes.\n",
      "files/getDocxText.py is 214 bytes.\n",
      "files/guessTheNumber.py is 675 bytes.\n",
      "files/guests.txt is 60 bytes.\n",
      "files/headings.docx is 34883 bytes.\n",
      "files/hello.py is 370 bytes.\n",
      "files/helloFunc.py is 114 bytes.\n",
      "files/helloFunc2.py is 78 bytes.\n",
      "files/helloworld.docx is 34837 bytes.\n",
      "files/inventory.py is 352 bytes.\n",
      "files/isPhoneNumber.py is 812 bytes.\n",
      "files/littleKid.py is 163 bytes.\n",
      "files/lucky.py is 555 bytes.\n",
      "files/magic8Ball.py is 693 bytes.\n",
      "files/magic8Ball2.py is 314 bytes.\n",
      "files/mapIt.py is 392 bytes.\n",
      "files/mcb.pyw is 732 bytes.\n",
      "files/meetingminutes.pdf is 246927 bytes.\n",
      "files/meetingminutes2.pdf is 301513 bytes.\n",
      "files/merged.xlsx is 5450 bytes.\n",
      "files/mouseNow.py is 454 bytes.\n",
      "files/mouseNow2.py is 704 bytes.\n",
      "files/multidownloadXkcd.py is 1613 bytes.\n",
      "files/multipleParagraphs.docx is 34907 bytes.\n",
      "files/myPets.py is 198 bytes.\n",
      "files/passingReference.py is 106 bytes.\n",
      "files/phoneAndEmail.py is 1235 bytes.\n",
      "files/picnicTable.py is 361 bytes.\n",
      "files/prettyCharacterCount.py is 248 bytes.\n",
      "files/printRandom.py is 67 bytes.\n",
      "files/produceSales.xlsx is 878030 bytes.\n",
      "files/pw.py is 597 bytes.\n",
      "files/quickWeather.py is 984 bytes.\n",
      "files/randomQuizGenerator.py is 3209 bytes.\n",
      "files/readCensusExcel.py is 1307 bytes.\n",
      "files/readDocx.py is 210 bytes.\n",
      "files/removeCsvHeader.py is 958 bytes.\n",
      "files/removeCsvHeader.zip is 678008 bytes.\n",
      "files/renameDates.py is 1426 bytes.\n",
      "files/resizeAndAddLogo.py is 1430 bytes.\n",
      "files/restyled.docx is 48791 bytes.\n",
      "files/sameName.py is 270 bytes.\n",
      "files/sameName2.py is 89 bytes.\n",
      "files/sameName3.py is 231 bytes.\n",
      "files/sameName4.py is 91 bytes.\n",
      "files/sampleChart.xlsx is 7396 bytes.\n",
      "files/sendDuesReminders.py is 1392 bytes.\n",
      "files/stopwatch.py is 823 bytes.\n",
      "files/styled.xlsx is 5376 bytes.\n",
      "files/styles.xlsx is 5447 bytes.\n",
      "files/swordfish.py is 261 bytes.\n",
      "files/textMyself.py is 500 bytes.\n",
      "files/threadDemo.py is 209 bytes.\n",
      "files/ticTacToe.py is 707 bytes.\n",
      "files/torrentStarter.py is 3905 bytes.\n",
      "files/twoPage.docx is 34868 bytes.\n",
      "files/updatedProduceSales.xlsx is 505451 bytes.\n",
      "files/updateProduce.py is 671 bytes.\n",
      "files/validateInput.py is 379 bytes.\n",
      "files/vampire.py is 247 bytes.\n",
      "files/vampire2.py is 247 bytes.\n",
      "files/watermark.pdf is 91339 bytes.\n",
      "files/zeroDivide.py is 202 bytes.\n",
      "files/zophie.png is 1364265 bytes.\n",
      "\n",
      "\n",
      "The 'files' folder contains 10798836 bytes in total.\n"
     ]
    }
   ],
   "source": [
    "\"\"\"\n",
    "A simple program to loop through a folder and find the size of all files in bytes, and the total size of the folder.\n",
    "\"\"\"\n",
    "\n",
    "import os\n",
    "\n",
    "# starting size\n",
    "totalSize = 0 \n",
    "\n",
    "\n",
    "# for the fileName in the 'files' directory\n",
    "for fileName in os.listdir('files'):\n",
    "    # generate filePaths\n",
    "    filePath = os.path.join('files',fileName) \n",
    "    # check if filePath is a file\n",
    "    if os.path.isfile(filePath) == True:\n",
    "    # if True, increase totalSize by the size of fileName\n",
    "        totalSize += os.path.getsize(filePath)\n",
    "    # also print what the file was and the size\n",
    "        print('%s is %d bytes.'%(filePath, os.path.getsize(filePath)))\n",
    "    # otherwise keep looping\n",
    "    else:\n",
    "        continue\n",
    "\n",
    "# print the size of the folder at the end\n",
    "print('\\n\\nThe \\'%s\\' folder contains %s bytes in total.'%('files',str(totalSize)))"
   ]
  },
  {
   "cell_type": "markdown",
   "metadata": {},
   "source": [
    "`os.makedirs()` creates new directories at the location.\n",
    "\n",
    "`os.removedirs()` removes folders in an absolute location."
   ]
  },
  {
   "cell_type": "code",
   "execution_count": 166,
   "metadata": {
    "collapsed": false
   },
   "outputs": [
    {
     "name": "stdout",
     "output_type": "stream",
     "text": [
      "'files/newfolder/anotherone' exists.\n"
     ]
    }
   ],
   "source": [
    "# clear the folders if the exist already\n",
    "if os.path.exists(os.path.abspath('files/newfolder/anotherone')) == True:\n",
    "    os.removedirs(os.path.abspath('files/newfolder/anotherone')) # clear folders if they exist\n",
    "\n",
    "# create new folders at an absolute path\n",
    "os.makedirs(os.path.abspath('files/newfolder/anotherone')) # create new folders\n",
    "\n",
    "# check if they exist\n",
    "if os.path.exists(os.path.abspath('files/newfolder/anotherone')) == True:\n",
    "    print('\\'files/newfolder/anotherone\\' exists.')"
   ]
  },
  {
   "cell_type": "markdown",
   "metadata": {},
   "source": [
    "## Recap\n",
    "* Files have a name and a path.\n",
    "* The root folder is the lowest folder; it's `C:\\` on Windows and `/` on Unix systems.\n",
    "* In a file path, the folders and filename are seperated by `\\` on Windows and `/` on Unix systems.\n",
    "* `os.path.join()` combines folders with the correct slash for the OS.\n",
    "* The _current working directory_ is the folder that any relative paths are relative to.\n",
    "* `os.getcwd()` will return the current working directory.\n",
    "* `.os.chdir()` will change the current working directory.\n",
    "* Absolute paths begin with the root folder, relative paths begin at the current working directory.\n",
    "* The `.` symbol is shorthand for the current folder.\n",
    "* The `..` symbol is shorthand for the parent folder.\n",
    "* `os.path.abspath()` returns the absolute path form of the path given to it.\n",
    "* `os.path.isabs()` checks that a path is absolute. \n",
    "* `os.path.relpath()` returns the relative path between two paths passed to it.\n",
    "* `os.makedirs()` can make folders.\n",
    "* `os.removedirs()` can remove folders.\n",
    "* `os.path.getsize()` returns a file's size.\n",
    "* `os.listdir()` returns a list of strings of filenames.\n",
    "* `os.path.exists()` checks if a path exists.\n",
    "* `os.path.isfile()` checks if a path ends in a file.\n",
    "* `os.path.isdir()` checks if a path ends in a directory."
   ]
  }
 ],
 "metadata": {
  "kernelspec": {
   "display_name": "Python 3",
   "language": "python",
   "name": "python3"
  },
  "language_info": {
   "codemirror_mode": {
    "name": "ipython",
    "version": 3
   },
   "file_extension": ".py",
   "mimetype": "text/x-python",
   "name": "python",
   "nbconvert_exporter": "python",
   "pygments_lexer": "ipython3",
   "version": "3.5.1"
  }
 },
 "nbformat": 4,
 "nbformat_minor": 0
}
