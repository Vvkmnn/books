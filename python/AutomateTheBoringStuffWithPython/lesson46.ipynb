{
 "cells": [
  {
   "cell_type": "markdown",
   "metadata": {},
   "source": [
    "### Lesson 46:\n",
    "\n",
    "### Sending Emails"
   ]
  },
  {
   "cell_type": "markdown",
   "metadata": {},
   "source": [
    "Python can also be used send emails. This can be used for a variety of purposes, like updating a user at the end of a script completion, logging results, processing data, batch emailing, etc.\n",
    "\n",
    "The standard protocol for sending email is 'Simple Mail Transfer Protocol' (SMTP), and one Python module designed to interact with is `smtplib`. "
   ]
  },
  {
   "cell_type": "code",
   "execution_count": 2,
   "metadata": {
    "collapsed": false,
    "scrolled": false
   },
   "outputs": [],
   "source": [
    "import smtplib"
   ]
  },
  {
   "cell_type": "markdown",
   "metadata": {},
   "source": [
    "The first step in setting up email is creating a **connection** object to interact with an email/SMTP server.\n",
    "\n",
    "This function gets a domain name and a port number. The port number for SMTP is typically 587; it is part of the internet address you are sending data to. The domain name is the address at which an SMTP server is hosted (typically the domain name with 'smtp' appended to it). Here are some [additional examples](https://automatetheboringstuff.com/chapter16/#calibre_link-47)."
   ]
  },
  {
   "cell_type": "code",
   "execution_count": 17,
   "metadata": {
    "collapsed": false
   },
   "outputs": [],
   "source": [
    "conn = smtplib.SMTP('smtp.gmail.com', 587)"
   ]
  },
  {
   "cell_type": "markdown",
   "metadata": {},
   "source": [
    "We will now use the `.ehlo()` method to test and connect."
   ]
  },
  {
   "cell_type": "code",
   "execution_count": 18,
   "metadata": {
    "collapsed": false
   },
   "outputs": [
    {
     "data": {
      "text/plain": [
       "(250,\n",
       " b'smtp.gmail.com at your service, [216.46.12.2]\\nSIZE 35882577\\n8BITMIME\\nSTARTTLS\\nENHANCEDSTATUSCODES\\nPIPELINING\\nCHUNKING\\nSMTPUTF8')"
      ]
     },
     "execution_count": 18,
     "metadata": {},
     "output_type": "execute_result"
    }
   ],
   "source": [
    "conn.ehlo()"
   ]
  },
  {
   "cell_type": "markdown",
   "metadata": {},
   "source": [
    "The returned variable is the response code (anything starting with a 2 is good), followed by a [byte sting](http://stackoverflow.com/questions/6224052/what-is-the-difference-between-a-string-and-a-byte-string).\n",
    "\n",
    "Since we have a positive response, we can now start an encrypted TLS connection ([which is the newer version of SSL technology, both of which are based on public cryptography](https://www.google.ca/search?q=tls+connection&oq=TLS+connection&aqs=chrome.0.0l6.1164j0j7&sourceid=chrome&ie=UTF-8)). Most modern email services will require TLS to begin interaction. "
   ]
  },
  {
   "cell_type": "code",
   "execution_count": 19,
   "metadata": {
    "collapsed": false
   },
   "outputs": [
    {
     "data": {
      "text/plain": [
       "(220, b'2.0.0 Ready to start TLS')"
      ]
     },
     "execution_count": 19,
     "metadata": {},
     "output_type": "execute_result"
    }
   ],
   "source": [
    "conn.starttls()"
   ]
  },
  {
   "cell_type": "markdown",
   "metadata": {},
   "source": [
    "With the positive response, we can now pass in our login paramaters via the `.login()` method.\n",
    "\n",
    "With Google specifically, there is an option to create [app specific password](https://support.google.com/accounts/answer/185833?hl=en), to avoid using your primary login for every device. This protects you from changing your password for every device in case of an error, which may be useful. "
   ]
  },
  {
   "cell_type": "code",
   "execution_count": 20,
   "metadata": {
    "collapsed": false
   },
   "outputs": [
    {
     "data": {
      "text/plain": [
       "(235, b'2.7.0 Accepted')"
      ]
     },
     "execution_count": 20,
     "metadata": {},
     "output_type": "execute_result"
    }
   ],
   "source": [
    "# Real values were used in testing, and removed for Github\n",
    "# Due to the nature of Gmail's security, you may have to allow access from 'less secure apps' (like this script)\n",
    "# The setting can be changed here: https://www.google.com/settings/u/2/security/lesssecureapps\n",
    "\n",
    "conn.login('youremail@gmail.com','yourpassword')"
   ]
  },
  {
   "cell_type": "markdown",
   "metadata": {},
   "source": [
    "Once we get a good response, we can now send emails via the `.sendmail()` method, which takes a variety of parameters, but requires a 'from' email, a 'to' email, and some content. \n",
    "\n",
    "Most modern email services include protections to stop users from spamming other users, so they cap the number of emails that can be sent per day (Gmail is roughly 150 emails)."
   ]
  },
  {
   "cell_type": "code",
   "execution_count": 21,
   "metadata": {
    "collapsed": false
   },
   "outputs": [
    {
     "data": {
      "text/plain": [
       "{}"
      ]
     },
     "execution_count": 21,
     "metadata": {},
     "output_type": "execute_result"
    }
   ],
   "source": [
    "# For this exercise, we will just send an email to and from the same address; be sure to update these values with your\n",
    "# own email addresses \n",
    "\n",
    "from_email = 'youremail@gmail.com'\n",
    "to_email = 'theiremail@gmail.com'\n",
    "\n",
    "conn.sendmail(from_email, to_email, 'Subject: Python Test Email \\n\\n Look,\\n script text!')"
   ]
  },
  {
   "cell_type": "markdown",
   "metadata": {},
   "source": [
    "A blank response indicates a successful email has been sent:\n",
    "\n",
    "![Email Test](files/emailtest.png)"
   ]
  },
  {
   "cell_type": "markdown",
   "metadata": {},
   "source": [
    "We can close our connection via the `.quit()` method:"
   ]
  },
  {
   "cell_type": "code",
   "execution_count": 22,
   "metadata": {
    "collapsed": false,
    "scrolled": true
   },
   "outputs": [
    {
     "data": {
      "text/plain": [
       "(221, b'2.0.0 closing connection o1sm3872631qte.36 - gsmtp')"
      ]
     },
     "execution_count": 22,
     "metadata": {},
     "output_type": "execute_result"
    }
   ],
   "source": [
    "conn.quit()"
   ]
  },
  {
   "cell_type": "markdown",
   "metadata": {},
   "source": [
    "### Recap\n",
    "* The `smptlib` module allows use to send Python via SMTP.\n",
    "* The first step is creating a connection object with the domain and port number for the email service. \n",
    "* The next step is passing the `.ehlo()` method to the connection object to ensure that we can reach it.\n",
    "* We then use `.starttls()` to start an encrypted interaction with the email server.\n",
    "* After a secure connection is started, we use `.login()` method with string parameters to log into the service.\n",
    "* With a positive response we can now send emails with the `.sendemail()` method.\n",
    "* Once you have completed all the necessary tasks, we can quit the session with the `.quit()` method. "
   ]
  }
 ],
 "metadata": {
  "kernelspec": {
   "display_name": "Python 3",
   "language": "python",
   "name": "python3"
  },
  "language_info": {
   "codemirror_mode": {
    "name": "ipython",
    "version": 3
   },
   "file_extension": ".py",
   "mimetype": "text/x-python",
   "name": "python",
   "nbconvert_exporter": "python",
   "pygments_lexer": "ipython3",
   "version": "3.5.1"
  }
 },
 "nbformat": 4,
 "nbformat_minor": 0
}
