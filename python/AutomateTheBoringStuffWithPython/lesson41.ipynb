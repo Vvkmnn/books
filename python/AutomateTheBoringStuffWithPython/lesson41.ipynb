{
 "cells": [
  {
   "cell_type": "markdown",
   "metadata": {},
   "source": [
    "### Lesson 41:\n",
    "\n",
    "### Controlling the Browser with the `Selenium` Module"
   ]
  },
  {
   "cell_type": "markdown",
   "metadata": {},
   "source": [
    "We download and parse webpages using `beautifulsoup` module, but some pages require logins and other dependencies to function properly. \n",
    "\n",
    "We can simulate these effects using `selenium` to launch a programmatic browser. \n",
    "\n",
    "The course uses Firefox, but we will be using [Google Chrome](https://www.google.com/chrome/browser/desktop/)."
   ]
  },
  {
   "cell_type": "code",
   "execution_count": 2,
   "metadata": {
    "collapsed": false
   },
   "outputs": [],
   "source": [
    "from selenium import webdriver"
   ]
  },
  {
   "cell_type": "markdown",
   "metadata": {},
   "source": [
    "The `webdriver.Chrome()` command launches an interactive browser using `selenium`. All commands referencing this new `browser` variable will use this specific browser window. There are a variety of browsers available, they just need to be installed. "
   ]
  },
  {
   "cell_type": "code",
   "execution_count": 4,
   "metadata": {
    "collapsed": false
   },
   "outputs": [],
   "source": [
    "browser = webdriver.Chrome()"
   ]
  },
  {
   "cell_type": "markdown",
   "metadata": {},
   "source": [
    "We can then use commands like `browser.get()` to load urls:"
   ]
  },
  {
   "cell_type": "code",
   "execution_count": 7,
   "metadata": {
    "collapsed": true
   },
   "outputs": [],
   "source": [
    "browser.get('https://automatetheboringstuff.com')"
   ]
  },
  {
   "cell_type": "markdown",
   "metadata": {},
   "source": [
    "We can now use CSS selectors to interact with specific elements on this page; you can find them in Chrome using the Developer tools:\n",
    "\n",
    "![CSS Selector in Chrome](files/CSSSelector.png)"
   ]
  },
  {
   "cell_type": "markdown",
   "metadata": {},
   "source": [
    "This web element is then referenced using the `browser` method `find_element_by_css_selector`. There are a variety of other `find` methods, which can reference names, classes, tags, etc. "
   ]
  },
  {
   "cell_type": "code",
   "execution_count": 9,
   "metadata": {
    "collapsed": true
   },
   "outputs": [],
   "source": [
    "elem = browser.find_element_by_css_selector('#post-6 > div > ol:nth-child(20) > li:nth-child(1) > a')"
   ]
  },
  {
   "cell_type": "markdown",
   "metadata": {},
   "source": [
    "Once selected, we can a run a `.click()` method on that element to interact with the selected web element."
   ]
  },
  {
   "cell_type": "code",
   "execution_count": 10,
   "metadata": {
    "collapsed": true
   },
   "outputs": [],
   "source": [
    "# Clicks on that first link \n",
    "\n",
    "elem.click()"
   ]
  },
  {
   "cell_type": "markdown",
   "metadata": {},
   "source": [
    "We can also select multiple elements on a webpage and storing them in a list using the `find_elements_by` method instead of `find_element_by`."
   ]
  },
  {
   "cell_type": "code",
   "execution_count": 24,
   "metadata": {
    "collapsed": true
   },
   "outputs": [],
   "source": [
    "# Find all paragraph elements on the current page in the browser (Introduction)\n",
    "\n",
    "elems = browser.find_elements_by_css_selector('p')"
   ]
  },
  {
   "cell_type": "code",
   "execution_count": 25,
   "metadata": {
    "collapsed": false
   },
   "outputs": [
    {
     "data": {
      "text/plain": [
       "[<selenium.webdriver.remote.webelement.WebElement (session=\"e7e5e3f2b6604248ed484f7bb7b9649b\", element=\"0.0986551436868226-1\")>,\n",
       " <selenium.webdriver.remote.webelement.WebElement (session=\"e7e5e3f2b6604248ed484f7bb7b9649b\", element=\"0.0986551436868226-2\")>,\n",
       " <selenium.webdriver.remote.webelement.WebElement (session=\"e7e5e3f2b6604248ed484f7bb7b9649b\", element=\"0.0986551436868226-3\")>,\n",
       " <selenium.webdriver.remote.webelement.WebElement (session=\"e7e5e3f2b6604248ed484f7bb7b9649b\", element=\"0.0986551436868226-4\")>,\n",
       " <selenium.webdriver.remote.webelement.WebElement (session=\"e7e5e3f2b6604248ed484f7bb7b9649b\", element=\"0.0986551436868226-5\")>,\n",
       " <selenium.webdriver.remote.webelement.WebElement (session=\"e7e5e3f2b6604248ed484f7bb7b9649b\", element=\"0.0986551436868226-6\")>,\n",
       " <selenium.webdriver.remote.webelement.WebElement (session=\"e7e5e3f2b6604248ed484f7bb7b9649b\", element=\"0.0986551436868226-7\")>,\n",
       " <selenium.webdriver.remote.webelement.WebElement (session=\"e7e5e3f2b6604248ed484f7bb7b9649b\", element=\"0.0986551436868226-8\")>,\n",
       " <selenium.webdriver.remote.webelement.WebElement (session=\"e7e5e3f2b6604248ed484f7bb7b9649b\", element=\"0.0986551436868226-9\")>,\n",
       " <selenium.webdriver.remote.webelement.WebElement (session=\"e7e5e3f2b6604248ed484f7bb7b9649b\", element=\"0.0986551436868226-10\")>,\n",
       " <selenium.webdriver.remote.webelement.WebElement (session=\"e7e5e3f2b6604248ed484f7bb7b9649b\", element=\"0.0986551436868226-11\")>,\n",
       " <selenium.webdriver.remote.webelement.WebElement (session=\"e7e5e3f2b6604248ed484f7bb7b9649b\", element=\"0.0986551436868226-12\")>,\n",
       " <selenium.webdriver.remote.webelement.WebElement (session=\"e7e5e3f2b6604248ed484f7bb7b9649b\", element=\"0.0986551436868226-13\")>,\n",
       " <selenium.webdriver.remote.webelement.WebElement (session=\"e7e5e3f2b6604248ed484f7bb7b9649b\", element=\"0.0986551436868226-14\")>,\n",
       " <selenium.webdriver.remote.webelement.WebElement (session=\"e7e5e3f2b6604248ed484f7bb7b9649b\", element=\"0.0986551436868226-15\")>,\n",
       " <selenium.webdriver.remote.webelement.WebElement (session=\"e7e5e3f2b6604248ed484f7bb7b9649b\", element=\"0.0986551436868226-16\")>,\n",
       " <selenium.webdriver.remote.webelement.WebElement (session=\"e7e5e3f2b6604248ed484f7bb7b9649b\", element=\"0.0986551436868226-17\")>,\n",
       " <selenium.webdriver.remote.webelement.WebElement (session=\"e7e5e3f2b6604248ed484f7bb7b9649b\", element=\"0.0986551436868226-18\")>,\n",
       " <selenium.webdriver.remote.webelement.WebElement (session=\"e7e5e3f2b6604248ed484f7bb7b9649b\", element=\"0.0986551436868226-19\")>,\n",
       " <selenium.webdriver.remote.webelement.WebElement (session=\"e7e5e3f2b6604248ed484f7bb7b9649b\", element=\"0.0986551436868226-20\")>,\n",
       " <selenium.webdriver.remote.webelement.WebElement (session=\"e7e5e3f2b6604248ed484f7bb7b9649b\", element=\"0.0986551436868226-21\")>,\n",
       " <selenium.webdriver.remote.webelement.WebElement (session=\"e7e5e3f2b6604248ed484f7bb7b9649b\", element=\"0.0986551436868226-22\")>,\n",
       " <selenium.webdriver.remote.webelement.WebElement (session=\"e7e5e3f2b6604248ed484f7bb7b9649b\", element=\"0.0986551436868226-23\")>,\n",
       " <selenium.webdriver.remote.webelement.WebElement (session=\"e7e5e3f2b6604248ed484f7bb7b9649b\", element=\"0.0986551436868226-24\")>,\n",
       " <selenium.webdriver.remote.webelement.WebElement (session=\"e7e5e3f2b6604248ed484f7bb7b9649b\", element=\"0.0986551436868226-25\")>,\n",
       " <selenium.webdriver.remote.webelement.WebElement (session=\"e7e5e3f2b6604248ed484f7bb7b9649b\", element=\"0.0986551436868226-26\")>,\n",
       " <selenium.webdriver.remote.webelement.WebElement (session=\"e7e5e3f2b6604248ed484f7bb7b9649b\", element=\"0.0986551436868226-27\")>,\n",
       " <selenium.webdriver.remote.webelement.WebElement (session=\"e7e5e3f2b6604248ed484f7bb7b9649b\", element=\"0.0986551436868226-28\")>,\n",
       " <selenium.webdriver.remote.webelement.WebElement (session=\"e7e5e3f2b6604248ed484f7bb7b9649b\", element=\"0.0986551436868226-29\")>,\n",
       " <selenium.webdriver.remote.webelement.WebElement (session=\"e7e5e3f2b6604248ed484f7bb7b9649b\", element=\"0.0986551436868226-30\")>,\n",
       " <selenium.webdriver.remote.webelement.WebElement (session=\"e7e5e3f2b6604248ed484f7bb7b9649b\", element=\"0.0986551436868226-31\")>,\n",
       " <selenium.webdriver.remote.webelement.WebElement (session=\"e7e5e3f2b6604248ed484f7bb7b9649b\", element=\"0.0986551436868226-32\")>,\n",
       " <selenium.webdriver.remote.webelement.WebElement (session=\"e7e5e3f2b6604248ed484f7bb7b9649b\", element=\"0.0986551436868226-33\")>,\n",
       " <selenium.webdriver.remote.webelement.WebElement (session=\"e7e5e3f2b6604248ed484f7bb7b9649b\", element=\"0.0986551436868226-34\")>,\n",
       " <selenium.webdriver.remote.webelement.WebElement (session=\"e7e5e3f2b6604248ed484f7bb7b9649b\", element=\"0.0986551436868226-35\")>,\n",
       " <selenium.webdriver.remote.webelement.WebElement (session=\"e7e5e3f2b6604248ed484f7bb7b9649b\", element=\"0.0986551436868226-36\")>,\n",
       " <selenium.webdriver.remote.webelement.WebElement (session=\"e7e5e3f2b6604248ed484f7bb7b9649b\", element=\"0.0986551436868226-37\")>,\n",
       " <selenium.webdriver.remote.webelement.WebElement (session=\"e7e5e3f2b6604248ed484f7bb7b9649b\", element=\"0.0986551436868226-38\")>,\n",
       " <selenium.webdriver.remote.webelement.WebElement (session=\"e7e5e3f2b6604248ed484f7bb7b9649b\", element=\"0.0986551436868226-39\")>,\n",
       " <selenium.webdriver.remote.webelement.WebElement (session=\"e7e5e3f2b6604248ed484f7bb7b9649b\", element=\"0.0986551436868226-40\")>,\n",
       " <selenium.webdriver.remote.webelement.WebElement (session=\"e7e5e3f2b6604248ed484f7bb7b9649b\", element=\"0.0986551436868226-41\")>,\n",
       " <selenium.webdriver.remote.webelement.WebElement (session=\"e7e5e3f2b6604248ed484f7bb7b9649b\", element=\"0.0986551436868226-42\")>,\n",
       " <selenium.webdriver.remote.webelement.WebElement (session=\"e7e5e3f2b6604248ed484f7bb7b9649b\", element=\"0.0986551436868226-43\")>,\n",
       " <selenium.webdriver.remote.webelement.WebElement (session=\"e7e5e3f2b6604248ed484f7bb7b9649b\", element=\"0.0986551436868226-44\")>,\n",
       " <selenium.webdriver.remote.webelement.WebElement (session=\"e7e5e3f2b6604248ed484f7bb7b9649b\", element=\"0.0986551436868226-45\")>,\n",
       " <selenium.webdriver.remote.webelement.WebElement (session=\"e7e5e3f2b6604248ed484f7bb7b9649b\", element=\"0.0986551436868226-46\")>,\n",
       " <selenium.webdriver.remote.webelement.WebElement (session=\"e7e5e3f2b6604248ed484f7bb7b9649b\", element=\"0.0986551436868226-47\")>,\n",
       " <selenium.webdriver.remote.webelement.WebElement (session=\"e7e5e3f2b6604248ed484f7bb7b9649b\", element=\"0.0986551436868226-48\")>,\n",
       " <selenium.webdriver.remote.webelement.WebElement (session=\"e7e5e3f2b6604248ed484f7bb7b9649b\", element=\"0.0986551436868226-49\")>,\n",
       " <selenium.webdriver.remote.webelement.WebElement (session=\"e7e5e3f2b6604248ed484f7bb7b9649b\", element=\"0.0986551436868226-50\")>,\n",
       " <selenium.webdriver.remote.webelement.WebElement (session=\"e7e5e3f2b6604248ed484f7bb7b9649b\", element=\"0.0986551436868226-51\")>,\n",
       " <selenium.webdriver.remote.webelement.WebElement (session=\"e7e5e3f2b6604248ed484f7bb7b9649b\", element=\"0.0986551436868226-52\")>,\n",
       " <selenium.webdriver.remote.webelement.WebElement (session=\"e7e5e3f2b6604248ed484f7bb7b9649b\", element=\"0.0986551436868226-53\")>,\n",
       " <selenium.webdriver.remote.webelement.WebElement (session=\"e7e5e3f2b6604248ed484f7bb7b9649b\", element=\"0.0986551436868226-54\")>,\n",
       " <selenium.webdriver.remote.webelement.WebElement (session=\"e7e5e3f2b6604248ed484f7bb7b9649b\", element=\"0.0986551436868226-55\")>,\n",
       " <selenium.webdriver.remote.webelement.WebElement (session=\"e7e5e3f2b6604248ed484f7bb7b9649b\", element=\"0.0986551436868226-56\")>,\n",
       " <selenium.webdriver.remote.webelement.WebElement (session=\"e7e5e3f2b6604248ed484f7bb7b9649b\", element=\"0.0986551436868226-57\")>,\n",
       " <selenium.webdriver.remote.webelement.WebElement (session=\"e7e5e3f2b6604248ed484f7bb7b9649b\", element=\"0.0986551436868226-58\")>,\n",
       " <selenium.webdriver.remote.webelement.WebElement (session=\"e7e5e3f2b6604248ed484f7bb7b9649b\", element=\"0.0986551436868226-59\")>,\n",
       " <selenium.webdriver.remote.webelement.WebElement (session=\"e7e5e3f2b6604248ed484f7bb7b9649b\", element=\"0.0986551436868226-60\")>,\n",
       " <selenium.webdriver.remote.webelement.WebElement (session=\"e7e5e3f2b6604248ed484f7bb7b9649b\", element=\"0.0986551436868226-61\")>,\n",
       " <selenium.webdriver.remote.webelement.WebElement (session=\"e7e5e3f2b6604248ed484f7bb7b9649b\", element=\"0.0986551436868226-62\")>,\n",
       " <selenium.webdriver.remote.webelement.WebElement (session=\"e7e5e3f2b6604248ed484f7bb7b9649b\", element=\"0.0986551436868226-63\")>,\n",
       " <selenium.webdriver.remote.webelement.WebElement (session=\"e7e5e3f2b6604248ed484f7bb7b9649b\", element=\"0.0986551436868226-64\")>,\n",
       " <selenium.webdriver.remote.webelement.WebElement (session=\"e7e5e3f2b6604248ed484f7bb7b9649b\", element=\"0.0986551436868226-65\")>,\n",
       " <selenium.webdriver.remote.webelement.WebElement (session=\"e7e5e3f2b6604248ed484f7bb7b9649b\", element=\"0.0986551436868226-66\")>,\n",
       " <selenium.webdriver.remote.webelement.WebElement (session=\"e7e5e3f2b6604248ed484f7bb7b9649b\", element=\"0.0986551436868226-67\")>,\n",
       " <selenium.webdriver.remote.webelement.WebElement (session=\"e7e5e3f2b6604248ed484f7bb7b9649b\", element=\"0.0986551436868226-68\")>,\n",
       " <selenium.webdriver.remote.webelement.WebElement (session=\"e7e5e3f2b6604248ed484f7bb7b9649b\", element=\"0.0986551436868226-69\")>,\n",
       " <selenium.webdriver.remote.webelement.WebElement (session=\"e7e5e3f2b6604248ed484f7bb7b9649b\", element=\"0.0986551436868226-70\")>,\n",
       " <selenium.webdriver.remote.webelement.WebElement (session=\"e7e5e3f2b6604248ed484f7bb7b9649b\", element=\"0.0986551436868226-71\")>,\n",
       " <selenium.webdriver.remote.webelement.WebElement (session=\"e7e5e3f2b6604248ed484f7bb7b9649b\", element=\"0.0986551436868226-72\")>,\n",
       " <selenium.webdriver.remote.webelement.WebElement (session=\"e7e5e3f2b6604248ed484f7bb7b9649b\", element=\"0.0986551436868226-73\")>,\n",
       " <selenium.webdriver.remote.webelement.WebElement (session=\"e7e5e3f2b6604248ed484f7bb7b9649b\", element=\"0.0986551436868226-74\")>,\n",
       " <selenium.webdriver.remote.webelement.WebElement (session=\"e7e5e3f2b6604248ed484f7bb7b9649b\", element=\"0.0986551436868226-75\")>,\n",
       " <selenium.webdriver.remote.webelement.WebElement (session=\"e7e5e3f2b6604248ed484f7bb7b9649b\", element=\"0.0986551436868226-76\")>,\n",
       " <selenium.webdriver.remote.webelement.WebElement (session=\"e7e5e3f2b6604248ed484f7bb7b9649b\", element=\"0.0986551436868226-77\")>,\n",
       " <selenium.webdriver.remote.webelement.WebElement (session=\"e7e5e3f2b6604248ed484f7bb7b9649b\", element=\"0.0986551436868226-78\")>,\n",
       " <selenium.webdriver.remote.webelement.WebElement (session=\"e7e5e3f2b6604248ed484f7bb7b9649b\", element=\"0.0986551436868226-79\")>,\n",
       " <selenium.webdriver.remote.webelement.WebElement (session=\"e7e5e3f2b6604248ed484f7bb7b9649b\", element=\"0.0986551436868226-80\")>,\n",
       " <selenium.webdriver.remote.webelement.WebElement (session=\"e7e5e3f2b6604248ed484f7bb7b9649b\", element=\"0.0986551436868226-81\")>,\n",
       " <selenium.webdriver.remote.webelement.WebElement (session=\"e7e5e3f2b6604248ed484f7bb7b9649b\", element=\"0.0986551436868226-82\")>,\n",
       " <selenium.webdriver.remote.webelement.WebElement (session=\"e7e5e3f2b6604248ed484f7bb7b9649b\", element=\"0.0986551436868226-83\")>,\n",
       " <selenium.webdriver.remote.webelement.WebElement (session=\"e7e5e3f2b6604248ed484f7bb7b9649b\", element=\"0.0986551436868226-84\")>,\n",
       " <selenium.webdriver.remote.webelement.WebElement (session=\"e7e5e3f2b6604248ed484f7bb7b9649b\", element=\"0.0986551436868226-85\")>,\n",
       " <selenium.webdriver.remote.webelement.WebElement (session=\"e7e5e3f2b6604248ed484f7bb7b9649b\", element=\"0.0986551436868226-86\")>,\n",
       " <selenium.webdriver.remote.webelement.WebElement (session=\"e7e5e3f2b6604248ed484f7bb7b9649b\", element=\"0.0986551436868226-87\")>,\n",
       " <selenium.webdriver.remote.webelement.WebElement (session=\"e7e5e3f2b6604248ed484f7bb7b9649b\", element=\"0.0986551436868226-88\")>,\n",
       " <selenium.webdriver.remote.webelement.WebElement (session=\"e7e5e3f2b6604248ed484f7bb7b9649b\", element=\"0.0986551436868226-89\")>,\n",
       " <selenium.webdriver.remote.webelement.WebElement (session=\"e7e5e3f2b6604248ed484f7bb7b9649b\", element=\"0.0986551436868226-90\")>,\n",
       " <selenium.webdriver.remote.webelement.WebElement (session=\"e7e5e3f2b6604248ed484f7bb7b9649b\", element=\"0.0986551436868226-91\")>,\n",
       " <selenium.webdriver.remote.webelement.WebElement (session=\"e7e5e3f2b6604248ed484f7bb7b9649b\", element=\"0.0986551436868226-92\")>,\n",
       " <selenium.webdriver.remote.webelement.WebElement (session=\"e7e5e3f2b6604248ed484f7bb7b9649b\", element=\"0.0986551436868226-93\")>,\n",
       " <selenium.webdriver.remote.webelement.WebElement (session=\"e7e5e3f2b6604248ed484f7bb7b9649b\", element=\"0.0986551436868226-94\")>,\n",
       " <selenium.webdriver.remote.webelement.WebElement (session=\"e7e5e3f2b6604248ed484f7bb7b9649b\", element=\"0.0986551436868226-95\")>,\n",
       " <selenium.webdriver.remote.webelement.WebElement (session=\"e7e5e3f2b6604248ed484f7bb7b9649b\", element=\"0.0986551436868226-96\")>,\n",
       " <selenium.webdriver.remote.webelement.WebElement (session=\"e7e5e3f2b6604248ed484f7bb7b9649b\", element=\"0.0986551436868226-97\")>,\n",
       " <selenium.webdriver.remote.webelement.WebElement (session=\"e7e5e3f2b6604248ed484f7bb7b9649b\", element=\"0.0986551436868226-98\")>,\n",
       " <selenium.webdriver.remote.webelement.WebElement (session=\"e7e5e3f2b6604248ed484f7bb7b9649b\", element=\"0.0986551436868226-99\")>,\n",
       " <selenium.webdriver.remote.webelement.WebElement (session=\"e7e5e3f2b6604248ed484f7bb7b9649b\", element=\"0.0986551436868226-100\")>,\n",
       " <selenium.webdriver.remote.webelement.WebElement (session=\"e7e5e3f2b6604248ed484f7bb7b9649b\", element=\"0.0986551436868226-101\")>,\n",
       " <selenium.webdriver.remote.webelement.WebElement (session=\"e7e5e3f2b6604248ed484f7bb7b9649b\", element=\"0.0986551436868226-102\")>,\n",
       " <selenium.webdriver.remote.webelement.WebElement (session=\"e7e5e3f2b6604248ed484f7bb7b9649b\", element=\"0.0986551436868226-103\")>,\n",
       " <selenium.webdriver.remote.webelement.WebElement (session=\"e7e5e3f2b6604248ed484f7bb7b9649b\", element=\"0.0986551436868226-104\")>,\n",
       " <selenium.webdriver.remote.webelement.WebElement (session=\"e7e5e3f2b6604248ed484f7bb7b9649b\", element=\"0.0986551436868226-105\")>,\n",
       " <selenium.webdriver.remote.webelement.WebElement (session=\"e7e5e3f2b6604248ed484f7bb7b9649b\", element=\"0.0986551436868226-106\")>,\n",
       " <selenium.webdriver.remote.webelement.WebElement (session=\"e7e5e3f2b6604248ed484f7bb7b9649b\", element=\"0.0986551436868226-107\")>,\n",
       " <selenium.webdriver.remote.webelement.WebElement (session=\"e7e5e3f2b6604248ed484f7bb7b9649b\", element=\"0.0986551436868226-108\")>,\n",
       " <selenium.webdriver.remote.webelement.WebElement (session=\"e7e5e3f2b6604248ed484f7bb7b9649b\", element=\"0.0986551436868226-109\")>,\n",
       " <selenium.webdriver.remote.webelement.WebElement (session=\"e7e5e3f2b6604248ed484f7bb7b9649b\", element=\"0.0986551436868226-110\")>,\n",
       " <selenium.webdriver.remote.webelement.WebElement (session=\"e7e5e3f2b6604248ed484f7bb7b9649b\", element=\"0.0986551436868226-111\")>,\n",
       " <selenium.webdriver.remote.webelement.WebElement (session=\"e7e5e3f2b6604248ed484f7bb7b9649b\", element=\"0.0986551436868226-112\")>,\n",
       " <selenium.webdriver.remote.webelement.WebElement (session=\"e7e5e3f2b6604248ed484f7bb7b9649b\", element=\"0.0986551436868226-113\")>,\n",
       " <selenium.webdriver.remote.webelement.WebElement (session=\"e7e5e3f2b6604248ed484f7bb7b9649b\", element=\"0.0986551436868226-114\")>,\n",
       " <selenium.webdriver.remote.webelement.WebElement (session=\"e7e5e3f2b6604248ed484f7bb7b9649b\", element=\"0.0986551436868226-115\")>,\n",
       " <selenium.webdriver.remote.webelement.WebElement (session=\"e7e5e3f2b6604248ed484f7bb7b9649b\", element=\"0.0986551436868226-116\")>,\n",
       " <selenium.webdriver.remote.webelement.WebElement (session=\"e7e5e3f2b6604248ed484f7bb7b9649b\", element=\"0.0986551436868226-117\")>,\n",
       " <selenium.webdriver.remote.webelement.WebElement (session=\"e7e5e3f2b6604248ed484f7bb7b9649b\", element=\"0.0986551436868226-118\")>,\n",
       " <selenium.webdriver.remote.webelement.WebElement (session=\"e7e5e3f2b6604248ed484f7bb7b9649b\", element=\"0.0986551436868226-119\")>,\n",
       " <selenium.webdriver.remote.webelement.WebElement (session=\"e7e5e3f2b6604248ed484f7bb7b9649b\", element=\"0.0986551436868226-120\")>,\n",
       " <selenium.webdriver.remote.webelement.WebElement (session=\"e7e5e3f2b6604248ed484f7bb7b9649b\", element=\"0.0986551436868226-121\")>,\n",
       " <selenium.webdriver.remote.webelement.WebElement (session=\"e7e5e3f2b6604248ed484f7bb7b9649b\", element=\"0.0986551436868226-122\")>,\n",
       " <selenium.webdriver.remote.webelement.WebElement (session=\"e7e5e3f2b6604248ed484f7bb7b9649b\", element=\"0.0986551436868226-123\")>,\n",
       " <selenium.webdriver.remote.webelement.WebElement (session=\"e7e5e3f2b6604248ed484f7bb7b9649b\", element=\"0.0986551436868226-124\")>,\n",
       " <selenium.webdriver.remote.webelement.WebElement (session=\"e7e5e3f2b6604248ed484f7bb7b9649b\", element=\"0.0986551436868226-125\")>,\n",
       " <selenium.webdriver.remote.webelement.WebElement (session=\"e7e5e3f2b6604248ed484f7bb7b9649b\", element=\"0.0986551436868226-126\")>,\n",
       " <selenium.webdriver.remote.webelement.WebElement (session=\"e7e5e3f2b6604248ed484f7bb7b9649b\", element=\"0.0986551436868226-127\")>,\n",
       " <selenium.webdriver.remote.webelement.WebElement (session=\"e7e5e3f2b6604248ed484f7bb7b9649b\", element=\"0.0986551436868226-128\")>,\n",
       " <selenium.webdriver.remote.webelement.WebElement (session=\"e7e5e3f2b6604248ed484f7bb7b9649b\", element=\"0.0986551436868226-129\")>,\n",
       " <selenium.webdriver.remote.webelement.WebElement (session=\"e7e5e3f2b6604248ed484f7bb7b9649b\", element=\"0.0986551436868226-130\")>,\n",
       " <selenium.webdriver.remote.webelement.WebElement (session=\"e7e5e3f2b6604248ed484f7bb7b9649b\", element=\"0.0986551436868226-131\")>,\n",
       " <selenium.webdriver.remote.webelement.WebElement (session=\"e7e5e3f2b6604248ed484f7bb7b9649b\", element=\"0.0986551436868226-132\")>,\n",
       " <selenium.webdriver.remote.webelement.WebElement (session=\"e7e5e3f2b6604248ed484f7bb7b9649b\", element=\"0.0986551436868226-133\")>,\n",
       " <selenium.webdriver.remote.webelement.WebElement (session=\"e7e5e3f2b6604248ed484f7bb7b9649b\", element=\"0.0986551436868226-134\")>,\n",
       " <selenium.webdriver.remote.webelement.WebElement (session=\"e7e5e3f2b6604248ed484f7bb7b9649b\", element=\"0.0986551436868226-135\")>,\n",
       " <selenium.webdriver.remote.webelement.WebElement (session=\"e7e5e3f2b6604248ed484f7bb7b9649b\", element=\"0.0986551436868226-136\")>,\n",
       " <selenium.webdriver.remote.webelement.WebElement (session=\"e7e5e3f2b6604248ed484f7bb7b9649b\", element=\"0.0986551436868226-137\")>,\n",
       " <selenium.webdriver.remote.webelement.WebElement (session=\"e7e5e3f2b6604248ed484f7bb7b9649b\", element=\"0.0986551436868226-138\")>,\n",
       " <selenium.webdriver.remote.webelement.WebElement (session=\"e7e5e3f2b6604248ed484f7bb7b9649b\", element=\"0.0986551436868226-139\")>,\n",
       " <selenium.webdriver.remote.webelement.WebElement (session=\"e7e5e3f2b6604248ed484f7bb7b9649b\", element=\"0.0986551436868226-140\")>,\n",
       " <selenium.webdriver.remote.webelement.WebElement (session=\"e7e5e3f2b6604248ed484f7bb7b9649b\", element=\"0.0986551436868226-141\")>,\n",
       " <selenium.webdriver.remote.webelement.WebElement (session=\"e7e5e3f2b6604248ed484f7bb7b9649b\", element=\"0.0986551436868226-142\")>,\n",
       " <selenium.webdriver.remote.webelement.WebElement (session=\"e7e5e3f2b6604248ed484f7bb7b9649b\", element=\"0.0986551436868226-143\")>,\n",
       " <selenium.webdriver.remote.webelement.WebElement (session=\"e7e5e3f2b6604248ed484f7bb7b9649b\", element=\"0.0986551436868226-144\")>,\n",
       " <selenium.webdriver.remote.webelement.WebElement (session=\"e7e5e3f2b6604248ed484f7bb7b9649b\", element=\"0.0986551436868226-145\")>,\n",
       " <selenium.webdriver.remote.webelement.WebElement (session=\"e7e5e3f2b6604248ed484f7bb7b9649b\", element=\"0.0986551436868226-146\")>,\n",
       " <selenium.webdriver.remote.webelement.WebElement (session=\"e7e5e3f2b6604248ed484f7bb7b9649b\", element=\"0.0986551436868226-147\")>,\n",
       " <selenium.webdriver.remote.webelement.WebElement (session=\"e7e5e3f2b6604248ed484f7bb7b9649b\", element=\"0.0986551436868226-148\")>,\n",
       " <selenium.webdriver.remote.webelement.WebElement (session=\"e7e5e3f2b6604248ed484f7bb7b9649b\", element=\"0.0986551436868226-149\")>,\n",
       " <selenium.webdriver.remote.webelement.WebElement (session=\"e7e5e3f2b6604248ed484f7bb7b9649b\", element=\"0.0986551436868226-150\")>,\n",
       " <selenium.webdriver.remote.webelement.WebElement (session=\"e7e5e3f2b6604248ed484f7bb7b9649b\", element=\"0.0986551436868226-151\")>,\n",
       " <selenium.webdriver.remote.webelement.WebElement (session=\"e7e5e3f2b6604248ed484f7bb7b9649b\", element=\"0.0986551436868226-152\")>,\n",
       " <selenium.webdriver.remote.webelement.WebElement (session=\"e7e5e3f2b6604248ed484f7bb7b9649b\", element=\"0.0986551436868226-153\")>,\n",
       " <selenium.webdriver.remote.webelement.WebElement (session=\"e7e5e3f2b6604248ed484f7bb7b9649b\", element=\"0.0986551436868226-154\")>,\n",
       " <selenium.webdriver.remote.webelement.WebElement (session=\"e7e5e3f2b6604248ed484f7bb7b9649b\", element=\"0.0986551436868226-155\")>,\n",
       " <selenium.webdriver.remote.webelement.WebElement (session=\"e7e5e3f2b6604248ed484f7bb7b9649b\", element=\"0.0986551436868226-156\")>,\n",
       " <selenium.webdriver.remote.webelement.WebElement (session=\"e7e5e3f2b6604248ed484f7bb7b9649b\", element=\"0.0986551436868226-157\")>,\n",
       " <selenium.webdriver.remote.webelement.WebElement (session=\"e7e5e3f2b6604248ed484f7bb7b9649b\", element=\"0.0986551436868226-158\")>,\n",
       " <selenium.webdriver.remote.webelement.WebElement (session=\"e7e5e3f2b6604248ed484f7bb7b9649b\", element=\"0.0986551436868226-159\")>,\n",
       " <selenium.webdriver.remote.webelement.WebElement (session=\"e7e5e3f2b6604248ed484f7bb7b9649b\", element=\"0.0986551436868226-160\")>,\n",
       " <selenium.webdriver.remote.webelement.WebElement (session=\"e7e5e3f2b6604248ed484f7bb7b9649b\", element=\"0.0986551436868226-161\")>,\n",
       " <selenium.webdriver.remote.webelement.WebElement (session=\"e7e5e3f2b6604248ed484f7bb7b9649b\", element=\"0.0986551436868226-162\")>,\n",
       " <selenium.webdriver.remote.webelement.WebElement (session=\"e7e5e3f2b6604248ed484f7bb7b9649b\", element=\"0.0986551436868226-163\")>,\n",
       " <selenium.webdriver.remote.webelement.WebElement (session=\"e7e5e3f2b6604248ed484f7bb7b9649b\", element=\"0.0986551436868226-164\")>,\n",
       " <selenium.webdriver.remote.webelement.WebElement (session=\"e7e5e3f2b6604248ed484f7bb7b9649b\", element=\"0.0986551436868226-165\")>,\n",
       " <selenium.webdriver.remote.webelement.WebElement (session=\"e7e5e3f2b6604248ed484f7bb7b9649b\", element=\"0.0986551436868226-166\")>,\n",
       " <selenium.webdriver.remote.webelement.WebElement (session=\"e7e5e3f2b6604248ed484f7bb7b9649b\", element=\"0.0986551436868226-167\")>,\n",
       " <selenium.webdriver.remote.webelement.WebElement (session=\"e7e5e3f2b6604248ed484f7bb7b9649b\", element=\"0.0986551436868226-168\")>,\n",
       " <selenium.webdriver.remote.webelement.WebElement (session=\"e7e5e3f2b6604248ed484f7bb7b9649b\", element=\"0.0986551436868226-169\")>,\n",
       " <selenium.webdriver.remote.webelement.WebElement (session=\"e7e5e3f2b6604248ed484f7bb7b9649b\", element=\"0.0986551436868226-170\")>,\n",
       " <selenium.webdriver.remote.webelement.WebElement (session=\"e7e5e3f2b6604248ed484f7bb7b9649b\", element=\"0.0986551436868226-171\")>,\n",
       " <selenium.webdriver.remote.webelement.WebElement (session=\"e7e5e3f2b6604248ed484f7bb7b9649b\", element=\"0.0986551436868226-172\")>,\n",
       " <selenium.webdriver.remote.webelement.WebElement (session=\"e7e5e3f2b6604248ed484f7bb7b9649b\", element=\"0.0986551436868226-173\")>,\n",
       " <selenium.webdriver.remote.webelement.WebElement (session=\"e7e5e3f2b6604248ed484f7bb7b9649b\", element=\"0.0986551436868226-174\")>,\n",
       " <selenium.webdriver.remote.webelement.WebElement (session=\"e7e5e3f2b6604248ed484f7bb7b9649b\", element=\"0.0986551436868226-175\")>,\n",
       " <selenium.webdriver.remote.webelement.WebElement (session=\"e7e5e3f2b6604248ed484f7bb7b9649b\", element=\"0.0986551436868226-176\")>,\n",
       " <selenium.webdriver.remote.webelement.WebElement (session=\"e7e5e3f2b6604248ed484f7bb7b9649b\", element=\"0.0986551436868226-177\")>,\n",
       " <selenium.webdriver.remote.webelement.WebElement (session=\"e7e5e3f2b6604248ed484f7bb7b9649b\", element=\"0.0986551436868226-178\")>,\n",
       " <selenium.webdriver.remote.webelement.WebElement (session=\"e7e5e3f2b6604248ed484f7bb7b9649b\", element=\"0.0986551436868226-179\")>,\n",
       " <selenium.webdriver.remote.webelement.WebElement (session=\"e7e5e3f2b6604248ed484f7bb7b9649b\", element=\"0.0986551436868226-180\")>,\n",
       " <selenium.webdriver.remote.webelement.WebElement (session=\"e7e5e3f2b6604248ed484f7bb7b9649b\", element=\"0.0986551436868226-181\")>,\n",
       " <selenium.webdriver.remote.webelement.WebElement (session=\"e7e5e3f2b6604248ed484f7bb7b9649b\", element=\"0.0986551436868226-182\")>,\n",
       " <selenium.webdriver.remote.webelement.WebElement (session=\"e7e5e3f2b6604248ed484f7bb7b9649b\", element=\"0.0986551436868226-183\")>,\n",
       " <selenium.webdriver.remote.webelement.WebElement (session=\"e7e5e3f2b6604248ed484f7bb7b9649b\", element=\"0.0986551436868226-184\")>,\n",
       " <selenium.webdriver.remote.webelement.WebElement (session=\"e7e5e3f2b6604248ed484f7bb7b9649b\", element=\"0.0986551436868226-185\")>,\n",
       " <selenium.webdriver.remote.webelement.WebElement (session=\"e7e5e3f2b6604248ed484f7bb7b9649b\", element=\"0.0986551436868226-186\")>,\n",
       " <selenium.webdriver.remote.webelement.WebElement (session=\"e7e5e3f2b6604248ed484f7bb7b9649b\", element=\"0.0986551436868226-187\")>,\n",
       " <selenium.webdriver.remote.webelement.WebElement (session=\"e7e5e3f2b6604248ed484f7bb7b9649b\", element=\"0.0986551436868226-188\")>,\n",
       " <selenium.webdriver.remote.webelement.WebElement (session=\"e7e5e3f2b6604248ed484f7bb7b9649b\", element=\"0.0986551436868226-189\")>,\n",
       " <selenium.webdriver.remote.webelement.WebElement (session=\"e7e5e3f2b6604248ed484f7bb7b9649b\", element=\"0.0986551436868226-190\")>,\n",
       " <selenium.webdriver.remote.webelement.WebElement (session=\"e7e5e3f2b6604248ed484f7bb7b9649b\", element=\"0.0986551436868226-191\")>,\n",
       " <selenium.webdriver.remote.webelement.WebElement (session=\"e7e5e3f2b6604248ed484f7bb7b9649b\", element=\"0.0986551436868226-192\")>,\n",
       " <selenium.webdriver.remote.webelement.WebElement (session=\"e7e5e3f2b6604248ed484f7bb7b9649b\", element=\"0.0986551436868226-193\")>,\n",
       " <selenium.webdriver.remote.webelement.WebElement (session=\"e7e5e3f2b6604248ed484f7bb7b9649b\", element=\"0.0986551436868226-194\")>,\n",
       " <selenium.webdriver.remote.webelement.WebElement (session=\"e7e5e3f2b6604248ed484f7bb7b9649b\", element=\"0.0986551436868226-195\")>,\n",
       " <selenium.webdriver.remote.webelement.WebElement (session=\"e7e5e3f2b6604248ed484f7bb7b9649b\", element=\"0.0986551436868226-196\")>,\n",
       " <selenium.webdriver.remote.webelement.WebElement (session=\"e7e5e3f2b6604248ed484f7bb7b9649b\", element=\"0.0986551436868226-197\")>,\n",
       " <selenium.webdriver.remote.webelement.WebElement (session=\"e7e5e3f2b6604248ed484f7bb7b9649b\", element=\"0.0986551436868226-198\")>,\n",
       " <selenium.webdriver.remote.webelement.WebElement (session=\"e7e5e3f2b6604248ed484f7bb7b9649b\", element=\"0.0986551436868226-199\")>,\n",
       " <selenium.webdriver.remote.webelement.WebElement (session=\"e7e5e3f2b6604248ed484f7bb7b9649b\", element=\"0.0986551436868226-200\")>,\n",
       " <selenium.webdriver.remote.webelement.WebElement (session=\"e7e5e3f2b6604248ed484f7bb7b9649b\", element=\"0.0986551436868226-201\")>,\n",
       " <selenium.webdriver.remote.webelement.WebElement (session=\"e7e5e3f2b6604248ed484f7bb7b9649b\", element=\"0.0986551436868226-202\")>,\n",
       " <selenium.webdriver.remote.webelement.WebElement (session=\"e7e5e3f2b6604248ed484f7bb7b9649b\", element=\"0.0986551436868226-203\")>,\n",
       " <selenium.webdriver.remote.webelement.WebElement (session=\"e7e5e3f2b6604248ed484f7bb7b9649b\", element=\"0.0986551436868226-204\")>,\n",
       " <selenium.webdriver.remote.webelement.WebElement (session=\"e7e5e3f2b6604248ed484f7bb7b9649b\", element=\"0.0986551436868226-205\")>,\n",
       " <selenium.webdriver.remote.webelement.WebElement (session=\"e7e5e3f2b6604248ed484f7bb7b9649b\", element=\"0.0986551436868226-206\")>,\n",
       " <selenium.webdriver.remote.webelement.WebElement (session=\"e7e5e3f2b6604248ed484f7bb7b9649b\", element=\"0.0986551436868226-207\")>,\n",
       " <selenium.webdriver.remote.webelement.WebElement (session=\"e7e5e3f2b6604248ed484f7bb7b9649b\", element=\"0.0986551436868226-208\")>,\n",
       " <selenium.webdriver.remote.webelement.WebElement (session=\"e7e5e3f2b6604248ed484f7bb7b9649b\", element=\"0.0986551436868226-209\")>,\n",
       " <selenium.webdriver.remote.webelement.WebElement (session=\"e7e5e3f2b6604248ed484f7bb7b9649b\", element=\"0.0986551436868226-210\")>,\n",
       " <selenium.webdriver.remote.webelement.WebElement (session=\"e7e5e3f2b6604248ed484f7bb7b9649b\", element=\"0.0986551436868226-211\")>,\n",
       " <selenium.webdriver.remote.webelement.WebElement (session=\"e7e5e3f2b6604248ed484f7bb7b9649b\", element=\"0.0986551436868226-212\")>,\n",
       " <selenium.webdriver.remote.webelement.WebElement (session=\"e7e5e3f2b6604248ed484f7bb7b9649b\", element=\"0.0986551436868226-213\")>,\n",
       " <selenium.webdriver.remote.webelement.WebElement (session=\"e7e5e3f2b6604248ed484f7bb7b9649b\", element=\"0.0986551436868226-214\")>,\n",
       " <selenium.webdriver.remote.webelement.WebElement (session=\"e7e5e3f2b6604248ed484f7bb7b9649b\", element=\"0.0986551436868226-215\")>,\n",
       " <selenium.webdriver.remote.webelement.WebElement (session=\"e7e5e3f2b6604248ed484f7bb7b9649b\", element=\"0.0986551436868226-216\")>,\n",
       " <selenium.webdriver.remote.webelement.WebElement (session=\"e7e5e3f2b6604248ed484f7bb7b9649b\", element=\"0.0986551436868226-217\")>,\n",
       " <selenium.webdriver.remote.webelement.WebElement (session=\"e7e5e3f2b6604248ed484f7bb7b9649b\", element=\"0.0986551436868226-218\")>,\n",
       " <selenium.webdriver.remote.webelement.WebElement (session=\"e7e5e3f2b6604248ed484f7bb7b9649b\", element=\"0.0986551436868226-219\")>,\n",
       " <selenium.webdriver.remote.webelement.WebElement (session=\"e7e5e3f2b6604248ed484f7bb7b9649b\", element=\"0.0986551436868226-220\")>,\n",
       " <selenium.webdriver.remote.webelement.WebElement (session=\"e7e5e3f2b6604248ed484f7bb7b9649b\", element=\"0.0986551436868226-221\")>,\n",
       " <selenium.webdriver.remote.webelement.WebElement (session=\"e7e5e3f2b6604248ed484f7bb7b9649b\", element=\"0.0986551436868226-222\")>,\n",
       " <selenium.webdriver.remote.webelement.WebElement (session=\"e7e5e3f2b6604248ed484f7bb7b9649b\", element=\"0.0986551436868226-223\")>,\n",
       " <selenium.webdriver.remote.webelement.WebElement (session=\"e7e5e3f2b6604248ed484f7bb7b9649b\", element=\"0.0986551436868226-224\")>,\n",
       " <selenium.webdriver.remote.webelement.WebElement (session=\"e7e5e3f2b6604248ed484f7bb7b9649b\", element=\"0.0986551436868226-225\")>,\n",
       " <selenium.webdriver.remote.webelement.WebElement (session=\"e7e5e3f2b6604248ed484f7bb7b9649b\", element=\"0.0986551436868226-226\")>,\n",
       " <selenium.webdriver.remote.webelement.WebElement (session=\"e7e5e3f2b6604248ed484f7bb7b9649b\", element=\"0.0986551436868226-227\")>,\n",
       " <selenium.webdriver.remote.webelement.WebElement (session=\"e7e5e3f2b6604248ed484f7bb7b9649b\", element=\"0.0986551436868226-228\")>,\n",
       " <selenium.webdriver.remote.webelement.WebElement (session=\"e7e5e3f2b6604248ed484f7bb7b9649b\", element=\"0.0986551436868226-229\")>,\n",
       " <selenium.webdriver.remote.webelement.WebElement (session=\"e7e5e3f2b6604248ed484f7bb7b9649b\", element=\"0.0986551436868226-230\")>,\n",
       " <selenium.webdriver.remote.webelement.WebElement (session=\"e7e5e3f2b6604248ed484f7bb7b9649b\", element=\"0.0986551436868226-231\")>,\n",
       " <selenium.webdriver.remote.webelement.WebElement (session=\"e7e5e3f2b6604248ed484f7bb7b9649b\", element=\"0.0986551436868226-232\")>,\n",
       " <selenium.webdriver.remote.webelement.WebElement (session=\"e7e5e3f2b6604248ed484f7bb7b9649b\", element=\"0.0986551436868226-233\")>,\n",
       " <selenium.webdriver.remote.webelement.WebElement (session=\"e7e5e3f2b6604248ed484f7bb7b9649b\", element=\"0.0986551436868226-234\")>,\n",
       " <selenium.webdriver.remote.webelement.WebElement (session=\"e7e5e3f2b6604248ed484f7bb7b9649b\", element=\"0.0986551436868226-235\")>,\n",
       " <selenium.webdriver.remote.webelement.WebElement (session=\"e7e5e3f2b6604248ed484f7bb7b9649b\", element=\"0.0986551436868226-236\")>,\n",
       " <selenium.webdriver.remote.webelement.WebElement (session=\"e7e5e3f2b6604248ed484f7bb7b9649b\", element=\"0.0986551436868226-237\")>,\n",
       " <selenium.webdriver.remote.webelement.WebElement (session=\"e7e5e3f2b6604248ed484f7bb7b9649b\", element=\"0.0986551436868226-238\")>,\n",
       " <selenium.webdriver.remote.webelement.WebElement (session=\"e7e5e3f2b6604248ed484f7bb7b9649b\", element=\"0.0986551436868226-239\")>,\n",
       " <selenium.webdriver.remote.webelement.WebElement (session=\"e7e5e3f2b6604248ed484f7bb7b9649b\", element=\"0.0986551436868226-240\")>,\n",
       " <selenium.webdriver.remote.webelement.WebElement (session=\"e7e5e3f2b6604248ed484f7bb7b9649b\", element=\"0.0986551436868226-241\")>,\n",
       " <selenium.webdriver.remote.webelement.WebElement (session=\"e7e5e3f2b6604248ed484f7bb7b9649b\", element=\"0.0986551436868226-242\")>,\n",
       " <selenium.webdriver.remote.webelement.WebElement (session=\"e7e5e3f2b6604248ed484f7bb7b9649b\", element=\"0.0986551436868226-243\")>,\n",
       " <selenium.webdriver.remote.webelement.WebElement (session=\"e7e5e3f2b6604248ed484f7bb7b9649b\", element=\"0.0986551436868226-244\")>,\n",
       " <selenium.webdriver.remote.webelement.WebElement (session=\"e7e5e3f2b6604248ed484f7bb7b9649b\", element=\"0.0986551436868226-245\")>,\n",
       " <selenium.webdriver.remote.webelement.WebElement (session=\"e7e5e3f2b6604248ed484f7bb7b9649b\", element=\"0.0986551436868226-246\")>,\n",
       " <selenium.webdriver.remote.webelement.WebElement (session=\"e7e5e3f2b6604248ed484f7bb7b9649b\", element=\"0.0986551436868226-247\")>,\n",
       " <selenium.webdriver.remote.webelement.WebElement (session=\"e7e5e3f2b6604248ed484f7bb7b9649b\", element=\"0.0986551436868226-248\")>,\n",
       " <selenium.webdriver.remote.webelement.WebElement (session=\"e7e5e3f2b6604248ed484f7bb7b9649b\", element=\"0.0986551436868226-249\")>,\n",
       " <selenium.webdriver.remote.webelement.WebElement (session=\"e7e5e3f2b6604248ed484f7bb7b9649b\", element=\"0.0986551436868226-250\")>,\n",
       " <selenium.webdriver.remote.webelement.WebElement (session=\"e7e5e3f2b6604248ed484f7bb7b9649b\", element=\"0.0986551436868226-251\")>,\n",
       " <selenium.webdriver.remote.webelement.WebElement (session=\"e7e5e3f2b6604248ed484f7bb7b9649b\", element=\"0.0986551436868226-252\")>,\n",
       " <selenium.webdriver.remote.webelement.WebElement (session=\"e7e5e3f2b6604248ed484f7bb7b9649b\", element=\"0.0986551436868226-253\")>,\n",
       " <selenium.webdriver.remote.webelement.WebElement (session=\"e7e5e3f2b6604248ed484f7bb7b9649b\", element=\"0.0986551436868226-254\")>,\n",
       " <selenium.webdriver.remote.webelement.WebElement (session=\"e7e5e3f2b6604248ed484f7bb7b9649b\", element=\"0.0986551436868226-255\")>,\n",
       " <selenium.webdriver.remote.webelement.WebElement (session=\"e7e5e3f2b6604248ed484f7bb7b9649b\", element=\"0.0986551436868226-256\")>,\n",
       " <selenium.webdriver.remote.webelement.WebElement (session=\"e7e5e3f2b6604248ed484f7bb7b9649b\", element=\"0.0986551436868226-257\")>,\n",
       " <selenium.webdriver.remote.webelement.WebElement (session=\"e7e5e3f2b6604248ed484f7bb7b9649b\", element=\"0.0986551436868226-258\")>,\n",
       " <selenium.webdriver.remote.webelement.WebElement (session=\"e7e5e3f2b6604248ed484f7bb7b9649b\", element=\"0.0986551436868226-259\")>,\n",
       " <selenium.webdriver.remote.webelement.WebElement (session=\"e7e5e3f2b6604248ed484f7bb7b9649b\", element=\"0.0986551436868226-260\")>,\n",
       " <selenium.webdriver.remote.webelement.WebElement (session=\"e7e5e3f2b6604248ed484f7bb7b9649b\", element=\"0.0986551436868226-261\")>,\n",
       " <selenium.webdriver.remote.webelement.WebElement (session=\"e7e5e3f2b6604248ed484f7bb7b9649b\", element=\"0.0986551436868226-262\")>,\n",
       " <selenium.webdriver.remote.webelement.WebElement (session=\"e7e5e3f2b6604248ed484f7bb7b9649b\", element=\"0.0986551436868226-263\")>,\n",
       " <selenium.webdriver.remote.webelement.WebElement (session=\"e7e5e3f2b6604248ed484f7bb7b9649b\", element=\"0.0986551436868226-264\")>,\n",
       " <selenium.webdriver.remote.webelement.WebElement (session=\"e7e5e3f2b6604248ed484f7bb7b9649b\", element=\"0.0986551436868226-265\")>,\n",
       " <selenium.webdriver.remote.webelement.WebElement (session=\"e7e5e3f2b6604248ed484f7bb7b9649b\", element=\"0.0986551436868226-266\")>,\n",
       " <selenium.webdriver.remote.webelement.WebElement (session=\"e7e5e3f2b6604248ed484f7bb7b9649b\", element=\"0.0986551436868226-267\")>,\n",
       " <selenium.webdriver.remote.webelement.WebElement (session=\"e7e5e3f2b6604248ed484f7bb7b9649b\", element=\"0.0986551436868226-268\")>,\n",
       " <selenium.webdriver.remote.webelement.WebElement (session=\"e7e5e3f2b6604248ed484f7bb7b9649b\", element=\"0.0986551436868226-269\")>,\n",
       " <selenium.webdriver.remote.webelement.WebElement (session=\"e7e5e3f2b6604248ed484f7bb7b9649b\", element=\"0.0986551436868226-270\")>,\n",
       " <selenium.webdriver.remote.webelement.WebElement (session=\"e7e5e3f2b6604248ed484f7bb7b9649b\", element=\"0.0986551436868226-271\")>,\n",
       " <selenium.webdriver.remote.webelement.WebElement (session=\"e7e5e3f2b6604248ed484f7bb7b9649b\", element=\"0.0986551436868226-272\")>,\n",
       " <selenium.webdriver.remote.webelement.WebElement (session=\"e7e5e3f2b6604248ed484f7bb7b9649b\", element=\"0.0986551436868226-273\")>,\n",
       " <selenium.webdriver.remote.webelement.WebElement (session=\"e7e5e3f2b6604248ed484f7bb7b9649b\", element=\"0.0986551436868226-274\")>,\n",
       " <selenium.webdriver.remote.webelement.WebElement (session=\"e7e5e3f2b6604248ed484f7bb7b9649b\", element=\"0.0986551436868226-275\")>,\n",
       " <selenium.webdriver.remote.webelement.WebElement (session=\"e7e5e3f2b6604248ed484f7bb7b9649b\", element=\"0.0986551436868226-276\")>,\n",
       " <selenium.webdriver.remote.webelement.WebElement (session=\"e7e5e3f2b6604248ed484f7bb7b9649b\", element=\"0.0986551436868226-277\")>,\n",
       " <selenium.webdriver.remote.webelement.WebElement (session=\"e7e5e3f2b6604248ed484f7bb7b9649b\", element=\"0.0986551436868226-278\")>,\n",
       " <selenium.webdriver.remote.webelement.WebElement (session=\"e7e5e3f2b6604248ed484f7bb7b9649b\", element=\"0.0986551436868226-279\")>,\n",
       " <selenium.webdriver.remote.webelement.WebElement (session=\"e7e5e3f2b6604248ed484f7bb7b9649b\", element=\"0.0986551436868226-280\")>,\n",
       " <selenium.webdriver.remote.webelement.WebElement (session=\"e7e5e3f2b6604248ed484f7bb7b9649b\", element=\"0.0986551436868226-281\")>,\n",
       " <selenium.webdriver.remote.webelement.WebElement (session=\"e7e5e3f2b6604248ed484f7bb7b9649b\", element=\"0.0986551436868226-282\")>,\n",
       " <selenium.webdriver.remote.webelement.WebElement (session=\"e7e5e3f2b6604248ed484f7bb7b9649b\", element=\"0.0986551436868226-283\")>,\n",
       " <selenium.webdriver.remote.webelement.WebElement (session=\"e7e5e3f2b6604248ed484f7bb7b9649b\", element=\"0.0986551436868226-284\")>,\n",
       " <selenium.webdriver.remote.webelement.WebElement (session=\"e7e5e3f2b6604248ed484f7bb7b9649b\", element=\"0.0986551436868226-285\")>,\n",
       " <selenium.webdriver.remote.webelement.WebElement (session=\"e7e5e3f2b6604248ed484f7bb7b9649b\", element=\"0.0986551436868226-286\")>,\n",
       " <selenium.webdriver.remote.webelement.WebElement (session=\"e7e5e3f2b6604248ed484f7bb7b9649b\", element=\"0.0986551436868226-287\")>,\n",
       " <selenium.webdriver.remote.webelement.WebElement (session=\"e7e5e3f2b6604248ed484f7bb7b9649b\", element=\"0.0986551436868226-288\")>,\n",
       " <selenium.webdriver.remote.webelement.WebElement (session=\"e7e5e3f2b6604248ed484f7bb7b9649b\", element=\"0.0986551436868226-289\")>,\n",
       " <selenium.webdriver.remote.webelement.WebElement (session=\"e7e5e3f2b6604248ed484f7bb7b9649b\", element=\"0.0986551436868226-290\")>,\n",
       " <selenium.webdriver.remote.webelement.WebElement (session=\"e7e5e3f2b6604248ed484f7bb7b9649b\", element=\"0.0986551436868226-291\")>,\n",
       " <selenium.webdriver.remote.webelement.WebElement (session=\"e7e5e3f2b6604248ed484f7bb7b9649b\", element=\"0.0986551436868226-292\")>,\n",
       " <selenium.webdriver.remote.webelement.WebElement (session=\"e7e5e3f2b6604248ed484f7bb7b9649b\", element=\"0.0986551436868226-293\")>,\n",
       " <selenium.webdriver.remote.webelement.WebElement (session=\"e7e5e3f2b6604248ed484f7bb7b9649b\", element=\"0.0986551436868226-294\")>,\n",
       " <selenium.webdriver.remote.webelement.WebElement (session=\"e7e5e3f2b6604248ed484f7bb7b9649b\", element=\"0.0986551436868226-295\")>,\n",
       " <selenium.webdriver.remote.webelement.WebElement (session=\"e7e5e3f2b6604248ed484f7bb7b9649b\", element=\"0.0986551436868226-296\")>,\n",
       " <selenium.webdriver.remote.webelement.WebElement (session=\"e7e5e3f2b6604248ed484f7bb7b9649b\", element=\"0.0986551436868226-297\")>,\n",
       " <selenium.webdriver.remote.webelement.WebElement (session=\"e7e5e3f2b6604248ed484f7bb7b9649b\", element=\"0.0986551436868226-298\")>,\n",
       " <selenium.webdriver.remote.webelement.WebElement (session=\"e7e5e3f2b6604248ed484f7bb7b9649b\", element=\"0.0986551436868226-299\")>,\n",
       " <selenium.webdriver.remote.webelement.WebElement (session=\"e7e5e3f2b6604248ed484f7bb7b9649b\", element=\"0.0986551436868226-300\")>,\n",
       " <selenium.webdriver.remote.webelement.WebElement (session=\"e7e5e3f2b6604248ed484f7bb7b9649b\", element=\"0.0986551436868226-301\")>,\n",
       " <selenium.webdriver.remote.webelement.WebElement (session=\"e7e5e3f2b6604248ed484f7bb7b9649b\", element=\"0.0986551436868226-302\")>,\n",
       " <selenium.webdriver.remote.webelement.WebElement (session=\"e7e5e3f2b6604248ed484f7bb7b9649b\", element=\"0.0986551436868226-303\")>,\n",
       " <selenium.webdriver.remote.webelement.WebElement (session=\"e7e5e3f2b6604248ed484f7bb7b9649b\", element=\"0.0986551436868226-304\")>,\n",
       " <selenium.webdriver.remote.webelement.WebElement (session=\"e7e5e3f2b6604248ed484f7bb7b9649b\", element=\"0.0986551436868226-305\")>,\n",
       " <selenium.webdriver.remote.webelement.WebElement (session=\"e7e5e3f2b6604248ed484f7bb7b9649b\", element=\"0.0986551436868226-306\")>,\n",
       " <selenium.webdriver.remote.webelement.WebElement (session=\"e7e5e3f2b6604248ed484f7bb7b9649b\", element=\"0.0986551436868226-307\")>,\n",
       " <selenium.webdriver.remote.webelement.WebElement (session=\"e7e5e3f2b6604248ed484f7bb7b9649b\", element=\"0.0986551436868226-308\")>,\n",
       " <selenium.webdriver.remote.webelement.WebElement (session=\"e7e5e3f2b6604248ed484f7bb7b9649b\", element=\"0.0986551436868226-309\")>,\n",
       " <selenium.webdriver.remote.webelement.WebElement (session=\"e7e5e3f2b6604248ed484f7bb7b9649b\", element=\"0.0986551436868226-310\")>,\n",
       " <selenium.webdriver.remote.webelement.WebElement (session=\"e7e5e3f2b6604248ed484f7bb7b9649b\", element=\"0.0986551436868226-311\")>,\n",
       " <selenium.webdriver.remote.webelement.WebElement (session=\"e7e5e3f2b6604248ed484f7bb7b9649b\", element=\"0.0986551436868226-312\")>,\n",
       " <selenium.webdriver.remote.webelement.WebElement (session=\"e7e5e3f2b6604248ed484f7bb7b9649b\", element=\"0.0986551436868226-313\")>,\n",
       " <selenium.webdriver.remote.webelement.WebElement (session=\"e7e5e3f2b6604248ed484f7bb7b9649b\", element=\"0.0986551436868226-314\")>,\n",
       " <selenium.webdriver.remote.webelement.WebElement (session=\"e7e5e3f2b6604248ed484f7bb7b9649b\", element=\"0.0986551436868226-315\")>,\n",
       " <selenium.webdriver.remote.webelement.WebElement (session=\"e7e5e3f2b6604248ed484f7bb7b9649b\", element=\"0.0986551436868226-316\")>,\n",
       " <selenium.webdriver.remote.webelement.WebElement (session=\"e7e5e3f2b6604248ed484f7bb7b9649b\", element=\"0.0986551436868226-317\")>,\n",
       " <selenium.webdriver.remote.webelement.WebElement (session=\"e7e5e3f2b6604248ed484f7bb7b9649b\", element=\"0.0986551436868226-318\")>,\n",
       " <selenium.webdriver.remote.webelement.WebElement (session=\"e7e5e3f2b6604248ed484f7bb7b9649b\", element=\"0.0986551436868226-319\")>,\n",
       " <selenium.webdriver.remote.webelement.WebElement (session=\"e7e5e3f2b6604248ed484f7bb7b9649b\", element=\"0.0986551436868226-320\")>,\n",
       " <selenium.webdriver.remote.webelement.WebElement (session=\"e7e5e3f2b6604248ed484f7bb7b9649b\", element=\"0.0986551436868226-321\")>,\n",
       " <selenium.webdriver.remote.webelement.WebElement (session=\"e7e5e3f2b6604248ed484f7bb7b9649b\", element=\"0.0986551436868226-322\")>,\n",
       " <selenium.webdriver.remote.webelement.WebElement (session=\"e7e5e3f2b6604248ed484f7bb7b9649b\", element=\"0.0986551436868226-323\")>,\n",
       " <selenium.webdriver.remote.webelement.WebElement (session=\"e7e5e3f2b6604248ed484f7bb7b9649b\", element=\"0.0986551436868226-324\")>,\n",
       " <selenium.webdriver.remote.webelement.WebElement (session=\"e7e5e3f2b6604248ed484f7bb7b9649b\", element=\"0.0986551436868226-325\")>,\n",
       " <selenium.webdriver.remote.webelement.WebElement (session=\"e7e5e3f2b6604248ed484f7bb7b9649b\", element=\"0.0986551436868226-326\")>,\n",
       " <selenium.webdriver.remote.webelement.WebElement (session=\"e7e5e3f2b6604248ed484f7bb7b9649b\", element=\"0.0986551436868226-327\")>,\n",
       " <selenium.webdriver.remote.webelement.WebElement (session=\"e7e5e3f2b6604248ed484f7bb7b9649b\", element=\"0.0986551436868226-328\")>,\n",
       " <selenium.webdriver.remote.webelement.WebElement (session=\"e7e5e3f2b6604248ed484f7bb7b9649b\", element=\"0.0986551436868226-329\")>,\n",
       " <selenium.webdriver.remote.webelement.WebElement (session=\"e7e5e3f2b6604248ed484f7bb7b9649b\", element=\"0.0986551436868226-330\")>,\n",
       " <selenium.webdriver.remote.webelement.WebElement (session=\"e7e5e3f2b6604248ed484f7bb7b9649b\", element=\"0.0986551436868226-331\")>,\n",
       " <selenium.webdriver.remote.webelement.WebElement (session=\"e7e5e3f2b6604248ed484f7bb7b9649b\", element=\"0.0986551436868226-332\")>,\n",
       " <selenium.webdriver.remote.webelement.WebElement (session=\"e7e5e3f2b6604248ed484f7bb7b9649b\", element=\"0.0986551436868226-333\")>,\n",
       " <selenium.webdriver.remote.webelement.WebElement (session=\"e7e5e3f2b6604248ed484f7bb7b9649b\", element=\"0.0986551436868226-334\")>,\n",
       " <selenium.webdriver.remote.webelement.WebElement (session=\"e7e5e3f2b6604248ed484f7bb7b9649b\", element=\"0.0986551436868226-335\")>,\n",
       " <selenium.webdriver.remote.webelement.WebElement (session=\"e7e5e3f2b6604248ed484f7bb7b9649b\", element=\"0.0986551436868226-336\")>,\n",
       " <selenium.webdriver.remote.webelement.WebElement (session=\"e7e5e3f2b6604248ed484f7bb7b9649b\", element=\"0.0986551436868226-337\")>,\n",
       " <selenium.webdriver.remote.webelement.WebElement (session=\"e7e5e3f2b6604248ed484f7bb7b9649b\", element=\"0.0986551436868226-338\")>,\n",
       " <selenium.webdriver.remote.webelement.WebElement (session=\"e7e5e3f2b6604248ed484f7bb7b9649b\", element=\"0.0986551436868226-339\")>,\n",
       " <selenium.webdriver.remote.webelement.WebElement (session=\"e7e5e3f2b6604248ed484f7bb7b9649b\", element=\"0.0986551436868226-340\")>,\n",
       " <selenium.webdriver.remote.webelement.WebElement (session=\"e7e5e3f2b6604248ed484f7bb7b9649b\", element=\"0.0986551436868226-341\")>,\n",
       " <selenium.webdriver.remote.webelement.WebElement (session=\"e7e5e3f2b6604248ed484f7bb7b9649b\", element=\"0.0986551436868226-342\")>,\n",
       " <selenium.webdriver.remote.webelement.WebElement (session=\"e7e5e3f2b6604248ed484f7bb7b9649b\", element=\"0.0986551436868226-343\")>,\n",
       " <selenium.webdriver.remote.webelement.WebElement (session=\"e7e5e3f2b6604248ed484f7bb7b9649b\", element=\"0.0986551436868226-344\")>,\n",
       " <selenium.webdriver.remote.webelement.WebElement (session=\"e7e5e3f2b6604248ed484f7bb7b9649b\", element=\"0.0986551436868226-345\")>,\n",
       " <selenium.webdriver.remote.webelement.WebElement (session=\"e7e5e3f2b6604248ed484f7bb7b9649b\", element=\"0.0986551436868226-346\")>,\n",
       " <selenium.webdriver.remote.webelement.WebElement (session=\"e7e5e3f2b6604248ed484f7bb7b9649b\", element=\"0.0986551436868226-347\")>,\n",
       " <selenium.webdriver.remote.webelement.WebElement (session=\"e7e5e3f2b6604248ed484f7bb7b9649b\", element=\"0.0986551436868226-348\")>,\n",
       " <selenium.webdriver.remote.webelement.WebElement (session=\"e7e5e3f2b6604248ed484f7bb7b9649b\", element=\"0.0986551436868226-349\")>,\n",
       " <selenium.webdriver.remote.webelement.WebElement (session=\"e7e5e3f2b6604248ed484f7bb7b9649b\", element=\"0.0986551436868226-350\")>,\n",
       " <selenium.webdriver.remote.webelement.WebElement (session=\"e7e5e3f2b6604248ed484f7bb7b9649b\", element=\"0.0986551436868226-351\")>,\n",
       " <selenium.webdriver.remote.webelement.WebElement (session=\"e7e5e3f2b6604248ed484f7bb7b9649b\", element=\"0.0986551436868226-352\")>,\n",
       " <selenium.webdriver.remote.webelement.WebElement (session=\"e7e5e3f2b6604248ed484f7bb7b9649b\", element=\"0.0986551436868226-353\")>,\n",
       " <selenium.webdriver.remote.webelement.WebElement (session=\"e7e5e3f2b6604248ed484f7bb7b9649b\", element=\"0.0986551436868226-354\")>,\n",
       " <selenium.webdriver.remote.webelement.WebElement (session=\"e7e5e3f2b6604248ed484f7bb7b9649b\", element=\"0.0986551436868226-355\")>,\n",
       " <selenium.webdriver.remote.webelement.WebElement (session=\"e7e5e3f2b6604248ed484f7bb7b9649b\", element=\"0.0986551436868226-356\")>,\n",
       " <selenium.webdriver.remote.webelement.WebElement (session=\"e7e5e3f2b6604248ed484f7bb7b9649b\", element=\"0.0986551436868226-357\")>,\n",
       " <selenium.webdriver.remote.webelement.WebElement (session=\"e7e5e3f2b6604248ed484f7bb7b9649b\", element=\"0.0986551436868226-358\")>,\n",
       " <selenium.webdriver.remote.webelement.WebElement (session=\"e7e5e3f2b6604248ed484f7bb7b9649b\", element=\"0.0986551436868226-359\")>,\n",
       " <selenium.webdriver.remote.webelement.WebElement (session=\"e7e5e3f2b6604248ed484f7bb7b9649b\", element=\"0.0986551436868226-360\")>]"
      ]
     },
     "execution_count": 25,
     "metadata": {},
     "output_type": "execute_result"
    }
   ],
   "source": [
    "elems"
   ]
  },
  {
   "cell_type": "markdown",
   "metadata": {},
   "source": [
    "There are many ways to use the `webdriver` to find elements, and they are summarized [here](https://automatetheboringstuff.com/chapter11/#calibre_link-11)."
   ]
  },
  {
   "cell_type": "markdown",
   "metadata": {},
   "source": [
    "There are also ways to interact with a webpage, and input our own text as necessary. Let use the search box of the [Automate](https://automatetheboringstuff.com/) website as the example:\n",
    "\n",
    "![Search box on the Automate Site](files/AutomateSearch.png)"
   ]
  },
  {
   "cell_type": "code",
   "execution_count": 44,
   "metadata": {
    "collapsed": true
   },
   "outputs": [],
   "source": [
    "# Element by class name example\n",
    "\n",
    "searchElem = browser.find_element_by_class_name('search-field')"
   ]
  },
  {
   "cell_type": "markdown",
   "metadata": {},
   "source": [
    "We can use the `.send_keys` method to pass text to this element, and then submit via the form type of that element."
   ]
  },
  {
   "cell_type": "code",
   "execution_count": 46,
   "metadata": {
    "collapsed": false
   },
   "outputs": [],
   "source": [
    "# Send the text 'zophie' to the Search element\n",
    "searchElem.send_keys('zophie')\n",
    "\n",
    "# Submit that element, if available\n",
    "searchElem.submit()\n",
    "\n",
    "\n",
    "#Clear any existing text sent to the element using 'Ctrl+A' and a new string; otherwise `send_keys` will just append it\n",
    "#searchElem.sendKeys(Keys.chord(Keys.CONTROL, \"a\"), \"zophie\");"
   ]
  },
  {
   "cell_type": "markdown",
   "metadata": {},
   "source": [
    "We can also use browser functions themselves programmatically, including functions like 'back', 'forward', 'refresh', etc."
   ]
  },
  {
   "cell_type": "code",
   "execution_count": 48,
   "metadata": {
    "collapsed": true
   },
   "outputs": [],
   "source": [
    "browser.back()\n",
    "browser.forward()\n",
    "browser.refresh()"
   ]
  },
  {
   "cell_type": "markdown",
   "metadata": {},
   "source": [
    "We can also quit the entire browser with `.quit()`."
   ]
  },
  {
   "cell_type": "code",
   "execution_count": 49,
   "metadata": {
    "collapsed": true
   },
   "outputs": [],
   "source": [
    "browser.quit()"
   ]
  },
  {
   "cell_type": "markdown",
   "metadata": {},
   "source": [
    "We can also use Python scripts to read the content via the `selenium` browser."
   ]
  },
  {
   "cell_type": "code",
   "execution_count": 51,
   "metadata": {
    "collapsed": true
   },
   "outputs": [],
   "source": [
    "browser = webdriver.Chrome()\n",
    "browser.get('https://automatetheboringstuff.com')\n",
    "\n",
    "elem = browser.find_element_by_css_selector('#post-6 > div > p:nth-child(6)')"
   ]
  },
  {
   "cell_type": "markdown",
   "metadata": {},
   "source": [
    "All web elements have a `.text()` variable that stores all text of the element."
   ]
  },
  {
   "cell_type": "code",
   "execution_count": 52,
   "metadata": {
    "collapsed": false
   },
   "outputs": [
    {
     "data": {
      "text/plain": [
       "'Everyone should learn to code, but not everyone needs to become a software engineer or computer scientist. Automate the Boring Stuff with Python is written for office workers, students, administrators, and anyone who uses a computer to learn how to code small, practical programs to automate tasks on their computer.'"
      ]
     },
     "execution_count": 52,
     "metadata": {},
     "output_type": "execute_result"
    }
   ],
   "source": [
    "elem.text"
   ]
  },
  {
   "cell_type": "markdown",
   "metadata": {},
   "source": [
    "Similarly, we can select all text on the webpage via the `<html>` or `<body>` element, which should include all text on the page, since `<html>` is the first element on any webpage."
   ]
  },
  {
   "cell_type": "code",
   "execution_count": 53,
   "metadata": {
    "collapsed": false,
    "scrolled": true
   },
   "outputs": [
    {
     "name": "stdout",
     "output_type": "stream",
     "text": [
      "Skip to content\n",
      "Automate the Boring Stuff with Python\n",
      "Practical Programming for Total Beginners\n",
      "Learn to Code\n",
      "\n",
      "(Skip to Table of Contents)\n",
      "\"The best part of programming is the triumph of seeing the machine do something useful. Automate the Boring Stuff with Python frames all of programming as these small triumphs; it makes the boring fun.\"\n",
      "—Hilary Mason, Founder of Fast Forward Labs\n",
      "Wil Wheaton on reading Automate the Boring Stuff with Python: \"I’m having a lot of fun breaking things and then putting them back together, and just remembering the joy of turning a set of instructions into something useful and fun, like I did when I was a kid.\"\n",
      "Automate the Boring Stuff with Python is recommended on the Open Source Summer 2015 Reading List!\n",
      "Everyone should learn to code, but not everyone needs to become a software engineer or computer scientist. Automate the Boring Stuff with Python is written for office workers, students, administrators, and anyone who uses a computer to learn how to code small, practical programs to automate tasks on their computer.\n",
      "Have a folder with thousands of files that need to be renamed?\n",
      "Need to look through thousands of rows in an Excel spreadsheet looking for ones to update?\n",
      "Have to pull text off of several web pages?\n",
      "Want to copy the data from hundreds of PDFs?\n",
      "Have any tedious computer task that you wish you had an intern for?\n",
      "Normally this would involve hours of mindless clicking and typing. But programming your computer to do it will save you time and effort.\n",
      "Part 1 of Automate teaches total beginners with no programming experience the Python programming language. Part 2 will be of interest to seasoned developers as well: It covers several modules to extend basic Python skills. Python has a gentle learning curve yet is also used by professional software developers. You don't need to know all the complexities of algorithms and syntax, you just want to write basic programs to automate mundane computer tasks. In the process, even total beginners will learn to use Python to control their computers without having to learn computer science. This is a practical programming guide for the rest of us.\n",
      "Free to Read Online\n",
      "Automate the Boring Stuff with Python is released under a Creative Commons license. You can read it, in full, on this website. Programming is a skill that should be in the hands of everyone: No, Seriously, You Should Learn to Code..\n",
      "Online Course Discount Code\n",
      "There is also an online course that follows the book if you prefer a video format. Use this link to enter the discount code HALF_OFF and get 50% off the full price. You can also see the first 15 videos on YouTube.\n",
      "Support the Author: Buy the book on Amazon or\n",
      "the book/ebook bundle directly from No Starch Press.\n",
      "\n",
      "Read the author's other free Python books:\n",
      "Table of Contents\n",
      "Part 1 - The Basics of Python Programming\n",
      "Introduction\n",
      "Python Basics\n",
      "Flow Control\n",
      "Functions\n",
      "Lists\n",
      "Dictionaries and Structuring Data\n",
      "Manipulating Strings\n",
      "Part 2 - Automating Tasks\n",
      "Pattern Matching with Regular Expressions\n",
      "Reading and Writing Files\n",
      "Organizing Files\n",
      "Debugging\n",
      "Web Scraping\n",
      "Working with Excel Spreadsheets\n",
      "Working with PDF and Word Documents\n",
      "Working with CSV Files and JSON Data\n",
      "Time, Scheduling Tasks, and Launching Programs\n",
      "Sending Email and Text Messages\n",
      "Manipulating Images\n",
      "Controlling the Keyboard and Mouse with GUI Automation\n",
      "A - Installing Third-Party Modules\n",
      "B - Running Programs\n",
      "C - Answers to Practice Questions\n",
      "Al Sweigart is the author of Invent Your Own Computer Games with Python, Making Games with Python & Pygame, and Hacking Secret Ciphers with Python. His books are freely available under a Creative Commons license from http://inventwithpython.com.\n",
      "Built with WordPress | Theme: Eighties by Kopepasah.\n"
     ]
    }
   ],
   "source": [
    "bodyElem = browser.find_element_by_css_selector('html')\n",
    "print(bodyElem.text)"
   ]
  },
  {
   "cell_type": "markdown",
   "metadata": {},
   "source": [
    "`selenium` is a very powerful tool, and has a variety of other functions tha cannot be covered in one lesson. Further documentation is available on [their website](http://selenium-python.readthedocs.io/) and on the [Automate the Boring Stuff Website in Chapter](https://automatetheboringstuff.com/chapter11/)"
   ]
  },
  {
   "cell_type": "markdown",
   "metadata": {},
   "source": [
    "### Recap\n",
    "* To import `selenium`, you need to run the `from selenium import webdriver` command.\n",
    "* To open the browser, run `browser = webdriver.Chrome()` (Or whatever browser you prefer).\n",
    "* To send the browser to a URL, run `browser.get()` with a URL string.\n",
    "* The `browser.find_elements_by_css_selector()` method will return a list of Web Element objects.\n",
    "* Web Element objects have a text variable, via `.text.` that contains the element text in a string. \n",
    "* Once defined, a web element can be interacted with programmatically via a variety of methods. \n",
    "* The `.click()` method will click on an element in the browser.\n",
    "* The `.send_keys()` method will type into a specific element in the browser.\n",
    "* The `.submit()` method will simulate clicking on the Submit button for a form.\n",
    "* The browser can also be controlled with these methods: `.back()`, `.forward()`, `.refresh()`, `.quit()`. "
   ]
  }
 ],
 "metadata": {
  "kernelspec": {
   "display_name": "Python 3",
   "language": "python",
   "name": "python3"
  },
  "language_info": {
   "codemirror_mode": {
    "name": "ipython",
    "version": 3
   },
   "file_extension": ".py",
   "mimetype": "text/x-python",
   "name": "python",
   "nbconvert_exporter": "python",
   "pygments_lexer": "ipython3",
   "version": "3.5.1"
  }
 },
 "nbformat": 4,
 "nbformat_minor": 0
}
