{
 "cells": [
  {
   "cell_type": "markdown",
   "metadata": {},
   "source": [
    "## Lesson 17:\n",
    "\n",
    "### Data Structures\n"
   ]
  },
  {
   "cell_type": "markdown",
   "metadata": {},
   "source": [
    "Lists and dictionaries organize data in structures for programs."
   ]
  },
  {
   "cell_type": "code",
   "execution_count": 3,
   "metadata": {
    "collapsed": false
   },
   "outputs": [],
   "source": [
    "cat = {'name' : 'Zophie', 'age': 7, 'color':'gray'}"
   ]
  },
  {
   "cell_type": "markdown",
   "metadata": {},
   "source": [
    "A list of Dictionaries is called a Data Structure. "
   ]
  },
  {
   "cell_type": "code",
   "execution_count": 4,
   "metadata": {
    "collapsed": false,
    "scrolled": true
   },
   "outputs": [
    {
     "name": "stdout",
     "output_type": "stream",
     "text": [
      "[{'color': 'gray', 'name': 'Zophie', 'age': 7}, {'color': 'black', 'name': 'Fooka', 'age': 5}, {'color': 'gray', 'name': 'Fat-tail', 'age': 5}, {'color': 'orange', 'name': '???', 'age': -1}]\n"
     ]
    }
   ],
   "source": [
    "allCats = []\n",
    "\n",
    "allCats.append({'name' : 'Zophie', 'age': 7, 'color':'gray'})\n",
    "allCats.append({'name' : 'Fooka', 'age': 5, 'color':'black'})\n",
    "allCats.append({'name' : 'Fat-tail', 'age': 5, 'color':'gray'})\n",
    "allCats.append({'name' : '???', 'age': -1, 'color':'orange'})\n",
    "\n",
    "print(allCats)"
   ]
  },
  {
   "cell_type": "markdown",
   "metadata": {},
   "source": [
    "### The Tic-Tac-Toe Game Program\n",
    "\n",
    "We can use data structures to represent values in Python that can be understood. For example, using key-value pairs and strings to represent regions of a tic-tac-toe board."
   ]
  },
  {
   "cell_type": "code",
   "execution_count": 12,
   "metadata": {
    "collapsed": false,
    "scrolled": true
   },
   "outputs": [
    {
     "data": {
      "text/html": [
       "<img src=\"https://automatetheboringstuff.com/images/000003.png\"/>"
      ],
      "text/plain": [
       "<IPython.core.display.Image object>"
      ]
     },
     "execution_count": 12,
     "metadata": {},
     "output_type": "execute_result"
    }
   ],
   "source": [
    "import requests\n",
    "from IPython.display import Image\n",
    "\n",
    "Image(url='https://automatetheboringstuff.com/images/000003.png')"
   ]
  },
  {
   "cell_type": "code",
   "execution_count": null,
   "metadata": {
    "collapsed": true
   },
   "outputs": [],
   "source": []
  },
  {
   "cell_type": "markdown",
   "metadata": {},
   "source": [
    "# Recap\n",
    "\n",
    "* Dictionaries contain key-value pairs. Keys are like a list's indexes.\n",
    "* Dictionaries are mutable. Variables hold references to dictionary values, not the dictionary value itself.\n",
    "* Dictionaries are unordered. There is no \"first\" key-value pair in a dictionary.\n",
    "* The keys(), values() and items() methods will return list-like values of a dictionary's keys, values, and both keys and values, respectively.\n",
    "* The get() method can return a default value if a key doesn't exist.\n",
    "* The setdefault() method can set a value if a key doesn't exist.\n",
    "* The pprint module's pprint() 'pretty print' function can display a dictionary value cleanly. The pformat() function returns a string value of this output."
   ]
  }
 ],
 "metadata": {
  "kernelspec": {
   "display_name": "Python 3",
   "language": "python",
   "name": "python3"
  },
  "language_info": {
   "codemirror_mode": {
    "name": "ipython",
    "version": 3
   },
   "file_extension": ".py",
   "mimetype": "text/x-python",
   "name": "python",
   "nbconvert_exporter": "python",
   "pygments_lexer": "ipython3",
   "version": "3.5.1"
  }
 },
 "nbformat": 4,
 "nbformat_minor": 0
}
