{
 "cells": [
  {
   "cell_type": "markdown",
   "metadata": {},
   "source": [
    "### Lesson 40:\n",
    "\n",
    "### Parsing HTML with the `BeautifulSoup` Module"
   ]
  },
  {
   "cell_type": "markdown",
   "metadata": {},
   "source": [
    "HTML stands for 'Hyper Text Markup Language', which is text that loads elements of a webpage.\n",
    "\n",
    "Parsing HTML in Python can be done via the `beautifulsoup` module. It is a third party module, and must be installed via `pip`."
   ]
  },
  {
   "cell_type": "code",
   "execution_count": 2,
   "metadata": {
    "collapsed": false
   },
   "outputs": [],
   "source": [
    "import bs4"
   ]
  },
  {
   "cell_type": "markdown",
   "metadata": {},
   "source": [
    "This module can be used in conjunction with `requests` to download and parse webpages. \n",
    "\n",
    "For example, to download a [webpage](http://www.amazon.ca/Automate-Boring-Stuff-Python-Programming/dp/1593275994) from Amazon, and find price information on the page."
   ]
  },
  {
   "cell_type": "code",
   "execution_count": 12,
   "metadata": {
    "collapsed": false
   },
   "outputs": [],
   "source": [
    "import bs4\n",
    "import requests\n",
    "\n",
    "res = requests.get('http://www.amazon.ca/Automate-Boring-Stuff-Python-Programming/dp/1593275994')\n",
    "res.raise_for_status()"
   ]
  },
  {
   "cell_type": "markdown",
   "metadata": {},
   "source": [
    "No errors were raised, we can now parse the webpage text:"
   ]
  },
  {
   "cell_type": "code",
   "execution_count": 13,
   "metadata": {
    "collapsed": false,
    "scrolled": true
   },
   "outputs": [
    {
     "name": "stderr",
     "output_type": "stream",
     "text": [
      "/usr/local/lib/python3.5/site-packages/bs4/__init__.py:166: UserWarning: No parser was explicitly specified, so I'm using the best available HTML parser for this system (\"html.parser\"). This usually isn't a problem, but if you run this code on another system, or in a different virtual environment, it may use a different parser and behave differently.\n",
      "\n",
      "To get rid of this warning, change this:\n",
      "\n",
      " BeautifulSoup([your markup])\n",
      "\n",
      "to this:\n",
      "\n",
      " BeautifulSoup([your markup], \"html.parser\")\n",
      "\n",
      "  markup_type=markup_type))\n"
     ]
    }
   ],
   "source": [
    "soup = bs4.BeautifulSoup(res.text)"
   ]
  },
  {
   "cell_type": "markdown",
   "metadata": {},
   "source": [
    "This typically raises a warning, but it is not an exception. It can be solved by using `bs4.BeautifulSoup(res.text, 'html.paser')` as described.\n",
    "\n",
    "We can now find elements in the page, and we can do this via CSS selections and the `.select` method.\n",
    "\n",
    "In Chrome, we can copy the CSS Path via 'Inspect > Copy >  Copy selector'. "
   ]
  },
  {
   "cell_type": "code",
   "execution_count": 14,
   "metadata": {
    "collapsed": false,
    "scrolled": false
   },
   "outputs": [
    {
     "name": "stdout",
     "output_type": "stream",
     "text": [
      "<span class=\"a-size-medium a-color-price offer-price a-text-normal\">CDN$ 27.22</span>\n",
      "CDN$ 27.22\n"
     ]
    }
   ],
   "source": [
    "# Store this element in that list at index 0\n",
    "elems = soup.select('#buyNewSection > div > div > span > span')\n",
    "\n",
    "print(elems[0])\n",
    "print(elems[0].text)"
   ]
  },
  {
   "cell_type": "markdown",
   "metadata": {},
   "source": [
    "The element was sucessful imported and stored."
   ]
  },
  {
   "cell_type": "markdown",
   "metadata": {},
   "source": [
    "### Amazon Price Scraper Program:"
   ]
  },
  {
   "cell_type": "markdown",
   "metadata": {},
   "source": [
    "If we tie this all together, we can create a simple program to perform these steps."
   ]
  },
  {
   "cell_type": "code",
   "execution_count": 23,
   "metadata": {
    "collapsed": false,
    "scrolled": true
   },
   "outputs": [
    {
     "name": "stdout",
     "output_type": "stream",
     "text": [
      "The current price of 'Automate the Boring Stuff with Python' on Amazon is CDN$ 27.22\n"
     ]
    }
   ],
   "source": [
    "import bs4, requests\n",
    "\n",
    "def getAmazonPrice(productUrl):\n",
    "    # Use requests to download a URL\n",
    "    res = requests.get(productUrl)\n",
    "    # Raise for status to check for errors and crash if there are issues\n",
    "    res.raise_for_status()\n",
    "    \n",
    "    # Pass the HTML to Beautiful Soup\n",
    "    soup = bs4.BeautifulSoup(res.text, 'html.parser')\n",
    "    # Pass the price CSS selector, and store into a list of all matching elements\n",
    "    elems = soup.select('#buyNewSection > div > div > span > span')\n",
    "    # Examine and return the text of the first (and only) element in the list\n",
    "    return elems[0].text.strip()\n",
    "    \n",
    "    \n",
    "    \n",
    "price = getAmazonPrice('http://www.amazon.ca/Automate-Boring-Stuff-Python-Programming/dp/1593275994')\n",
    "print('The current price of \\'Automate the Boring Stuff with Python\\' on Amazon is ' + price)"
   ]
  },
  {
   "cell_type": "markdown",
   "metadata": {},
   "source": [
    "This method can be used to automate web scraping without ever using the browser. However, it may require `try` and `except` statement to handle special conditions; the CSS Selector may not apply to every page."
   ]
  },
  {
   "cell_type": "markdown",
   "metadata": {},
   "source": [
    "### Recap\n",
    "* Web pages are plaintext files formatted as HTML.\n",
    "* HTML can be parsed with the `BeautifulSoup` module.\n",
    "* `BeautifulSoup` is imported as `bs4`.\n",
    "* Pass the string with the HTML to `bs4.BeautifulSoup()` function to get a Soup object.\n",
    "* The Soup object has a `.select()` method that can be passed a string of the CSS Selector for an HTML tag.\n",
    "* You can get a CSS Selector string from the browser's developer tools.\n",
    "* The `.select()` method will return a list of matching element objects."
   ]
  }
 ],
 "metadata": {
  "kernelspec": {
   "display_name": "Python 3",
   "language": "python",
   "name": "python3"
  },
  "language_info": {
   "codemirror_mode": {
    "name": "ipython",
    "version": 3
   },
   "file_extension": ".py",
   "mimetype": "text/x-python",
   "name": "python",
   "nbconvert_exporter": "python",
   "pygments_lexer": "ipython3",
   "version": "3.5.1"
  }
 },
 "nbformat": 4,
 "nbformat_minor": 0
}
