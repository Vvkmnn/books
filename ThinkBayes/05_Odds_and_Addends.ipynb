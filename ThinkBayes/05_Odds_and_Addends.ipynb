{
 "cells": [
  {
   "cell_type": "code",
   "execution_count": 1,
   "metadata": {
    "collapsed": false
   },
   "outputs": [
    {
     "data": {
      "text/html": [
       "<style>\n",
       "@import url('http://fonts.googleapis.com/css?family=Source+Code+Pro');\n",
       "@import url('http://fonts.googleapis.com/css?family=Vollkorn');\n",
       "@import url('http://fonts.googleapis.com/css?family=Arimo');\n",
       "@import url('http://fonts.googleapis.com/css?family=Fira_sans');\n",
       "\n",
       "    div.cell{\n",
       "        width: 900px;\n",
       "        margin-left: 0% !important;\n",
       "        margin-right: auto;\n",
       "    }\n",
       "    div.text_cell code {\n",
       "        background: transparent;\n",
       "        color: #000000;\n",
       "        font-weight: 600;\n",
       "        font-size: 11pt;\n",
       "        font-style: bold;\n",
       "        font-family:  'Source Code Pro', Consolas, monocco, monospace;\n",
       "   }\n",
       "    h1 {\n",
       "        font-family: 'Open sans',verdana,arial,sans-serif;\n",
       "\t}\n",
       "\t\n",
       "    div.input_area {\n",
       "        background: #F6F6F9;\n",
       "        border: 1px solid #586e75;\n",
       "    }\n",
       "\n",
       "    .text_cell_render h1 {\n",
       "        font-weight: 200;\n",
       "        font-size: 30pt;\n",
       "        line-height: 100%;\n",
       "        color:#c76c0c;\n",
       "        margin-bottom: 0.5em;\n",
       "        margin-top: 1em;\n",
       "        display: block;\n",
       "        white-space: wrap;\n",
       "        text-align: left;\n",
       "    } \n",
       "    h2 {\n",
       "        font-family: 'Open sans',verdana,arial,sans-serif;\n",
       "        text-align: left;\n",
       "    }\n",
       "    .text_cell_render h2 {\n",
       "        font-weight: 200;\n",
       "        font-size: 16pt;\n",
       "        font-style: italic;\n",
       "        line-height: 100%;\n",
       "        color:#c76c0c;\n",
       "        margin-bottom: 0.5em;\n",
       "        margin-top: 1.5em;\n",
       "        display: block;\n",
       "        white-space: wrap;\n",
       "        text-align: left;\n",
       "    } \n",
       "    h3 {\n",
       "        font-family: 'Open sans',verdana,arial,sans-serif;\n",
       "    }\n",
       "    .text_cell_render h3 {\n",
       "        font-weight: 200;\n",
       "        font-size: 14pt;\n",
       "        line-height: 100%;\n",
       "        color:#d77c0c;\n",
       "        margin-bottom: 0.5em;\n",
       "        margin-top: 2em;\n",
       "        display: block;\n",
       "        white-space: wrap;\n",
       "        text-align: left;\n",
       "    }\n",
       "    h4 {\n",
       "        font-family: 'Open sans',verdana,arial,sans-serif;\n",
       "    }\n",
       "    .text_cell_render h4 {\n",
       "        font-weight: 100;\n",
       "        font-size: 14pt;\n",
       "        color:#d77c0c;\n",
       "        margin-bottom: 0.5em;\n",
       "        margin-top: 0.5em;\n",
       "        display: block;\n",
       "        white-space: nowrap;\n",
       "    }\n",
       "    h5 {\n",
       "        font-family: 'Open sans',verdana,arial,sans-serif;\n",
       "    }\n",
       "    .text_cell_render h5 {\n",
       "        font-weight: 200;\n",
       "        font-style: normal;\n",
       "        color: #1d3b84;\n",
       "        font-size: 16pt;\n",
       "        margin-bottom: 0em;\n",
       "        margin-top: 0.5em;\n",
       "        display: block;\n",
       "        white-space: nowrap;\n",
       "    }\n",
       "    div.text_cell_render{\n",
       "        font-family: 'Fira sans', verdana,arial,sans-serif;\n",
       "        line-height: 125%;\n",
       "        font-size: 115%;\n",
       "        text-align:justify;\n",
       "        text-justify:inter-word;\n",
       "    }\n",
       "    div.output_subarea.output_text.output_pyout {\n",
       "        overflow-x: auto;\n",
       "        overflow-y: scroll;\n",
       "        max-height: 50000px;\n",
       "    }\n",
       "    div.output_subarea.output_stream.output_stdout.output_text {\n",
       "        overflow-x: auto;\n",
       "        overflow-y: scroll;\n",
       "        max-height: 50000px;\n",
       "    }\n",
       "    div.output_wrapper{\n",
       "        margin-top:0.2em;\n",
       "        margin-bottom:0.2em;\n",
       "}\n",
       "\n",
       "    code{\n",
       "      font-size: 70%;\n",
       "    }\n",
       "    .rendered_html code{\n",
       "    background-color: transparent;\n",
       "    }\n",
       "    ul{\n",
       "        margin: 2em;\n",
       "    }\n",
       "    ul li{\n",
       "        padding-left: 0.5em; \n",
       "        margin-bottom: 0.5em; \n",
       "        margin-top: 0.5em; \n",
       "    }\n",
       "    ul li li{\n",
       "        padding-left: 0.2em; \n",
       "        margin-bottom: 0.2em; \n",
       "        margin-top: 0.2em; \n",
       "    }\n",
       "    ol{\n",
       "        margin: 2em;\n",
       "    }\n",
       "    ol li{\n",
       "        padding-left: 0.5em; \n",
       "        margin-bottom: 0.5em; \n",
       "        margin-top: 0.5em; \n",
       "    }\n",
       "    ul li{\n",
       "        padding-left: 0.5em; \n",
       "        margin-bottom: 0.5em; \n",
       "        margin-top: 0.2em; \n",
       "    }\n",
       "    a:link{\n",
       "       font-weight: bold;\n",
       "       color:#447adb;\n",
       "    }\n",
       "    a:visited{\n",
       "       font-weight: bold;\n",
       "       color: #1d3b84;\n",
       "    }\n",
       "    a:hover{\n",
       "       font-weight: bold;\n",
       "       color: #1d3b84;\n",
       "    }\n",
       "    a:focus{\n",
       "       font-weight: bold;\n",
       "       color:#447adb;\n",
       "    }\n",
       "    a:active{\n",
       "       font-weight: bold;\n",
       "       color:#447adb;\n",
       "    }\n",
       "    .rendered_html :link {\n",
       "       text-decoration: underline; \n",
       "    }\n",
       "    .rendered_html :hover {\n",
       "       text-decoration: none; \n",
       "    }\n",
       "    .rendered_html :visited {\n",
       "      text-decoration: none;\n",
       "    }\n",
       "    .rendered_html :focus {\n",
       "      text-decoration: none;\n",
       "    }\n",
       "    .rendered_html :active {\n",
       "      text-decoration: none;\n",
       "    }\n",
       "    .warning{\n",
       "        color: rgb( 240, 20, 20 )\n",
       "    } \n",
       "    hr {\n",
       "      color: #f3f3f3;\n",
       "      background-color: #f3f3f3;\n",
       "      height: 1px;\n",
       "    }\n",
       "    blockquote{\n",
       "      display:block;\n",
       "      background: #fcfcfc;\n",
       "      border-left: 5px solid #c76c0c;\n",
       "      font-family: 'Open sans',verdana,arial,sans-serif;\n",
       "      width:680px;\n",
       "      padding: 10px 10px 10px 10px;\n",
       "      text-align:justify;\n",
       "      text-justify:inter-word;\n",
       "      }\n",
       "      blockquote p {\n",
       "        margin-bottom: 0;\n",
       "        line-height: 125%;\n",
       "        font-size: 100%;\n",
       "      }\n",
       "</style>\n",
       "<script>\n",
       "    MathJax.Hub.Config({\n",
       "                        TeX: {\n",
       "                           extensions: [\"AMSmath.js\"]\n",
       "                           },\n",
       "                tex2jax: {\n",
       "                    inlineMath: [ ['$','$'], [\"\\\\(\",\"\\\\)\"] ],\n",
       "                    displayMath: [ ['$$','$$'], [\"\\\\[\",\"\\\\]\"] ]\n",
       "                },\n",
       "                displayAlign: 'center', // Change this to 'center' to center equations.\n",
       "                \"HTML-CSS\": {\n",
       "                    scale:100,\n",
       "                        availableFonts: [],\n",
       "                        preferredFont:null,\n",
       "                        webFont: \"TeX\",\n",
       "                    styles: {'.MathJax_Display': {\"margin\": 4}}\n",
       "                }\n",
       "        });\n",
       "</script>\n"
      ],
      "text/plain": [
       "<IPython.core.display.HTML object>"
      ]
     },
     "execution_count": 1,
     "metadata": {},
     "output_type": "execute_result"
    }
   ],
   "source": [
    "# format the book\n",
    "%matplotlib inline\n",
    "import sys\n",
    "from __future__ import division, print_function\n",
    "import sys\n",
    "sys.path.insert(0,'../code')\n",
    "import book_format\n",
    "book_format.load_style('../code')"
   ]
  },
  {
   "cell_type": "markdown",
   "metadata": {},
   "source": [
    "# Odds and Addends\n",
    "\n",
    "## Odds\n",
    "\n",
    "One way to represent a probability is with a number between 0 and 1, but\n",
    "that’s not the only way. If you have ever bet on a football game or a\n",
    "horse race, you have probably encountered another representation of\n",
    "probability, called **odds**.\n",
    "\n",
    "You might have heard expressions like “the odds are three to one,” but\n",
    "you might not know what that means. The **odds in favor**\n",
    "of an event are the ratio of the probability it will occur to the\n",
    "probability that it will not.\n",
    "\n",
    "So if I think my team has a 75% chance of winning, I would say that the\n",
    "odds in their favor are three to one, because the chance of winning is\n",
    "three times the chance of losing.\n",
    "\n",
    "You can write odds in decimal form, but it is most common to write them\n",
    "as a ratio of integers. So “three to one” is written $3:1$.\n",
    "\n",
    "When probabilities are low, it is more common to report the **odds\n",
    "against** rather than the odds in favor. For example, if I think\n",
    "my horse has a 10% chance of winning, I would say that the odds against\n",
    "are $9:1$.\n",
    "\n",
    "Probabilities and odds are different representations of the same\n",
    "information. Given a probability, you can compute the odds like this:"
   ]
  },
  {
   "cell_type": "code",
   "execution_count": 2,
   "metadata": {
    "collapsed": false
   },
   "outputs": [
    {
     "data": {
      "text/plain": [
       "0.11111111111111112"
      ]
     },
     "execution_count": 2,
     "metadata": {},
     "output_type": "execute_result"
    }
   ],
   "source": [
    "def Odds(p):\n",
    "    return p / (1-p)\n",
    "\n",
    "Odds(0.1)"
   ]
  },
  {
   "cell_type": "markdown",
   "metadata": {},
   "source": [
    "Given the odds in favor, in decimal form, you can convert to probability\n",
    "like this:"
   ]
  },
  {
   "cell_type": "code",
   "execution_count": 3,
   "metadata": {
    "collapsed": false
   },
   "outputs": [
    {
     "data": {
      "text/plain": [
       "0.09999999999999999"
      ]
     },
     "execution_count": 3,
     "metadata": {},
     "output_type": "execute_result"
    }
   ],
   "source": [
    "def Probability(o):\n",
    "    return o / (o+1)\n",
    "\n",
    "Probability(1/9.)"
   ]
  },
  {
   "cell_type": "markdown",
   "metadata": {},
   "source": [
    "If you represent odds with a numerator and denominator, you can convert\n",
    "to probability like this:"
   ]
  },
  {
   "cell_type": "code",
   "execution_count": 4,
   "metadata": {
    "collapsed": false
   },
   "outputs": [
    {
     "data": {
      "text/plain": [
       "0.1"
      ]
     },
     "execution_count": 4,
     "metadata": {},
     "output_type": "execute_result"
    }
   ],
   "source": [
    "def Probability2(yes, no):\n",
    "    return float(yes) / (yes + no)\n",
    "\n",
    "Probability2(1, 9)"
   ]
  },
  {
   "cell_type": "markdown",
   "metadata": {},
   "source": [
    "When I work with odds in my head, I find it helpful to picture people at\n",
    "the track. If 20% of them think my horse will win, then 80% of them\n",
    "don’t, so the odds in favor are $20:80$ or $1:4$."
   ]
  },
  {
   "cell_type": "code",
   "execution_count": 5,
   "metadata": {
    "collapsed": false
   },
   "outputs": [
    {
     "data": {
      "text/plain": [
       "0.2"
      ]
     },
     "execution_count": 5,
     "metadata": {},
     "output_type": "execute_result"
    }
   ],
   "source": [
    "Probability2(20, 80)"
   ]
  },
  {
   "cell_type": "markdown",
   "metadata": {},
   "source": [
    "If the odds are $5:1$ against my horse, then five out of six people\n",
    "think she will lose, so the probability of winning is $1/6$."
   ]
  },
  {
   "cell_type": "code",
   "execution_count": 6,
   "metadata": {
    "collapsed": false
   },
   "outputs": [
    {
     "data": {
      "text/plain": [
       "0.16666666666666663"
      ]
     },
     "execution_count": 6,
     "metadata": {},
     "output_type": "execute_result"
    }
   ],
   "source": [
    "1 - Probability2(5, 1)"
   ]
  },
  {
   "cell_type": "markdown",
   "metadata": {},
   "source": [
    "##The odds form of Bayes’s theorem\n",
    "\n",
    "In Chapter [intro] I wrote Bayes’s theorem in the <span>**probability\n",
    "form**</span>:\n",
    "\n",
    "$${{\\mathrm{p}(H|D)}} = \\frac{{{\\mathrm{p}(H)}}~{{\\mathrm{p}(D|H)}}}{{{\\mathrm{p}(D)}}}$$\n",
    "\n",
    "If we have two hypotheses, $A$ and $B$, we can write the ratio of\n",
    "posterior probabilities like this:\n",
    "\n",
    "$$\\frac{{{\\mathrm{p}(A|D)}}}{{{\\mathrm{p}(B|D)}}} = \\frac{{{\\mathrm{p}(A)}}~{{\\mathrm{p}(D|A)}}}\n",
    "{{{\\mathrm{p}(B)}}~{{\\mathrm{p}(D|B)}}}$$\n",
    "                                        \n",
    "Notice that the normalizing constant, <span>$\\mathrm{p}(D)$</span>,\n",
    "drops out of this equation.\n",
    "\n",
    "If $A$ and $B$ are mutually exclusive and collectively exhaustive, that\n",
    "means ${{\\mathrm{p}(B)}} = 1 - {{\\mathrm{p}(A)}}$,\n",
    "so we can rewrite the ratio of the priors, and the ratio of the\n",
    "posteriors, as odds.\n",
    "\n",
    "Writing <span>$\\mathrm{o}(A)$</span> for odds in favor of $A$, we get:\n",
    "\n",
    "$${{\\mathrm{o}(A|D)}} = {{\\mathrm{o}(A)}}~\\frac{{{\\mathrm{p}(D|A)}}}{{{\\mathrm{p}(D|B)}}}$$\n",
    "\n",
    "In words, this says that the posterior odds are the prior odds times the\n",
    "likelihood ratio. This is the <span>**odds form**</span> of Bayes’s\n",
    "theorem.\n",
    "\n",
    "This form is most convenient for computing a Bayesian update on paper or\n",
    "in your head. For example, let’s go back to the cookie problem:\n",
    "\n",
    "> Suppose there are two bowls of cookies. Bowl 1 contains 30 vanilla\n",
    "> cookies and 10 chocolate cookies. Bowl 2 contains 20 of each.\n",
    ">\n",
    "> Now suppose you choose one of the bowls at random and, without\n",
    "> looking, select a cookie at random. The cookie is vanilla. What is the\n",
    "> probability that it came from Bowl 1?\n",
    "\n",
    "The prior probability is 50%, so the prior odds are $1:1$, or just 1.\n",
    "The likelihood ratio is $\\frac{3}{4} / \\frac{1}{2}$, or $3/2$. So the\n",
    "posterior odds are $3:2$, which corresponds to probability $3/5$."
   ]
  },
  {
   "cell_type": "markdown",
   "metadata": {},
   "source": [
    "## Oliver’s blood\n",
    "\n",
    "Here is another problem from MacKay’s *Information Theory,\n",
    "Inference, and Learning Algorithms*:\n",
    "\n",
    "> Two people have left traces of their own blood at the scene of a\n",
    "> crime. A suspect, Oliver, is tested and found to have type ‘O’ blood.\n",
    "> The blood groups of the two traces are found to be of type ‘O’ (a\n",
    "> common type in the local population, having frequency 60%) and of type\n",
    "> ‘AB’ (a rare type, with frequency 1%). Do these data [the traces found\n",
    "> at the scene] give evidence in favor of the proposition that Oliver\n",
    "> was one of the people [who left blood at the scene]?\n",
    "\n",
    "To answer this question, we need to think about what it means for data\n",
    "to give evidence in favor of (or against) a hypothesis. Intuitively, we\n",
    "might say that data favor a hypothesis if the hypothesis is more likely\n",
    "in light of the data than it was before.\n",
    "\n",
    "In the cookie problem, the prior odds are $1:1$, or probability 50%. The\n",
    "posterior odds are $3:2$, or probability 60%. So we could say that the\n",
    "vanilla cookie is evidence in favor of Bowl 1.\n",
    "\n",
    "The odds form of Bayes’s theorem provides a way to make this intuition\n",
    "more precise. Again\n",
    "\n",
    "$${{\\mathrm{o}(A|D)}} = {{\\mathrm{o}(A)}}~\\frac{{{\\mathrm{p}(D|A)}}}{{{\\mathrm{p}(D|B)}}}$$\n",
    "\n",
    "Or dividing through by <span>$\\mathrm{o}(A)$</span>:\n",
    "\n",
    "$$\\frac{{{\\mathrm{o}(A|D)}}}{{{\\mathrm{o}(A)}}} = \\frac{{{\\mathrm{p}(D|A)}}}{{{\\mathrm{p}(D|B)}}}$$\n",
    "\n",
    "The term on the left is the ratio of the posterior and prior odds. The\n",
    "term on the right is the likelihood ratio, also called the <span>**Bayes\n",
    "factor**</span>.\n",
    "\n",
    "If the Bayes factor value is greater than 1, that means that the data\n",
    "were more likely under $A$ than under $B$. And since the odds ratio is\n",
    "also greater than 1, that means that the odds are greater, in light of\n",
    "the data, than they were before.\n",
    "\n",
    "If the Bayes factor is less than 1, that means the data were less likely\n",
    "under $A$ than under $B$, so the odds in favor of $A$ go down.\n",
    "\n",
    "Finally, if the Bayes factor is exactly 1, the data are equally likely\n",
    "under either hypothesis, so the odds do not change.\n",
    "\n",
    "Now we can get back to the Oliver’s blood problem. If Oliver is one of\n",
    "the people who left blood at the crime scene, then he accounts for the\n",
    "‘O’ sample, so the probability of the data is just the probability that\n",
    "a random member of the population has type ‘AB’ blood, which is 1%.\n",
    "\n",
    "If Oliver did not leave blood at the scene, then we have two samples to\n",
    "account for. If we choose two random people from the population, what is\n",
    "the chance of finding one with type ‘O’ and one with type ‘AB’? Well,\n",
    "there are two ways it might happen: the first person we choose might\n",
    "have type ‘O’ and the second ‘AB’, or the other way around. So the total\n",
    "probability is $2 (0.6) (0.01) = 1.2\\%$.\n",
    "\n",
    "The likelihood of the data is slightly higher if Oliver is\n",
    "<span>*not*</span> one of the people who left blood at the scene, so the\n",
    "blood data is actually evidence against Oliver’s guilt.\n",
    "\n",
    "This example is a little contrived, but it is an example of the\n",
    "counterintuitive result that data <span>*consistent*</span> with a\n",
    "hypothesis are not necessarily <span>*in favor of*</span> the\n",
    "hypothesis.\n",
    "\n",
    "If this result is so counterintuitive that it bothers you, this way of\n",
    "thinking might help: the data consist of a common event, type ‘O’ blood,\n",
    "and a rare event, type ‘AB’ blood. If Oliver accounts for the common\n",
    "event, that leaves the rare event still unexplained. If Oliver doesn’t\n",
    "account for the ‘O’ blood, then we have two chances to find someone in\n",
    "the population with ‘AB’ blood. And that factor of two makes the\n",
    "difference."
   ]
  },
  {
   "cell_type": "markdown",
   "metadata": {},
   "source": [
    "## Addends\n",
    "\n",
    "The fundamental operation of Bayesian statistics is <span>Update</span>,\n",
    "which takes a prior distribution and a set of data, and produces a\n",
    "posterior distribution. But solving real problems usually involves a\n",
    "number of other operations, including scaling, addition and other\n",
    "arithmetic operations, max and min, and mixtures.\n",
    "\n",
    "This chapter presents addition and max; I will present other operations\n",
    "as we need them.\n",
    "\n",
    "The first example is based on <span>*Dungeons & Dragons*</span>, a\n",
    "role-playing game where the results of players’ decisions are usually\n",
    "determined by rolling dice. In fact, before game play starts, players\n",
    "generate each attribute of their characters—strength, intelligence,\n",
    "wisdom, dexterity, constitution, and charisma—by rolling three 6-sided\n",
    "dice and adding them up.\n",
    "\n",
    "So you might be curious to know the distribution of this sum. There are\n",
    "two ways you might compute it:\n",
    "\n",
    "Simulation:\n",
    ":   Given a Pmf that represents the distribution for a single die, you\n",
    "    can draw random samples, add them up, and accumulate the\n",
    "    distribution of simulated sums.\n",
    "\n",
    "Enumeration:\n",
    ":   Given two Pmfs, you can enumerate all possible pairs of values and\n",
    "    compute the distribution of the sums.\n",
    "\n",
    "`thinkbayes` provides functions for both. Here’s an example of the first\n",
    "approach. First, I’ll define a class to represent a single die as a Pmf:"
   ]
  },
  {
   "cell_type": "code",
   "execution_count": 7,
   "metadata": {
    "collapsed": false
   },
   "outputs": [],
   "source": [
    "import thinkbayes\n",
    "\n",
    "class Die(thinkbayes.Pmf):\n",
    "\n",
    "    def __init__(self, sides):\n",
    "        thinkbayes.Pmf.__init__(self)\n",
    "        for x in range(1, sides+1):\n",
    "            self.Set(x, 1)\n",
    "        self.Normalize()\n",
    "        \n",
    "    # for Python 3 compliance\n",
    "    def __hash__(self):\n",
    "        return id(self)"
   ]
  },
  {
   "cell_type": "markdown",
   "metadata": {},
   "source": [
    "Now I can create a 6-sided die:"
   ]
  },
  {
   "cell_type": "code",
   "execution_count": 8,
   "metadata": {
    "collapsed": false
   },
   "outputs": [],
   "source": [
    "d6 = Die(6)"
   ]
  },
  {
   "cell_type": "markdown",
   "metadata": {},
   "source": [
    "And use `thinkbayes.SampleSum` to generate a sample of 1000 rolls."
   ]
  },
  {
   "cell_type": "code",
   "execution_count": 9,
   "metadata": {
    "collapsed": true
   },
   "outputs": [],
   "source": [
    "dice = [d6] * 3\n",
    "three = thinkbayes.SampleSum(dice, 1000)"
   ]
  },
  {
   "cell_type": "markdown",
   "metadata": {},
   "source": [
    "`SampleSum` takes list of distributions (either Pmf or Cdf objects) and\n",
    "the sample size, <span>n</span>. It generates <span>n</span> random sums\n",
    "and returns their distribution as a Pmf object."
   ]
  },
  {
   "cell_type": "code",
   "execution_count": 10,
   "metadata": {
    "collapsed": true
   },
   "outputs": [],
   "source": [
    "def SampleSum(dists, n):\n",
    "    pmf = MakePmfFromList(RandomSum(dists) for i in xrange(n))\n",
    "    return pmf"
   ]
  },
  {
   "cell_type": "markdown",
   "metadata": {},
   "source": [
    "SampleSum` uses `RandomSum`, also in `thinkbayes.py`:\n",
    "\n",
    "```python\n",
    "def RandomSum(dists):\n",
    "    total = sum(dist.Random() for dist in dists)\n",
    "    return total\n",
    "```\n",
    "\n",
    "`RandomSum` invokes `Random` on each distribution\n",
    "and adds up the results.\n",
    "\n",
    "The drawback of simulation is that the result is only approximately\n",
    "correct. As `n` gets larger, it gets more accurate, but of course the\n",
    "run time increases as well.\n",
    "\n",
    "The other approach is to enumerate all pairs of values and compute the\n",
    "sum and probability of each pair. This is implemented in `Pmf.__add__`:\n",
    "\n",
    "```python\n",
    "# class Pmf\n",
    "    def __add__(self, other):\n",
    "        pmf = Pmf()\n",
    "        for v1, p1 in self.Items():\n",
    "            for v2, p2 in other.Items():\n",
    "                pmf.Incr(v1+v2, p1*p2)\n",
    "        return pmf\n",
    "```\n",
    "\n",
    "`self` is a Pmf, of course; `other` can be a Pmf\n",
    "or anything else that provides `Items<`. The result is a new\n",
    "Pmf. The time to run `__add__` depends on the number of items in\n",
    "`self` and `other`; it is proportional to\n",
    "`len(self) \\* len(other)`.\n",
    "\n",
    "And here’s how it’s used:"
   ]
  },
  {
   "cell_type": "code",
   "execution_count": 11,
   "metadata": {
    "collapsed": false
   },
   "outputs": [],
   "source": [
    "three_exact = d6 + d6 + d6"
   ]
  },
  {
   "cell_type": "markdown",
   "metadata": {},
   "source": [
    "When you apply the `+` operator to a Pmf, Python invokes\n",
    "`__add__`. In this example, `__add__` is invoked twice.\n",
    "\n",
    "This shows an approximate result generated by\n",
    "simulation and the exact result computed by enumeration:"
   ]
  },
  {
   "cell_type": "code",
   "execution_count": 12,
   "metadata": {
    "collapsed": false
   },
   "outputs": [
    {
     "data": {
      "image/png": "[encoded data removed]",
      "text/plain": [
       "<matplotlib.figure.Figure at 0x17fc8eea908>"
      ]
     },
     "metadata": {},
     "output_type": "display_data"
    }
   ],
   "source": [
    "import random\n",
    "import thinkplot\n",
    "\n",
    "random.seed(17)\n",
    "\n",
    "d6 = Die(6)\n",
    "\n",
    "dice = [d6] * 3\n",
    "three = thinkbayes.SampleSum(dice, 1000)\n",
    "three.name = 'sample'\n",
    "\n",
    "\n",
    "three_exact = d6 + d6 + d6\n",
    "three_exact.name = 'exact'\n",
    "\n",
    "thinkplot.PrePlot(num=2)\n",
    "thinkplot.Pmf(three)\n",
    "thinkplot.Pmf(three_exact, linestyle='dashed')"
   ]
  },
  {
   "cell_type": "markdown",
   "metadata": {},
   "source": [
    "`Pmf.__add__` is based on the assumption that the random selections from\n",
    "each Pmf are independent. In the example of rolling several dice, this\n",
    "assumption is pretty good. In other cases, we would have to extend this\n",
    "method to use conditional probabilities.\n",
    "\n",
    "The code from this section is available from\n",
    "<http://thinkbayes.com/dungeons.py>. For more information see\n",
    "Section [download]."
   ]
  },
  {
   "cell_type": "markdown",
   "metadata": {},
   "source": [
    "## Maxima\n",
    "\n",
    "When you generate a *Dungeons & Dragons*\n",
    "character, you are\n",
    "particularly interested in the character’s best attributes, so you might\n",
    "like to know the distribution of the maximum attribute.\n",
    "\n",
    "There are three ways to compute the distribution of a maximum:\n",
    "\n",
    "**Simulation**:\n",
    "\n",
    "    Given a Pmf that represents the distribution for a single selection,\n",
    "    you can generate random samples, find the maximum, and accumulate\n",
    "    the distribution of simulated maxima.\n",
    "\n",
    "**Enumeration**:\n",
    "\n",
    "    Given two Pmfs, you can enumerate all possible pairs of values and\n",
    "    compute the distribution of the maximum.\n",
    "\n",
    "**Exponentiation**:\n",
    "\n",
    "    If we convert a Pmf to a Cdf, there is a simple and efficient\n",
    "    algorithm for finding the Cdf of the maximum.\n",
    "\n",
    "The code to simulate maxima is almost identical to the code for\n",
    "simulating sums:"
   ]
  },
  {
   "cell_type": "code",
   "execution_count": 13,
   "metadata": {
    "collapsed": true
   },
   "outputs": [],
   "source": [
    "def RandomMax(dists):\n",
    "    total = max(dist.Random() for dist in dists)\n",
    "    return total\n",
    "\n",
    "def SampleMax(dists, n):\n",
    "    pmf = MakePmfFromList(RandomMax(dists) for i in xrange(n))\n",
    "    return pmf"
   ]
  },
  {
   "cell_type": "markdown",
   "metadata": {},
   "source": [
    "All I did was replace “sum” with “max”. And the code for enumeration is\n",
    "almost identical, too:"
   ]
  },
  {
   "cell_type": "code",
   "execution_count": 14,
   "metadata": {
    "collapsed": true
   },
   "outputs": [],
   "source": [
    "def PmfMax(pmf1, pmf2):\n",
    "    res = thinkbayes.Pmf()\n",
    "    for v1, p1 in pmf1.Items():\n",
    "        for v2, p2 in pmf2.Items():\n",
    "            res.Incr(max(v1, v2), p1*p2)\n",
    "    return res"
   ]
  },
  {
   "cell_type": "markdown",
   "metadata": {},
   "source": [
    "In fact, you could generalize this function by taking the appropriate\n",
    "operator as a parameter.\n",
    "\n",
    "The only problem with this algorithm is that if each Pmf has $m$ values,\n",
    "the run time is proportional to $m^2$. And if we want the maximum of\n",
    "`k` selections, it takes time proportional to $k m^2$.\n",
    "\n",
    "If we convert the Pmfs to Cdfs, we can do the same calculation much\n",
    "faster! The key is to remember the definition of the cumulative\n",
    "distribution function: \n",
    "\n",
    "$$CDF(x) = {{\\mathrm{p}(X \\le~x)}}$$\n",
    "\n",
    "where $X$ is a random variable that means “a value chosen randomly from\n",
    "this distribution.” So, for example, $CDF(5)$ is the probability that a\n",
    "value from this distribution is less than or equal to 5.\n",
    "\n",
    "If I draw $X$ from $CDF_1$ and $Y$ from $CDF_2$, and compute the maximum\n",
    "$Z = max(X, Y)$, what is the chance that $Z$ is less than or equal to 5?\n",
    "Well, in that case both $X$ and $Y$ must be less than or equal to 5.\n",
    "\n",
    "If the selections of $X$ and $Y$ are independent,\n",
    "\n",
    "$$CDF_3(5) = CDF_1(5) CDF_2(5)$$ \n",
    "\n",
    "where $CDF_3$ is the distribution of\n",
    "$Z$. I chose the value 5 because I think it makes the formulas easy to\n",
    "read, but we can generalize for any value of $z$:\n",
    "\n",
    "$$CDF_3(z) = CDF_1(z) CDF_2(z)$$ \n",
    "\n",
    "In the special case where we draw $k$\n",
    "values from the same distribution,\n",
    "\n",
    "$$CDF_k(z) = CDF_1(z)^k$$ \n",
    "\n",
    "So to find\n",
    "the distribution of the maximum of $k$ values, we can enumerate the\n",
    "probabilities in the given Cdf and raise them to the $k$th power. `Cdf`\n",
    "provides a method that does just that:\n",
    "\n",
    "```python\n",
    "# class Cdf\n",
    "\n",
    "    def Max(self, k):\n",
    "        cdf = self.Copy()\n",
    "        cdf.ps = [p**k for p in cdf.ps]\n",
    "        return cdf\n",
    "```\n",
    "\n",
    "`Max` takes the number of selections, <span>k</span>, and returns a new\n",
    "Cdf that represents the distribution of the maximum of <span>k</span>\n",
    "selections. The run time for this method is proportional to $m$, the\n",
    "number of items in the Cdf.\n",
    "\n",
    "`Pmf.Max` does the same thing for Pmfs. It has to do a little more work\n",
    "to convert the Pmf to a Cdf, so the run time is proportional to\n",
    "$m \\log m$, but that’s still better than quadratic.\n",
    "\n",
    "Finally, here’s an example that computes the distribution of a\n",
    "character’s best attribute:"
   ]
  },
  {
   "cell_type": "code",
   "execution_count": 15,
   "metadata": {
    "collapsed": false
   },
   "outputs": [
    {
     "name": "stdout",
     "output_type": "stream",
     "text": [
      "3 9.84640042004852e-15\n",
      "4 4.0321009720098687e-11\n",
      "5 9.806069563928e-09\n",
      "6 6.203232264630567e-07\n",
      "7 1.7470129795277652e-05\n",
      "8 0.0002855723336481055\n",
      "9 0.002477241673570361\n",
      "10 0.012844085693359392\n",
      "11 0.04397964477539067\n",
      "12 0.10559054189425404\n",
      "13 0.18102225453979948\n",
      "14 0.21201352141686403\n",
      "15 0.19422452755628616\n",
      "16 0.14145216951432227\n",
      "17 0.0786340868804698\n",
      "18 0.027458253422613543\n"
     ]
    }
   ],
   "source": [
    "best_attr_cdf = three_exact.Max(6)\n",
    "best_attr_pmf = best_attr_cdf.MakePmf()\n",
    "best_attr_pmf.Print()"
   ]
  },
  {
   "cell_type": "markdown",
   "metadata": {},
   "source": [
    "Where `three_exact` is defined in the previous section. If we print the\n",
    "results, we see that the chance of generating a character with at least\n",
    "one attribute of 18 is about 3%. Figure [fig.dungeons2] shows the\n",
    "distribution."
   ]
  },
  {
   "cell_type": "code",
   "execution_count": 16,
   "metadata": {
    "collapsed": false
   },
   "outputs": [
    {
     "data": {
      "image/png": "[encoded data removed]",
      "text/plain": [
       "<matplotlib.figure.Figure at 0x17fc9b1e240>"
      ]
     },
     "metadata": {},
     "output_type": "display_data"
    }
   ],
   "source": [
    "import matplotlib.pyplot as plt\n",
    "xs = list(range(3,19))\n",
    "ps = best_attr_pmf.Probs(xs)\n",
    "plt.plot(xs, ps);"
   ]
  },
  {
   "cell_type": "markdown",
   "metadata": {},
   "source": [
    "## Mixtures\n",
    "\n",
    "Let’s do one more example from *Dungeons & Dragons*.\n",
    "Suppose I have a box of dice with the following inventory:\n",
    "\n",
    "    5   4-sided dice\n",
    "    4   6-sided dice\n",
    "    3   8-sided dice\n",
    "    2  12-sided dice\n",
    "    1  20-sided die\n",
    "\n",
    "I choose a die from the box and roll it. What is the distribution of the\n",
    "outcome?\n",
    "\n",
    "If you know which die it is, the answer is easy. A die with\n",
    "<span>n</span> sides yields a uniform distribution from 1 to\n",
    "<span>n</span>, including both.\n",
    "\n",
    "But if we don’t know which die it is, the resulting distribution is a\n",
    "<span>**mixture**</span> of uniform distributions with different bounds.\n",
    "In general, this kind of mixture does not fit any simple mathematical\n",
    "model, but it is straightforward to compute the distribution in the form\n",
    "of a PMF.\n",
    "\n",
    "As always, one option is to simulate the scenario, generate a random\n",
    "sample, and compute the PMF of the sample. This approach is simple and\n",
    "it generates an approximate solution quickly. But if we want an exact\n",
    "solution, we need a different approach.\n",
    "\n",
    "Let’s start with a simple version of the problem where there are only\n",
    "two dice, one with 6 sides and one with 8. We can make a Pmf to\n",
    "represent each die:"
   ]
  },
  {
   "cell_type": "code",
   "execution_count": 17,
   "metadata": {
    "collapsed": true
   },
   "outputs": [],
   "source": [
    "d6 = Die(6)\n",
    "d8 = Die(8)"
   ]
  },
  {
   "cell_type": "markdown",
   "metadata": {},
   "source": [
    "Then we create a Pmf to represent the mixture:"
   ]
  },
  {
   "cell_type": "code",
   "execution_count": 18,
   "metadata": {
    "collapsed": false
   },
   "outputs": [
    {
     "name": "stdout",
     "output_type": "stream",
     "text": [
      "1 0.14583333333333334\n",
      "2 0.14583333333333334\n",
      "3 0.14583333333333334\n",
      "4 0.14583333333333334\n",
      "5 0.14583333333333334\n",
      "6 0.14583333333333334\n",
      "7 0.06250000000000001\n",
      "8 0.06250000000000001\n"
     ]
    }
   ],
   "source": [
    "mix = thinkbayes.Pmf()\n",
    "for die in [d6, d8]:\n",
    "    for outcome, prob in die.Items():\n",
    "        mix.Incr(outcome, prob)\n",
    "mix.Normalize()\n",
    "mix.Print()"
   ]
  },
  {
   "cell_type": "markdown",
   "metadata": {},
   "source": [
    "The first loop enumerates the dice; the second enumerates the outcomes\n",
    "and their probabilities. Inside the loop, `Pmf.Incr` adds up\n",
    "the contributions from the two distributions.\n",
    "\n",
    "This code assumes that the two dice are equally likely. More generally,\n",
    "we need to know the probability of each die so we can weight the\n",
    "outcomes accordingly.\n",
    "\n",
    "First we create a Pmf that maps from each die to the probability it is\n",
    "selected:"
   ]
  },
  {
   "cell_type": "code",
   "execution_count": 19,
   "metadata": {
    "collapsed": false
   },
   "outputs": [
    {
     "data": {
      "text/plain": [
       "15"
      ]
     },
     "execution_count": 19,
     "metadata": {},
     "output_type": "execute_result"
    }
   ],
   "source": [
    "pmf_dice = thinkbayes.Pmf()\n",
    "pmf_dice.Set(Die(4), 5)\n",
    "pmf_dice.Set(Die(6), 4)\n",
    "pmf_dice.Set(Die(8), 3)\n",
    "pmf_dice.Set(Die(12), 2)\n",
    "pmf_dice.Set(Die(20), 1)\n",
    "pmf_dice.Normalize()"
   ]
  },
  {
   "cell_type": "markdown",
   "metadata": {},
   "source": [
    "Next we need a more general version of the mixture algorithm:"
   ]
  },
  {
   "cell_type": "code",
   "execution_count": 20,
   "metadata": {
    "collapsed": true
   },
   "outputs": [],
   "source": [
    "mix = thinkbayes.Pmf()\n",
    "for die, weight in pmf_dice.Items():\n",
    "    for outcome, prob in die.Items():\n",
    "        mix.Incr(outcome, weight*prob)"
   ]
  },
  {
   "cell_type": "markdown",
   "metadata": {},
   "source": [
    "Now each die has a weight associated with it (which makes it a weighted\n",
    "die, I suppose). When we add each outcome to the mixture, its\n",
    "probability is multiplied by <span>weight</span>."
   ]
  },
  {
   "cell_type": "code",
   "execution_count": 21,
   "metadata": {
    "collapsed": false
   },
   "outputs": [
    {
     "data": {
      "image/png": "[encoded data removed]",
      "text/plain": [
       "<matplotlib.figure.Figure at 0x17fc9b4fc18>"
      ]
     },
     "metadata": {},
     "output_type": "display_data"
    }
   ],
   "source": [
    "colors = thinkplot.Brewer.Colors()\n",
    "thinkplot.Hist(mix, width=0.9, color=colors[4])"
   ]
  },
  {
   "cell_type": "markdown",
   "metadata": {},
   "source": [
    "This shows the result. As expected, values 1 through 4\n",
    "are the most likely because any die can produce them. Values above 12\n",
    "are unlikely because there is only one die in the box that can produce\n",
    "them (and it does so less than half the time).\n",
    "\n",
    "`thinkbayes`provides a function named\n",
    "`MakeMixture` that encapsulates this algorithm, so we could\n",
    "have written:\n",
    "\n",
    "```python```\n",
    "        mix = thinkbayes.MakeMixture(pmf_dice)\n",
    "```\n",
    "\n",
    "We’ll use <span>MakeMixture</span> again in Chapters [prediction] and\n",
    " [observer]."
   ]
  },
  {
   "cell_type": "markdown",
   "metadata": {},
   "source": [
    "## Discussion\n",
    "\n",
    "Other than the odds form of Bayes’s theorem, this chapter is not\n",
    "specifically Bayesian. But Bayesian analysis is all about distributions,\n",
    "so it is important to understand the concept of a distribution well.\n",
    "From a computational point of view, a distribution is any data structure\n",
    "that represents a set of values (possible outcomes of a random process)\n",
    "and their probabilities.\n",
    "\n",
    "We have seen two representations of distributions: Pmfs and Cdfs. These\n",
    "representations are equivalent in the sense that they contain the same\n",
    "information, so you can convert from one to the other. The primary\n",
    "difference between them is performance: some operations are faster and\n",
    "easier with a Pmf; others are faster with a Cdf.\n",
    "\n",
    "The other goal of this chapter is to introduce operations that act on\n",
    "distributions, like `Pmf.__add__`, `Cdf.Max`, and\n",
    "`thinkbayes.MakeMixture`. We will use these operations later,\n",
    "but I introduce them now to encourage you to think of a distribution as\n",
    "a fundamental unit of computation, not just a container for values and\n",
    "probabilities."
   ]
  }
 ],
 "metadata": {
  "kernelspec": {
   "display_name": "Python 3",
   "language": "python",
   "name": "python3"
  },
  "language_info": {
   "codemirror_mode": {
    "name": "ipython",
    "version": 3
   },
   "file_extension": ".py",
   "mimetype": "text/x-python",
   "name": "python",
   "nbconvert_exporter": "python",
   "pygments_lexer": "ipython3",
   "version": "3.5.1"
  }
 },
 "nbformat": 4,
 "nbformat_minor": 0
}
