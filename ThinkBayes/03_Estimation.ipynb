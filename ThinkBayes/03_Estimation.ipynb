{
 "cells": [
  {
   "cell_type": "code",
   "execution_count": 1,
   "metadata": {
    "collapsed": false
   },
   "outputs": [
    {
     "data": {
      "text/html": [
       "<style>\n",
       "@import url('http://fonts.googleapis.com/css?family=Source+Code+Pro');\n",
       "@import url('http://fonts.googleapis.com/css?family=Vollkorn');\n",
       "@import url('http://fonts.googleapis.com/css?family=Arimo');\n",
       "@import url('http://fonts.googleapis.com/css?family=Fira_sans');\n",
       "\n",
       "    div.cell{\n",
       "        width: 900px;\n",
       "        margin-left: 0% !important;\n",
       "        margin-right: auto;\n",
       "    }\n",
       "    div.text_cell code {\n",
       "        background: transparent;\n",
       "        color: #000000;\n",
       "        font-weight: 600;\n",
       "        font-size: 11pt;\n",
       "        font-style: bold;\n",
       "        font-family:  'Source Code Pro', Consolas, monocco, monospace;\n",
       "   }\n",
       "    h1 {\n",
       "        font-family: 'Open sans',verdana,arial,sans-serif;\n",
       "\t}\n",
       "\t\n",
       "    div.input_area {\n",
       "        background: #F6F6F9;\n",
       "        border: 1px solid #586e75;\n",
       "    }\n",
       "\n",
       "    .text_cell_render h1 {\n",
       "        font-weight: 200;\n",
       "        font-size: 30pt;\n",
       "        line-height: 100%;\n",
       "        color:#c76c0c;\n",
       "        margin-bottom: 0.5em;\n",
       "        margin-top: 1em;\n",
       "        display: block;\n",
       "        white-space: wrap;\n",
       "        text-align: left;\n",
       "    } \n",
       "    h2 {\n",
       "        font-family: 'Open sans',verdana,arial,sans-serif;\n",
       "        text-align: left;\n",
       "    }\n",
       "    .text_cell_render h2 {\n",
       "        font-weight: 200;\n",
       "        font-size: 16pt;\n",
       "        font-style: italic;\n",
       "        line-height: 100%;\n",
       "        color:#c76c0c;\n",
       "        margin-bottom: 0.5em;\n",
       "        margin-top: 1.5em;\n",
       "        display: block;\n",
       "        white-space: wrap;\n",
       "        text-align: left;\n",
       "    } \n",
       "    h3 {\n",
       "        font-family: 'Open sans',verdana,arial,sans-serif;\n",
       "    }\n",
       "    .text_cell_render h3 {\n",
       "        font-weight: 200;\n",
       "        font-size: 14pt;\n",
       "        line-height: 100%;\n",
       "        color:#d77c0c;\n",
       "        margin-bottom: 0.5em;\n",
       "        margin-top: 2em;\n",
       "        display: block;\n",
       "        white-space: wrap;\n",
       "        text-align: left;\n",
       "    }\n",
       "    h4 {\n",
       "        font-family: 'Open sans',verdana,arial,sans-serif;\n",
       "    }\n",
       "    .text_cell_render h4 {\n",
       "        font-weight: 100;\n",
       "        font-size: 14pt;\n",
       "        color:#d77c0c;\n",
       "        margin-bottom: 0.5em;\n",
       "        margin-top: 0.5em;\n",
       "        display: block;\n",
       "        white-space: nowrap;\n",
       "    }\n",
       "    h5 {\n",
       "        font-family: 'Open sans',verdana,arial,sans-serif;\n",
       "    }\n",
       "    .text_cell_render h5 {\n",
       "        font-weight: 200;\n",
       "        font-style: normal;\n",
       "        color: #1d3b84;\n",
       "        font-size: 16pt;\n",
       "        margin-bottom: 0em;\n",
       "        margin-top: 0.5em;\n",
       "        display: block;\n",
       "        white-space: nowrap;\n",
       "    }\n",
       "    div.text_cell_render{\n",
       "        font-family: 'Fira sans', verdana,arial,sans-serif;\n",
       "        line-height: 125%;\n",
       "        font-size: 115%;\n",
       "        text-align:justify;\n",
       "        text-justify:inter-word;\n",
       "    }\n",
       "    div.output_subarea.output_text.output_pyout {\n",
       "        overflow-x: auto;\n",
       "        overflow-y: scroll;\n",
       "        max-height: 50000px;\n",
       "    }\n",
       "    div.output_subarea.output_stream.output_stdout.output_text {\n",
       "        overflow-x: auto;\n",
       "        overflow-y: scroll;\n",
       "        max-height: 50000px;\n",
       "    }\n",
       "    div.output_wrapper{\n",
       "        margin-top:0.2em;\n",
       "        margin-bottom:0.2em;\n",
       "}\n",
       "\n",
       "    code{\n",
       "      font-size: 70%;\n",
       "    }\n",
       "    .rendered_html code{\n",
       "    background-color: transparent;\n",
       "    }\n",
       "    ul{\n",
       "        margin: 2em;\n",
       "    }\n",
       "    ul li{\n",
       "        padding-left: 0.5em; \n",
       "        margin-bottom: 0.5em; \n",
       "        margin-top: 0.5em; \n",
       "    }\n",
       "    ul li li{\n",
       "        padding-left: 0.2em; \n",
       "        margin-bottom: 0.2em; \n",
       "        margin-top: 0.2em; \n",
       "    }\n",
       "    ol{\n",
       "        margin: 2em;\n",
       "    }\n",
       "    ol li{\n",
       "        padding-left: 0.5em; \n",
       "        margin-bottom: 0.5em; \n",
       "        margin-top: 0.5em; \n",
       "    }\n",
       "    ul li{\n",
       "        padding-left: 0.5em; \n",
       "        margin-bottom: 0.5em; \n",
       "        margin-top: 0.2em; \n",
       "    }\n",
       "    a:link{\n",
       "       font-weight: bold;\n",
       "       color:#447adb;\n",
       "    }\n",
       "    a:visited{\n",
       "       font-weight: bold;\n",
       "       color: #1d3b84;\n",
       "    }\n",
       "    a:hover{\n",
       "       font-weight: bold;\n",
       "       color: #1d3b84;\n",
       "    }\n",
       "    a:focus{\n",
       "       font-weight: bold;\n",
       "       color:#447adb;\n",
       "    }\n",
       "    a:active{\n",
       "       font-weight: bold;\n",
       "       color:#447adb;\n",
       "    }\n",
       "    .rendered_html :link {\n",
       "       text-decoration: underline; \n",
       "    }\n",
       "    .rendered_html :hover {\n",
       "       text-decoration: none; \n",
       "    }\n",
       "    .rendered_html :visited {\n",
       "      text-decoration: none;\n",
       "    }\n",
       "    .rendered_html :focus {\n",
       "      text-decoration: none;\n",
       "    }\n",
       "    .rendered_html :active {\n",
       "      text-decoration: none;\n",
       "    }\n",
       "    .warning{\n",
       "        color: rgb( 240, 20, 20 )\n",
       "    } \n",
       "    hr {\n",
       "      color: #f3f3f3;\n",
       "      background-color: #f3f3f3;\n",
       "      height: 1px;\n",
       "    }\n",
       "    blockquote{\n",
       "      display:block;\n",
       "      background: #fcfcfc;\n",
       "      border-left: 5px solid #c76c0c;\n",
       "      font-family: 'Open sans',verdana,arial,sans-serif;\n",
       "      width:680px;\n",
       "      padding: 10px 10px 10px 10px;\n",
       "      text-align:justify;\n",
       "      text-justify:inter-word;\n",
       "      }\n",
       "      blockquote p {\n",
       "        margin-bottom: 0;\n",
       "        line-height: 125%;\n",
       "        font-size: 100%;\n",
       "      }\n",
       "</style>\n",
       "<script>\n",
       "    MathJax.Hub.Config({\n",
       "                        TeX: {\n",
       "                           extensions: [\"AMSmath.js\"]\n",
       "                           },\n",
       "                tex2jax: {\n",
       "                    inlineMath: [ ['$','$'], [\"\\\\(\",\"\\\\)\"] ],\n",
       "                    displayMath: [ ['$$','$$'], [\"\\\\[\",\"\\\\]\"] ]\n",
       "                },\n",
       "                displayAlign: 'center', // Change this to 'center' to center equations.\n",
       "                \"HTML-CSS\": {\n",
       "                    scale:100,\n",
       "                        availableFonts: [],\n",
       "                        preferredFont:null,\n",
       "                        webFont: \"TeX\",\n",
       "                    styles: {'.MathJax_Display': {\"margin\": 4}}\n",
       "                }\n",
       "        });\n",
       "</script>\n"
      ],
      "text/plain": [
       "<IPython.core.display.HTML object>"
      ]
     },
     "execution_count": 1,
     "metadata": {},
     "output_type": "execute_result"
    }
   ],
   "source": [
    "# format the book\n",
    "%matplotlib inline\n",
    "import sys\n",
    "from __future__ import division, print_function\n",
    "import sys\n",
    "sys.path.insert(0,'../code')\n",
    "import book_format\n",
    "book_format.load_style('../code')"
   ]
  },
  {
   "cell_type": "markdown",
   "metadata": {},
   "source": [
    "# Estimation\n",
    "\n",
    "## The dice problem\n",
    "\n",
    "Suppose I have a box of dice that contains a 4-sided die, a 6-sided die,\n",
    "an 8-sided die, a 12-sided die, and a 20-sided die. If you have ever\n",
    "played *Dungeons & Dragons*, you know what I am talking\n",
    "about.\n",
    "\n",
    "Suppose I select a die from the box at random, roll it, and get a 6.\n",
    "What is the probability that I rolled each die?\n",
    "\n",
    "Let me suggest a three-step strategy for approaching a problem like\n",
    "this.\n",
    "\n",
    "1.  Choose a representation for the hypotheses.\n",
    "\n",
    "2.  Choose a representation for the data.\n",
    "\n",
    "3.  Write the likelihood function.\n",
    "\n",
    "In previous examples I used strings to represent hypotheses and data,\n",
    "but for the die problem I’ll use numbers. Specifically, I’ll use the\n",
    "integers 4, 6, 8, 12, and 20 to represent hypotheses:"
   ]
  },
  {
   "cell_type": "code",
   "execution_count": 3,
   "metadata": {
    "collapsed": false
   },
   "outputs": [],
   "source": [
    "from dice import Dice\n",
    "\n",
    "suite = Dice([4, 6, 8, 12, 20])"
   ]
  },
  {
   "cell_type": "markdown",
   "metadata": {},
   "source": [
    "And integers from 1 to 20 for the data. These representations make it\n",
    "easy to write the likelihood function:\n",
    "\n",
    "```python\n",
    "class Dice(Suite):\n",
    "    def Likelihood(self, data, hypo):\n",
    "        if hypo < data:\n",
    "            return 0\n",
    "        else:\n",
    "            return 1.0/hypo\n",
    "```\n",
    "\n",
    "Here’s how `Likelihood` works. If `hypo<data`, that means the roll is\n",
    "greater than the number of sides on the die. That can’t happen, so the\n",
    "likelihood is 0.\n",
    "\n",
    "Otherwise the question is, “Given that there are `hypo`\n",
    "sides, what is the chance of rolling `data`?” The answer is\n",
    "`1/hypo`, regardless of `data`.\n",
    "\n",
    "Here is the statement that does the update (if I roll a 6):"
   ]
  },
  {
   "cell_type": "code",
   "execution_count": 4,
   "metadata": {
    "collapsed": false
   },
   "outputs": [
    {
     "data": {
      "text/plain": [
       "0.08500000000000002"
      ]
     },
     "execution_count": 4,
     "metadata": {},
     "output_type": "execute_result"
    }
   ],
   "source": [
    "suite.Update(6)"
   ]
  },
  {
   "cell_type": "markdown",
   "metadata": {},
   "source": [
    "And here is the posterior distribution:"
   ]
  },
  {
   "cell_type": "code",
   "execution_count": 5,
   "metadata": {
    "collapsed": false
   },
   "outputs": [
    {
     "name": "stdout",
     "output_type": "stream",
     "text": [
      "4 0.0\n",
      "6 0.3921568627450979\n",
      "8 0.2941176470588235\n",
      "12 0.19607843137254896\n",
      "20 0.11764705882352941\n"
     ]
    }
   ],
   "source": [
    "suite.Print()"
   ]
  },
  {
   "cell_type": "markdown",
   "metadata": {},
   "source": [
    "After we roll a 6, the probability for the 4-sided die is 0. The most\n",
    "likely alternative is the 6-sided die, but there is still almost a 12%\n",
    "chance for the 20-sided die.\n",
    "\n",
    "What if we roll a few more times and get 6, 8, 7, 7, 5, and 4?"
   ]
  },
  {
   "cell_type": "code",
   "execution_count": 7,
   "metadata": {
    "collapsed": true
   },
   "outputs": [],
   "source": [
    "for roll in [6, 8, 7, 7, 5, 4]:\n",
    "    suite.Update(roll)"
   ]
  },
  {
   "cell_type": "markdown",
   "metadata": {},
   "source": [
    "With this data the 6-sided die is eliminated, and the 8-sided die seems\n",
    "quite likely. Here are the results:"
   ]
  },
  {
   "cell_type": "code",
   "execution_count": 8,
   "metadata": {
    "collapsed": false
   },
   "outputs": [
    {
     "name": "stdout",
     "output_type": "stream",
     "text": [
      "4 0.0\n",
      "6 0.0\n",
      "8 0.9432484536722127\n",
      "12 0.055206128061290875\n",
      "20 0.001545418266496554\n"
     ]
    }
   ],
   "source": [
    "suite.Print()"
   ]
  },
  {
   "cell_type": "markdown",
   "metadata": {},
   "source": [
    "Now the probability is 94% that we are rolling the 8-sided die, and less\n",
    "than 1% for the 20-sided die.\n",
    "\n",
    "The dice problem is based on an example I saw in Sanjoy Mahajan’s class\n",
    "on Bayesian inference. You can download the code in this section from\n",
    "<http://thinkbayes.com/dice.py>. For more information see\n",
    "Section [download]."
   ]
  },
  {
   "cell_type": "markdown",
   "metadata": {},
   "source": [
    "## The locomotive problem\n",
    "\n",
    "I found the locomotive problem in Frederick Mosteller’s, *Fifty\n",
    "Challenging Problems in Probability with Solutions* (Dover,\n",
    "1987):\n",
    "\n",
    "> “A railroad numbers its locomotives in order 1..N. One day you see a\n",
    "> locomotive with the number 60. Estimate how many locomotives the\n",
    "> railroad has.”\n",
    "\n",
    "Based on this observation, we know the railroad has 60 or more\n",
    "locomotives. But how many more? To apply Bayesian reasoning, we can\n",
    "break this problem into two steps:\n",
    "\n",
    "1.  What did we know about $N$ before we saw the data?\n",
    "\n",
    "2.  For any given value of $N$, what is the likelihood of seeing the\n",
    "    data (a locomotive with number 60)?\n",
    "\n",
    "The answer to the first question is the prior. The answer to the second\n",
    "is the likelihood.\n",
    "\n",
    "![Posterior distribution for the locomotive problem, based on a uniform\n",
    "prior.](figs/train1.pdf)\n",
    "\n",
    "[fig.train1]\n",
    "\n",
    "We don’t have much basis to choose a prior, but we can start with\n",
    "something simple and then consider alternatives. Let’s assume that $N$\n",
    "is equally likely to be any value from 1 to 1000."
   ]
  },
  {
   "cell_type": "code",
   "execution_count": 9,
   "metadata": {
    "collapsed": true
   },
   "outputs": [],
   "source": [
    "hypos = range(1, 1001)"
   ]
  },
  {
   "cell_type": "markdown",
   "metadata": {},
   "source": [
    "Now all we need is a likelihood function. In a hypothetical fleet of $N$\n",
    "locomotives, what is the probability that we would see number 60? If we\n",
    "assume that there is only one train-operating company (or only one we\n",
    "care about) and that we are equally likely to see any of its\n",
    "locomotives, then the chance of seeing any particular locomotive is\n",
    "$1/N$.\n",
    "\n",
    "Here’s the likelihood function:\n",
    "\n",
    "```python\n",
    "class Train(Suite):\n",
    "    def Likelihood(self, data, hypo):\n",
    "        if hypo < data:\n",
    "            return 0\n",
    "        else:\n",
    "            return 1.0/hypo\n",
    "```\n",
    "\n",
    "This might look familiar; the likelihood functions for the locomotive\n",
    "problem and the dice problem are identical.\n",
    "\n",
    "Here’s the update:"
   ]
  },
  {
   "cell_type": "code",
   "execution_count": 31,
   "metadata": {
    "collapsed": false
   },
   "outputs": [
    {
     "data": {
      "image/png": "[encoded data removed]",
      "text/plain": [
       "<matplotlib.figure.Figure at 0x1cb5f212438>"
      ]
     },
     "metadata": {},
     "output_type": "display_data"
    }
   ],
   "source": [
    "from train import Train\n",
    "import matplotlib.pyplot as plt\n",
    "\n",
    "suite = Train(hypos)\n",
    "suite.Update(60)\n",
    "\n",
    "hs, ps = [], []\n",
    "for hypo, prob in sorted(suite.Items()):\n",
    "    hs.append(hypo)\n",
    "    ps.append(prob)\n",
    "    \n",
    "plt.plot(hs, ps)\n",
    "plt.xlabel('Number of trains')\n",
    "plt.ylabel('Probability');"
   ]
  },
  {
   "cell_type": "markdown",
   "metadata": {},
   "source": [
    "There are too many hypotheses to print, so I plotted the results in\n",
    "Figure [fig.train1]. Not surprisingly, all values of $N$ below 60 have\n",
    "been eliminated.\n",
    "\n",
    "The most likely value, if you had to guess, is 60. That might not seem\n",
    "like a very good guess; after all, what are the chances that you just\n",
    "happened to see the train with the highest number? Nevertheless, if you\n",
    "want to maximize the chance of getting the answer exactly right, you\n",
    "should guess 60.\n",
    "\n",
    "But maybe that’s not the right goal. An alternative is to compute the\n",
    "mean of the posterior distribution:"
   ]
  },
  {
   "cell_type": "code",
   "execution_count": 22,
   "metadata": {
    "collapsed": false
   },
   "outputs": [
    {
     "name": "stdout",
     "output_type": "stream",
     "text": [
      "333.41989326371095\n"
     ]
    }
   ],
   "source": [
    "def Mean(suite):\n",
    "    total = 0\n",
    "    for hypo, prob in suite.Items():\n",
    "        total += hypo * prob\n",
    "    return total\n",
    "\n",
    "print(Mean(suite))"
   ]
  },
  {
   "cell_type": "markdown",
   "metadata": {},
   "source": [
    "Or you could use the very similar method provided by `Pmf`:"
   ]
  },
  {
   "cell_type": "code",
   "execution_count": 23,
   "metadata": {
    "collapsed": false
   },
   "outputs": [
    {
     "name": "stdout",
     "output_type": "stream",
     "text": [
      "333.41989326371095\n"
     ]
    }
   ],
   "source": [
    "print(suite.Mean())"
   ]
  },
  {
   "cell_type": "markdown",
   "metadata": {},
   "source": [
    "The mean of the posterior is 333, so that might be a good guess if you\n",
    "wanted to minimize error. If you played this guessing game over and\n",
    "over, using the mean of the posterior as your estimate would minimize\n",
    "the mean squared error over the long run (see\n",
    "<http://en.wikipedia.org/wiki/Minimum_mean_square_error>).\n",
    "\n",
    "You can download this example from <http://thinkbayes.com/train.py>. For\n",
    "more information see Section [download]."
   ]
  },
  {
   "cell_type": "markdown",
   "metadata": {},
   "source": [
    "## What about that prior?\n",
    "\n",
    "To make any progress on the locomotive problem we had to make\n",
    "assumptions, and some of them were pretty arbitrary. In particular, we\n",
    "chose a uniform prior from 1 to 1000, without much justification for\n",
    "choosing 1000, or for choosing a uniform distribution.\n",
    "\n",
    "It is not crazy to believe that a railroad company might operate 1000\n",
    "locomotives, but a reasonable person might guess more or fewer. So we\n",
    "might wonder whether the posterior distribution is sensitive to these\n",
    "assumptions. With so little data—only one observation—it probably is.\n",
    "\n",
    "Recall that with a uniform prior from 1 to 1000, the mean of the\n",
    "posterior is 333. With an upper bound of 500, we get a posterior mean of\n",
    "207, and with an upper bound of 2000, the posterior mean is 552.\n",
    "\n",
    "So that’s bad. There are two ways to proceed:\n",
    "\n",
    "-   Get more data.\n",
    "\n",
    "-   Get more background information.\n",
    "\n",
    "With more data, posterior distributions based on different priors tend\n",
    "to converge. For example, suppose that in addition to train 60 we also\n",
    "see trains 30 and 90. We can update the distribution like this:"
   ]
  },
  {
   "cell_type": "code",
   "execution_count": 27,
   "metadata": {
    "collapsed": false
   },
   "outputs": [],
   "source": [
    "for data in [60, 30, 90]:\n",
    "    suite.Update(data)"
   ]
  },
  {
   "cell_type": "markdown",
   "metadata": {},
   "source": [
    "With these data, the means of the posteriors are\n",
    "\n",
    "      ------- -----------\n",
    "      Upper   Posterior\n",
    "      Bound   Mean\n",
    "      500     152\n",
    "      1000    164\n",
    "      2000    171\n",
    "      ------- -----------\n",
    "\n",
    "So the differences are smaller."
   ]
  },
  {
   "cell_type": "markdown",
   "metadata": {},
   "source": [
    "## An alternative prior\n",
    "\n",
    "![Posterior distribution based on a power law prior, compared to a\n",
    "uniform prior.](figs/train4.pdf)\n",
    "\n",
    "[fig.train4]\n",
    "\n",
    "If more data are not available, another option is to improve the priors\n",
    "by gathering more background information. It is probably not reasonable\n",
    "to assume that a train-operating company with 1000 locomotives is just\n",
    "as likely as a company with only 1.\n",
    "\n",
    "With some effort, we could probably find a list of companies that\n",
    "operate locomotives in the area of observation. Or we could interview an\n",
    "expert in rail shipping to gather information about the typical size of\n",
    "companies.\n",
    "\n",
    "But even without getting into the specifics of railroad economics, we\n",
    "can make some educated guesses. In most fields, there are many small\n",
    "companies, fewer medium-sized companies, and only one or two very large\n",
    "companies. In fact, the distribution of company sizes tends to follow a\n",
    "power law, as Robert Axtell reports in *Science* (see\n",
    "<http://www.sciencemag.org/content/293/5536/1818.full.pdf>).\n",
    "\n",
    "This law suggests that if there are 1000 companies with fewer than 10\n",
    "locomotives, there might be 100 companies with 100 locomotives, 10\n",
    "companies with 1000, and possibly one company with 10,000 locomotives.\n",
    "\n",
    "Mathematically, a power law means that the number of companies with a\n",
    "given size is inversely proportional to size, or\n",
    "\n",
    "$${\\mathrm{PMF}}(x) \\propto \\left( \\frac{1}{x} \\right)^{\\alpha}$$ \n",
    "\n",
    "where\n",
    "${\\mathrm{PMF}}(x)$ is the probability mass function of $x$ and $\\alpha$\n",
    "is a parameter that is often near 1.\n",
    "\n",
    "We can construct a power law prior like this:"
   ]
  },
  {
   "cell_type": "markdown",
   "metadata": {},
   "source": [
    "```python\n",
    "class Train(Dice):\n",
    "\n",
    "    def __init__(self, hypos, alpha=1.0):\n",
    "        Pmf.__init__(self)\n",
    "        for hypo in hypos:\n",
    "            self.Set(hypo, hypo**(-alpha))\n",
    "        self.Normalize()\n",
    "```"
   ]
  },
  {
   "cell_type": "markdown",
   "metadata": {},
   "source": [
    "And here’s the code that constructs the prior:"
   ]
  },
  {
   "cell_type": "code",
   "execution_count": 35,
   "metadata": {
    "collapsed": false
   },
   "outputs": [],
   "source": [
    "from train3 import Train\n",
    "\n",
    "hypos = range(1, 1001)\n",
    "suite = Train(hypos)"
   ]
  },
  {
   "cell_type": "markdown",
   "metadata": {},
   "source": [
    "Again, the upper bound is arbitrary, but with a power law prior, the\n",
    "posterior is less sensitive to this choice.\n",
    "\n",
    "Figure [fig.train4] shows the new posterior based on the power law,\n",
    "compared to the posterior based on the uniform prior. Using the\n",
    "background information represented in the power law prior, we can all\n",
    "but eliminate values of $N$ greater than 700.\n",
    "\n",
    "If we start with this prior and observe trains 30, 60, and 90, the means\n",
    "of the posteriors are\n",
    "\n",
    "      ------- -----------\n",
    "      Upper   Posterior\n",
    "      Bound   Mean\n",
    "      500     131\n",
    "      1000    133\n",
    "      2000    134\n",
    "      ------- -----------\n",
    "\n",
    "Now the differences are much smaller. In fact, with an arbitrarily large\n",
    "upper bound, the mean converges on 134.\n",
    "\n",
    "So the power law prior is more realistic, because it is based on general\n",
    "information about the size of companies, and it behaves better in\n",
    "practice.\n",
    "\n",
    "You can download the examples in this section from\n",
    "<http://thinkbayes.com/train3.py>. For more information see\n",
    "Section [download]."
   ]
  },
  {
   "cell_type": "markdown",
   "metadata": {},
   "source": [
    "## Credible intervals\n",
    "\n",
    "Once you have computed a posterior distribution, it is often useful to\n",
    "summarize the results with a single point estimate or an interval. For\n",
    "point estimates it is common to use the mean, median, or the value with\n",
    "maximum likelihood.\n",
    "\n",
    "For intervals we usually report two values computed so that there is a\n",
    "90% chance that the unknown value falls between them (or any other\n",
    "probability). These values define a **credible interval**.\n",
    "\n",
    "A simple way to compute a credible interval is to add up the\n",
    "probabilities in the posterior distribution and record the values that\n",
    "correspond to probabilities 5% and 95%. In other words, the 5th and 95th\n",
    "percentiles.\n",
    "\n",
    "`thinkbayes` provides a function that computes percentiles:\n",
    "\n",
    "```python\n",
    "def Percentile(pmf, percentage):\n",
    "    p = percentage / 100.0\n",
    "    total = 0\n",
    "    for val, prob in pmf.Items():\n",
    "        total += prob\n",
    "        if total >= p:\n",
    "            return val    \n",
    "```\n",
    "\n",
    "And here’s the code that uses it:"
   ]
  },
  {
   "cell_type": "code",
   "execution_count": 36,
   "metadata": {
    "collapsed": false
   },
   "outputs": [
    {
     "name": "stdout",
     "output_type": "stream",
     "text": [
      "(50, 950)\n"
     ]
    }
   ],
   "source": [
    "from thinkbayes import Percentile\n",
    "\n",
    "interval = Percentile(suite, 5), Percentile(suite, 95)\n",
    "print(interval)"
   ]
  },
  {
   "cell_type": "markdown",
   "metadata": {},
   "source": [
    "For the previous example—the locomotive problem with a power law prior\n",
    "and three trains—the 90% credible interval is $(91, 243)$. The width of\n",
    "this range suggests, correctly, that we are still quite uncertain about\n",
    "how many locomotives there are."
   ]
  },
  {
   "cell_type": "markdown",
   "metadata": {},
   "source": [
    "## Cumulative distribution functions\n",
    "\n",
    "In the previous section we computed percentiles by iterating through the\n",
    "values and probabilities in a Pmf. If we need to compute more than a few\n",
    "percentiles, it is more efficient to use a cumulative distribution\n",
    "function, or Cdf.\n",
    "\n",
    "Cdfs and Pmfs are equivalent in the sense that they contain the same\n",
    "information about the distribution, and you can always convert from one\n",
    "to the other. The advantage of the Cdf is that you can compute\n",
    "percentiles more efficiently.\n",
    "\n",
    "`thinkbayes` provides a `Cdf` class that\n",
    "represents a cumulative distribution function. `Pmf` provides\n",
    "a method that makes the corresponding Cdf:"
   ]
  },
  {
   "cell_type": "code",
   "execution_count": 37,
   "metadata": {
    "collapsed": true
   },
   "outputs": [],
   "source": [
    "cdf = suite.MakeCdf()"
   ]
  },
  {
   "cell_type": "markdown",
   "metadata": {},
   "source": [
    "And `Cdf` provides a function named `Percentile`"
   ]
  },
  {
   "cell_type": "code",
   "execution_count": 39,
   "metadata": {
    "collapsed": false
   },
   "outputs": [
    {
     "name": "stdout",
     "output_type": "stream",
     "text": [
      "(50, 950)\n"
     ]
    }
   ],
   "source": [
    "interval = cdf.Percentile(5), cdf.Percentile(95)\n",
    "print(interval)"
   ]
  },
  {
   "cell_type": "markdown",
   "metadata": {},
   "source": [
    "Converting from a Pmf to a Cdf takes time proportional to the number of\n",
    "values, `len(pmf)`. The Cdf stores the values and\n",
    "probabilities in sorted lists, so looking up a probability to get the\n",
    "corresponding value takes “log time”: that is, time proportional to the\n",
    "logarithm of the number of values. Looking up a value to get the\n",
    "corresponding probability is also logarithmic, so Cdfs are efficient for\n",
    "many calculations.\n",
    "\n",
    "The examples in this section are in <http://thinkbayes.com/train3.py>.\n",
    "For more information see Section [download]."
   ]
  },
  {
   "cell_type": "markdown",
   "metadata": {},
   "source": [
    "## The German tank problem\n",
    "\n",
    "During World War II, the Economic Warfare Division of the American\n",
    "Embassy in London used statistical analysis to estimate German\n",
    "production of tanks and other equipment.[^2]\n",
    "\n",
    "The Western Allies had captured log books, inventories, and repair\n",
    "records that included chassis and engine serial numbers for individual\n",
    "tanks.\n",
    "\n",
    "Analysis of these records indicated that serial numbers were allocated\n",
    "by manufacturer and tank type in blocks of 100 numbers, that numbers in\n",
    "each block were used sequentially, and that not all numbers in each\n",
    "block were used. So the problem of estimating German tank production\n",
    "could be reduced, within each block of 100 numbers, to a form of the\n",
    "locomotive problem.\n",
    "\n",
    "Based on this insight, American and British analysts produced estimates\n",
    "substantially lower than estimates from other forms of intelligence. And\n",
    "after the war, records indicated that they were substantially more\n",
    "accurate.\n",
    "\n",
    "They performed similar analyses for tires, trucks, rockets, and other\n",
    "equipment, yielding accurate and actionable economic intelligence.\n",
    "\n",
    "The German tank problem is historically interesting; it is also a nice\n",
    "example of real-world application of statistical estimation. So far many\n",
    "of the examples in this book have been toy problems, but it will not be\n",
    "long before we start solving real problems. I think it is an advantage\n",
    "of Bayesian analysis, especially with the computational approach we are\n",
    "taking, that it provides such a short path from a basic introduction to\n",
    "the research frontier."
   ]
  },
  {
   "cell_type": "markdown",
   "metadata": {},
   "source": [
    "## Discussion\n",
    "\n",
    "Among Bayesians, there are two approaches to choosing prior\n",
    "distributions. Some recommend choosing the prior that best represents\n",
    "background information about the problem; in that case the prior is said\n",
    "to be **informative**. The problem with using an\n",
    "informative prior is that people might use different background\n",
    "information (or interpret it differently). So informative priors often\n",
    "seem subjective.\n",
    "\n",
    "The alternative is a so-called **uninformative prior**,\n",
    "which is intended to be as unrestricted as possible, in order to let the\n",
    "data speak for themselves. In some cases you can identify a unique prior\n",
    "that has some desirable property, like representing minimal prior\n",
    "information about the estimated quantity.\n",
    "\n",
    "Uninformative priors are appealing because they seem more objective. But\n",
    "I am generally in favor of using informative priors. Why? First,\n",
    "Bayesian analysis is always based on modeling decisions. Choosing the\n",
    "prior is one of those decisions, but it is not the only one, and it\n",
    "might not even be the most subjective. So even if an uninformative prior\n",
    "is more objective, the entire analysis is still subjective.\n",
    "\n",
    "Also, for most practical problems, you are likely to be in one of two\n",
    "regimes: either you have a lot of data or not very much. If you have a\n",
    "lot of data, the choice of the prior doesn’t matter very much;\n",
    "informative and uninformative priors yield almost the same results.\n",
    "We’ll see an example like this in the next chapter.\n",
    "\n",
    "But if, as in the locomotive problem, you don’t have much data, using\n",
    "relevant background information (like the power law distribution) makes\n",
    "a big difference.\n",
    "\n",
    "And if, as in the German tank problem, you have to make life-and-death\n",
    "decisions based on your results, you should probably use all of the\n",
    "information at your disposal, rather than maintaining the illusion of\n",
    "objectivity by pretending to know less than you do."
   ]
  },
  {
   "cell_type": "markdown",
   "metadata": {},
   "source": [
    "## Exercises\n",
    "\n",
    "To write a likelihood function for the locomotive problem, we had to\n",
    "answer this question: “If the railroad has $N$ locomotives, what is the\n",
    "probability that we see number 60?”\n",
    "\n",
    "The answer depends on what sampling process we use when we observe the\n",
    "locomotive. In this chapter, I resolved the ambiguity by specifying that\n",
    "there is only one train-operating company (or only one that we care\n",
    "about).\n",
    "\n",
    "But suppose instead that there are many companies with different numbers\n",
    "of trains. And suppose that you are equally likely to see any train\n",
    "operated by any company. In that case, the likelihood function is\n",
    "different because you are more likely to see a train operated by a large\n",
    "company.\n",
    "\n",
    "As an exercise, implement the likelihood function for this variation of\n",
    "the locomotive problem, and compare the results."
   ]
  }
 ],
 "metadata": {
  "kernelspec": {
   "display_name": "Python 3",
   "language": "python",
   "name": "python3"
  },
  "language_info": {
   "codemirror_mode": {
    "name": "ipython",
    "version": 3
   },
   "file_extension": ".py",
   "mimetype": "text/x-python",
   "name": "python",
   "nbconvert_exporter": "python",
   "pygments_lexer": "ipython3",
   "version": "3.5.1"
  }
 },
 "nbformat": 4,
 "nbformat_minor": 0
}
