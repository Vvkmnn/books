{
 "cells": [
  {
   "cell_type": "markdown",
   "metadata": {},
   "source": [
    "## Lesson 25:\n",
    "\n",
    "### RegEx groups and the Pipe Character\n"
   ]
  },
  {
   "cell_type": "markdown",
   "metadata": {},
   "source": [
    "The `|` pipe character can match one of many groups, but you may want a certain number of repitions of a group.\n",
    "\n",
    "#### The '?' Regex Operater\n",
    "\n",
    "The `?` RegEx operater allows for optional (0 or 1) matches:"
   ]
  },
  {
   "cell_type": "code",
   "execution_count": 36,
   "metadata": {
    "collapsed": false
   },
   "outputs": [
    {
     "name": "stdout",
     "output_type": "stream",
     "text": [
      "Batman\n",
      "Batwoman\n"
     ]
    }
   ],
   "source": [
    "import re\n",
    "\n",
    "batRegex = re.compile(r'Bat(wo)?man') # The ()? says this group can appear 0 or 1 times to match; it is optional\n",
    "\n",
    "mo = batRegex.search('The Adventures of Batman')\n",
    "print(mo.group())\n",
    "\n",
    "mo = batRegex.search('The Adventures of Batwoman')\n",
    "print(mo.group())"
   ]
  },
  {
   "cell_type": "markdown",
   "metadata": {},
   "source": [
    "However, it cannot match multiple repititions:"
   ]
  },
  {
   "cell_type": "code",
   "execution_count": 37,
   "metadata": {
    "collapsed": false
   },
   "outputs": [
    {
     "ename": "AttributeError",
     "evalue": "'NoneType' object has no attribute 'group'",
     "output_type": "error",
     "traceback": [
      "\u001b[0;31m---------------------------------------------------------------------------\u001b[0m",
      "\u001b[0;31mAttributeError\u001b[0m                            Traceback (most recent call last)",
      "\u001b[0;32m<ipython-input-37-3ca83bd4a86e>\u001b[0m in \u001b[0;36m<module>\u001b[0;34m()\u001b[0m\n\u001b[1;32m      1\u001b[0m \u001b[0mmo\u001b[0m \u001b[0;34m=\u001b[0m \u001b[0mbatRegex\u001b[0m\u001b[0;34m.\u001b[0m\u001b[0msearch\u001b[0m\u001b[0;34m(\u001b[0m\u001b[0;34m'The Adventures of Batwowowowoman'\u001b[0m\u001b[0;34m)\u001b[0m\u001b[0;34m\u001b[0m\u001b[0m\n\u001b[0;32m----> 2\u001b[0;31m \u001b[0mprint\u001b[0m\u001b[0;34m(\u001b[0m\u001b[0mmo\u001b[0m\u001b[0;34m.\u001b[0m\u001b[0mgroup\u001b[0m\u001b[0;34m(\u001b[0m\u001b[0;34m)\u001b[0m\u001b[0;34m)\u001b[0m\u001b[0;34m\u001b[0m\u001b[0m\n\u001b[0m",
      "\u001b[0;31mAttributeError\u001b[0m: 'NoneType' object has no attribute 'group'"
     ]
    }
   ],
   "source": [
    "mo = batRegex.search('The Adventures of Batwowowowoman')\n",
    "print(mo.group())"
   ]
  },
  {
   "cell_type": "markdown",
   "metadata": {
    "collapsed": false
   },
   "source": [
    "We can use this to find strings that may or may not include elements, like phone numbers with and without area codes. "
   ]
  },
  {
   "cell_type": "code",
   "execution_count": 38,
   "metadata": {
    "collapsed": false,
    "scrolled": true
   },
   "outputs": [
    {
     "name": "stdout",
     "output_type": "stream",
     "text": [
      "415-555-4242\n",
      "None\n",
      "415-555-4242\n",
      "555-4242\n"
     ]
    }
   ],
   "source": [
    "phoneNumRegex = re.compile(r'\\d\\d\\d\\-\\d\\d\\d-\\d\\d\\d\\d') # this requires an area code.\n",
    "\n",
    "mo = phoneNumRegex.search('My number is 415-555-4242') # matches\n",
    "print(mo.group())\n",
    "\n",
    "mo2 = phoneNumRegex.search('My number is 555-4242') # will not match\n",
    "print(mo2)\n",
    "\n",
    "\n",
    "phoneNumRegex = re.compile(r'(\\d\\d\\d\\-)?\\d\\d\\d-\\d\\d\\d\\d') # Make first three digits and dash optional\n",
    "\n",
    "mo = phoneNumRegex.search('My number is 415-555-4242') # matches\n",
    "print(mo.group())\n",
    "mo2 = phoneNumRegex.search('My number is 555-4242') # matches\n",
    "print(mo2.group())\n"
   ]
  },
  {
   "cell_type": "markdown",
   "metadata": {},
   "source": [
    "#### The '*' Regex Operater\n",
    "\n",
    "The `*` character can be used to match many (0 or n)  times."
   ]
  },
  {
   "cell_type": "code",
   "execution_count": 39,
   "metadata": {
    "collapsed": false
   },
   "outputs": [
    {
     "name": "stdout",
     "output_type": "stream",
     "text": [
      "Batwoman\n",
      "Batwowowowoman\n"
     ]
    }
   ],
   "source": [
    "import re\n",
    "\n",
    "batRegex = re.compile(r'Bat(wo)*man') # The ()* says this group can appear 0 or n times to match\n",
    "\n",
    "print(batRegex.search('The Adventures of Batwoman').group())\n",
    "\n",
    "print(batRegex.search('The Adventures of Batwowowowoman').group())"
   ]
  },
  {
   "cell_type": "markdown",
   "metadata": {},
   "source": [
    "#### The '+' Regex Operater\n",
    "\n",
    "\n",
    "The `+` character can match one or more (1 or n) times."
   ]
  },
  {
   "cell_type": "code",
   "execution_count": 40,
   "metadata": {
    "collapsed": false
   },
   "outputs": [
    {
     "name": "stdout",
     "output_type": "stream",
     "text": [
      "Batwoman\n",
      "Batwowowowoman\n"
     ]
    },
    {
     "ename": "AttributeError",
     "evalue": "'NoneType' object has no attribute 'group'",
     "output_type": "error",
     "traceback": [
      "\u001b[0;31m---------------------------------------------------------------------------\u001b[0m",
      "\u001b[0;31mAttributeError\u001b[0m                            Traceback (most recent call last)",
      "\u001b[0;32m<ipython-input-40-c82c03b4fdec>\u001b[0m in \u001b[0;36m<module>\u001b[0;34m()\u001b[0m\n\u001b[1;32m      7\u001b[0m \u001b[0mprint\u001b[0m\u001b[0;34m(\u001b[0m\u001b[0mbatRegex\u001b[0m\u001b[0;34m.\u001b[0m\u001b[0msearch\u001b[0m\u001b[0;34m(\u001b[0m\u001b[0;34m'The Adventures of Batwowowowoman'\u001b[0m\u001b[0;34m)\u001b[0m\u001b[0;34m.\u001b[0m\u001b[0mgroup\u001b[0m\u001b[0;34m(\u001b[0m\u001b[0;34m)\u001b[0m\u001b[0;34m)\u001b[0m\u001b[0;34m\u001b[0m\u001b[0m\n\u001b[1;32m      8\u001b[0m \u001b[0;34m\u001b[0m\u001b[0m\n\u001b[0;32m----> 9\u001b[0;31m \u001b[0mprint\u001b[0m\u001b[0;34m(\u001b[0m\u001b[0mbatRegex\u001b[0m\u001b[0;34m.\u001b[0m\u001b[0msearch\u001b[0m\u001b[0;34m(\u001b[0m\u001b[0;34m'The Adventures of Batman'\u001b[0m\u001b[0;34m)\u001b[0m\u001b[0;34m.\u001b[0m\u001b[0mgroup\u001b[0m\u001b[0;34m(\u001b[0m\u001b[0;34m)\u001b[0m\u001b[0;34m)\u001b[0m\u001b[0;34m\u001b[0m\u001b[0m\n\u001b[0m",
      "\u001b[0;31mAttributeError\u001b[0m: 'NoneType' object has no attribute 'group'"
     ]
    }
   ],
   "source": [
    "import re\n",
    "\n",
    "batRegex = re.compile(r'Bat(wo)+man') # The ()+ says this group can appear 1 or n times; it is NOT optional\n",
    "\n",
    "print(batRegex.search('The Adventures of Batwoman').group())\n",
    "\n",
    "print(batRegex.search('The Adventures of Batwowowowoman').group())\n",
    "\n",
    "print(batRegex.search('The Adventures of Batman').group())\n"
   ]
  },
  {
   "cell_type": "markdown",
   "metadata": {},
   "source": [
    "All of these characters can be escaped for literal matches:"
   ]
  },
  {
   "cell_type": "code",
   "execution_count": 41,
   "metadata": {
    "collapsed": false
   },
   "outputs": [
    {
     "name": "stdout",
     "output_type": "stream",
     "text": [
      "+*?\n"
     ]
    }
   ],
   "source": [
    "import re\n",
    "\n",
    "batRegex = re.compile(r'\\+\\*\\?') # The +,*, and ? are escaped. \n",
    "\n",
    "print(batRegex.search('I learned about +*? RegEx syntax').group())"
   ]
  },
  {
   "cell_type": "markdown",
   "metadata": {},
   "source": [
    "#### The '{}' Regex Operater\n",
    "\n",
    "\n",
    "The `{x}` character can match x times."
   ]
  },
  {
   "cell_type": "code",
   "execution_count": 42,
   "metadata": {
    "collapsed": false,
    "scrolled": true
   },
   "outputs": [
    {
     "name": "stdout",
     "output_type": "stream",
     "text": [
      "HaHaHa\n",
      "HaHaHa\n"
     ]
    },
    {
     "data": {
      "text/plain": [
       "'415-555-4242'"
      ]
     },
     "execution_count": 42,
     "metadata": {},
     "output_type": "execute_result"
    }
   ],
   "source": [
    "haRegex = re.compile(r'(Ha){3}')\n",
    "\n",
    "print(haRegex.search('HaHaHa').group())\n",
    "print(haRegex.search('HaHaHaHa').group())  # Matches only three times, so returns only 3\n",
    "#print(haRegex.search('HaHa').group()) # No Match\n",
    "\n",
    "phoneRegex = re.compile(r'((\\d)?\\d\\d\\d(\\d)?){3}') # Useful to avoid repitition\n",
    "phoneNumRegex.search('My number is 415-555-4242').group()\n"
   ]
  },
  {
   "cell_type": "markdown",
   "metadata": {},
   "source": [
    "This operator can also take the `{x,y}` argument to create a minimum or maximum number of repititions."
   ]
  },
  {
   "cell_type": "code",
   "execution_count": 43,
   "metadata": {
    "collapsed": false
   },
   "outputs": [
    {
     "name": "stdout",
     "output_type": "stream",
     "text": [
      "HaHaHa\n",
      "HaHaHaHa\n",
      "HaHaHaHaHa\n",
      "HaHaHaHaHa\n",
      "Ha\n",
      "HaHa\n",
      "HaHaHa\n",
      "HaHaHaHa\n",
      "HaHaHaHaHa\n",
      "HaHaHaHaHa\n"
     ]
    }
   ],
   "source": [
    "haRegex = re.compile(r'(Ha){3,5}')\n",
    "\n",
    "print(haRegex.search('HaHaHa').group())\n",
    "print(haRegex.search('HaHaHaHa').group())\n",
    "print(haRegex.search('HaHaHaHaHa').group())  \n",
    "print(haRegex.search('HaHaHaHaHaHaHaHa').group()) # Matches max of 5\n",
    "\n",
    "\n",
    "haRegex = re.compile(r'(Ha){,5}') # Can drop one or the other for unbounded matches\n",
    "print(haRegex.search('Ha').group())\n",
    "print(haRegex.search('HaHa').group())\n",
    "print(haRegex.search('HaHaHa').group())\n",
    "print(haRegex.search('HaHaHaHa').group())\n",
    "print(haRegex.search('HaHaHaHaHa').group())  \n",
    "print(haRegex.search('HaHaHaHaHaHaHaHa').group()) # Matches max of 5"
   ]
  },
  {
   "cell_type": "markdown",
   "metadata": {},
   "source": [
    "RegEx does greedy matches, which means it will try to find the longest string that matches, not the shortest."
   ]
  },
  {
   "cell_type": "code",
   "execution_count": 44,
   "metadata": {
    "collapsed": false
   },
   "outputs": [
    {
     "name": "stdout",
     "output_type": "stream",
     "text": [
      "HaHaHaHaHaHa\n"
     ]
    }
   ],
   "source": [
    "haRegex = re.compile(r'(Ha){1,6}') # at least 1, or 6\n",
    "print(haRegex.search('HaHaHaHaHaHaHaHa').group()) # Matches longest string; 6"
   ]
  },
  {
   "cell_type": "markdown",
   "metadata": {},
   "source": [
    "You can do a non-greedy match by using a '`}?'` operator."
   ]
  },
  {
   "cell_type": "code",
   "execution_count": 45,
   "metadata": {
    "collapsed": false
   },
   "outputs": [
    {
     "name": "stdout",
     "output_type": "stream",
     "text": [
      "Ha\n"
     ]
    }
   ],
   "source": [
    "haRegex = re.compile(r'(Ha){1,6}?') # The }? says favor the first condition, not the second; non-greedy\n",
    "print(haRegex.search('HaHaHaHaHaHaHaHa').group()) # Matches shortest string, 1"
   ]
  },
  {
   "cell_type": "markdown",
   "metadata": {},
   "source": [
    "### The Regex Operaters\n",
    "\n",
    "The `()` character creates a subgroup for matching.  \n",
    "The `|`, character matches one of several patterns in a group.  \n",
    "The `?` character allows for optional (0 or 1) matches.  \n",
    "The `*` character can be used to match many (0 or n)  times.  \n",
    "The `+` character can match one or more (1 or n) times.  \n",
    "The `{m,n}` character allows for at least m or at most n matches of the parameter within it.  \n",
    "The `{?` or `}?` character allows for non-greedy matches, favoring the `{` without the `?`.  \n",
    "The `\\` character escapes any of these characters for literal matches."
   ]
  },
  {
   "cell_type": "markdown",
   "metadata": {},
   "source": [
    "## Recap\n",
    "* The `?` says the group matches zero or one times.\n",
    "* The `*` says the group matches zero or more times.\n",
    "* The `+` says the group matches one ore more times.\n",
    "* The curly braces can match a specific number of times.\n",
    "* The curly braces with two numbers matches a minimum and maximum number of times.\n",
    "* Leaving out the first or second number in the curly braces says there is no minimum or maxiumum. \n",
    "* Greedy matching matches the longest string possible, non-greedy matching matches the shortest string possible. \n",
    "* Putting a question mark after the curly braces makes it do a non-greedy match."
   ]
  }
 ],
 "metadata": {
  "kernelspec": {
   "display_name": "Python 3",
   "language": "python",
   "name": "python3"
  },
  "language_info": {
   "codemirror_mode": {
    "name": "ipython",
    "version": 3
   },
   "file_extension": ".py",
   "mimetype": "text/x-python",
   "name": "python",
   "nbconvert_exporter": "python",
   "pygments_lexer": "ipython3",
   "version": "3.5.1"
  }
 },
 "nbformat": 4,
 "nbformat_minor": 0
}
