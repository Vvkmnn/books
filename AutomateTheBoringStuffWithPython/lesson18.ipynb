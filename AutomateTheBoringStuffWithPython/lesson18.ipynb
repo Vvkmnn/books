{
 "cells": [
  {
   "cell_type": "markdown",
   "metadata": {},
   "source": [
    "## Lesson 17:\n",
    "\n",
    "### Data Structures\n"
   ]
  },
  {
   "cell_type": "markdown",
   "metadata": {},
   "source": [
    "Lists and dictionaries organize data in structures for programs."
   ]
  },
  {
   "cell_type": "code",
   "execution_count": 3,
   "metadata": {
    "collapsed": false
   },
   "outputs": [],
   "source": [
    "cat = {'name' : 'Zophie', 'age': 7, 'color':'gray'}"
   ]
  },
  {
   "cell_type": "markdown",
   "metadata": {},
   "source": [
    "A list of Dictionaries isa Data Structure. "
   ]
  },
  {
   "cell_type": "code",
   "execution_count": 4,
   "metadata": {
    "collapsed": false,
    "scrolled": true
   },
   "outputs": [
    {
     "name": "stdout",
     "output_type": "stream",
     "text": [
      "[{'color': 'gray', 'name': 'Zophie', 'age': 7}, {'color': 'black', 'name': 'Fooka', 'age': 5}, {'color': 'gray', 'name': 'Fat-tail', 'age': 5}, {'color': 'orange', 'name': '???', 'age': -1}]\n"
     ]
    }
   ],
   "source": [
    "allCats = []\n",
    "\n",
    "allCats.append({'name' : 'Zophie', 'age': 7, 'color':'gray'})\n",
    "allCats.append({'name' : 'Fooka', 'age': 5, 'color':'black'})\n",
    "allCats.append({'name' : 'Fat-tail', 'age': 5, 'color':'gray'})\n",
    "allCats.append({'name' : '???', 'age': -1, 'color':'orange'})\n",
    "\n",
    "print(allCats)"
   ]
  },
  {
   "cell_type": "markdown",
   "metadata": {},
   "source": [
    "### The Tic-Tac-Toe Game Program\n",
    "\n",
    "We can use data structures to represent values in Python that can be understood. For example, using key-value pairs and strings to represent regions of a tic-tac-toe board."
   ]
  },
  {
   "cell_type": "code",
   "execution_count": 7,
   "metadata": {
    "collapsed": false,
    "scrolled": true
   },
   "outputs": [
    {
     "data": {
      "text/html": [
       "<img src=\"https://automatetheboringstuff.com/images/000003.png\"/>"
      ],
      "text/plain": [
       "<IPython.core.display.Image object>"
      ]
     },
     "execution_count": 7,
     "metadata": {},
     "output_type": "execute_result"
    }
   ],
   "source": [
    "from IPython.display import Image\n",
    "\n",
    "Image(url='https://automatetheboringstuff.com/images/000003.png')"
   ]
  },
  {
   "cell_type": "markdown",
   "metadata": {
    "collapsed": true
   },
   "source": [
    "We will use data structures to create a representation of this board. Use string values to represent the nine spaces. The dictionary values will hold the X's and O's, and the position strings (`'low-R'`) will be the keys."
   ]
  },
  {
   "cell_type": "code",
   "execution_count": 29,
   "metadata": {
    "collapsed": false
   },
   "outputs": [
    {
     "name": "stdout",
     "output_type": "stream",
     "text": [
      "{'low-L': ' ',\n",
      " 'low-M': ' ',\n",
      " 'low-R': ' ',\n",
      " 'mid-L': ' ',\n",
      " 'mid-M': ' ',\n",
      " 'mid-R': ' ',\n",
      " 'top-L': ' ',\n",
      " 'top-M': ' ',\n",
      " 'top-R': ' '}\n"
     ]
    }
   ],
   "source": [
    "import pprint\n",
    "\n",
    "theBoard = {\n",
    "    'top-L':' ',\n",
    "    'top-M':' ',\n",
    "    'top-R':' ',\n",
    "    'mid-L':' ',\n",
    "    'mid-M':' ',\n",
    "    'mid-R':' ',\n",
    "    'low-L':' ',\n",
    "    'low-M':' ',\n",
    "    'low-R':' ',\n",
    "}\n",
    "\n",
    "pprint.pprint(theBoard)"
   ]
  },
  {
   "cell_type": "markdown",
   "metadata": {},
   "source": [
    "The keys are arbitrary; they are just used to store and change values. "
   ]
  },
  {
   "cell_type": "markdown",
   "metadata": {},
   "source": [
    "  Machine version:"
   ]
  },
  {
   "cell_type": "code",
   "execution_count": 30,
   "metadata": {
    "collapsed": false,
    "scrolled": false
   },
   "outputs": [
    {
     "name": "stdout",
     "output_type": "stream",
     "text": [
      "{'low-L': ' ',\n",
      " 'low-M': ' ',\n",
      " 'low-R': ' ',\n",
      " 'mid-L': ' ',\n",
      " 'mid-M': 'X',\n",
      " 'mid-R': ' ',\n",
      " 'top-L': ' ',\n",
      " 'top-M': ' ',\n",
      " 'top-R': ' '}\n"
     ]
    }
   ],
   "source": [
    "theBoard['mid-M'] = 'X'\n",
    "\n",
    "pprint.pprint(theBoard)\n"
   ]
  },
  {
   "cell_type": "markdown",
   "metadata": {},
   "source": [
    "Human version:"
   ]
  },
  {
   "cell_type": "code",
   "execution_count": 32,
   "metadata": {
    "collapsed": false
   },
   "outputs": [
    {
     "data": {
      "text/html": [
       "<img src=\"https://automatetheboringstuff.com/images/000008.png\"/>"
      ],
      "text/plain": [
       "<IPython.core.display.Image object>"
      ]
     },
     "execution_count": 32,
     "metadata": {},
     "output_type": "execute_result"
    }
   ],
   "source": [
    "from IPython.display import Image\n",
    "\n",
    "Image(url='https://automatetheboringstuff.com/images/000008.png')"
   ]
  },
  {
   "cell_type": "markdown",
   "metadata": {
    "collapsed": true
   },
   "source": [
    "How would we draw this board and include win conditions? Defining functions."
   ]
  },
  {
   "cell_type": "code",
   "execution_count": 34,
   "metadata": {
    "collapsed": false
   },
   "outputs": [
    {
     "name": "stdout",
     "output_type": "stream",
     "text": [
      "  |   |  \n",
      "----------\n",
      "  | X |  \n",
      "----------\n",
      "  |   |  \n"
     ]
    }
   ],
   "source": [
    "def printBoard(board):\n",
    "    print(board['top-L'] + ' | ' + board['top-M'] + ' | ' + board['top-R'])\n",
    "    print('----------')\n",
    "    print(board['mid-L'] + ' | ' + board['mid-M'] + ' | ' + board['mid-R'])\n",
    "    print('----------')\n",
    "    print(board['low-L'] + ' | ' + board['low-M'] + ' | ' + board['low-R'])\n",
    "    \n",
    "printBoard(theBoard)"
   ]
  },
  {
   "cell_type": "markdown",
   "metadata": {},
   "source": [
    "Dictionaries, lists, and strings can be used in combination to __simulate__ real world things, translating machine responses to human responses."
   ]
  },
  {
   "cell_type": "markdown",
   "metadata": {},
   "source": [
    "If confused about what type of data you're dealing with, use the `type()` function."
   ]
  },
  {
   "cell_type": "code",
   "execution_count": 43,
   "metadata": {
    "collapsed": false,
    "scrolled": true
   },
   "outputs": [
    {
     "name": "stdout",
     "output_type": "stream",
     "text": [
      "type(42)\n",
      "<class 'int'>\n",
      "type(hello)\n",
      "<class 'str'>\n",
      "type(3.14)\n",
      "<class 'float'>\n",
      "type(theBoard)\n",
      "<class 'dict'>\n",
      "type(theBoard[top-R])\n",
      "<class 'str'>\n"
     ]
    }
   ],
   "source": [
    "print('type(42)')\n",
    "print(type(42))\n",
    "\n",
    "print('type(hello)')\n",
    "print(type('hello'))\n",
    "\n",
    "print('type(3.14)')\n",
    "print(type(3.14))\n",
    "\n",
    "print('type(theBoard)')\n",
    "print(type(theBoard))\n",
    "\n",
    "print('type(theBoard[top-R])')\n",
    "print(type(theBoard['top-R']))"
   ]
  }
 ],
 "metadata": {
  "kernelspec": {
   "display_name": "Python 3",
   "language": "python",
   "name": "python3"
  },
  "language_info": {
   "codemirror_mode": {
    "name": "ipython",
    "version": 3
   },
   "file_extension": ".py",
   "mimetype": "text/x-python",
   "name": "python",
   "nbconvert_exporter": "python",
   "pygments_lexer": "ipython3",
   "version": "3.5.1"
  }
 },
 "nbformat": 4,
 "nbformat_minor": 0
}
