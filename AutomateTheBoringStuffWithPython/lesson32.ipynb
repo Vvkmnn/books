{
 "cells": [
  {
   "cell_type": "markdown",
   "metadata": {},
   "source": [
    "## Lesson 32:\n",
    "\n",
    "### Copying and Moving Files and Folders\n"
   ]
  },
  {
   "cell_type": "markdown",
   "metadata": {},
   "source": [
    "Programs can be used to automate the movement and management of files and folders.\n",
    "\n",
    "The `shutil`, or shell utiltiies module contains many utilities for copying and moving actions."
   ]
  },
  {
   "cell_type": "markdown",
   "metadata": {},
   "source": [
    "After moving into `/files`:"
   ]
  },
  {
   "cell_type": "code",
   "execution_count": 4,
   "metadata": {
    "collapsed": false
   },
   "outputs": [],
   "source": [
    "import os \n",
    "# Define base directory\n",
    "defaultpath = os.path.expanduser('~/Dropbox/learn/books/Python/AutomateTheBoringStuffWithPython')\n",
    "\n",
    "#Change directory to files directory if set in default \n",
    "if (os.getcwd() == defaultpath):\n",
    "       os.chdir('/files')   \n",
    "else:\n",
    "    os.chdir(defaultpath + '/files')"
   ]
  },
  {
   "cell_type": "markdown",
   "metadata": {},
   "source": [
    "import `shutil` and use `copy()` to copy a file:"
   ]
  },
  {
   "cell_type": "code",
   "execution_count": 24,
   "metadata": {
    "collapsed": false,
    "scrolled": true
   },
   "outputs": [
    {
     "data": {
      "text/plain": [
       "'bacon2.txt'"
      ]
     },
     "execution_count": 24,
     "metadata": {},
     "output_type": "execute_result"
    }
   ],
   "source": [
    "import shutil # import shutil\n",
    "\n",
    "shutil.copy('bacon.txt', 'newfiles') # Copy file to a new directory\n",
    "\n",
    "shutil.copy('bacon.txt', 'bacon2.txt') # Copy file to with a new name"
   ]
  },
  {
   "cell_type": "markdown",
   "metadata": {},
   "source": [
    "`copytree()` can  be used to copy entire directories:"
   ]
  },
  {
   "cell_type": "code",
   "execution_count": 16,
   "metadata": {
    "collapsed": false
   },
   "outputs": [
    {
     "data": {
      "text/plain": [
       "'newerfiles'"
      ]
     },
     "execution_count": 16,
     "metadata": {},
     "output_type": "execute_result"
    }
   ],
   "source": [
    "shutil.copytree('newfiles', 'newerfiles') # Copy a directory and rename it"
   ]
  },
  {
   "cell_type": "markdown",
   "metadata": {},
   "source": [
    "`move()` can move files and also rename them, and copy them to the same directory with a new name. "
   ]
  },
  {
   "cell_type": "code",
   "execution_count": 25,
   "metadata": {
    "collapsed": false,
    "scrolled": true
   },
   "outputs": [
    {
     "data": {
      "text/plain": [
       "'newfiles/bacon3.txt'"
      ]
     },
     "execution_count": 25,
     "metadata": {},
     "output_type": "execute_result"
    }
   ],
   "source": [
    "shutil.move('bacon2.txt', 'bacon3.txt') # Rename file without moving them \n",
    "\n",
    "shutil.move('bacon3.txt', 'newfiles/bacon3.txt') # Move and rename file"
   ]
  },
  {
   "cell_type": "markdown",
   "metadata": {},
   "source": [
    "## Recap\n",
    "* The `shutil`, or shell utilties module, contain tools for managing files.\n",
    "* `shutil.copy()` can copy files to new folders and duplicate them with new names.\n",
    "* `shutil.copytree()` can copy entire directories\n",
    "* `shutil.move()` move or rename a file. "
   ]
  }
 ],
 "metadata": {
  "kernelspec": {
   "display_name": "Python 3",
   "language": "python",
   "name": "python3"
  },
  "language_info": {
   "codemirror_mode": {
    "name": "ipython",
    "version": 3
   },
   "file_extension": ".py",
   "mimetype": "text/x-python",
   "name": "python",
   "nbconvert_exporter": "python",
   "pygments_lexer": "ipython3",
   "version": "3.5.1"
  }
 },
 "nbformat": 4,
 "nbformat_minor": 0
}
