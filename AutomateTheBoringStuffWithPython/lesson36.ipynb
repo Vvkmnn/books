{
 "cells": [
  {
   "cell_type": "markdown",
   "metadata": {},
   "source": [
    "### Lesson 36:\n",
    "\n",
    "### Logging"
   ]
  },
  {
   "cell_type": "markdown",
   "metadata": {},
   "source": [
    "Logging involves printing code output to a file that can be reviewed later. \n",
    "\n",
    " The `logging` module contains tools for logging in Python."
   ]
  },
  {
   "cell_type": "markdown",
   "metadata": {},
   "source": [
    "`logging.basicCongif()` is the setup code for logging in python."
   ]
  },
  {
   "cell_type": "code",
   "execution_count": 1,
   "metadata": {
    "collapsed": true
   },
   "outputs": [],
   "source": [
    "import logging\n",
    "\n",
    "logging.basicConfig(level=logging.DEBUG, format = '%(asctime)s - %(levelname)s - %(message)s') # Format for basic logging"
   ]
  },
  {
   "cell_type": "markdown",
   "metadata": {},
   "source": [
    "#### Factorial Program\n",
    "\n",
    "Create a program that can return the n! of a number (`5! = 1 * 2 * 3 * 4 * 5 = 120`)."
   ]
  },
  {
   "cell_type": "code",
   "execution_count": 18,
   "metadata": {
    "collapsed": false
   },
   "outputs": [
    {
     "name": "stdout",
     "output_type": "stream",
     "text": [
      "0\n"
     ]
    }
   ],
   "source": [
    "# Creating a buggy program for testing\n",
    "\n",
    "def factorial(n):\n",
    "    \"\"\"\n",
    "    A function for finding factorials.\n",
    "    \"\"\"\n",
    "    total = 1\n",
    "    for i in range(n+1):\n",
    "        total *= i # Total = total multiplied by ever element i added to itself\n",
    "    return total\n",
    "\n",
    "print(factorial(5))"
   ]
  },
  {
   "cell_type": "markdown",
   "metadata": {},
   "source": [
    "The factorial program is returning a `0` output, which is invalid. We can use a log to find the error(s).\n",
    "\n",
    "Build a log framerwork:"
   ]
  },
  {
   "cell_type": "code",
   "execution_count": 19,
   "metadata": {
    "collapsed": false,
    "scrolled": true
   },
   "outputs": [
    {
     "name": "stderr",
     "output_type": "stream",
     "text": [
      "2016-02-04 10:38:12,944 - DEBUG - Start of Program\n",
      "2016-02-04 10:38:12,945 - DEBUG - Start of the factorial(5)\n",
      "2016-02-04 10:38:12,945 - DEBUG - i is the 0, total is 0\n",
      "2016-02-04 10:38:12,946 - DEBUG - i is the 1, total is 0\n",
      "2016-02-04 10:38:12,946 - DEBUG - i is the 2, total is 0\n",
      "2016-02-04 10:38:12,946 - DEBUG - i is the 3, total is 0\n",
      "2016-02-04 10:38:12,947 - DEBUG - i is the 4, total is 0\n",
      "2016-02-04 10:38:12,948 - DEBUG - i is the 5, total is 0\n",
      "2016-02-04 10:38:12,948 - DEBUG - Return value is 0\n",
      "2016-02-04 10:38:12,949 - DEBUG - End of Program\n"
     ]
    },
    {
     "name": "stdout",
     "output_type": "stream",
     "text": [
      "0\n"
     ]
    }
   ],
   "source": [
    "import logging\n",
    "\n",
    "# For iPython/Jupyter, logging is handled at the root level. There are two ways to reacces logging\n",
    "\n",
    "# Way 1: (Easy way)\n",
    "import imp # Import the 'import' internals module\n",
    "imp.reload(logging) # Reload the logging module for this specific instance\n",
    "\n",
    "\n",
    "# Way 2: (Less Easy Way)\n",
    "# Must define a logging object for this instance:\n",
    "# logger = logging.getLogger() # Logging object\n",
    "# logger.setLevel(logging.DEBUG) # Setting logging level to the level defined in the program\n",
    "# This can be used by passing the normal logging.debug('message') as usual\n",
    "\n",
    "logging.basicConfig(level=logging.DEBUG, format = '%(asctime)s - %(levelname)s - %(message)s') # Format for basic logging\n",
    "\n",
    "logging.debug('Start of Program') # Start of program in log\n",
    "\n",
    "def factorial(n):\n",
    "    \"\"\"\n",
    "    A function for finding factorials.\n",
    "    \"\"\"\n",
    "    logging.debug('Start of the factorial(%s)' % (n)) # Start the program and pass the argument to the log \n",
    "    total = 1\n",
    "    for i in range(n+1):\n",
    "        total *= i # Total = total multiplied by ever element i added to itself\n",
    "        logging.debug('i is the %s, total is %s' % (i, total)) # Pass the actual function arguments to the log\n",
    "    \n",
    "    logging.debug('Return value is %s' % (total)) # Return the total argument to the log\n",
    "    return total\n",
    "  \n",
    "\n",
    "print(factorial(5))\n",
    "logging.debug('End of Program') # End of program in log\n"
   ]
  },
  {
   "cell_type": "markdown",
   "metadata": {},
   "source": [
    "`logging.debug()` function calls are a lot like `print()` calls, but they can provide a lot more information: \n",
    "\n",
    "* They provide a _timestamp_ via `%(asctime)s`.\n",
    "* A _log level_ via `%(levelname)s`.\n",
    "* The given `logging.debug()` _message_ via `%(message)s`."
   ]
  },
  {
   "cell_type": "markdown",
   "metadata": {},
   "source": [
    "From the log, it seems the issue is because the function starts at `0` and not `1`, multiplying every following iteration by `total = 0`.\n",
    "\n",
    "Fix this by passing the `range()` function a start of `1`:"
   ]
  },
  {
   "cell_type": "code",
   "execution_count": 17,
   "metadata": {
    "collapsed": false,
    "scrolled": true
   },
   "outputs": [
    {
     "name": "stderr",
     "output_type": "stream",
     "text": [
      "2016-02-04 10:36:52,309 - DEBUG - Start of Program\n",
      "2016-02-04 10:36:52,310 - DEBUG - Start of the factorial(5)\n",
      "2016-02-04 10:36:52,310 - DEBUG - i is the 1, total is 1\n",
      "2016-02-04 10:36:52,311 - DEBUG - i is the 2, total is 2\n",
      "2016-02-04 10:36:52,311 - DEBUG - i is the 3, total is 6\n",
      "2016-02-04 10:36:52,312 - DEBUG - i is the 4, total is 24\n",
      "2016-02-04 10:36:52,312 - DEBUG - i is the 5, total is 120\n",
      "2016-02-04 10:36:52,312 - DEBUG - Return value is 120\n",
      "2016-02-04 10:36:52,313 - DEBUG - End of Program\n"
     ]
    },
    {
     "name": "stdout",
     "output_type": "stream",
     "text": [
      "120\n"
     ]
    }
   ],
   "source": [
    "import logging\n",
    "\n",
    "import imp # Import the 'import' internals module\n",
    "imp.reload(logging) # Reload the logging module for this specific instance\n",
    "\n",
    "\n",
    "logging.basicConfig(level=logging.DEBUG, format = '%(asctime)s - %(levelname)s - %(message)s') # Format for basic logging\n",
    "\n",
    "logging.debug('Start of Program') # Start of program in log\n",
    "\n",
    "def factorial(n):\n",
    "    \"\"\"\n",
    "    A function for finding factorials.\n",
    "    \"\"\"\n",
    "    logging.debug('Start of the factorial(%s)' % (n)) # Start the program and pass the argument to the log \n",
    "    total = 1\n",
    "    for i in range(1, n+1):\n",
    "        total *= i # Total = total multiplied by ever element i added to itself\n",
    "        logging.debug('i is the %s, total is %s' % (i, total)) # Pass the actual function arguments to the log\n",
    "    \n",
    "    logging.debug('Return value is %s' % (total)) # Return the total argument to the log\n",
    "    return total\n",
    "  \n",
    "\n",
    "print(factorial(5))\n",
    "logging.debug('End of Program') # End of program in log\n"
   ]
  },
  {
   "cell_type": "markdown",
   "metadata": {},
   "source": [
    "This is now returning the proper value."
   ]
  },
  {
   "cell_type": "markdown",
   "metadata": {},
   "source": [
    "`logging.debug()` is used instead of `print()` because when the program is complete, every `print()` debug statement to be removed (and normal `print()` methods have to be ignored.)\n",
    "\n",
    "Meanwhile, removing the `debug()` messages is as simple as changing the log level:"
   ]
  },
  {
   "cell_type": "code",
   "execution_count": 20,
   "metadata": {
    "collapsed": false
   },
   "outputs": [
    {
     "name": "stdout",
     "output_type": "stream",
     "text": [
      "120\n"
     ]
    }
   ],
   "source": [
    "import logging\n",
    "\n",
    "import imp \n",
    "imp.reload(logging) \n",
    "\n",
    "\n",
    "logging.disable(logging.CRITICAL) # Switch the log level from 'DEBUG' to 'CRITICAL'; only show 'critical' level debugs\n",
    "\n",
    "\n",
    "logging.basicConfig(level=logging.DEBUG, format = '%(asctime)s - %(levelname)s - %(message)s') # Format for basic logging\n",
    "\n",
    "logging.debug('Start of Program') # Start of program in log\n",
    "\n",
    "def factorial(n):\n",
    "    \"\"\"\n",
    "    A function for finding factorials.\n",
    "    \"\"\"\n",
    "    logging.debug('Start of the factorial(%s)' % (n)) # Start the program and pass the argument to the log \n",
    "    total = 1\n",
    "    for i in range(1, n+1):\n",
    "        total *= i # Total = total multiplied by ever element i added to itself\n",
    "        logging.debug('i is the %s, total is %s' % (i, total)) # Pass the actual function arguments to the log\n",
    "    \n",
    "    logging.debug('Return value is %s' % (total)) # Return the total argument to the log\n",
    "    return total\n",
    "  \n",
    "\n",
    "print(factorial(5))\n",
    "logging.debug('End of Program') # End of program in log\n"
   ]
  },
  {
   "cell_type": "markdown",
   "metadata": {},
   "source": [
    "There are 5 log levels defined in [Python](https://docs.python.org/2/library/logging.html):\n",
    "* __Debug__: The lowest level, for testing, accessed via `logging.debug()`.\n",
    "* __Info__: The information level, for informing the programmer, accessed via `logging.info()`.\n",
    "* __Warning__: The warning level, where something could go wrong, accessed via `logging.warnig()`.\n",
    "* __Error__: The error level, where something _has_ gone wrong, accessed via `logging.error()`.\n",
    "* __Critical__: The highest level, where something has gone wrong, and might stop the program, accessed via `logging.critical()`."
   ]
  },
  {
   "cell_type": "markdown",
   "metadata": {},
   "source": [
    "`logging.disable()` disables that level and every element below it.\n",
    "\n",
    "`logging.disable(logging.WARNING)` would therefore disable the `Warning`, `Info` and `Debug` levels.\n",
    "`logging.disable(logging.CRITICAL)` would disable all levels except `Critical`."
   ]
  },
  {
   "cell_type": "markdown",
   "metadata": {},
   "source": [
    "To put the log outputs in a text file, you can modify the `logging.basicConfig()` to take a `filename` parameter."
   ]
  },
  {
   "cell_type": "markdown",
   "metadata": {},
   "source": [
    "Formerly, the `try` and `except` statements were used to handle exceptions, but you can also create your own exceptions with `raise`. "
   ]
  },
  {
   "cell_type": "code",
   "execution_count": 26,
   "metadata": {
    "collapsed": false,
    "scrolled": false
   },
   "outputs": [
    {
     "name": "stdout",
     "output_type": "stream",
     "text": [
      "120\n"
     ]
    }
   ],
   "source": [
    "import logging\n",
    "import os\n",
    "\n",
    "import imp \n",
    "imp.reload(logging) \n",
    "\n",
    "\n",
    "#logging.disable(logging.CRITICAL) # Switch the log level from 'DEBUG' to 'CRITICAL'; only show 'critical' level debugs\n",
    "\n",
    "logging.basicConfig(filename = os.path.abspath('files/Factoriallog.txt'), level=logging.DEBUG, format = '%(asctime)s - %(levelname)s - %(message)s') # Format for basic logging\n",
    "\n",
    "\n",
    "logging.debug('Start of Program') # Start of program in log\n",
    "\n",
    "def factorial(n):\n",
    "    \"\"\"\n",
    "    A function for finding factorials.\n",
    "    \"\"\"\n",
    "    logging.debug('Start of the factorial(%s)' % (n)) # Start the program and pass the argument to the log \n",
    "    total = 1\n",
    "    for i in range(1, n+1):\n",
    "        total *= i # Total = total multiplied by ever element i added to itself\n",
    "        logging.debug('i is the %s, total is %s' % (i, total)) # Pass the actual function arguments to the log\n",
    "    \n",
    "    logging.debug('Return value is %s' % (total)) # Return the total argument to the log\n",
    "    return total\n",
    "  \n",
    "\n",
    "print(factorial(5))\n",
    "logging.debug('End of Program') # End of program in log\n"
   ]
  },
  {
   "cell_type": "code",
   "execution_count": 27,
   "metadata": {
    "collapsed": false,
    "scrolled": true
   },
   "outputs": [
    {
     "name": "stdout",
     "output_type": "stream",
     "text": [
      "2016-02-04 10:50:14,334 - DEBUG - Start of Program\n",
      "2016-02-04 10:50:14,334 - DEBUG - Start of the factorial(5)\n",
      "2016-02-04 10:50:14,334 - DEBUG - i is the 1, total is 1\n",
      "2016-02-04 10:50:14,334 - DEBUG - i is the 2, total is 2\n",
      "2016-02-04 10:50:14,334 - DEBUG - i is the 3, total is 6\n",
      "2016-02-04 10:50:14,334 - DEBUG - i is the 4, total is 24\n",
      "2016-02-04 10:50:14,335 - DEBUG - i is the 5, total is 120\n",
      "2016-02-04 10:50:14,335 - DEBUG - Return value is 120\n",
      "2016-02-04 10:50:14,335 - DEBUG - End of Program\n",
      "2016-02-04 10:50:22,937 - DEBUG - Start of Program\n",
      "2016-02-04 10:50:22,937 - DEBUG - Start of the factorial(5)\n",
      "2016-02-04 10:50:22,937 - DEBUG - i is the 1, total is 1\n",
      "2016-02-04 10:50:22,937 - DEBUG - i is the 2, total is 2\n",
      "2016-02-04 10:50:22,937 - DEBUG - i is the 3, total is 6\n",
      "2016-02-04 10:50:22,937 - DEBUG - i is the 4, total is 24\n",
      "2016-02-04 10:50:22,938 - DEBUG - i is the 5, total is 120\n",
      "2016-02-04 10:50:22,938 - DEBUG - Return value is 120\n",
      "2016-02-04 10:50:22,938 - DEBUG - End of Program\n",
      "2016-02-04 10:50:53,886 - DEBUG - Start of Program\n",
      "2016-02-04 10:50:53,886 - DEBUG - Start of the factorial(5)\n",
      "2016-02-04 10:50:53,886 - DEBUG - i is the 1, total is 1\n",
      "2016-02-04 10:50:53,886 - DEBUG - i is the 2, total is 2\n",
      "2016-02-04 10:50:53,886 - DEBUG - i is the 3, total is 6\n",
      "2016-02-04 10:50:53,886 - DEBUG - i is the 4, total is 24\n",
      "2016-02-04 10:50:53,886 - DEBUG - i is the 5, total is 120\n",
      "2016-02-04 10:50:53,886 - DEBUG - Return value is 120\n",
      "2016-02-04 10:50:53,886 - DEBUG - End of Program\n",
      "\n"
     ]
    }
   ],
   "source": [
    "print(open(os.path.abspath('files/Factoriallog.txt'), 'r').read()) # Open and read the created log file"
   ]
  },
  {
   "cell_type": "markdown",
   "metadata": {},
   "source": [
    "### Recap\n",
    "* The logging module lets you display logging messages.\n",
    "* Log messages create a breadcrumb trail of what your program is doing.\n",
    "* After calling `basicConfig()` to set up logging, call `logging.debug()` to create a log message.\n",
    "* When done, you can disable the log messages with `logging.disable(logging.CRITICAL)` (which disables every level below it.)\n",
    "* Don't use `prin()` for log messages; it's hard to remove them all when you're done debugging.\n",
    "* The five log levels are: `DEBUG`, `INFO`, `WARNING`, `ERROR`, and `CRITICAL`.\n",
    "* You can also log to a file instead of the screen with the `filename` paramater in the `basicConfig()` function."
   ]
  }
 ],
 "metadata": {
  "kernelspec": {
   "display_name": "Python 3",
   "language": "python",
   "name": "python3"
  },
  "language_info": {
   "codemirror_mode": {
    "name": "ipython",
    "version": 3
   },
   "file_extension": ".py",
   "mimetype": "text/x-python",
   "name": "python",
   "nbconvert_exporter": "python",
   "pygments_lexer": "ipython3",
   "version": "3.5.1"
  }
 },
 "nbformat": 4,
 "nbformat_minor": 0
}
