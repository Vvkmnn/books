{
 "cells": [
  {
   "cell_type": "markdown",
   "metadata": {},
   "source": [
    "### Lesson 42:\n",
    "\n",
    "### Reading Excel Spreadsheets"
   ]
  },
  {
   "cell_type": "markdown",
   "metadata": {},
   "source": [
    "The `openpyxl` module allows you to manipulate Excel sheets within Python. "
   ]
  },
  {
   "cell_type": "markdown",
   "metadata": {},
   "source": [
    "Excel files have the following terminology: \n",
    "* A collection of sheets is a workbook, and saved with a `.xlsx` extension.\n",
    "* A workbook contains multiple sheets, each of which is a single spreadsheet, or worksheet. \n",
    "* Each sheet has columns and rows, defined by letters and numbers respecitvely.\n",
    "* The intersection between a column and a row is a cell."
   ]
  },
  {
   "cell_type": "code",
   "execution_count": 1,
   "metadata": {
    "collapsed": false
   },
   "outputs": [],
   "source": [
    "import openpyxl"
   ]
  },
  {
   "cell_type": "markdown",
   "metadata": {},
   "source": [
    "We must first nagivate to the directory containing the spreadsheets, which for this notebook is the subdirectory 'files'."
   ]
  },
  {
   "cell_type": "code",
   "execution_count": 8,
   "metadata": {
    "collapsed": false
   },
   "outputs": [],
   "source": [
    "# Import OS module to navigate directories\n",
    "import os\n",
    "\n",
    "# Change the directory to the excel file location, using relative and absolute paths as previously discussed.\n",
    "os.chdir('files')"
   ]
  },
  {
   "cell_type": "code",
   "execution_count": 6,
   "metadata": {
    "collapsed": false
   },
   "outputs": [
    {
     "data": {
      "text/plain": [
       "['.DS_Store',\n",
       " '112065.pdf',\n",
       " '26645.pdf',\n",
       " 'alarm.wav',\n",
       " 'allMyCats1.py',\n",
       " 'allMyCats1.py.backup',\n",
       " 'allMyCats2.py',\n",
       " 'allMyCats2.py.backup',\n",
       " 'AutomateSearch.png',\n",
       " 'backupToZip.py',\n",
       " 'backupToZip.py.backup',\n",
       " 'bacon.txt',\n",
       " 'birthdays.py',\n",
       " 'birthdays.py.backup',\n",
       " 'boxPrint.py',\n",
       " 'boxPrint.py.backup',\n",
       " 'buggyAddingProgram.py',\n",
       " 'buggyAddingProgram.py.backup',\n",
       " 'bulletPointAdder.py',\n",
       " 'bulletPointAdder.py.backup',\n",
       " 'calcProd.py',\n",
       " 'calcProd.py.backup',\n",
       " 'catlogo.png',\n",
       " 'catnapping.py',\n",
       " 'catnapping.py.backup',\n",
       " 'census2010.py',\n",
       " 'census2010.py.backup',\n",
       " 'censuspopdata.xlsx',\n",
       " 'characterCount.py',\n",
       " 'characterCount.py.backup',\n",
       " 'coinFlip.py',\n",
       " 'coinFlip.py.backup',\n",
       " 'combinedminutes.pdf',\n",
       " 'combinePdfs.py',\n",
       " 'combinePdfs.py.backup',\n",
       " 'countdown.py',\n",
       " 'countdown.py.backup',\n",
       " 'CSSSelector.png',\n",
       " 'demo.docx',\n",
       " 'dictionary.txt',\n",
       " 'dimensions.xlsx',\n",
       " 'downloadXkcd.py',\n",
       " 'downloadXkcd.py.backup',\n",
       " 'duesRecords.xlsx',\n",
       " 'encrypted.pdf',\n",
       " 'encryptedminutes.pdf',\n",
       " 'error_log.txt',\n",
       " 'errorExample.py',\n",
       " 'errorExample.py.backup',\n",
       " 'example.csv',\n",
       " 'example.html',\n",
       " 'example.xlsx',\n",
       " 'example.zip',\n",
       " 'excelSpreadsheets.zip',\n",
       " 'exitExample.py',\n",
       " 'exitExample.py.backup',\n",
       " 'factorialLog.py',\n",
       " 'factorialLog.py.backup',\n",
       " 'Factoriallog.txt',\n",
       " 'fiveTimes.py',\n",
       " 'fiveTimes.py.backup',\n",
       " 'formFiller.py',\n",
       " 'formFiller.py.backup',\n",
       " 'freezeExample.xlsx',\n",
       " 'getDocxText.py',\n",
       " 'getDocxText.py.backup',\n",
       " 'guessTheNumber.py',\n",
       " 'guessTheNumber.py.backup',\n",
       " 'guests.txt',\n",
       " 'headings.docx',\n",
       " 'hello.py',\n",
       " 'hello.py.backup',\n",
       " 'helloFunc.py',\n",
       " 'helloFunc.py.backup',\n",
       " 'helloFunc2.py',\n",
       " 'helloFunc2.py.backup',\n",
       " 'helloworld.docx',\n",
       " 'helloworld.txt',\n",
       " 'inventory.py',\n",
       " 'inventory.py.backup',\n",
       " 'isPhoneNumber.py',\n",
       " 'isPhoneNumber.py.backup',\n",
       " 'littleKid.py',\n",
       " 'littleKid.py.backup',\n",
       " 'lucky.py',\n",
       " 'lucky.py.backup',\n",
       " 'magic8Ball.py',\n",
       " 'magic8Ball.py.backup',\n",
       " 'magic8Ball2.py',\n",
       " 'magic8Ball2.py.backup',\n",
       " 'mapIt.py',\n",
       " 'mapIt.py.backup',\n",
       " 'mcb.pyw',\n",
       " 'meetingminutes.pdf',\n",
       " 'meetingminutes2.pdf',\n",
       " 'merged.xlsx',\n",
       " 'mouseNow.py',\n",
       " 'mouseNow.py.backup',\n",
       " 'mouseNow2.py',\n",
       " 'mouseNow2.py.backup',\n",
       " 'multidownloadXkcd.py',\n",
       " 'multidownloadXkcd.py.backup',\n",
       " 'multipleParagraphs.docx',\n",
       " 'mycatdata',\n",
       " 'myPets.py',\n",
       " 'myPets.py.backup',\n",
       " 'newbacon.txt',\n",
       " 'newfiles',\n",
       " 'newfolder',\n",
       " 'passingReference.py',\n",
       " 'passingReference.py.backup',\n",
       " 'phoneAndEmail.py',\n",
       " 'phoneAndEmail.py.backup',\n",
       " 'picnicTable.py',\n",
       " 'picnicTable.py.backup',\n",
       " 'prettyCharacterCount.py',\n",
       " 'prettyCharacterCount.py.backup',\n",
       " 'printRandom.py',\n",
       " 'printRandom.py.backup',\n",
       " 'produceSales.xlsx',\n",
       " 'pw.py',\n",
       " 'pw.py.backup',\n",
       " 'quickWeather.py',\n",
       " 'quickWeather.py.backup',\n",
       " 'randomQuizGenerator.py',\n",
       " 'randomQuizGenerator.py.backup',\n",
       " 'readCensusExcel.py',\n",
       " 'readCensusExcel.py.backup',\n",
       " 'readDocx.py',\n",
       " 'readDocx.py.backup',\n",
       " 'removeCsvHeader.py',\n",
       " 'removeCsvHeader.py.backup',\n",
       " 'removeCsvHeader.zip',\n",
       " 'renameDates.py',\n",
       " 'renameDates.py.backup',\n",
       " 'resizeAndAddLogo.py',\n",
       " 'resizeAndAddLogo.py.backup',\n",
       " 'restyled.docx',\n",
       " 'RomeoAnd Juliet.txt',\n",
       " 'sameName.py',\n",
       " 'sameName.py.backup',\n",
       " 'sameName2.py',\n",
       " 'sameName2.py.backup',\n",
       " 'sameName3.py',\n",
       " 'sameName3.py.backup',\n",
       " 'sameName4.py',\n",
       " 'sameName4.py.backup',\n",
       " 'sampleChart.xlsx',\n",
       " 'sendDuesReminders.py',\n",
       " 'sendDuesReminders.py.backup',\n",
       " 'stopwatch.py',\n",
       " 'stopwatch.py.backup',\n",
       " 'styled.xlsx',\n",
       " 'styles.xlsx',\n",
       " 'swordfish.py',\n",
       " 'swordfish.py.backup',\n",
       " 'textMyself.py',\n",
       " 'textMyself.py.backup',\n",
       " 'threadDemo.py',\n",
       " 'threadDemo.py.backup',\n",
       " 'ticTacToe.py',\n",
       " 'ticTacToe.py.backup',\n",
       " 'torrentStarter.py',\n",
       " 'torrentStarter.py.backup',\n",
       " 'twoPage.docx',\n",
       " 'updatedProduceSales.xlsx',\n",
       " 'updateProduce.py',\n",
       " 'updateProduce.py.backup',\n",
       " 'validateInput.py',\n",
       " 'validateInput.py.backup',\n",
       " 'vampire.py',\n",
       " 'vampire.py.backup',\n",
       " 'vampire2.py',\n",
       " 'vampire2.py.backup',\n",
       " 'watermark.pdf',\n",
       " 'zeroDivide.py',\n",
       " 'zeroDivide.py.backup',\n",
       " 'zophie.png']"
      ]
     },
     "execution_count": 6,
     "metadata": {},
     "output_type": "execute_result"
    }
   ],
   "source": [
    "os.listdir()"
   ]
  },
  {
   "cell_type": "markdown",
   "metadata": {},
   "source": [
    "We must now open the workbook file."
   ]
  },
  {
   "cell_type": "code",
   "execution_count": 12,
   "metadata": {
    "collapsed": false
   },
   "outputs": [
    {
     "data": {
      "text/plain": [
       "openpyxl.workbook.workbook.Workbook"
      ]
     },
     "execution_count": 12,
     "metadata": {},
     "output_type": "execute_result"
    }
   ],
   "source": [
    "workbook = openpyxl.load_workbook('example.xlsx')\n",
    "type(workbook)"
   ]
  },
  {
   "cell_type": "markdown",
   "metadata": {},
   "source": [
    "Once the workbook is loaded, we can interact with specific sheets by loading them via workbook methods."
   ]
  },
  {
   "cell_type": "code",
   "execution_count": 13,
   "metadata": {
    "collapsed": false
   },
   "outputs": [
    {
     "data": {
      "text/plain": [
       "openpyxl.worksheet.worksheet.Worksheet"
      ]
     },
     "execution_count": 13,
     "metadata": {},
     "output_type": "execute_result"
    }
   ],
   "source": [
    "sheet = workbook.get_sheet_by_name('Sheet1')\n",
    "type(sheet)"
   ]
  },
  {
   "cell_type": "markdown",
   "metadata": {},
   "source": [
    "We can also use the `.get_sheet_names()` method to print all sheet names, in case we aren't sure."
   ]
  },
  {
   "cell_type": "code",
   "execution_count": 14,
   "metadata": {
    "collapsed": false,
    "scrolled": true
   },
   "outputs": [
    {
     "data": {
      "text/plain": [
       "['Sheet1', 'Sheet2', 'Sheet3']"
      ]
     },
     "execution_count": 14,
     "metadata": {},
     "output_type": "execute_result"
    }
   ],
   "source": [
    "workbook.get_sheet_names()"
   ]
  },
  {
   "cell_type": "markdown",
   "metadata": {},
   "source": [
    "We can now interact with specific cells by creating cell objects, referenced via a sheet method."
   ]
  },
  {
   "cell_type": "code",
   "execution_count": 18,
   "metadata": {
    "collapsed": false
   },
   "outputs": [
    {
     "data": {
      "text/plain": [
       "<Cell Sheet1.A1>"
      ]
     },
     "execution_count": 18,
     "metadata": {},
     "output_type": "execute_result"
    }
   ],
   "source": [
    "# Just references an object exists; requires an additional method to interact with\n",
    "sheet['A1']"
   ]
  },
  {
   "cell_type": "markdown",
   "metadata": {},
   "source": [
    "The `.value` method returns the actual value in the cell."
   ]
  },
  {
   "cell_type": "code",
   "execution_count": 19,
   "metadata": {
    "collapsed": false,
    "scrolled": true
   },
   "outputs": [
    {
     "data": {
      "text/plain": [
       "datetime.datetime(2015, 4, 5, 13, 34, 2)"
      ]
     },
     "execution_count": 19,
     "metadata": {},
     "output_type": "execute_result"
    }
   ],
   "source": [
    "cell = sheet['A1']\n",
    "cell.value"
   ]
  },
  {
   "cell_type": "markdown",
   "metadata": {},
   "source": [
    "This particular cell returns a datetime reference from Excel via Python's own `datetime` module. A string value is available by passing into the `str()` function:"
   ]
  },
  {
   "cell_type": "code",
   "execution_count": 22,
   "metadata": {
    "collapsed": false,
    "scrolled": true
   },
   "outputs": [
    {
     "name": "stdout",
     "output_type": "stream",
     "text": [
      "2015-04-05 13:34:02\n",
      "2015-04-05 13:34:02\n"
     ]
    }
   ],
   "source": [
    "print(str(cell.value))\n",
    "print(str(sheet['A1'].value))"
   ]
  },
  {
   "cell_type": "markdown",
   "metadata": {},
   "source": [
    "All cell values inherit their data types from Excel."
   ]
  },
  {
   "cell_type": "code",
   "execution_count": 35,
   "metadata": {
    "collapsed": false
   },
   "outputs": [
    {
     "name": "stdout",
     "output_type": "stream",
     "text": [
      "The value in cell A1 is '2015-04-05 13:34:02' and is type <class 'datetime.datetime'>.\n",
      "The value in cell B1 is 'Apples' and is type <class 'str'>.\n",
      "The value in cell C1 is '73' and is type <class 'int'>.\n"
     ]
    }
   ],
   "source": [
    "print(\"The value in cell %s is '%s' and is type %s.\" %('A1', sheet['A1'].value, type(sheet['A1'].value)))\n",
    "print(\"The value in cell %s is '%s' and is type %s.\" %('B1', sheet['B1'].value, type(sheet['B1'].value)))\n",
    "print(\"The value in cell %s is '%s' and is type %s.\" %('C1', sheet['C1'].value, type(sheet['C1'].value)))"
   ]
  },
  {
   "cell_type": "markdown",
   "metadata": {},
   "source": [
    "You can also reference cells via rows and columns. Excel rows start at 1 and columns at A."
   ]
  },
  {
   "cell_type": "code",
   "execution_count": 39,
   "metadata": {
    "collapsed": false
   },
   "outputs": [
    {
     "data": {
      "text/plain": [
       "<Cell Sheet1.B1>"
      ]
     },
     "execution_count": 39,
     "metadata": {},
     "output_type": "execute_result"
    }
   ],
   "source": [
    "# B1 Cell\n",
    "sheet.cell(row = 1, column = 2)"
   ]
  },
  {
   "cell_type": "markdown",
   "metadata": {},
   "source": [
    "This can be useful for iterative or looping operations."
   ]
  },
  {
   "cell_type": "code",
   "execution_count": 41,
   "metadata": {
    "collapsed": false
   },
   "outputs": [
    {
     "name": "stdout",
     "output_type": "stream",
     "text": [
      "1 Apples\n",
      "2 Cherries\n",
      "3 Pears\n",
      "4 Oranges\n",
      "5 Apples\n",
      "6 Bananas\n",
      "7 Strawberries\n"
     ]
    }
   ],
   "source": [
    "for i in range(1,8):\n",
    "    print(i, sheet.cell(row=i, column=2).value)"
   ]
  },
  {
   "cell_type": "markdown",
   "metadata": {},
   "source": [
    "### Recap\n",
    "* The OpenPyXl module (`openpyxl`) handles Excel spreadsheet files (`.xlsx`).\n",
    "* `openpyxl.load_workbook()` opens a workbook file at a location and returns a workbook object.\n",
    "* The `.get_sheet_names()` method on a workbook prints all the sheet names inide a workbook.\n",
    "* The `.get_sheet_name()` method creates a worksheet object from a sheet in the workbook.\n",
    "* The index notation (sheet['A1']) returns cell objects. \n",
    "* Cell objects use the `.value` method which allows you to see the content of the cell. \n",
    "* The `cell()` method also returns a cell object from a sheet, from a defined row and column."
   ]
  }
 ],
 "metadata": {
  "kernelspec": {
   "display_name": "Python 3",
   "language": "python",
   "name": "python3"
  },
  "language_info": {
   "codemirror_mode": {
    "name": "ipython",
    "version": 3
   },
   "file_extension": ".py",
   "mimetype": "text/x-python",
   "name": "python",
   "nbconvert_exporter": "python",
   "pygments_lexer": "ipython3",
   "version": "3.5.1"
  }
 },
 "nbformat": 4,
 "nbformat_minor": 0
}
