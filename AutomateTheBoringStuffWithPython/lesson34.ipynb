{
 "cells": [
  {
   "cell_type": "markdown",
   "metadata": {},
   "source": [
    "## Lesson 34:\n",
    "\n",
    "### Walking a Directory Tree"
   ]
  },
  {
   "cell_type": "markdown",
   "metadata": {},
   "source": [
    "To write a program that can apply to a directory tree, Python needs to be able to navigate through a directory.\n",
    "\n",
    "This is done via `os.walk()`."
   ]
  },
  {
   "cell_type": "markdown",
   "metadata": {},
   "source": [
    "After moving into `/files`:"
   ]
  },
  {
   "cell_type": "code",
   "execution_count": 1,
   "metadata": {
    "collapsed": false
   },
   "outputs": [],
   "source": [
    "import os \n",
    "# Define base directory\n",
    "defaultpath = os.path.expanduser('~/Dropbox/learn/books/Python/AutomateTheBoringStuffWithPython')\n",
    "\n",
    "#Change directory to files directory if set in default \n",
    "if (os.getcwd() == defaultpath):\n",
    "       os.chdir('/files')   \n",
    "else:\n",
    "    os.chdir(defaultpath + '/files')"
   ]
  },
  {
   "cell_type": "markdown",
   "metadata": {},
   "source": [
    "import `os` and use `walk()` to return three values: `[folderName, subfolders, filenames]`"
   ]
  },
  {
   "cell_type": "code",
   "execution_count": 14,
   "metadata": {
    "collapsed": false,
    "scrolled": true
   },
   "outputs": [
    {
     "name": "stdout",
     "output_type": "stream",
     "text": [
      "The folder is /Users/vivek.menon/Dropbox/learn/books/python/AutomateTheBoringStuffWithPython/files\n",
      "\n",
      "The subfolders in /Users/vivek.menon/Dropbox/learn/books/python/AutomateTheBoringStuffWithPython/files are \n",
      "['newfiles', 'newfolder'],\n",
      "\n",
      "The filenames in /Users/vivek.menon/Dropbox/learn/books/python/AutomateTheBoringStuffWithPython/files are \n",
      "['112065.pdf', '26645.pdf', 'alarm.wav', 'allMyCats1.py', 'allMyCats2.py', 'backupToZip.py', 'bacon.txt', 'birthdays.py', 'boxPrint.py', 'buggyAddingProgram.py', 'bulletPointAdder.py', 'calcProd.py', 'catlogo.png', 'catnapping.py', 'census2010.py', 'censuspopdata.xlsx', 'characterCount.py', 'coinFlip.py', 'combinedminutes.pdf', 'combinePdfs.py', 'countdown.py', 'demo.docx', 'dictionary.txt', 'dimensions.xlsx', 'downloadXkcd.py', 'duesRecords.xlsx', 'encrypted.pdf', 'encryptedminutes.pdf', 'errorExample.py', 'example.csv', 'example.html', 'example.xlsx', 'example.zip', 'excelSpreadsheets.zip', 'exitExample.py', 'factorialLog.py', 'fiveTimes.py', 'formFiller.py', 'freezeExample.xlsx', 'getDocxText.py', 'guessTheNumber.py', 'guests.txt', 'headings.docx', 'hello.py', 'helloFunc.py', 'helloFunc2.py', 'helloworld.docx', 'helloworld.txt', 'inventory.py', 'isPhoneNumber.py', 'littleKid.py', 'lucky.py', 'magic8Ball.py', 'magic8Ball2.py', 'mapIt.py', 'mcb.pyw', 'meetingminutes.pdf', 'meetingminutes2.pdf', 'merged.xlsx', 'mouseNow.py', 'mouseNow2.py', 'multidownloadXkcd.py', 'multipleParagraphs.docx', 'mycatdata', 'myPets.py', 'newbacon.txt', 'passingReference.py', 'phoneAndEmail.py', 'picnicTable.py', 'prettyCharacterCount.py', 'printRandom.py', 'produceSales.xlsx', 'pw.py', 'quickWeather.py', 'randomQuizGenerator.py', 'readCensusExcel.py', 'readDocx.py', 'removeCsvHeader.py', 'removeCsvHeader.zip', 'renameDates.py', 'resizeAndAddLogo.py', 'restyled.docx', 'sameName.py', 'sameName2.py', 'sameName3.py', 'sameName4.py', 'sampleChart.xlsx', 'sendDuesReminders.py', 'stopwatch.py', 'styled.xlsx', 'styles.xlsx', 'swordfish.py', 'textMyself.py', 'threadDemo.py', 'ticTacToe.py', 'torrentStarter.py', 'twoPage.docx', 'updatedProduceSales.xlsx', 'updateProduce.py', 'validateInput.py', 'vampire.py', 'vampire2.py', 'watermark.pdf', 'zeroDivide.py', 'zophie.png'],\n",
      "\n",
      "\n",
      "\n",
      "\n",
      "The folder is /Users/vivek.menon/Dropbox/learn/books/python/AutomateTheBoringStuffWithPython/files/newfiles\n",
      "\n",
      "The subfolders in /Users/vivek.menon/Dropbox/learn/books/python/AutomateTheBoringStuffWithPython/files/newfiles are \n",
      "[],\n",
      "\n",
      "The filenames in /Users/vivek.menon/Dropbox/learn/books/python/AutomateTheBoringStuffWithPython/files/newfiles are \n",
      "['bacon.txt', 'bacon3.txt'],\n",
      "\n",
      "\n",
      "\n",
      "\n",
      "The folder is /Users/vivek.menon/Dropbox/learn/books/python/AutomateTheBoringStuffWithPython/files/newfolder\n",
      "\n",
      "The subfolders in /Users/vivek.menon/Dropbox/learn/books/python/AutomateTheBoringStuffWithPython/files/newfolder are \n",
      "['anotherone'],\n",
      "\n",
      "The filenames in /Users/vivek.menon/Dropbox/learn/books/python/AutomateTheBoringStuffWithPython/files/newfolder are \n",
      "[],\n",
      "\n",
      "\n",
      "\n",
      "\n",
      "The folder is /Users/vivek.menon/Dropbox/learn/books/python/AutomateTheBoringStuffWithPython/files/newfolder/anotherone\n",
      "\n",
      "The subfolders in /Users/vivek.menon/Dropbox/learn/books/python/AutomateTheBoringStuffWithPython/files/newfolder/anotherone are \n",
      "[],\n",
      "\n",
      "The filenames in /Users/vivek.menon/Dropbox/learn/books/python/AutomateTheBoringStuffWithPython/files/newfolder/anotherone are \n",
      "[],\n",
      "\n",
      "\n",
      "\n",
      "\n"
     ]
    }
   ],
   "source": [
    "for folderName, subfolders, filenames in os.walk(os.getcwd()): # loop through all the variables returned from os.walk\n",
    "    print('The folder is ' + folderName + '\\n') # Print folder name\n",
    "    print('The subfolders in ' + folderName + ' are ' + str(subfolders).join('\\n,') + '\\n') # Print subfolders\n",
    "    print('The filenames in ' + folderName + ' are ' + str(filenames).join('\\n,') + '\\n') # Print filenames\n",
    "    print('\\n\\n') # Double newline\n"
   ]
  },
  {
   "cell_type": "markdown",
   "metadata": {},
   "source": [
    "It not only examines the parent folder, but loops through the entire subdirectory, and run functions accordingly:"
   ]
  },
  {
   "cell_type": "code",
   "execution_count": 21,
   "metadata": {
    "collapsed": false
   },
   "outputs": [],
   "source": [
    "import shutil\n",
    "\n",
    "for folderName, subfolders, filenames in os.walk(os.getcwd()): # loop through all the variables returned from os.walk\n",
    "    for subfolder in subfolders: # for every subfolder\n",
    "        if 'fish' in subfolders: # if there is a subfolder named 'fish'\n",
    "            os.rmdir(subfolder)      # delete it\n",
    "        else:\n",
    "            continue\n",
    "            \n",
    "    # for every file in the walk    \n",
    "    for file in filenames:       \n",
    "        # that ends with .'py'\n",
    "        if file.endswith('.py'):   \n",
    "            # backup files, but use use 'os.path.join' since files are just strings by themselves; need complete paths from cwd\n",
    "            shutil.copy(os.path.join(folderName, file), os.path.join(folderName, file) + '.backup')"
   ]
  },
  {
   "cell_type": "markdown",
   "metadata": {},
   "source": [
    "This batch approaches allows us to run through an entire directory tree and run functions. \n",
    "\n",
    "It is recommended to use dry-run mode with commented code first. "
   ]
  },
  {
   "cell_type": "markdown",
   "metadata": {},
   "source": [
    "### Recap\n",
    "* `os.walk()` allows you to 'walk' through a directory tree, and interact with subdirectories and filenames.\n",
    "* It returns three variables, `folderName`, `subfolder`, and `filename`. \n",
    "* Looping through these will return these variables, and allow you to run functions on them.\n",
    "* Useful for batch file management. "
   ]
  },
  {
   "cell_type": "code",
   "execution_count": null,
   "metadata": {
    "collapsed": true
   },
   "outputs": [],
   "source": []
  }
 ],
 "metadata": {
  "kernelspec": {
   "display_name": "Python 3",
   "language": "python",
   "name": "python3"
  },
  "language_info": {
   "codemirror_mode": {
    "name": "ipython",
    "version": 3
   },
   "file_extension": ".py",
   "mimetype": "text/x-python",
   "name": "python",
   "nbconvert_exporter": "python",
   "pygments_lexer": "ipython3",
   "version": "3.5.1"
  }
 },
 "nbformat": 4,
 "nbformat_minor": 0
}
