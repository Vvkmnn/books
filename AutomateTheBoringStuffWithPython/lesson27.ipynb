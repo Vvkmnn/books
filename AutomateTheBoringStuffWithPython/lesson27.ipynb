{
 "cells": [
  {
   "cell_type": "markdown",
   "metadata": {},
   "source": [
    "## Lesson 27:\n",
    "\n",
    "### RegEx `.*` Dot-Star, `^` Caret, & `$` Dollar Sign Characters\n"
   ]
  },
  {
   "cell_type": "markdown",
   "metadata": {},
   "source": [
    "Besides just turning a class negative, the `^` character can also define the _start_ of a string. \n",
    "\n",
    "The `$` character can be used in combination to define the _end_ of a string. "
   ]
  },
  {
   "cell_type": "code",
   "execution_count": 11,
   "metadata": {
    "collapsed": false
   },
   "outputs": [
    {
     "name": "stdout",
     "output_type": "stream",
     "text": [
      "['Hello']\n",
      "[]\n",
      "[]\n",
      "[]\n",
      "[]\n",
      "['Hello']\n"
     ]
    }
   ],
   "source": [
    "import re\n",
    "\n",
    "beginsWithTheHelloRegex = re.compile(r'^Hello') # String must start exactly with 'Hello'\n",
    "\n",
    "print(beginsWithTheHelloRegex.findall('Hello there'))\n",
    "print(beginsWithTheHelloRegex.findall('Wait, did he say Hello just now?'))\n",
    "print(beginsWithTheHelloRegex.findall('He said Hello'))\n",
    "\n",
    "endsWithTheHelloRegex = re.compile(r'Hello$') # String must end exactly with 'Hello'\n",
    "\n",
    "print(endsWithTheHelloRegex.findall('Hello there'))\n",
    "print(beginsWithTheHelloRegex.findall('Wait, did he say Hello just now?'))\n",
    "print(endsWithTheHelloRegex.findall('He said Hello'))"
   ]
  },
  {
   "cell_type": "markdown",
   "metadata": {},
   "source": [
    "They can be used in combination:"
   ]
  },
  {
   "cell_type": "code",
   "execution_count": 35,
   "metadata": {
    "collapsed": false
   },
   "outputs": [
    {
     "data": {
      "text/plain": [
       "[]"
      ]
     },
     "execution_count": 35,
     "metadata": {},
     "output_type": "execute_result"
    }
   ],
   "source": [
    "allDigitsRegex = re.compile(r'^\\d+$') # Must start and end with a digit, with at least 1 or more digits inbetween\n",
    "\n",
    "print(allDigitsRegex.findall('2153234623462561514')) # Matches entire string\n",
    "print(allDigitsRegex.findall('21532346234letters!62561514')) # No match, doesn't end with string"
   ]
  },
  {
   "cell_type": "markdown",
   "metadata": {},
   "source": [
    "The `.` character matches any character."
   ]
  },
  {
   "cell_type": "code",
   "execution_count": 18,
   "metadata": {
    "collapsed": false
   },
   "outputs": [
    {
     "name": "stdout",
     "output_type": "stream",
     "text": [
      "['cat', 'hat', 'sat', 'lat', 'mat']\n",
      "[' cat', ' hat', ' sat', 'flat', ' mat']\n"
     ]
    }
   ],
   "source": [
    "atRegex = re.compile(r'.at') # Any single character followed by at\n",
    "\n",
    "print(atRegex.findall('The cat in the hat sat on the flat mat.')) # matches anything ending with at\n",
    "\n",
    "atRegex = re.compile(r'.{2}at') # Any two characters followed by at\n",
    "\n",
    "print(atRegex.findall('The cat in the hat sat on the flat mat.')) # matches anything ending with at, including spaces\n"
   ]
  },
  {
   "cell_type": "markdown",
   "metadata": {},
   "source": [
    "The `.*` is therefore used to match _anything_, any number of any character:"
   ]
  },
  {
   "cell_type": "code",
   "execution_count": 23,
   "metadata": {
    "collapsed": false
   },
   "outputs": [
    {
     "name": "stdout",
     "output_type": "stream",
     "text": [
      "[('Al', 'Sweigart')]\n",
      "[('Vivek', 'Menon')]\n"
     ]
    }
   ],
   "source": [
    "name = 'First Name: Al, Last Name: Sweigart' # To pull names from this string would require a lot of indexing code\n",
    "name2 = 'First Name: Vivek, Last Name: Menon' # To pull names from this string would require a lot of indexing code\n",
    "\n",
    "nameRegex = re.compile(r'First Name: (.*), Last Name: (.*)') # Matches anything in this groups formatted exactly like this\n",
    "\n",
    "print(nameRegex.findall(name))\n",
    "print(nameRegex.findall(name2))"
   ]
  },
  {
   "cell_type": "markdown",
   "metadata": {},
   "source": [
    "`.*` is greedy by default, but you can activate non-greedy mode with `.*?`"
   ]
  },
  {
   "cell_type": "code",
   "execution_count": 26,
   "metadata": {
    "collapsed": false
   },
   "outputs": [
    {
     "name": "stdout",
     "output_type": "stream",
     "text": [
      "['To serve humans> for dinner.']\n",
      "['To serve humans']\n"
     ]
    }
   ],
   "source": [
    "serve = '<To serve humans> for dinner.>'\n",
    "\n",
    "greedyRegex = re.compile(r'<(.*)>') # Looking for any length match, between brackets. \n",
    "nongreedyRegex = re.compile(r'<(.*?)>') # Looking for any length match, between brackets. \n",
    "\n",
    "print(greedyRegex.findall(serve)) # Matches the longest string\n",
    "print(nongreedyRegex.findall(serve)) # Matches the shortest string"
   ]
  },
  {
   "cell_type": "markdown",
   "metadata": {},
   "source": [
    "`.*` matches any character except the newline (`\\n`) character."
   ]
  },
  {
   "cell_type": "code",
   "execution_count": 30,
   "metadata": {
    "collapsed": false
   },
   "outputs": [
    {
     "name": "stdout",
     "output_type": "stream",
     "text": [
      "Serve the public trust.\n",
      "Protect the innocent.\n",
      "Uphold the law.\n",
      "['Serve the public trust.', '', 'Protect the innocent.', '', 'Uphold the law.', '']\n"
     ]
    }
   ],
   "source": [
    "primeDirectives = 'Serve the public trust.\\nProtect the innocent.\\nUphold the law.'\n",
    "\n",
    "print(primeDirectives)\n",
    "\n",
    "dotStar = re.compile(r'.*')\n",
    "print(dotStar.findall(primeDirectives))"
   ]
  },
  {
   "cell_type": "markdown",
   "metadata": {},
   "source": [
    "We can use the paramater `re.DOTALL` can set to truly match any character:"
   ]
  },
  {
   "cell_type": "code",
   "execution_count": 34,
   "metadata": {
    "collapsed": false,
    "scrolled": true
   },
   "outputs": [
    {
     "data": {
      "text/plain": [
       "['Serve the public trust.\\nProtect the innocent.\\nUphold the law.', '']"
      ]
     },
     "execution_count": 34,
     "metadata": {},
     "output_type": "execute_result"
    }
   ],
   "source": [
    "dotStar = re.compile(r'.*', re.DOTALL)\n",
    "print(dotStar.findall(primeDirectives))"
   ]
  },
  {
   "cell_type": "markdown",
   "metadata": {},
   "source": [
    "Similiarily, `re.IGNORECASE` or `re.I` to ignore case:"
   ]
  },
  {
   "cell_type": "code",
   "execution_count": 38,
   "metadata": {
    "collapsed": false
   },
   "outputs": [
    {
     "name": "stdout",
     "output_type": "stream",
     "text": [
      "['A', 'o', 'e', 'o', 'u', 'o', 'a', 'i', 'o', 'o', 'a', 'a', 'o', 'u', 'o', 'o', 'o', 'o', 'u']\n"
     ]
    }
   ],
   "source": [
    "vowelRegex = re.compile(r'[aeiou]', re.I) # Match any vowel, regardless of case \n",
    "\n",
    "print(vowelRegex.findall('Al, why does your programming book talk about RoboCop so much?')) "
   ]
  },
  {
   "cell_type": "markdown",
   "metadata": {},
   "source": [
    "## Recap\n",
    "* The `^` regex character means the string must start with the pattern, `$` means the string must end with the pattern. \n",
    "* Both means the string must match the pattern exactly.\n",
    "* The `.` regex character is a wildcard; it matches anything except newlines.\n",
    "* The `re.DOTALL` parameter can be used in `re.compile()` to make the `.` match newlines as well.\n",
    "* Pass `re.I` to `re.compile()` to make the matching case-insensitive."
   ]
  }
 ],
 "metadata": {
  "kernelspec": {
   "display_name": "Python 3",
   "language": "python",
   "name": "python3"
  },
  "language_info": {
   "codemirror_mode": {
    "name": "ipython",
    "version": 3
   },
   "file_extension": ".py",
   "mimetype": "text/x-python",
   "name": "python",
   "nbconvert_exporter": "python",
   "pygments_lexer": "ipython3",
   "version": "3.5.1"
  }
 },
 "nbformat": 4,
 "nbformat_minor": 0
}
