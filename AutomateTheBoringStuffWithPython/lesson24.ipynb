{
 "cells": [
  {
   "cell_type": "markdown",
   "metadata": {},
   "source": [
    "## Lesson 24:\n",
    "\n",
    "### RegEx groups and the Pipe Character\n"
   ]
  },
  {
   "cell_type": "markdown",
   "metadata": {},
   "source": [
    "Regex can also be used in other ways, such as partial matching."
   ]
  },
  {
   "cell_type": "code",
   "execution_count": 4,
   "metadata": {
    "collapsed": false
   },
   "outputs": [
    {
     "data": {
      "text/plain": [
       "'415-555-4242'"
      ]
     },
     "execution_count": 4,
     "metadata": {},
     "output_type": "execute_result"
    }
   ],
   "source": [
    "import re\n",
    "\n",
    "phoneNumRegex = re.compile(r'\\d\\d\\d-\\d\\d\\d-\\d\\d\\d\\d')\n",
    "phoneNumRegex.search('My number is 415-555-4242') # returns a match object\n",
    "mo = phoneNumRegex.search('My number is 415-555-4242') # store match object\n",
    "mo.group() # print matched strings in match object"
   ]
  },
  {
   "cell_type": "markdown",
   "metadata": {},
   "source": [
    "To get different sections of a string, we can use _groups_ via parenthesis:"
   ]
  },
  {
   "cell_type": "code",
   "execution_count": 12,
   "metadata": {
    "collapsed": false
   },
   "outputs": [
    {
     "name": "stdout",
     "output_type": "stream",
     "text": [
      "The area code is 415\n",
      "The rest of it is 555-4242\n"
     ]
    }
   ],
   "source": [
    "phoneNumRegex = re.compile(r'(\\d\\d\\d)-(\\d\\d\\d-\\d\\d\\d\\d)') # The first () is group 1, the second () is group 2\n",
    "phoneNumRegex.search('My number is 415-555-4242') # returns a match object with subgroups\n",
    "mo = phoneNumRegex.search('My number is 415-555-4242') # store match object with subgroups\n",
    "print('The area code is ' + mo.group(1)) # print out the subgroup matching the parameter\n",
    "print('The rest of it is ' + mo.group(2)) # print out the other subgroup"
   ]
  },
  {
   "cell_type": "markdown",
   "metadata": {
    "collapsed": false
   },
   "source": [
    "If parenthesis are actually part of the pattern, they need to be escaped:"
   ]
  },
  {
   "cell_type": "code",
   "execution_count": 18,
   "metadata": {
    "collapsed": false,
    "scrolled": true
   },
   "outputs": [
    {
     "name": "stdout",
     "output_type": "stream",
     "text": [
      "None\n"
     ]
    },
    {
     "data": {
      "text/plain": [
       "'(415)-555-4242'"
      ]
     },
     "execution_count": 18,
     "metadata": {},
     "output_type": "execute_result"
    }
   ],
   "source": [
    "phoneNumRegex = re.compile(r'\\(\\d\\d\\d\\)-\\d\\d\\d-\\d\\d\\d\\d')\n",
    "\n",
    "mo = phoneNumRegex.search('My number is 415-555-4242') # returns no match\n",
    "print(mo)\n",
    "mo =phoneNumRegex.search('My number is (415)-555-4242') # returns a match object\n",
    "mo.group()"
   ]
  },
  {
   "cell_type": "markdown",
   "metadata": {},
   "source": [
    "#### The '|' RegEx Operater\n",
    "\n",
    "The pipe character, `|`, matches one of several patterns in a group."
   ]
  },
  {
   "cell_type": "code",
   "execution_count": 27,
   "metadata": {
    "collapsed": false
   },
   "outputs": [
    {
     "name": "stdout",
     "output_type": "stream",
     "text": [
      "Batmobile\n",
      "mobile\n"
     ]
    }
   ],
   "source": [
    "batRegex = re.compile(r'Bat(man|mobile|copter|cat)') # The pipe character seperates the suffixes, and allows any match.\n",
    "\n",
    "mo = batRegex.search('Batmobile lost a wheel.')\n",
    "print(mo.group()) # Print matching string\n",
    "\n",
    "print(mo.group(1)) # Pass variable 1 into the group function to find which suffix group actually matched\n",
    "\n",
    "#mo2 = batRegex.search('Batmotorcycle lost a wheel.')\n",
    "#mo.group() # will return error because no match"
   ]
  },
  {
   "cell_type": "markdown",
   "metadata": {},
   "source": [
    "## Recap\n",
    "* Groups are created in regex strings with parentheses `()`.\n",
    "* The first set of parenthesis is group 1, the second is 2, and so on.\n",
    "* Calling `.group()` or `.group(0)` returns the full matching string, `.group(1)` returns the actual matching group.\n",
    "* Use `\\(` and `\\)` to escape parenthesis in a regex string, otherwise they will be treated as groups. \n",
    "* The `|` pipe character can match any one of many possible groups."
   ]
  }
 ],
 "metadata": {
  "kernelspec": {
   "display_name": "Python 3",
   "language": "python",
   "name": "python3"
  },
  "language_info": {
   "codemirror_mode": {
    "name": "ipython",
    "version": 3
   },
   "file_extension": ".py",
   "mimetype": "text/x-python",
   "name": "python",
   "nbconvert_exporter": "python",
   "pygments_lexer": "ipython3",
   "version": "3.5.1"
  }
 },
 "nbformat": 4,
 "nbformat_minor": 0
}
