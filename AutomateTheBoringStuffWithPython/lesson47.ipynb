{
 "cells": [
  {
   "cell_type": "markdown",
   "metadata": {},
   "source": [
    "### Lesson 47:\n",
    "\n",
    "### Checking your Email Inbox"
   ]
  },
  {
   "cell_type": "markdown",
   "metadata": {},
   "source": [
    "Python can be used read emails. \n",
    "\n",
    "The standard protocol for reading email is 'Internet Message Access Protocol' (IMAP). IMAP is a fairly complex protocol, and are basically as old as the internet itself; Python includes a module called `imaplib`, but its not very straightforward. \n",
    "\n",
    "Instead we will the `imapclient` and `pyzmail` modules. Unfortunately, `pyzmail` is not available for Python 3.4, so we will be using the default `email` module to simulate is functionality. "
   ]
  },
  {
   "cell_type": "code",
   "execution_count": 1,
   "metadata": {
    "collapsed": false,
    "scrolled": false
   },
   "outputs": [],
   "source": [
    "import imapclient\n",
    "import email"
   ]
  },
  {
   "cell_type": "markdown",
   "metadata": {},
   "source": [
    "The first step in setting up email is creating a **connection** object again to interact with an email, but this time for the IMAP server.\n",
    "\n",
    "This function takes a domain name, and an optional parameter asking if we are using SSL encrpytion (which is a variant of TLS discussed in Lesson 45). This domain name again depends on your email provider, an example list is available on Mr. Sweigarts [blog in 16-2](https://automatetheboringstuff.com/chapter16/)."
   ]
  },
  {
   "cell_type": "code",
   "execution_count": 2,
   "metadata": {
    "collapsed": false
   },
   "outputs": [],
   "source": [
    "conn = imapclient.IMAPClient('imap.gmail.com', ssl=True)"
   ]
  },
  {
   "cell_type": "markdown",
   "metadata": {},
   "source": [
    "We can now pass in our login paramaters via the `.login()` method."
   ]
  },
  {
   "cell_type": "code",
   "execution_count": 4,
   "metadata": {
    "collapsed": false
   },
   "outputs": [
    {
     "data": {
      "text/plain": [
       "b'vvk.mnn@gmail.com authenticated (Success)'"
      ]
     },
     "execution_count": 4,
     "metadata": {},
     "output_type": "execute_result"
    }
   ],
   "source": [
    "# Real values were used in testing, and removed for Github\n",
    "# Due to the nature of Gmail's security, you may have to allow access from 'less secure apps' (like this script)\n",
    "# The setting can be changed here: https://www.google.com/settings/u/2/security/lesssecureapps\n",
    "\n",
    "conn.login('youremail@gmail.com','yourpassword')"
   ]
  },
  {
   "cell_type": "markdown",
   "metadata": {},
   "source": [
    "We get a byte string with a response if we login correctly."
   ]
  },
  {
   "cell_type": "markdown",
   "metadata": {},
   "source": [
    "Next we choose which email folder to access with the `.select_folder` method. You will typically want the 'Inbox' folder. We will also pass a `readonly=True` parameter to make sure we don't accidentally delete something. We can use the `.list_folders()` method to list all available folders, and switch the `readonly` parameter to false to actually edit messages."
   ]
  },
  {
   "cell_type": "code",
   "execution_count": 31,
   "metadata": {
    "collapsed": false
   },
   "outputs": [
    {
     "data": {
      "text/plain": [
       "[((b'\\\\HasNoChildren',), b'/', 'INBOX'),\n",
       " ((b'\\\\HasNoChildren',), b'/', 'Notes'),\n",
       " ((b'\\\\HasChildren', b'\\\\Noselect'), b'/', '[Gmail]'),\n",
       " ((b'\\\\All', b'\\\\HasNoChildren'), b'/', '[Gmail]/All Mail'),\n",
       " ((b'\\\\Drafts', b'\\\\HasNoChildren'), b'/', '[Gmail]/Drafts'),\n",
       " ((b'\\\\HasNoChildren', b'\\\\Important'), b'/', '[Gmail]/Important'),\n",
       " ((b'\\\\HasNoChildren', b'\\\\Sent'), b'/', '[Gmail]/Sent Mail'),\n",
       " ((b'\\\\HasNoChildren', b'\\\\Junk'), b'/', '[Gmail]/Spam'),\n",
       " ((b'\\\\Flagged', b'\\\\HasNoChildren'), b'/', '[Gmail]/Starred'),\n",
       " ((b'\\\\HasNoChildren', b'\\\\Trash'), b'/', '[Gmail]/Trash')]"
      ]
     },
     "execution_count": 31,
     "metadata": {},
     "output_type": "execute_result"
    }
   ],
   "source": [
    "conn.list_folders()"
   ]
  },
  {
   "cell_type": "code",
   "execution_count": 5,
   "metadata": {
    "collapsed": false,
    "scrolled": true
   },
   "outputs": [
    {
     "data": {
      "text/plain": [
       "{b'EXISTS': 33841,\n",
       " b'FLAGS': (b'\\\\Answered',\n",
       "  b'\\\\Flagged',\n",
       "  b'\\\\Draft',\n",
       "  b'\\\\Deleted',\n",
       "  b'\\\\Seen',\n",
       "  b'$Forwarded',\n",
       "  b'$Junk',\n",
       "  b'$NotJunk',\n",
       "  b'$NotPhishing',\n",
       "  b'$Phishing',\n",
       "  b'Junk',\n",
       "  b'JunkRecorded',\n",
       "  b'NotJunk'),\n",
       " b'HIGHESTMODSEQ': 11092866,\n",
       " b'PERMANENTFLAGS': (),\n",
       " b'READ-ONLY': [b''],\n",
       " b'RECENT': 0,\n",
       " b'UIDNEXT': 88498,\n",
       " b'UIDVALIDITY': 2}"
      ]
     },
     "execution_count": 5,
     "metadata": {},
     "output_type": "execute_result"
    }
   ],
   "source": [
    "conn.select_folder('INBOX', readonly=True)"
   ]
  },
  {
   "cell_type": "markdown",
   "metadata": {},
   "source": [
    "We get a series of byte strings, if we have connected correctly. \n",
    "\n",
    "We can now search for specific emails. However, IMAP has its own search syntax, and requires special operators, and will return a list of UIDs (Unique IDs) describing each email. There are many available search keys, depending on the service, with more [examples here in 16-3](https://automatetheboringstuff.com/chapter16/)."
   ]
  },
  {
   "cell_type": "code",
   "execution_count": 6,
   "metadata": {
    "collapsed": false
   },
   "outputs": [
    {
     "name": "stdout",
     "output_type": "stream",
     "text": [
      "[88130, 88131, 88132, 88133, 88134, 88135, 88136, 88137, 88138, 88139, 88140, 88141, 88142, 88143, 88144, 88145, 88146, 88147, 88148, 88149, 88150, 88151, 88152, 88153, 88154, 88155, 88156, 88157, 88158, 88159, 88160, 88161, 88162, 88163, 88164, 88165, 88166, 88167, 88168, 88169, 88170, 88171, 88172, 88173, 88174, 88175, 88176, 88177, 88178, 88179, 88180, 88181, 88182, 88183, 88184, 88185, 88186, 88187, 88188, 88189, 88190, 88191, 88192, 88193, 88194, 88195, 88196, 88197, 88198, 88199, 88200, 88201, 88202, 88203, 88204, 88205, 88206, 88207, 88208, 88209, 88210, 88211, 88212, 88213, 88214, 88215, 88216, 88217, 88218, 88219, 88220, 88221, 88222, 88223, 88224, 88225, 88226, 88227, 88228, 88229, 88230, 88231, 88232, 88233, 88234, 88235, 88236, 88237, 88238, 88239, 88240, 88241, 88242, 88243, 88244, 88245, 88246, 88247, 88248, 88249, 88250, 88251, 88252, 88253, 88254, 88255, 88256, 88257, 88258, 88259, 88260, 88261, 88262, 88263, 88264, 88265, 88266, 88267, 88268, 88269, 88270, 88271, 88273, 88274, 88275, 88276, 88277, 88278, 88279, 88280, 88281, 88282, 88283, 88284, 88285, 88286, 88287, 88288, 88289, 88290, 88291, 88292, 88293, 88294, 88295, 88296, 88297, 88298, 88299, 88300, 88301, 88302, 88303, 88304, 88305, 88306, 88307, 88308, 88309, 88310, 88311, 88312, 88313, 88314, 88315, 88316, 88317, 88318, 88319, 88320, 88321, 88322, 88323, 88324, 88325, 88326, 88327, 88328, 88329, 88330, 88331, 88332, 88333, 88334, 88335, 88336, 88337, 88338, 88339, 88340, 88341, 88342, 88343, 88344, 88345, 88346, 88347, 88348, 88349, 88350, 88351, 88352, 88353, 88354, 88355, 88356, 88357, 88358, 88359, 88360, 88361, 88362, 88363, 88364, 88365, 88366, 88367, 88368, 88369, 88370, 88371, 88372, 88373, 88374, 88375, 88376, 88377, 88378, 88379, 88380, 88381, 88382, 88383, 88384, 88385, 88386, 88387, 88388, 88389, 88390, 88391, 88392, 88393, 88394, 88395, 88396, 88397, 88398, 88399, 88400, 88401, 88402, 88403, 88404, 88405, 88406, 88407, 88408, 88409, 88410, 88411, 88412, 88413, 88414, 88415, 88416, 88417, 88418, 88419, 88420, 88421, 88422, 88423, 88424, 88425, 88426, 88427, 88428, 88429, 88430, 88431, 88432, 88433, 88434, 88435, 88436, 88437, 88438, 88439, 88440, 88441, 88442, 88443, 88444, 88445, 88446, 88447, 88448, 88449, 88450, 88451, 88452, 88453, 88454, 88455, 88456, 88457, 88458, 88459, 88460, 88461, 88462, 88463, 88464, 88465, 88466, 88467, 88468, 88469, 88470, 88471, 88472, 88473, 88474, 88475, 88476, 88477, 88478, 88479, 88480, 88481, 88482, 88483, 88484, 88485, 88486, 88487, 88488, 88489, 88490, 88491, 88492, 88493, 88494, 88495, 88496, 88497]\n"
     ]
    }
   ],
   "source": [
    "UIDs = conn.search('SINCE 26-May-2016')\n",
    "print(UIDs)"
   ]
  },
  {
   "cell_type": "markdown",
   "metadata": {},
   "source": [
    "We can use the `.delete_messages()` methods to delete a list of UIDs. We won't be running it here. "
   ]
  },
  {
   "cell_type": "code",
   "execution_count": null,
   "metadata": {
    "collapsed": true
   },
   "outputs": [],
   "source": [
    "conn.delete_messages([88130, 88131, 88132])"
   ]
  },
  {
   "cell_type": "code",
   "execution_count": 7,
   "metadata": {
    "collapsed": false
   },
   "outputs": [
    {
     "data": {
      "text/plain": [
       "[88177]"
      ]
     },
     "execution_count": 7,
     "metadata": {},
     "output_type": "execute_result"
    }
   ],
   "source": [
    "# The following function is also available in this module to search Gmail for a line of text. \n",
    "# I found this faster than iterating over the set to find the Python test email from Lesson 46\n",
    "conn.gmail_search('Subject: Python Test Email')"
   ]
  },
  {
   "cell_type": "markdown",
   "metadata": {},
   "source": [
    "We now have to translate these UIDs into the actual emails, and we can do that using the `.fetch()` method. \n",
    "\n",
    "It requires a list of UIDs to retrive, as well as list of what parts of the email you need; typically `['BODY[]','FLAGS']` which contains most of the information an average user might need.\n",
    "\n",
    "Below is the email we sent as part of Lesson 46, which we will store in a variable."
   ]
  },
  {
   "cell_type": "code",
   "execution_count": 8,
   "metadata": {
    "collapsed": false,
    "scrolled": false
   },
   "outputs": [
    {
     "name": "stdout",
     "output_type": "stream",
     "text": [
      "defaultdict(<class 'dict'>, {88177: {b'SEQ': 33522, b'FLAGS': (b'\\\\Seen',), b'BODY[]': b'Bcc: vvk.mnn@gmail.com\\r\\nReturn-Path: <vvk.mnn@gmail.com>\\r\\nReceived: from TLAVivekM.local ([216.46.12.2])\\r\\n        by smtp.gmail.com with ESMTPSA id o1sm3872631qte.36.2016.05.26.08.01.43\\r\\n        for <vvk.mnn@gmail.com>\\r\\n        (version=TLS1_2 cipher=ECDHE-RSA-AES128-GCM-SHA256 bits=128/128);\\r\\n        Thu, 26 May 2016 08:01:44 -0700 (PDT)\\r\\nMessage-ID: <57470fd8.813aed0a.38d14.3f58@mx.google.com>\\r\\nDate: Thu, 26 May 2016 08:01:44 -0700 (PDT)\\r\\nFrom: vvk.mnn@gmail.com\\r\\nSubject: Python Test Email \\r\\n\\r\\n Look,\\r\\n script text!\\r\\n'}})\n"
     ]
    }
   ],
   "source": [
    "rawMessage = conn.fetch([88177], ['BODY[]','FLAGS'])\n",
    "print(rawMessage)"
   ]
  },
  {
   "cell_type": "code",
   "execution_count": 9,
   "metadata": {
    "collapsed": false
   },
   "outputs": [
    {
     "data": {
      "text/plain": [
       "collections.defaultdict"
      ]
     },
     "execution_count": 9,
     "metadata": {},
     "output_type": "execute_result"
    }
   ],
   "source": [
    "type(rawMessage)"
   ]
  },
  {
   "cell_type": "markdown",
   "metadata": {},
   "source": [
    "Because this value is returned as a `collections.defaultdict`, we must use a series of keys to parse it and explore its values. This process is explained more thoroughly on [Mr. Sweigart's blog.](https://automatetheboringstuff.com/chapter16/). \n",
    "\n",
    "Below is a rough explanation of the key approach, as initially  explain the process behind keys."
   ]
  },
  {
   "cell_type": "code",
   "execution_count": 10,
   "metadata": {
    "collapsed": false,
    "scrolled": true
   },
   "outputs": [],
   "source": [
    "message = email.message_from_bytes(rawMessage[88177][b'BODY[]'])"
   ]
  },
  {
   "cell_type": "markdown",
   "metadata": {},
   "source": [
    "Once this value has been stored, we can use the `.get()` method to pull out various variables from the email."
   ]
  },
  {
   "cell_type": "code",
   "execution_count": 29,
   "metadata": {
    "collapsed": false,
    "scrolled": true
   },
   "outputs": [
    {
     "name": "stdout",
     "output_type": "stream",
     "text": [
      "Bcc: vvk.mnn@gmail.com\n",
      "Return-Path: <vvk.mnn@gmail.com>\n",
      "Received: from TLAVivekM.local ([216.46.12.2])\n",
      "        by smtp.gmail.com with ESMTPSA id o1sm3872631qte.36.2016.05.26.08.01.43\n",
      "        for <vvk.mnn@gmail.com>\n",
      "        (version=TLS1_2 cipher=ECDHE-RSA-AES128-GCM-SHA256 bits=128/128);\n",
      "        Thu, 26 May 2016 08:01:44 -0700 (PDT)\n",
      "Message-ID: <57470fd8.813aed0a.38d14.3f58@mx.google.com>\n",
      "Date: Thu, 26 May 2016 08:01:44 -0700 (PDT)\n",
      "From: vvk.mnn@gmail.com\n",
      "Subject: Python Test Email \n",
      "\n",
      " Look,\n",
      " script text!\n",
      "\n",
      "<class 'email.message.Message'>\n"
     ]
    }
   ],
   "source": [
    "print(message)\n",
    "print(type(message))"
   ]
  },
  {
   "cell_type": "markdown",
   "metadata": {},
   "source": [
    "We can now access different elements in this **message** object."
   ]
  },
  {
   "cell_type": "code",
   "execution_count": 12,
   "metadata": {
    "collapsed": false,
    "scrolled": false
   },
   "outputs": [
    {
     "data": {
      "text/plain": [
       "'Python Test Email '"
      ]
     },
     "execution_count": 12,
     "metadata": {},
     "output_type": "execute_result"
    }
   ],
   "source": [
    "message.get('Subject')"
   ]
  },
  {
   "cell_type": "code",
   "execution_count": 16,
   "metadata": {
    "collapsed": false,
    "scrolled": true
   },
   "outputs": [
    {
     "data": {
      "text/plain": [
       "'vvk.mnn@gmail.com'"
      ]
     },
     "execution_count": 16,
     "metadata": {},
     "output_type": "execute_result"
    }
   ],
   "source": [
    "message.get('from')"
   ]
  },
  {
   "cell_type": "markdown",
   "metadata": {},
   "source": [
    "The value for an email's body is defined as its 'payload', and accessible via the method `get_payload()` "
   ]
  },
  {
   "cell_type": "code",
   "execution_count": 28,
   "metadata": {
    "collapsed": false
   },
   "outputs": [
    {
     "data": {
      "text/plain": [
       "' Look,\\r\\n script text!\\r\\n'"
      ]
     },
     "execution_count": 28,
     "metadata": {},
     "output_type": "execute_result"
    }
   ],
   "source": [
    "message.get_payload()"
   ]
  },
  {
   "cell_type": "markdown",
   "metadata": {},
   "source": [
    "We can end our session using the `.logout` method on the **connection** object."
   ]
  },
  {
   "cell_type": "code",
   "execution_count": 32,
   "metadata": {
    "collapsed": false
   },
   "outputs": [
    {
     "data": {
      "text/plain": [
       "b'LOGOUT Requested'"
      ]
     },
     "execution_count": 32,
     "metadata": {},
     "output_type": "execute_result"
    }
   ],
   "source": [
    "conn.logout()"
   ]
  },
  {
   "cell_type": "markdown",
   "metadata": {},
   "source": [
    "### Recap\n",
    "* The `imapclient` module allows use to read emails in Python via IMAP. \n",
    "* The first step is creating a connection object with the domain and port number for the email service. \n",
    "* The next step is passing the `.list_folders()` and `.select_folder()` method to decide which folder we will interact with.\n",
    "* We can search emails using the `.search()` method to query via parameters.\n",
    "* Once we have found an email we wish to use, we can use the `.fetch` method to return an email object, and pass it into another function for interaction, here `email.message_from_bytes()`.\n",
    "* Now that it's been stored in an email object, it can be interacted with a variety of methods to get values.\n",
    "* The body of a message is typically retrieved via the `get_payload()` method.\n",
    "* Once complete, a session can be ended with the `.logout` method on the connection object."
   ]
  }
 ],
 "metadata": {
  "kernelspec": {
   "display_name": "Python 3",
   "language": "python",
   "name": "python3"
  },
  "language_info": {
   "codemirror_mode": {
    "name": "ipython",
    "version": 3
   },
   "file_extension": ".py",
   "mimetype": "text/x-python",
   "name": "python",
   "nbconvert_exporter": "python",
   "pygments_lexer": "ipython3",
   "version": "3.5.1"
  }
 },
 "nbformat": 4,
 "nbformat_minor": 0
}
