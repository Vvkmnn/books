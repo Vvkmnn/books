{
 "cells": [
  {
   "cell_type": "markdown",
   "metadata": {},
   "source": [
    "### Lesson 38:\n",
    "\n",
    "### The Webbrowser Module"
   ]
  },
  {
   "cell_type": "markdown",
   "metadata": {},
   "source": [
    "The `webbrowser` module has tools to manage a webbrowser from Python."
   ]
  },
  {
   "cell_type": "markdown",
   "metadata": {},
   "source": [
    "`webbrowser.open()` opens a new browser window at a url:"
   ]
  },
  {
   "cell_type": "code",
   "execution_count": 1,
   "metadata": {
    "collapsed": false,
    "scrolled": true
   },
   "outputs": [
    {
     "data": {
      "text/plain": [
       "True"
      ]
     },
     "execution_count": 1,
     "metadata": {},
     "output_type": "execute_result"
    }
   ],
   "source": [
    "import webbrowser\n",
    "\n",
    "webbrowser.open('https://automatetheboringstuff.com')"
   ]
  },
  {
   "cell_type": "markdown",
   "metadata": {},
   "source": [
    "This is the primary function of the `webbrowser` module, but it can be used as part of a script to improve web scraping. [`selenium`](http://selenium-python.readthedocs.org/) is a more full featured web browser module."
   ]
  },
  {
   "cell_type": "markdown",
   "metadata": {},
   "source": [
    "#### Google Maps Opener: "
   ]
  },
  {
   "cell_type": "code",
   "execution_count": 3,
   "metadata": {
    "collapsed": true
   },
   "outputs": [],
   "source": [
    "import webbrowser, sys, pyperclip\n",
    "\n",
    "sys.argv # Pass system arguments to program; mapit.py '870' 'Valencia' 'St.'\n",
    "\n",
    "# Check if command line arguments were passed; useful if this existed as a .py in the path (run via mapit 'Some address')\n",
    "# For Jupyter version, will just pass in arguments earlier in document\n",
    "if len(sys.argv) > 1:\n",
    "    # Join individual arguments into one string: mapit.py '870' 'Valencia' 'St.' > mapit.py '870 Valencia St.'\n",
    "    address = ' '.join(sys.argv[1:]) \n",
    "    # Skip the first argument (mapit.py), but join every slice from [1:] with ' '\n",
    "else: \n",
    "    # Read the clipboard if no arguments found\n",
    "    address = pyperclip.paste()\n",
    "    \n",
    "# Example Google Map URLs\n",
    "# Default: https://www.google.com/maps/place/870+Valencia+St,+San+Francisco,+CA+94110/@37.7589845,-122.4237899,17z/data=!3m1!4b1!4m2!3m1!1s0x808f7e3db2792a09:0x4fc69a2eea9fb3d3\n",
    "# Test: https://www.google.com/maps/place/870+Valencia+St,+San+Francisco,+CA+94110/\n",
    "# Test: https://www.google.com/maps/place/870 Valencia St\n",
    "\n",
    "\n",
    "# This works, so just concatenate the default google maps url with a spaced address variable\n",
    "webbrowser.open('https://www.google.com/maps/place' + address)"
   ]
  },
  {
   "cell_type": "markdown",
   "metadata": {},
   "source": [
    "To run this is a script, we would need to the full path to python, followed by the script, followed by the address. \n",
    "\n",
    "An easy way to skip this process is to create a shell script holding the script addresses, and passing arguments to it:"
   ]
  },
  {
   "cell_type": "code",
   "execution_count": null,
   "metadata": {
    "collapsed": true
   },
   "outputs": [],
   "source": [
    "#! usr/bin/env bash\n",
    "\n",
    "#python3 mapit.py %*"
   ]
  },
  {
   "cell_type": "markdown",
   "metadata": {},
   "source": [
    "### Recap\n",
    "* The `webbrowser` module can be used to interact with the system browser.\n",
    "* The `sys.argv` function can pass system arguments to a python program.\n",
    "* Python programs can be referenced in a shell or bash script to be executed outside Python."
   ]
  }
 ],
 "metadata": {
  "kernelspec": {
   "display_name": "Python 3",
   "language": "python",
   "name": "python3"
  },
  "language_info": {
   "codemirror_mode": {
    "name": "ipython",
    "version": 3
   },
   "file_extension": ".py",
   "mimetype": "text/x-python",
   "name": "python",
   "nbconvert_exporter": "python",
   "pygments_lexer": "ipython3",
   "version": "3.5.1"
  }
 },
 "nbformat": 4,
 "nbformat_minor": 0
}
