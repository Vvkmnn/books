{
 "cells": [
  {
   "cell_type": "markdown",
   "metadata": {},
   "source": [
    "## Lesson 26:\n",
    "\n",
    "### RegEx Character Classes and the `.findall()` Method\n"
   ]
  },
  {
   "cell_type": "markdown",
   "metadata": {
    "collapsed": true
   },
   "source": [
    "The `find.all()` method for regex objects finds all matching strings in a text."
   ]
  },
  {
   "cell_type": "code",
   "execution_count": 3,
   "metadata": {
    "collapsed": true
   },
   "outputs": [],
   "source": [
    "import re\n",
    "\n",
    "phoneRegex = re.compile(r'/d/d/d-/d/d/d-/d/d/d/d')\n",
    "\n",
    "#phoneRegex.search() # finds first match\n",
    "#phoneRegex.findall() # finds all matches"
   ]
  },
  {
   "cell_type": "markdown",
   "metadata": {
    "collapsed": true
   },
   "source": [
    "`find.all()` returns a list of strings. \n",
    "\n",
    "It behaves differently with groups."
   ]
  },
  {
   "cell_type": "code",
   "execution_count": 4,
   "metadata": {
    "collapsed": false
   },
   "outputs": [],
   "source": [
    "import re\n",
    "\n",
    "phoneRegex = re.compile(r'(/d/d/d)-(/d/d/d-/d/d/d/d)') # Two groups, so returns tuples\n",
    "\n",
    "#phoneRegex.findall() # finds all matches in pairs; [('group1', 'group2'),...]"
   ]
  },
  {
   "cell_type": "markdown",
   "metadata": {
    "collapsed": true
   },
   "source": [
    "To get the total string, just wrap the total regex in its own group, so you get `[(totalstring, group1, group2),...]`."
   ]
  },
  {
   "cell_type": "markdown",
   "metadata": {
    "collapsed": true
   },
   "source": [
    "### RegEx Character Classes\n",
    "\n",
    "`\\d\\` is the RegEx character for digits."
   ]
  },
  {
   "cell_type": "code",
   "execution_count": 15,
   "metadata": {
    "collapsed": false
   },
   "outputs": [
    {
     "ename": "NameError",
     "evalue": "name 'fib' is not defined",
     "output_type": "error",
     "traceback": [
      "\u001b[0;31m---------------------------------------------------------------------------\u001b[0m",
      "\u001b[0;31mNameError\u001b[0m                                 Traceback (most recent call last)",
      "\u001b[0;32m<ipython-input-15-1d94011dd0c1>\u001b[0m in \u001b[0;36m<module>\u001b[0;34m()\u001b[0m\n\u001b[1;32m      4\u001b[0m \u001b[0;31m#digitRegex = re.compile(r'\\d\\')\u001b[0m\u001b[0;34m\u001b[0m\u001b[0;34m\u001b[0m\u001b[0m\n\u001b[1;32m      5\u001b[0m \u001b[0;34m\u001b[0m\u001b[0m\n\u001b[0;32m----> 6\u001b[0;31m \u001b[0mprint\u001b[0m\u001b[0;34m(\u001b[0m\u001b[0mstr\u001b[0m\u001b[0;34m(\u001b[0m\u001b[0mlist\u001b[0m\u001b[0;34m(\u001b[0m\u001b[0mfib\u001b[0m\u001b[0;34m(\u001b[0m\u001b[0;34m)\u001b[0m\u001b[0;34m)\u001b[0m\u001b[0;34m)\u001b[0m\u001b[0;34m.\u001b[0m\u001b[0mstrip\u001b[0m\u001b[0;34m(\u001b[0m\u001b[0;34m\"[]\"\u001b[0m\u001b[0;34m)\u001b[0m\u001b[0;34m)\u001b[0m\u001b[0;34m\u001b[0m\u001b[0m\n\u001b[0m",
      "\u001b[0;31mNameError\u001b[0m: name 'fib' is not defined"
     ]
    }
   ],
   "source": [
    "#digitRegex = re.compile(r'(1|2|3|4...|n)`) is equivalent to\n",
    "\n",
    "#digitRegex = re.compile(r'\\d\\')\n"
   ]
  },
  {
   "cell_type": "markdown",
   "metadata": {
    "collapsed": true
   },
   "source": [
    "Other regex characters are:\n",
    "\n",
    "* `\\D` Any character that is NOT a numeric digit from 0 to 9.\n",
    "* `\\w` Any letter, numeric digit, punctuation, or the underscore character (word characters.)\n",
    "* `\\W` Any character that is NOT a letter, numeric digit, or the underscore character. \n",
    "* `\\s` Any space, tab, or newline character (space characters.)\n",
    "\n",
    "* `\\S` Any character that is NOT a space character."
   ]
  },
  {
   "cell_type": "code",
   "execution_count": 23,
   "metadata": {
    "collapsed": false
   },
   "outputs": [
    {
     "data": {
      "text/plain": [
       "['12 Drummers',\n",
       " '11 Pipers',\n",
       " '10 Lords',\n",
       " '9 Ladies',\n",
       " '8 Maids',\n",
       " '7 Swans',\n",
       " '6 Geese',\n",
       " '5 Golden',\n",
       " '4 Calling',\n",
       " '3 French',\n",
       " '2 Turtle',\n",
       " '1 Partridge']"
      ]
     },
     "execution_count": 23,
     "metadata": {},
     "output_type": "execute_result"
    }
   ],
   "source": [
    "# Example using lyrics from The Twelve Days of Christmas \n",
    "\n",
    "lyrics = '''\n",
    "12 Drummers Drumming\n",
    "11 Pipers Piping\n",
    "10 Lords a Leaping\n",
    "9 Ladies Dancing\n",
    "8 Maids a Milking\n",
    "7 Swans a Swimming\n",
    "6 Geese a Laying\n",
    "5 Golden Rings\n",
    "4 Calling Birds\n",
    "3 French Hens\n",
    "2 Turtle Doves\n",
    "and 1 Partridge in a Pear Tree\n",
    "'''\n",
    "\n",
    "xmasRegex = re.compile(r'\\d+\\s\\w+') # 1 or more digits, space, 1 or more words\n",
    "\n",
    "xmasRegex.findall(lyrics) # Returns all 'x gift', but stops at space because \\w+ does not include spaces"
   ]
  },
  {
   "cell_type": "markdown",
   "metadata": {},
   "source": [
    "It is possible to create your own character classes, outside of these shorthand classes, using `[]`:"
   ]
  },
  {
   "cell_type": "code",
   "execution_count": 26,
   "metadata": {
    "collapsed": false
   },
   "outputs": [
    {
     "name": "stdout",
     "output_type": "stream",
     "text": [
      "['o', 'o', 'o', 'e', 'a', 'a', 'o', 'o']\n",
      "['ea', 'oo']\n"
     ]
    }
   ],
   "source": [
    "vowelRegex = re.compile(r'[aeiouAEIOU]') # RegEx for lowercase and uppercase vowels\n",
    "alphabetRegex = re.compile(r'[a-zA-Z]') # RegEx for lowercase and uppercase alphabet using ranges\n",
    "\n",
    "print(vowelRegex.findall('Robocop eats baby food.')) # Finds a list of all vowels in string\n",
    "\n",
    "doublevowelRegex = re.compile(r'[aeiouAEIOU]{2}') # RegEx for two lowercase and uppercase vowels in a row; {2} repeats.\n",
    "print(doublevowelRegex.findall('Robocop eats baby food.')) # Finds a list of all vowels in string\n"
   ]
  },
  {
   "cell_type": "markdown",
   "metadata": {},
   "source": [
    "A useful feature of custom character classes are negative character classes:"
   ]
  },
  {
   "cell_type": "code",
   "execution_count": 30,
   "metadata": {
    "collapsed": false
   },
   "outputs": [
    {
     "name": "stdout",
     "output_type": "stream",
     "text": [
      "['R', 'b', 'c', 'p', ' ', 't', 's', ' ', 'b', 'b', 'y', ' ', 'f', 'd', '.']\n"
     ]
    }
   ],
   "source": [
    "consonantsRegex = re.compile(r'[^aeiouAEIOU]') # RegEx for finding all characters that are NOT vowels\n",
    "\n",
    "print(consonantsRegex.findall('Robocop eats baby food.')) # Output will include spaces and words."
   ]
  },
  {
   "cell_type": "markdown",
   "metadata": {},
   "source": [
    "## Recap\n",
    "* The regex `.findall()` method is passed a string, and returns a list of all matches in it, not just the first match.\n",
    "* If the regex has 0 or 1 groups, `.findall()` returns a list of strings.\n",
    "* If the regex has 2 ore more groups, `.findall()` returns a list of tuples of strings.\n",
    "* `\\d` is the shorthand character class that matches digits.\n",
    "* `\\w` is the shorthand character class that matches words. \n",
    "* `\\s` is the shorthand character class for whitespace.\n",
    "* `\\D` is the shorthand character class that matches NOT digits.\n",
    "* `\\W` is the shorthand character class that matches NOT words.\n",
    "* `\\S` is the shorthand character class that matches NOT spaces.\n",
    "* You can make your own character classes with square brackets: `[aeiou]`\n",
    "* The `^` caret symbol makes it a negative character class, matching anything NOT in the brackets: `[^aeiou]`"
   ]
  }
 ],
 "metadata": {
  "kernelspec": {
   "display_name": "Python 3",
   "language": "python",
   "name": "python3"
  },
  "language_info": {
   "codemirror_mode": {
    "name": "ipython",
    "version": 3
   },
   "file_extension": ".py",
   "mimetype": "text/x-python",
   "name": "python",
   "nbconvert_exporter": "python",
   "pygments_lexer": "ipython3",
   "version": "3.5.1"
  }
 },
 "nbformat": 4,
 "nbformat_minor": 0
}
