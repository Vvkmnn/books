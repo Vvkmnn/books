{
 "cells": [
  {
   "cell_type": "markdown",
   "metadata": {},
   "source": [
    "### Lesson 45:\n",
    "\n",
    "### Reading and Editing Word Documents"
   ]
  },
  {
   "cell_type": "markdown",
   "metadata": {},
   "source": [
    "Python can also be used to create and modify Word documents. \n",
    "\n",
    "The `python-docx` module can interact with Word document files, with `.docx` filetypes. While the module is installed via `python-docx`, it is imported with `docx`."
   ]
  },
  {
   "cell_type": "code",
   "execution_count": 6,
   "metadata": {
    "collapsed": false,
    "scrolled": false
   },
   "outputs": [],
   "source": [
    "import docx"
   ]
  },
  {
   "cell_type": "markdown",
   "metadata": {},
   "source": [
    "Documents have a few more features than plaintext files. They have the following objects in this module:\n",
    "* The entire document is contained within the document object.\n",
    "* The document object contains paragraph objects, which is each paragraph in the document.\n",
    "* The paragraph object contains one or more run objects."
   ]
  },
  {
   "cell_type": "markdown",
   "metadata": {},
   "source": [
    "We first navigate into the subdirectory containing the Word documents, using relative or absolute paths."
   ]
  },
  {
   "cell_type": "code",
   "execution_count": 3,
   "metadata": {
    "collapsed": false
   },
   "outputs": [],
   "source": [
    "import os\n",
    "\n",
    "os.chdir('files')"
   ]
  },
  {
   "cell_type": "markdown",
   "metadata": {},
   "source": [
    "We then use the `Document()` function to open the word document as a **document object**.\n",
    "\n",
    "For this example, we will be using ['demo.docx'](files/demo.docx)."
   ]
  },
  {
   "cell_type": "code",
   "execution_count": 17,
   "metadata": {
    "collapsed": true
   },
   "outputs": [],
   "source": [
    "d = docx.Document('demo.docx')"
   ]
  },
  {
   "cell_type": "code",
   "execution_count": 18,
   "metadata": {
    "collapsed": false
   },
   "outputs": [
    {
     "data": {
      "text/plain": [
       "docx.document.Document"
      ]
     },
     "execution_count": 18,
     "metadata": {},
     "output_type": "execute_result"
    }
   ],
   "source": [
    "type(d)"
   ]
  },
  {
   "cell_type": "markdown",
   "metadata": {},
   "source": [
    "We can list the paragraphs within this document object. \n",
    "\n",
    "A **paragraph object** is any text seperated by a newline ('Enter')."
   ]
  },
  {
   "cell_type": "code",
   "execution_count": 19,
   "metadata": {
    "collapsed": false
   },
   "outputs": [
    {
     "data": {
      "text/plain": [
       "[<docx.text.paragraph.Paragraph at 0x112b18668>,\n",
       " <docx.text.paragraph.Paragraph at 0x112b18780>,\n",
       " <docx.text.paragraph.Paragraph at 0x112b186d8>,\n",
       " <docx.text.paragraph.Paragraph at 0x112b18ba8>,\n",
       " <docx.text.paragraph.Paragraph at 0x112b186a0>,\n",
       " <docx.text.paragraph.Paragraph at 0x112b187f0>,\n",
       " <docx.text.paragraph.Paragraph at 0x112b18748>]"
      ]
     },
     "execution_count": 19,
     "metadata": {},
     "output_type": "execute_result"
    }
   ],
   "source": [
    "d.paragraphs"
   ]
  },
  {
   "cell_type": "code",
   "execution_count": 20,
   "metadata": {
    "collapsed": false
   },
   "outputs": [
    {
     "data": {
      "text/plain": [
       "<docx.text.paragraph.Paragraph at 0x112b18a90>"
      ]
     },
     "execution_count": 20,
     "metadata": {},
     "output_type": "execute_result"
    }
   ],
   "source": [
    "d.paragraphs[0]"
   ]
  },
  {
   "cell_type": "markdown",
   "metadata": {},
   "source": [
    "Every paragraph object includes a `.text` variable containing the string of the document."
   ]
  },
  {
   "cell_type": "code",
   "execution_count": 21,
   "metadata": {
    "collapsed": false
   },
   "outputs": [
    {
     "data": {
      "text/plain": [
       "'Document Title'"
      ]
     },
     "execution_count": 21,
     "metadata": {},
     "output_type": "execute_result"
    }
   ],
   "source": [
    "d.paragraphs[0].text"
   ]
  },
  {
   "cell_type": "code",
   "execution_count": 22,
   "metadata": {
    "collapsed": false
   },
   "outputs": [
    {
     "data": {
      "text/plain": [
       "'A plain paragraph with some bold and some italic'"
      ]
     },
     "execution_count": 22,
     "metadata": {},
     "output_type": "execute_result"
    }
   ],
   "source": [
    "d.paragraphs[1].text"
   ]
  },
  {
   "cell_type": "markdown",
   "metadata": {},
   "source": [
    "As you can see, these paragraph objects match the text in the document. \n",
    "\n",
    "We will save the paragraph object to a holder variable."
   ]
  },
  {
   "cell_type": "code",
   "execution_count": 23,
   "metadata": {
    "collapsed": true
   },
   "outputs": [],
   "source": [
    "p = d.paragraphs[1]"
   ]
  },
  {
   "cell_type": "markdown",
   "metadata": {},
   "source": [
    "Paragraph objects hold run objects. \n",
    "\n",
    "A **run object** is any text that is has a different style (bold, underline, size, etc.)"
   ]
  },
  {
   "cell_type": "code",
   "execution_count": 16,
   "metadata": {
    "collapsed": false
   },
   "outputs": [
    {
     "data": {
      "text/plain": [
       "[<docx.text.run.Run at 0x112b12ac8>,\n",
       " <docx.text.run.Run at 0x112b12cc0>,\n",
       " <docx.text.run.Run at 0x112b12198>,\n",
       " <docx.text.run.Run at 0x112b12ba8>,\n",
       " <docx.text.run.Run at 0x112b12d30>]"
      ]
     },
     "execution_count": 16,
     "metadata": {},
     "output_type": "execute_result"
    }
   ],
   "source": [
    "p.runs"
   ]
  },
  {
   "cell_type": "code",
   "execution_count": 25,
   "metadata": {
    "collapsed": false,
    "scrolled": true
   },
   "outputs": [
    {
     "data": {
      "text/plain": [
       "'A plain paragraph with'"
      ]
     },
     "execution_count": 25,
     "metadata": {},
     "output_type": "execute_result"
    }
   ],
   "source": [
    "p.runs[0].text"
   ]
  },
  {
   "cell_type": "code",
   "execution_count": 26,
   "metadata": {
    "collapsed": false
   },
   "outputs": [
    {
     "data": {
      "text/plain": [
       "' some '"
      ]
     },
     "execution_count": 26,
     "metadata": {},
     "output_type": "execute_result"
    }
   ],
   "source": [
    "p.runs[1].text"
   ]
  },
  {
   "cell_type": "code",
   "execution_count": 27,
   "metadata": {
    "collapsed": false,
    "scrolled": true
   },
   "outputs": [
    {
     "data": {
      "text/plain": [
       "'bold'"
      ]
     },
     "execution_count": 27,
     "metadata": {},
     "output_type": "execute_result"
    }
   ],
   "source": [
    "p.runs[2].text"
   ]
  },
  {
   "cell_type": "markdown",
   "metadata": {},
   "source": [
    "Run objects have a `.bold` or `.italics` variable, identifying whether that run has that style property."
   ]
  },
  {
   "cell_type": "code",
   "execution_count": 28,
   "metadata": {
    "collapsed": false
   },
   "outputs": [
    {
     "data": {
      "text/plain": [
       "True"
      ]
     },
     "execution_count": 28,
     "metadata": {},
     "output_type": "execute_result"
    }
   ],
   "source": [
    "p.runs[2].bold"
   ]
  },
  {
   "cell_type": "markdown",
   "metadata": {},
   "source": [
    "We can save style attributes using this approach."
   ]
  },
  {
   "cell_type": "code",
   "execution_count": 31,
   "metadata": {
    "collapsed": false
   },
   "outputs": [],
   "source": [
    "p.runs[3].text\n",
    "p.runs[3].underline = True "
   ]
  },
  {
   "cell_type": "markdown",
   "metadata": {},
   "source": [
    "We can save our changes by using the `.save` method on the document object.\n",
    "\n",
    "It will be saved as ['demo2.docx'](files/demo2.docx)."
   ]
  },
  {
   "cell_type": "code",
   "execution_count": 32,
   "metadata": {
    "collapsed": true
   },
   "outputs": [],
   "source": [
    "d.save('demo2.docx')"
   ]
  },
  {
   "cell_type": "markdown",
   "metadata": {},
   "source": [
    "Word also has document themes and styles such as 'Normal' or 'Heading 1', etc. These are accessible for paragraph objects. "
   ]
  },
  {
   "cell_type": "code",
   "execution_count": 34,
   "metadata": {
    "collapsed": true
   },
   "outputs": [],
   "source": [
    "p.style = 'Title' \n",
    "d.save('demo2.docx')"
   ]
  },
  {
   "cell_type": "markdown",
   "metadata": {},
   "source": [
    "This module can also be used to create blank word documents in memory using the `Document()` function."
   ]
  },
  {
   "cell_type": "code",
   "execution_count": 35,
   "metadata": {
    "collapsed": true
   },
   "outputs": [],
   "source": [
    "d = docx.Document()"
   ]
  },
  {
   "cell_type": "markdown",
   "metadata": {},
   "source": [
    "We can now add paragraphs to this document object."
   ]
  },
  {
   "cell_type": "code",
   "execution_count": 36,
   "metadata": {
    "collapsed": false
   },
   "outputs": [
    {
     "data": {
      "text/plain": [
       "<docx.text.paragraph.Paragraph at 0x112b22f28>"
      ]
     },
     "execution_count": 36,
     "metadata": {},
     "output_type": "execute_result"
    }
   ],
   "source": [
    "d.add_paragraph('This is a paragraph.')"
   ]
  },
  {
   "cell_type": "code",
   "execution_count": 37,
   "metadata": {
    "collapsed": false,
    "scrolled": true
   },
   "outputs": [
    {
     "data": {
      "text/plain": [
       "<docx.text.paragraph.Paragraph at 0x112b22e48>"
      ]
     },
     "execution_count": 37,
     "metadata": {},
     "output_type": "execute_result"
    }
   ],
   "source": [
    "d.add_paragraph('This is another paragraph.')"
   ]
  },
  {
   "cell_type": "markdown",
   "metadata": {},
   "source": [
    "We can save this created document to the hard drive using the `.save()` method again. It will be saved here as [demo4.docx](files/demo4.docx)."
   ]
  },
  {
   "cell_type": "code",
   "execution_count": 39,
   "metadata": {
    "collapsed": true
   },
   "outputs": [],
   "source": [
    "d.save('demo4.docx')"
   ]
  },
  {
   "cell_type": "markdown",
   "metadata": {},
   "source": [
    "We can also create runs within these paragraph objects."
   ]
  },
  {
   "cell_type": "code",
   "execution_count": 40,
   "metadata": {
    "collapsed": true
   },
   "outputs": [],
   "source": [
    "# Select the first paragraph we created.\n",
    "p = d.paragraphs[0]\n",
    "\n",
    "# Add a new run to that paragraph.\n",
    "p.add_run('This is a new run')\n",
    "\n",
    "# Set the newly added run (Index 1) to a True bold variable\n",
    "p.runs[1].bold = True\n",
    "\n",
    "# Save changes\n",
    "d.save('demo4.docx')"
   ]
  },
  {
   "cell_type": "markdown",
   "metadata": {},
   "source": [
    "You cannot insert paragraph and run functions anywhere but the end, but there is a way to edit files by opening a new document and mirroring the old document with changes."
   ]
  },
  {
   "cell_type": "markdown",
   "metadata": {},
   "source": [
    "It still allows for some effecient batch management. Here is an example of a function to get all the Text from a word document."
   ]
  },
  {
   "cell_type": "code",
   "execution_count": 44,
   "metadata": {
    "collapsed": true
   },
   "outputs": [],
   "source": [
    "import docx\n",
    "\n",
    "# Create a function to get text from a file\n",
    "def getText(filename):\n",
    "    # Read the word document\n",
    "    doc = docx.Document(filename)\n",
    "    # Create an empty set to store words\n",
    "    fullText = []\n",
    "    # for each paragraph in the document paragraph list\n",
    "    for para in doc.paragraphs:\n",
    "        # Append the empty set with the new paragraph objects\n",
    "        fullText.append(para.text)\n",
    "    # Join the full text with newlines\n",
    "    return '\\n'.join(fullText)"
   ]
  },
  {
   "cell_type": "markdown",
   "metadata": {},
   "source": [
    "We will test it on [demo.docx](files/demo.docx) and [demo4.docx](files/demo2.docx)."
   ]
  },
  {
   "cell_type": "code",
   "execution_count": 49,
   "metadata": {
    "collapsed": false
   },
   "outputs": [
    {
     "name": "stdout",
     "output_type": "stream",
     "text": [
      "Document Title\n",
      "A plain paragraph with some bold and some italic\n",
      "Heading, level 1\n",
      "Intense quote\n",
      "first item in unordered list\n",
      "first item in ordered list\n",
      "\n",
      "\n",
      "This is a paragraphThis is a new run\n",
      "This is another paragraph.\n"
     ]
    }
   ],
   "source": [
    "print(getText('demo.docx'))\n",
    "\n",
    "print(getText('demo4.docx'))"
   ]
  },
  {
   "cell_type": "markdown",
   "metadata": {},
   "source": [
    "### Recap\n",
    "* The `python-docx` module can read and write `.docx` Word files, it is imported via `docx`. \n",
    "* It can open a word file with the `Documunt()` function.\n",
    "* Access one of the Paragraph objects from the paragraphs member variable, which is a list of Paragraph objects.\n",
    "* Paragraph objects have a text member variable containing the text as a string value.\n",
    "* Paragraphs are composed of \"runs\". The runs member variable of a Paragraph object contains a list of Run objects.\n",
    "* Run obejcts also have a text member variable.\n",
    "* Run objects have a bold, italic, and underline member variable which can be set to True or False.\n",
    "* Paragraph and run objects have a style member variable that can be set to one of Word's built-in styles.\n",
    "* Word files can be created by calling the `.add_paragraph()` and `.add_run()` methods to append text content."
   ]
  }
 ],
 "metadata": {
  "kernelspec": {
   "display_name": "Python 3",
   "language": "python",
   "name": "python3"
  },
  "language_info": {
   "codemirror_mode": {
    "name": "ipython",
    "version": 3
   },
   "file_extension": ".py",
   "mimetype": "text/x-python",
   "name": "python",
   "nbconvert_exporter": "python",
   "pygments_lexer": "ipython3",
   "version": "3.5.1"
  }
 },
 "nbformat": 4,
 "nbformat_minor": 0
}
